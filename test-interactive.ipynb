{
 "cells": [
  {
   "cell_type": "code",
   "execution_count": 8,
   "id": "c83f9920",
   "metadata": {},
   "outputs": [
    {
     "data": {
      "application/vnd.plotly.v1+json": {
       "config": {
        "plotlyServerURL": "https://plot.ly"
       },
       "data": [
        {
         "alignmentgroup": "True",
         "hovertemplate": "Entity=%{y}<br>Year=2020<br>Individuals using the Internet (% of population)=%{x}<extra></extra>",
         "legendgroup": "United Kingdom",
         "marker": {
          "color": "#6A82AB",
          "pattern": {
           "shape": ""
          }
         },
         "name": "United Kingdom",
         "offsetgroup": "United Kingdom",
         "orientation": "h",
         "showlegend": true,
         "textposition": "auto",
         "type": "bar",
         "x": [
          94.81819915771484
         ],
         "xaxis": "x",
         "y": [
          "United Kingdom"
         ],
         "yaxis": "y"
        },
        {
         "alignmentgroup": "True",
         "hovertemplate": "Entity=%{y}<br>Year=2020<br>Individuals using the Internet (% of population)=%{x}<extra></extra>",
         "legendgroup": "Japan",
         "marker": {
          "color": "#6A82AB",
          "pattern": {
           "shape": ""
          }
         },
         "name": "Japan",
         "offsetgroup": "Japan",
         "orientation": "h",
         "showlegend": true,
         "textposition": "auto",
         "type": "bar",
         "x": [
          90.2194595336914
         ],
         "xaxis": "x",
         "y": [
          "Japan"
         ],
         "yaxis": "y"
        },
        {
         "alignmentgroup": "True",
         "hovertemplate": "Entity=%{y}<br>Year=2020<br>Individuals using the Internet (% of population)=%{x}<extra></extra>",
         "legendgroup": "United States",
         "marker": {
          "color": "#D24B4E",
          "pattern": {
           "shape": ""
          }
         },
         "name": "United States",
         "offsetgroup": "United States",
         "orientation": "h",
         "showlegend": true,
         "textposition": "auto",
         "type": "bar",
         "x": [
          90.9000015258789
         ],
         "xaxis": "x",
         "y": [
          "United States"
         ],
         "yaxis": "y"
        },
        {
         "alignmentgroup": "True",
         "hovertemplate": "Entity=%{y}<br>Year=2020<br>Individuals using the Internet (% of population)=%{x}<extra></extra>",
         "legendgroup": "France",
         "marker": {
          "color": "#6A82AB",
          "pattern": {
           "shape": ""
          }
         },
         "name": "France",
         "offsetgroup": "France",
         "orientation": "h",
         "showlegend": true,
         "textposition": "auto",
         "type": "bar",
         "x": [
          84.80000305175781
         ],
         "xaxis": "x",
         "y": [
          "France"
         ],
         "yaxis": "y"
        },
        {
         "alignmentgroup": "True",
         "hovertemplate": "Entity=%{y}<br>Year=2020<br>Individuals using the Internet (% of population)=%{x}<extra></extra>",
         "legendgroup": "Brazil",
         "marker": {
          "color": "#6A82AB",
          "pattern": {
           "shape": ""
          }
         },
         "name": "Brazil",
         "offsetgroup": "Brazil",
         "orientation": "h",
         "showlegend": true,
         "textposition": "auto",
         "type": "bar",
         "x": [
          81.34269714355469
         ],
         "xaxis": "x",
         "y": [
          "Brazil"
         ],
         "yaxis": "y"
        },
        {
         "alignmentgroup": "True",
         "hovertemplate": "Entity=%{y}<br>Year=2020<br>Individuals using the Internet (% of population)=%{x}<extra></extra>",
         "legendgroup": "China",
         "marker": {
          "color": "#6A82AB",
          "pattern": {
           "shape": ""
          }
         },
         "name": "China",
         "offsetgroup": "China",
         "orientation": "h",
         "showlegend": true,
         "textposition": "auto",
         "type": "bar",
         "x": [
          70.40477752685547
         ],
         "xaxis": "x",
         "y": [
          "China"
         ],
         "yaxis": "y"
        },
        {
         "alignmentgroup": "True",
         "hovertemplate": "Entity=%{y}<br>Year=2020<br>Individuals using the Internet (% of population)=%{x}<extra></extra>",
         "legendgroup": "World",
         "marker": {
          "color": "#6A82AB",
          "pattern": {
           "shape": ""
          }
         },
         "name": "World",
         "offsetgroup": "World",
         "orientation": "h",
         "showlegend": true,
         "textposition": "auto",
         "type": "bar",
         "x": [
          59.94024658203125
         ],
         "xaxis": "x",
         "y": [
          "World"
         ],
         "yaxis": "y"
        },
        {
         "alignmentgroup": "True",
         "hovertemplate": "Entity=%{y}<br>Year=2020<br>Individuals using the Internet (% of population)=%{x}<extra></extra>",
         "legendgroup": "India",
         "marker": {
          "color": "#6A82AB",
          "pattern": {
           "shape": ""
          }
         },
         "name": "India",
         "offsetgroup": "India",
         "orientation": "h",
         "showlegend": true,
         "textposition": "auto",
         "type": "bar",
         "x": [
          43
         ],
         "xaxis": "x",
         "y": [
          "India"
         ],
         "yaxis": "y"
        },
        {
         "alignmentgroup": "True",
         "hovertemplate": "Entity=%{y}<br>Year=2020<br>Individuals using the Internet (% of population)=%{x}<extra></extra>",
         "legendgroup": "Nigeria",
         "marker": {
          "color": "#6A82AB",
          "pattern": {
           "shape": ""
          }
         },
         "name": "Nigeria",
         "offsetgroup": "Nigeria",
         "orientation": "h",
         "showlegend": true,
         "textposition": "auto",
         "type": "bar",
         "x": [
          35.5
         ],
         "xaxis": "x",
         "y": [
          "Nigeria"
         ],
         "yaxis": "y"
        }
       ],
       "frames": [
        {
         "data": [
          {
           "alignmentgroup": "True",
           "hovertemplate": "Entity=%{y}<br>Year=2020<br>Individuals using the Internet (% of population)=%{x}<extra></extra>",
           "legendgroup": "United Kingdom",
           "marker": {
            "color": "#6A82AB",
            "pattern": {
             "shape": ""
            }
           },
           "name": "United Kingdom",
           "offsetgroup": "United Kingdom",
           "orientation": "h",
           "showlegend": true,
           "textposition": "auto",
           "type": "bar",
           "x": [
            94.81819915771484
           ],
           "xaxis": "x",
           "y": [
            "United Kingdom"
           ],
           "yaxis": "y"
          },
          {
           "alignmentgroup": "True",
           "hovertemplate": "Entity=%{y}<br>Year=2020<br>Individuals using the Internet (% of population)=%{x}<extra></extra>",
           "legendgroup": "Japan",
           "marker": {
            "color": "#6A82AB",
            "pattern": {
             "shape": ""
            }
           },
           "name": "Japan",
           "offsetgroup": "Japan",
           "orientation": "h",
           "showlegend": true,
           "textposition": "auto",
           "type": "bar",
           "x": [
            90.2194595336914
           ],
           "xaxis": "x",
           "y": [
            "Japan"
           ],
           "yaxis": "y"
          },
          {
           "alignmentgroup": "True",
           "hovertemplate": "Entity=%{y}<br>Year=2020<br>Individuals using the Internet (% of population)=%{x}<extra></extra>",
           "legendgroup": "United States",
           "marker": {
            "color": "#D24B4E",
            "pattern": {
             "shape": ""
            }
           },
           "name": "United States",
           "offsetgroup": "United States",
           "orientation": "h",
           "showlegend": true,
           "textposition": "auto",
           "type": "bar",
           "x": [
            90.9000015258789
           ],
           "xaxis": "x",
           "y": [
            "United States"
           ],
           "yaxis": "y"
          },
          {
           "alignmentgroup": "True",
           "hovertemplate": "Entity=%{y}<br>Year=2020<br>Individuals using the Internet (% of population)=%{x}<extra></extra>",
           "legendgroup": "France",
           "marker": {
            "color": "#6A82AB",
            "pattern": {
             "shape": ""
            }
           },
           "name": "France",
           "offsetgroup": "France",
           "orientation": "h",
           "showlegend": true,
           "textposition": "auto",
           "type": "bar",
           "x": [
            84.80000305175781
           ],
           "xaxis": "x",
           "y": [
            "France"
           ],
           "yaxis": "y"
          },
          {
           "alignmentgroup": "True",
           "hovertemplate": "Entity=%{y}<br>Year=2020<br>Individuals using the Internet (% of population)=%{x}<extra></extra>",
           "legendgroup": "Brazil",
           "marker": {
            "color": "#6A82AB",
            "pattern": {
             "shape": ""
            }
           },
           "name": "Brazil",
           "offsetgroup": "Brazil",
           "orientation": "h",
           "showlegend": true,
           "textposition": "auto",
           "type": "bar",
           "x": [
            81.34269714355469
           ],
           "xaxis": "x",
           "y": [
            "Brazil"
           ],
           "yaxis": "y"
          },
          {
           "alignmentgroup": "True",
           "hovertemplate": "Entity=%{y}<br>Year=2020<br>Individuals using the Internet (% of population)=%{x}<extra></extra>",
           "legendgroup": "China",
           "marker": {
            "color": "#6A82AB",
            "pattern": {
             "shape": ""
            }
           },
           "name": "China",
           "offsetgroup": "China",
           "orientation": "h",
           "showlegend": true,
           "textposition": "auto",
           "type": "bar",
           "x": [
            70.40477752685547
           ],
           "xaxis": "x",
           "y": [
            "China"
           ],
           "yaxis": "y"
          },
          {
           "alignmentgroup": "True",
           "hovertemplate": "Entity=%{y}<br>Year=2020<br>Individuals using the Internet (% of population)=%{x}<extra></extra>",
           "legendgroup": "World",
           "marker": {
            "color": "#6A82AB",
            "pattern": {
             "shape": ""
            }
           },
           "name": "World",
           "offsetgroup": "World",
           "orientation": "h",
           "showlegend": true,
           "textposition": "auto",
           "type": "bar",
           "x": [
            59.94024658203125
           ],
           "xaxis": "x",
           "y": [
            "World"
           ],
           "yaxis": "y"
          },
          {
           "alignmentgroup": "True",
           "hovertemplate": "Entity=%{y}<br>Year=2020<br>Individuals using the Internet (% of population)=%{x}<extra></extra>",
           "legendgroup": "India",
           "marker": {
            "color": "#6A82AB",
            "pattern": {
             "shape": ""
            }
           },
           "name": "India",
           "offsetgroup": "India",
           "orientation": "h",
           "showlegend": true,
           "textposition": "auto",
           "type": "bar",
           "x": [
            43
           ],
           "xaxis": "x",
           "y": [
            "India"
           ],
           "yaxis": "y"
          },
          {
           "alignmentgroup": "True",
           "hovertemplate": "Entity=%{y}<br>Year=2020<br>Individuals using the Internet (% of population)=%{x}<extra></extra>",
           "legendgroup": "Nigeria",
           "marker": {
            "color": "#6A82AB",
            "pattern": {
             "shape": ""
            }
           },
           "name": "Nigeria",
           "offsetgroup": "Nigeria",
           "orientation": "h",
           "showlegend": true,
           "textposition": "auto",
           "type": "bar",
           "x": [
            35.5
           ],
           "xaxis": "x",
           "y": [
            "Nigeria"
           ],
           "yaxis": "y"
          }
         ],
         "name": "2020"
        },
        {
         "data": [
          {
           "alignmentgroup": "True",
           "hovertemplate": "Entity=%{y}<br>Year=2016<br>Individuals using the Internet (% of population)=%{x}<extra></extra>",
           "legendgroup": "United Kingdom",
           "marker": {
            "color": "#6A82AB",
            "pattern": {
             "shape": ""
            }
           },
           "name": "United Kingdom",
           "offsetgroup": "United Kingdom",
           "orientation": "h",
           "showlegend": true,
           "textposition": "auto",
           "type": "bar",
           "x": [
            94.77580261230467
           ],
           "xaxis": "x",
           "y": [
            "United Kingdom"
           ],
           "yaxis": "y"
          },
          {
           "alignmentgroup": "True",
           "hovertemplate": "Entity=%{y}<br>Year=2016<br>Individuals using the Internet (% of population)=%{x}<extra></extra>",
           "legendgroup": "Japan",
           "marker": {
            "color": "#6A82AB",
            "pattern": {
             "shape": ""
            }
           },
           "name": "Japan",
           "offsetgroup": "Japan",
           "orientation": "h",
           "showlegend": true,
           "textposition": "auto",
           "type": "bar",
           "x": [
            93.18272399902344
           ],
           "xaxis": "x",
           "y": [
            "Japan"
           ],
           "yaxis": "y"
          },
          {
           "alignmentgroup": "True",
           "hovertemplate": "Entity=%{y}<br>Year=2016<br>Individuals using the Internet (% of population)=%{x}<extra></extra>",
           "legendgroup": "United States",
           "marker": {
            "color": "#D24B4E",
            "pattern": {
             "shape": ""
            }
           },
           "name": "United States",
           "offsetgroup": "United States",
           "orientation": "h",
           "showlegend": true,
           "textposition": "auto",
           "type": "bar",
           "x": [
            85.54441833496094
           ],
           "xaxis": "x",
           "y": [
            "United States"
           ],
           "yaxis": "y"
          },
          {
           "alignmentgroup": "True",
           "hovertemplate": "Entity=%{y}<br>Year=2016<br>Individuals using the Internet (% of population)=%{x}<extra></extra>",
           "legendgroup": "France",
           "marker": {
            "color": "#6A82AB",
            "pattern": {
             "shape": ""
            }
           },
           "name": "France",
           "offsetgroup": "France",
           "orientation": "h",
           "showlegend": true,
           "textposition": "auto",
           "type": "bar",
           "x": [
            79.26981353759766
           ],
           "xaxis": "x",
           "y": [
            "France"
           ],
           "yaxis": "y"
          },
          {
           "alignmentgroup": "True",
           "hovertemplate": "Entity=%{y}<br>Year=2016<br>Individuals using the Internet (% of population)=%{x}<extra></extra>",
           "legendgroup": "Brazil",
           "marker": {
            "color": "#6A82AB",
            "pattern": {
             "shape": ""
            }
           },
           "name": "Brazil",
           "offsetgroup": "Brazil",
           "orientation": "h",
           "showlegend": true,
           "textposition": "auto",
           "type": "bar",
           "x": [
            60.87253952026367
           ],
           "xaxis": "x",
           "y": [
            "Brazil"
           ],
           "yaxis": "y"
          },
          {
           "alignmentgroup": "True",
           "hovertemplate": "Entity=%{y}<br>Year=2016<br>Individuals using the Internet (% of population)=%{x}<extra></extra>",
           "legendgroup": "China",
           "marker": {
            "color": "#6A82AB",
            "pattern": {
             "shape": ""
            }
           },
           "name": "China",
           "offsetgroup": "China",
           "orientation": "h",
           "showlegend": true,
           "textposition": "auto",
           "type": "bar",
           "x": [
            53.20000076293945
           ],
           "xaxis": "x",
           "y": [
            "China"
           ],
           "yaxis": "y"
          },
          {
           "alignmentgroup": "True",
           "hovertemplate": "Entity=%{y}<br>Year=2016<br>Individuals using the Internet (% of population)=%{x}<extra></extra>",
           "legendgroup": "World",
           "marker": {
            "color": "#6A82AB",
            "pattern": {
             "shape": ""
            }
           },
           "name": "World",
           "offsetgroup": "World",
           "orientation": "h",
           "showlegend": true,
           "textposition": "auto",
           "type": "bar",
           "x": [
            43.33835220336914
           ],
           "xaxis": "x",
           "y": [
            "World"
           ],
           "yaxis": "y"
          },
          {
           "alignmentgroup": "True",
           "hovertemplate": "Entity=%{y}<br>Year=2016<br>Individuals using the Internet (% of population)=%{x}<extra></extra>",
           "legendgroup": "India",
           "marker": {
            "color": "#6A82AB",
            "pattern": {
             "shape": ""
            }
           },
           "name": "India",
           "offsetgroup": "India",
           "orientation": "h",
           "showlegend": true,
           "textposition": "auto",
           "type": "bar",
           "x": [
            16.5
           ],
           "xaxis": "x",
           "y": [
            "India"
           ],
           "yaxis": "y"
          },
          {
           "alignmentgroup": "True",
           "hovertemplate": "Entity=%{y}<br>Year=2016<br>Individuals using the Internet (% of population)=%{x}<extra></extra>",
           "legendgroup": "Nigeria",
           "marker": {
            "color": "#6A82AB",
            "pattern": {
             "shape": ""
            }
           },
           "name": "Nigeria",
           "offsetgroup": "Nigeria",
           "orientation": "h",
           "showlegend": true,
           "textposition": "auto",
           "type": "bar",
           "x": [
            25.670000076293945
           ],
           "xaxis": "x",
           "y": [
            "Nigeria"
           ],
           "yaxis": "y"
          }
         ],
         "name": "2016"
        },
        {
         "data": [
          {
           "alignmentgroup": "True",
           "hovertemplate": "Entity=%{y}<br>Year=2019<br>Individuals using the Internet (% of population)=%{x}<extra></extra>",
           "legendgroup": "United Kingdom",
           "marker": {
            "color": "#6A82AB",
            "pattern": {
             "shape": ""
            }
           },
           "name": "United Kingdom",
           "offsetgroup": "United Kingdom",
           "orientation": "h",
           "showlegend": true,
           "textposition": "auto",
           "type": "bar",
           "x": [
            92.51663208007812
           ],
           "xaxis": "x",
           "y": [
            "United Kingdom"
           ],
           "yaxis": "y"
          },
          {
           "alignmentgroup": "True",
           "hovertemplate": "Entity=%{y}<br>Year=2019<br>Individuals using the Internet (% of population)=%{x}<extra></extra>",
           "legendgroup": "Japan",
           "marker": {
            "color": "#6A82AB",
            "pattern": {
             "shape": ""
            }
           },
           "name": "Japan",
           "offsetgroup": "Japan",
           "orientation": "h",
           "showlegend": true,
           "textposition": "auto",
           "type": "bar",
           "x": [
            92.73040008544922
           ],
           "xaxis": "x",
           "y": [
            "Japan"
           ],
           "yaxis": "y"
          },
          {
           "alignmentgroup": "True",
           "hovertemplate": "Entity=%{y}<br>Year=2019<br>Individuals using the Internet (% of population)=%{x}<extra></extra>",
           "legendgroup": "United States",
           "marker": {
            "color": "#D24B4E",
            "pattern": {
             "shape": ""
            }
           },
           "name": "United States",
           "offsetgroup": "United States",
           "orientation": "h",
           "showlegend": true,
           "textposition": "auto",
           "type": "bar",
           "x": [
            89.43028259277344
           ],
           "xaxis": "x",
           "y": [
            "United States"
           ],
           "yaxis": "y"
          },
          {
           "alignmentgroup": "True",
           "hovertemplate": "Entity=%{y}<br>Year=2019<br>Individuals using the Internet (% of population)=%{x}<extra></extra>",
           "legendgroup": "France",
           "marker": {
            "color": "#6A82AB",
            "pattern": {
             "shape": ""
            }
           },
           "name": "France",
           "offsetgroup": "France",
           "orientation": "h",
           "showlegend": true,
           "textposition": "auto",
           "type": "bar",
           "x": [
            83.3397445678711
           ],
           "xaxis": "x",
           "y": [
            "France"
           ],
           "yaxis": "y"
          },
          {
           "alignmentgroup": "True",
           "hovertemplate": "Entity=%{y}<br>Year=2019<br>Individuals using the Internet (% of population)=%{x}<extra></extra>",
           "legendgroup": "Brazil",
           "marker": {
            "color": "#6A82AB",
            "pattern": {
             "shape": ""
            }
           },
           "name": "Brazil",
           "offsetgroup": "Brazil",
           "orientation": "h",
           "showlegend": true,
           "textposition": "auto",
           "type": "bar",
           "x": [
            73.91243743896484
           ],
           "xaxis": "x",
           "y": [
            "Brazil"
           ],
           "yaxis": "y"
          },
          {
           "alignmentgroup": "True",
           "hovertemplate": "Entity=%{y}<br>Year=2019<br>Individuals using the Internet (% of population)=%{x}<extra></extra>",
           "legendgroup": "China",
           "marker": {
            "color": "#6A82AB",
            "pattern": {
             "shape": ""
            }
           },
           "name": "China",
           "offsetgroup": "China",
           "orientation": "h",
           "showlegend": true,
           "textposition": "auto",
           "type": "bar",
           "x": [
            64.1098403930664
           ],
           "xaxis": "x",
           "y": [
            "China"
           ],
           "yaxis": "y"
          },
          {
           "alignmentgroup": "True",
           "hovertemplate": "Entity=%{y}<br>Year=2019<br>Individuals using the Internet (% of population)=%{x}<extra></extra>",
           "legendgroup": "World",
           "marker": {
            "color": "#6A82AB",
            "pattern": {
             "shape": ""
            }
           },
           "name": "World",
           "offsetgroup": "World",
           "orientation": "h",
           "showlegend": true,
           "textposition": "auto",
           "type": "bar",
           "x": [
            54.01298522949219
           ],
           "xaxis": "x",
           "y": [
            "World"
           ],
           "yaxis": "y"
          },
          {
           "alignmentgroup": "True",
           "hovertemplate": "Entity=%{y}<br>Year=2019<br>Individuals using the Internet (% of population)=%{x}<extra></extra>",
           "legendgroup": "India",
           "marker": {
            "color": "#6A82AB",
            "pattern": {
             "shape": ""
            }
           },
           "name": "India",
           "offsetgroup": "India",
           "orientation": "h",
           "showlegend": true,
           "textposition": "auto",
           "type": "bar",
           "x": [
            29.399999618530277
           ],
           "xaxis": "x",
           "y": [
            "India"
           ],
           "yaxis": "y"
          },
          {
           "alignmentgroup": "True",
           "hovertemplate": "Entity=%{y}<br>Year=2019<br>Individuals using the Internet (% of population)=%{x}<extra></extra>",
           "legendgroup": "Nigeria",
           "marker": {
            "color": "#6A82AB",
            "pattern": {
             "shape": ""
            }
           },
           "name": "Nigeria",
           "offsetgroup": "Nigeria",
           "orientation": "h",
           "showlegend": true,
           "textposition": "auto",
           "type": "bar",
           "x": [
            33.599998474121094
           ],
           "xaxis": "x",
           "y": [
            "Nigeria"
           ],
           "yaxis": "y"
          }
         ],
         "name": "2019"
        },
        {
         "data": [
          {
           "alignmentgroup": "True",
           "hovertemplate": "Entity=%{y}<br>Year=2015<br>Individuals using the Internet (% of population)=%{x}<extra></extra>",
           "legendgroup": "United Kingdom",
           "marker": {
            "color": "#6A82AB",
            "pattern": {
             "shape": ""
            }
           },
           "name": "United Kingdom",
           "offsetgroup": "United Kingdom",
           "orientation": "h",
           "showlegend": true,
           "textposition": "auto",
           "type": "bar",
           "x": [
            92.00029754638672
           ],
           "xaxis": "x",
           "y": [
            "United Kingdom"
           ],
           "yaxis": "y"
          },
          {
           "alignmentgroup": "True",
           "hovertemplate": "Entity=%{y}<br>Year=2015<br>Individuals using the Internet (% of population)=%{x}<extra></extra>",
           "legendgroup": "Japan",
           "marker": {
            "color": "#6A82AB",
            "pattern": {
             "shape": ""
            }
           },
           "name": "Japan",
           "offsetgroup": "Japan",
           "orientation": "h",
           "showlegend": true,
           "textposition": "auto",
           "type": "bar",
           "x": [
            91.05802917480467
           ],
           "xaxis": "x",
           "y": [
            "Japan"
           ],
           "yaxis": "y"
          },
          {
           "alignmentgroup": "True",
           "hovertemplate": "Entity=%{y}<br>Year=2015<br>Individuals using the Internet (% of population)=%{x}<extra></extra>",
           "legendgroup": "United States",
           "marker": {
            "color": "#D24B4E",
            "pattern": {
             "shape": ""
            }
           },
           "name": "United States",
           "offsetgroup": "United States",
           "orientation": "h",
           "showlegend": true,
           "textposition": "auto",
           "type": "bar",
           "x": [
            74.55419921875
           ],
           "xaxis": "x",
           "y": [
            "United States"
           ],
           "yaxis": "y"
          },
          {
           "alignmentgroup": "True",
           "hovertemplate": "Entity=%{y}<br>Year=2015<br>Individuals using the Internet (% of population)=%{x}<extra></extra>",
           "legendgroup": "France",
           "marker": {
            "color": "#6A82AB",
            "pattern": {
             "shape": ""
            }
           },
           "name": "France",
           "offsetgroup": "France",
           "orientation": "h",
           "showlegend": true,
           "textposition": "auto",
           "type": "bar",
           "x": [
            78.00603485107422
           ],
           "xaxis": "x",
           "y": [
            "France"
           ],
           "yaxis": "y"
          },
          {
           "alignmentgroup": "True",
           "hovertemplate": "Entity=%{y}<br>Year=2015<br>Individuals using the Internet (% of population)=%{x}<extra></extra>",
           "legendgroup": "Brazil",
           "marker": {
            "color": "#6A82AB",
            "pattern": {
             "shape": ""
            }
           },
           "name": "Brazil",
           "offsetgroup": "Brazil",
           "orientation": "h",
           "showlegend": true,
           "textposition": "auto",
           "type": "bar",
           "x": [
            58.32795333862305
           ],
           "xaxis": "x",
           "y": [
            "Brazil"
           ],
           "yaxis": "y"
          },
          {
           "alignmentgroup": "True",
           "hovertemplate": "Entity=%{y}<br>Year=2015<br>Individuals using the Internet (% of population)=%{x}<extra></extra>",
           "legendgroup": "China",
           "marker": {
            "color": "#6A82AB",
            "pattern": {
             "shape": ""
            }
           },
           "name": "China",
           "offsetgroup": "China",
           "orientation": "h",
           "showlegend": true,
           "textposition": "auto",
           "type": "bar",
           "x": [
            50.29999923706055
           ],
           "xaxis": "x",
           "y": [
            "China"
           ],
           "yaxis": "y"
          },
          {
           "alignmentgroup": "True",
           "hovertemplate": "Entity=%{y}<br>Year=2015<br>Individuals using the Internet (% of population)=%{x}<extra></extra>",
           "legendgroup": "World",
           "marker": {
            "color": "#6A82AB",
            "pattern": {
             "shape": ""
            }
           },
           "name": "World",
           "offsetgroup": "World",
           "orientation": "h",
           "showlegend": true,
           "textposition": "auto",
           "type": "bar",
           "x": [
            40.4570541381836
           ],
           "xaxis": "x",
           "y": [
            "World"
           ],
           "yaxis": "y"
          },
          {
           "alignmentgroup": "True",
           "hovertemplate": "Entity=%{y}<br>Year=2015<br>Individuals using the Internet (% of population)=%{x}<extra></extra>",
           "legendgroup": "India",
           "marker": {
            "color": "#6A82AB",
            "pattern": {
             "shape": ""
            }
           },
           "name": "India",
           "offsetgroup": "India",
           "orientation": "h",
           "showlegend": true,
           "textposition": "auto",
           "type": "bar",
           "x": [
            14.899999618530272
           ],
           "xaxis": "x",
           "y": [
            "India"
           ],
           "yaxis": "y"
          },
          {
           "alignmentgroup": "True",
           "hovertemplate": "Entity=%{y}<br>Year=2015<br>Individuals using the Internet (% of population)=%{x}<extra></extra>",
           "legendgroup": "Nigeria",
           "marker": {
            "color": "#6A82AB",
            "pattern": {
             "shape": ""
            }
           },
           "name": "Nigeria",
           "offsetgroup": "Nigeria",
           "orientation": "h",
           "showlegend": true,
           "textposition": "auto",
           "type": "bar",
           "x": [
            24.5
           ],
           "xaxis": "x",
           "y": [
            "Nigeria"
           ],
           "yaxis": "y"
          }
         ],
         "name": "2015"
        },
        {
         "data": [
          {
           "alignmentgroup": "True",
           "hovertemplate": "Entity=%{y}<br>Year=2017<br>Individuals using the Internet (% of population)=%{x}<extra></extra>",
           "legendgroup": "United Kingdom",
           "marker": {
            "color": "#6A82AB",
            "pattern": {
             "shape": ""
            }
           },
           "name": "United Kingdom",
           "offsetgroup": "United Kingdom",
           "orientation": "h",
           "showlegend": true,
           "textposition": "auto",
           "type": "bar",
           "x": [
            90.42455291748048
           ],
           "xaxis": "x",
           "y": [
            "United Kingdom"
           ],
           "yaxis": "y"
          },
          {
           "alignmentgroup": "True",
           "hovertemplate": "Entity=%{y}<br>Year=2017<br>Individuals using the Internet (% of population)=%{x}<extra></extra>",
           "legendgroup": "Japan",
           "marker": {
            "color": "#6A82AB",
            "pattern": {
             "shape": ""
            }
           },
           "name": "Japan",
           "offsetgroup": "Japan",
           "orientation": "h",
           "showlegend": true,
           "textposition": "auto",
           "type": "bar",
           "x": [
            91.72654724121094
           ],
           "xaxis": "x",
           "y": [
            "Japan"
           ],
           "yaxis": "y"
          },
          {
           "alignmentgroup": "True",
           "hovertemplate": "Entity=%{y}<br>Year=2017<br>Individuals using the Internet (% of population)=%{x}<extra></extra>",
           "legendgroup": "United States",
           "marker": {
            "color": "#D24B4E",
            "pattern": {
             "shape": ""
            }
           },
           "name": "United States",
           "offsetgroup": "United States",
           "orientation": "h",
           "showlegend": true,
           "textposition": "auto",
           "type": "bar",
           "x": [
            87.27488708496094
           ],
           "xaxis": "x",
           "y": [
            "United States"
           ],
           "yaxis": "y"
          },
          {
           "alignmentgroup": "True",
           "hovertemplate": "Entity=%{y}<br>Year=2017<br>Individuals using the Internet (% of population)=%{x}<extra></extra>",
           "legendgroup": "France",
           "marker": {
            "color": "#6A82AB",
            "pattern": {
             "shape": ""
            }
           },
           "name": "France",
           "offsetgroup": "France",
           "orientation": "h",
           "showlegend": true,
           "textposition": "auto",
           "type": "bar",
           "x": [
            80.50245666503906
           ],
           "xaxis": "x",
           "y": [
            "France"
           ],
           "yaxis": "y"
          },
          {
           "alignmentgroup": "True",
           "hovertemplate": "Entity=%{y}<br>Year=2017<br>Individuals using the Internet (% of population)=%{x}<extra></extra>",
           "legendgroup": "Brazil",
           "marker": {
            "color": "#6A82AB",
            "pattern": {
             "shape": ""
            }
           },
           "name": "Brazil",
           "offsetgroup": "Brazil",
           "orientation": "h",
           "showlegend": true,
           "textposition": "auto",
           "type": "bar",
           "x": [
            67.47128295898438
           ],
           "xaxis": "x",
           "y": [
            "Brazil"
           ],
           "yaxis": "y"
          },
          {
           "alignmentgroup": "True",
           "hovertemplate": "Entity=%{y}<br>Year=2017<br>Individuals using the Internet (% of population)=%{x}<extra></extra>",
           "legendgroup": "China",
           "marker": {
            "color": "#6A82AB",
            "pattern": {
             "shape": ""
            }
           },
           "name": "China",
           "offsetgroup": "China",
           "orientation": "h",
           "showlegend": true,
           "textposition": "auto",
           "type": "bar",
           "x": [
            54.29999923706055
           ],
           "xaxis": "x",
           "y": [
            "China"
           ],
           "yaxis": "y"
          },
          {
           "alignmentgroup": "True",
           "hovertemplate": "Entity=%{y}<br>Year=2017<br>Individuals using the Internet (% of population)=%{x}<extra></extra>",
           "legendgroup": "World",
           "marker": {
            "color": "#6A82AB",
            "pattern": {
             "shape": ""
            }
           },
           "name": "World",
           "offsetgroup": "World",
           "orientation": "h",
           "showlegend": true,
           "textposition": "auto",
           "type": "bar",
           "x": [
            45.83983612060547
           ],
           "xaxis": "x",
           "y": [
            "World"
           ],
           "yaxis": "y"
          },
          {
           "alignmentgroup": "True",
           "hovertemplate": "Entity=%{y}<br>Year=2017<br>Individuals using the Internet (% of population)=%{x}<extra></extra>",
           "legendgroup": "India",
           "marker": {
            "color": "#6A82AB",
            "pattern": {
             "shape": ""
            }
           },
           "name": "India",
           "offsetgroup": "India",
           "orientation": "h",
           "showlegend": true,
           "textposition": "auto",
           "type": "bar",
           "x": [
            18.200000762939453
           ],
           "xaxis": "x",
           "y": [
            "India"
           ],
           "yaxis": "y"
          },
          {
           "alignmentgroup": "True",
           "hovertemplate": "Entity=%{y}<br>Year=2017<br>Individuals using the Internet (% of population)=%{x}<extra></extra>",
           "legendgroup": "Nigeria",
           "marker": {
            "color": "#6A82AB",
            "pattern": {
             "shape": ""
            }
           },
           "name": "Nigeria",
           "offsetgroup": "Nigeria",
           "orientation": "h",
           "showlegend": true,
           "textposition": "auto",
           "type": "bar",
           "x": [
            28
           ],
           "xaxis": "x",
           "y": [
            "Nigeria"
           ],
           "yaxis": "y"
          }
         ],
         "name": "2017"
        },
        {
         "data": [
          {
           "alignmentgroup": "True",
           "hovertemplate": "Entity=%{y}<br>Year=2014<br>Individuals using the Internet (% of population)=%{x}<extra></extra>",
           "legendgroup": "United Kingdom",
           "marker": {
            "color": "#6A82AB",
            "pattern": {
             "shape": ""
            }
           },
           "name": "United Kingdom",
           "offsetgroup": "United Kingdom",
           "orientation": "h",
           "showlegend": true,
           "textposition": "auto",
           "type": "bar",
           "x": [
            91.61000061035156
           ],
           "xaxis": "x",
           "y": [
            "United Kingdom"
           ],
           "yaxis": "y"
          },
          {
           "alignmentgroup": "True",
           "hovertemplate": "Entity=%{y}<br>Year=2014<br>Individuals using the Internet (% of population)=%{x}<extra></extra>",
           "legendgroup": "Japan",
           "marker": {
            "color": "#6A82AB",
            "pattern": {
             "shape": ""
            }
           },
           "name": "Japan",
           "offsetgroup": "Japan",
           "orientation": "h",
           "showlegend": true,
           "textposition": "auto",
           "type": "bar",
           "x": [
            89.1068344116211
           ],
           "xaxis": "x",
           "y": [
            "Japan"
           ],
           "yaxis": "y"
          },
          {
           "alignmentgroup": "True",
           "hovertemplate": "Entity=%{y}<br>Year=2014<br>Individuals using the Internet (% of population)=%{x}<extra></extra>",
           "legendgroup": "United States",
           "marker": {
            "color": "#D24B4E",
            "pattern": {
             "shape": ""
            }
           },
           "name": "United States",
           "offsetgroup": "United States",
           "orientation": "h",
           "showlegend": true,
           "textposition": "auto",
           "type": "bar",
           "x": [
            73
           ],
           "xaxis": "x",
           "y": [
            "United States"
           ],
           "yaxis": "y"
          },
          {
           "alignmentgroup": "True",
           "hovertemplate": "Entity=%{y}<br>Year=2014<br>Individuals using the Internet (% of population)=%{x}<extra></extra>",
           "legendgroup": "France",
           "marker": {
            "color": "#6A82AB",
            "pattern": {
             "shape": ""
            }
           },
           "name": "France",
           "offsetgroup": "France",
           "orientation": "h",
           "showlegend": true,
           "textposition": "auto",
           "type": "bar",
           "x": [
            83.75
           ],
           "xaxis": "x",
           "y": [
            "France"
           ],
           "yaxis": "y"
          },
          {
           "alignmentgroup": "True",
           "hovertemplate": "Entity=%{y}<br>Year=2014<br>Individuals using the Internet (% of population)=%{x}<extra></extra>",
           "legendgroup": "Brazil",
           "marker": {
            "color": "#6A82AB",
            "pattern": {
             "shape": ""
            }
           },
           "name": "Brazil",
           "offsetgroup": "Brazil",
           "orientation": "h",
           "showlegend": true,
           "textposition": "auto",
           "type": "bar",
           "x": [
            54.551002502441406
           ],
           "xaxis": "x",
           "y": [
            "Brazil"
           ],
           "yaxis": "y"
          },
          {
           "alignmentgroup": "True",
           "hovertemplate": "Entity=%{y}<br>Year=2014<br>Individuals using the Internet (% of population)=%{x}<extra></extra>",
           "legendgroup": "China",
           "marker": {
            "color": "#6A82AB",
            "pattern": {
             "shape": ""
            }
           },
           "name": "China",
           "offsetgroup": "China",
           "orientation": "h",
           "showlegend": true,
           "textposition": "auto",
           "type": "bar",
           "x": [
            47.900001525878906
           ],
           "xaxis": "x",
           "y": [
            "China"
           ],
           "yaxis": "y"
          },
          {
           "alignmentgroup": "True",
           "hovertemplate": "Entity=%{y}<br>Year=2014<br>Individuals using the Internet (% of population)=%{x}<extra></extra>",
           "legendgroup": "World",
           "marker": {
            "color": "#6A82AB",
            "pattern": {
             "shape": ""
            }
           },
           "name": "World",
           "offsetgroup": "World",
           "orientation": "h",
           "showlegend": true,
           "textposition": "auto",
           "type": "bar",
           "x": [
            38.0659294128418
           ],
           "xaxis": "x",
           "y": [
            "World"
           ],
           "yaxis": "y"
          },
          {
           "alignmentgroup": "True",
           "hovertemplate": "Entity=%{y}<br>Year=2014<br>Individuals using the Internet (% of population)=%{x}<extra></extra>",
           "legendgroup": "India",
           "marker": {
            "color": "#6A82AB",
            "pattern": {
             "shape": ""
            }
           },
           "name": "India",
           "offsetgroup": "India",
           "orientation": "h",
           "showlegend": true,
           "textposition": "auto",
           "type": "bar",
           "x": [
            13.5
           ],
           "xaxis": "x",
           "y": [
            "India"
           ],
           "yaxis": "y"
          },
          {
           "alignmentgroup": "True",
           "hovertemplate": "Entity=%{y}<br>Year=2014<br>Individuals using the Internet (% of population)=%{x}<extra></extra>",
           "legendgroup": "Nigeria",
           "marker": {
            "color": "#6A82AB",
            "pattern": {
             "shape": ""
            }
           },
           "name": "Nigeria",
           "offsetgroup": "Nigeria",
           "orientation": "h",
           "showlegend": true,
           "textposition": "auto",
           "type": "bar",
           "x": [
            21
           ],
           "xaxis": "x",
           "y": [
            "Nigeria"
           ],
           "yaxis": "y"
          }
         ],
         "name": "2014"
        },
        {
         "data": [
          {
           "alignmentgroup": "True",
           "hovertemplate": "Entity=%{y}<br>Year=2018<br>Individuals using the Internet (% of population)=%{x}<extra></extra>",
           "legendgroup": "United Kingdom",
           "marker": {
            "color": "#6A82AB",
            "pattern": {
             "shape": ""
            }
           },
           "name": "United Kingdom",
           "offsetgroup": "United Kingdom",
           "orientation": "h",
           "showlegend": true,
           "textposition": "auto",
           "type": "bar",
           "x": [
            90.69200897216795
           ],
           "xaxis": "x",
           "y": [
            "United Kingdom"
           ],
           "yaxis": "y"
          },
          {
           "alignmentgroup": "True",
           "hovertemplate": "Entity=%{y}<br>Year=2018<br>Individuals using the Internet (% of population)=%{x}<extra></extra>",
           "legendgroup": "Japan",
           "marker": {
            "color": "#6A82AB",
            "pattern": {
             "shape": ""
            }
           },
           "name": "Japan",
           "offsetgroup": "Japan",
           "orientation": "h",
           "showlegend": true,
           "textposition": "auto",
           "type": "bar",
           "x": [
            91.27999877929688
           ],
           "xaxis": "x",
           "y": [
            "Japan"
           ],
           "yaxis": "y"
          },
          {
           "alignmentgroup": "True",
           "hovertemplate": "Entity=%{y}<br>Year=2018<br>Individuals using the Internet (% of population)=%{x}<extra></extra>",
           "legendgroup": "United States",
           "marker": {
            "color": "#D24B4E",
            "pattern": {
             "shape": ""
            }
           },
           "name": "United States",
           "offsetgroup": "United States",
           "orientation": "h",
           "showlegend": true,
           "textposition": "auto",
           "type": "bar",
           "x": [
            88.4989013671875
           ],
           "xaxis": "x",
           "y": [
            "United States"
           ],
           "yaxis": "y"
          },
          {
           "alignmentgroup": "True",
           "hovertemplate": "Entity=%{y}<br>Year=2018<br>Individuals using the Internet (% of population)=%{x}<extra></extra>",
           "legendgroup": "France",
           "marker": {
            "color": "#6A82AB",
            "pattern": {
             "shape": ""
            }
           },
           "name": "France",
           "offsetgroup": "France",
           "orientation": "h",
           "showlegend": true,
           "textposition": "auto",
           "type": "bar",
           "x": [
            82.0431900024414
           ],
           "xaxis": "x",
           "y": [
            "France"
           ],
           "yaxis": "y"
          },
          {
           "alignmentgroup": "True",
           "hovertemplate": "Entity=%{y}<br>Year=2018<br>Individuals using the Internet (% of population)=%{x}<extra></extra>",
           "legendgroup": "Brazil",
           "marker": {
            "color": "#6A82AB",
            "pattern": {
             "shape": ""
            }
           },
           "name": "Brazil",
           "offsetgroup": "Brazil",
           "orientation": "h",
           "showlegend": true,
           "textposition": "auto",
           "type": "bar",
           "x": [
            70.43428039550781
           ],
           "xaxis": "x",
           "y": [
            "Brazil"
           ],
           "yaxis": "y"
          },
          {
           "alignmentgroup": "True",
           "hovertemplate": "Entity=%{y}<br>Year=2018<br>Individuals using the Internet (% of population)=%{x}<extra></extra>",
           "legendgroup": "China",
           "marker": {
            "color": "#6A82AB",
            "pattern": {
             "shape": ""
            }
           },
           "name": "China",
           "offsetgroup": "China",
           "orientation": "h",
           "showlegend": true,
           "textposition": "auto",
           "type": "bar",
           "x": [
            59.20000076293945
           ],
           "xaxis": "x",
           "y": [
            "China"
           ],
           "yaxis": "y"
          },
          {
           "alignmentgroup": "True",
           "hovertemplate": "Entity=%{y}<br>Year=2018<br>Individuals using the Internet (% of population)=%{x}<extra></extra>",
           "legendgroup": "World",
           "marker": {
            "color": "#6A82AB",
            "pattern": {
             "shape": ""
            }
           },
           "name": "World",
           "offsetgroup": "World",
           "orientation": "h",
           "showlegend": true,
           "textposition": "auto",
           "type": "bar",
           "x": [
            49.39648818969727
           ],
           "xaxis": "x",
           "y": [
            "World"
           ],
           "yaxis": "y"
          },
          {
           "alignmentgroup": "True",
           "hovertemplate": "Entity=%{y}<br>Year=2018<br>Individuals using the Internet (% of population)=%{x}<extra></extra>",
           "legendgroup": "India",
           "marker": {
            "color": "#6A82AB",
            "pattern": {
             "shape": ""
            }
           },
           "name": "India",
           "offsetgroup": "India",
           "orientation": "h",
           "showlegend": true,
           "textposition": "auto",
           "type": "bar",
           "x": [
            20.081300735473636
           ],
           "xaxis": "x",
           "y": [
            "India"
           ],
           "yaxis": "y"
          },
          {
           "alignmentgroup": "True",
           "hovertemplate": "Entity=%{y}<br>Year=2018<br>Individuals using the Internet (% of population)=%{x}<extra></extra>",
           "legendgroup": "Nigeria",
           "marker": {
            "color": "#6A82AB",
            "pattern": {
             "shape": ""
            }
           },
           "name": "Nigeria",
           "offsetgroup": "Nigeria",
           "orientation": "h",
           "showlegend": true,
           "textposition": "auto",
           "type": "bar",
           "x": [
            31.899999618530277
           ],
           "xaxis": "x",
           "y": [
            "Nigeria"
           ],
           "yaxis": "y"
          }
         ],
         "name": "2018"
        },
        {
         "data": [
          {
           "alignmentgroup": "True",
           "hovertemplate": "Entity=%{y}<br>Year=2013<br>Individuals using the Internet (% of population)=%{x}<extra></extra>",
           "legendgroup": "United Kingdom",
           "marker": {
            "color": "#6A82AB",
            "pattern": {
             "shape": ""
            }
           },
           "name": "United Kingdom",
           "offsetgroup": "United Kingdom",
           "orientation": "h",
           "showlegend": true,
           "textposition": "auto",
           "type": "bar",
           "x": [
            89.84410095214844
           ],
           "xaxis": "x",
           "y": [
            "United Kingdom"
           ],
           "yaxis": "y"
          },
          {
           "alignmentgroup": "True",
           "hovertemplate": "Entity=%{y}<br>Year=2013<br>Individuals using the Internet (% of population)=%{x}<extra></extra>",
           "legendgroup": "Japan",
           "marker": {
            "color": "#6A82AB",
            "pattern": {
             "shape": ""
            }
           },
           "name": "Japan",
           "offsetgroup": "Japan",
           "orientation": "h",
           "showlegend": true,
           "textposition": "auto",
           "type": "bar",
           "x": [
            88.21942901611328
           ],
           "xaxis": "x",
           "y": [
            "Japan"
           ],
           "yaxis": "y"
          },
          {
           "alignmentgroup": "True",
           "hovertemplate": "Entity=%{y}<br>Year=2013<br>Individuals using the Internet (% of population)=%{x}<extra></extra>",
           "legendgroup": "United States",
           "marker": {
            "color": "#D24B4E",
            "pattern": {
             "shape": ""
            }
           },
           "name": "United States",
           "offsetgroup": "United States",
           "orientation": "h",
           "showlegend": true,
           "textposition": "auto",
           "type": "bar",
           "x": [
            71.4000015258789
           ],
           "xaxis": "x",
           "y": [
            "United States"
           ],
           "yaxis": "y"
          },
          {
           "alignmentgroup": "True",
           "hovertemplate": "Entity=%{y}<br>Year=2013<br>Individuals using the Internet (% of population)=%{x}<extra></extra>",
           "legendgroup": "France",
           "marker": {
            "color": "#6A82AB",
            "pattern": {
             "shape": ""
            }
           },
           "name": "France",
           "offsetgroup": "France",
           "orientation": "h",
           "showlegend": true,
           "textposition": "auto",
           "type": "bar",
           "x": [
            81.9197998046875
           ],
           "xaxis": "x",
           "y": [
            "France"
           ],
           "yaxis": "y"
          },
          {
           "alignmentgroup": "True",
           "hovertemplate": "Entity=%{y}<br>Year=2013<br>Individuals using the Internet (% of population)=%{x}<extra></extra>",
           "legendgroup": "Brazil",
           "marker": {
            "color": "#6A82AB",
            "pattern": {
             "shape": ""
            }
           },
           "name": "Brazil",
           "offsetgroup": "Brazil",
           "orientation": "h",
           "showlegend": true,
           "textposition": "auto",
           "type": "bar",
           "x": [
            51.040000915527344
           ],
           "xaxis": "x",
           "y": [
            "Brazil"
           ],
           "yaxis": "y"
          },
          {
           "alignmentgroup": "True",
           "hovertemplate": "Entity=%{y}<br>Year=2013<br>Individuals using the Internet (% of population)=%{x}<extra></extra>",
           "legendgroup": "China",
           "marker": {
            "color": "#6A82AB",
            "pattern": {
             "shape": ""
            }
           },
           "name": "China",
           "offsetgroup": "China",
           "orientation": "h",
           "showlegend": true,
           "textposition": "auto",
           "type": "bar",
           "x": [
            45.79999923706055
           ],
           "xaxis": "x",
           "y": [
            "China"
           ],
           "yaxis": "y"
          },
          {
           "alignmentgroup": "True",
           "hovertemplate": "Entity=%{y}<br>Year=2013<br>Individuals using the Internet (% of population)=%{x}<extra></extra>",
           "legendgroup": "World",
           "marker": {
            "color": "#6A82AB",
            "pattern": {
             "shape": ""
            }
           },
           "name": "World",
           "offsetgroup": "World",
           "orientation": "h",
           "showlegend": true,
           "textposition": "auto",
           "type": "bar",
           "x": [
            35.83993148803711
           ],
           "xaxis": "x",
           "y": [
            "World"
           ],
           "yaxis": "y"
          },
          {
           "alignmentgroup": "True",
           "hovertemplate": "Entity=%{y}<br>Year=2013<br>Individuals using the Internet (% of population)=%{x}<extra></extra>",
           "legendgroup": "India",
           "marker": {
            "color": "#6A82AB",
            "pattern": {
             "shape": ""
            }
           },
           "name": "India",
           "offsetgroup": "India",
           "orientation": "h",
           "showlegend": true,
           "textposition": "auto",
           "type": "bar",
           "x": [
            12.300000190734863
           ],
           "xaxis": "x",
           "y": [
            "India"
           ],
           "yaxis": "y"
          },
          {
           "alignmentgroup": "True",
           "hovertemplate": "Entity=%{y}<br>Year=2013<br>Individuals using the Internet (% of population)=%{x}<extra></extra>",
           "legendgroup": "Nigeria",
           "marker": {
            "color": "#6A82AB",
            "pattern": {
             "shape": ""
            }
           },
           "name": "Nigeria",
           "offsetgroup": "Nigeria",
           "orientation": "h",
           "showlegend": true,
           "textposition": "auto",
           "type": "bar",
           "x": [
            19.100000381469727
           ],
           "xaxis": "x",
           "y": [
            "Nigeria"
           ],
           "yaxis": "y"
          }
         ],
         "name": "2013"
        },
        {
         "data": [
          {
           "alignmentgroup": "True",
           "hovertemplate": "Entity=%{y}<br>Year=2012<br>Individuals using the Internet (% of population)=%{x}<extra></extra>",
           "legendgroup": "United Kingdom",
           "marker": {
            "color": "#6A82AB",
            "pattern": {
             "shape": ""
            }
           },
           "name": "United Kingdom",
           "offsetgroup": "United Kingdom",
           "orientation": "h",
           "showlegend": true,
           "textposition": "auto",
           "type": "bar",
           "x": [
            87.47999572753906
           ],
           "xaxis": "x",
           "y": [
            "United Kingdom"
           ],
           "yaxis": "y"
          },
          {
           "alignmentgroup": "True",
           "hovertemplate": "Entity=%{y}<br>Year=2012<br>Individuals using the Internet (% of population)=%{x}<extra></extra>",
           "legendgroup": "Japan",
           "marker": {
            "color": "#6A82AB",
            "pattern": {
             "shape": ""
            }
           },
           "name": "Japan",
           "offsetgroup": "Japan",
           "orientation": "h",
           "showlegend": true,
           "textposition": "auto",
           "type": "bar",
           "x": [
            79.49639892578125
           ],
           "xaxis": "x",
           "y": [
            "Japan"
           ],
           "yaxis": "y"
          },
          {
           "alignmentgroup": "True",
           "hovertemplate": "Entity=%{y}<br>Year=2012<br>Individuals using the Internet (% of population)=%{x}<extra></extra>",
           "legendgroup": "United States",
           "marker": {
            "color": "#D24B4E",
            "pattern": {
             "shape": ""
            }
           },
           "name": "United States",
           "offsetgroup": "United States",
           "orientation": "h",
           "showlegend": true,
           "textposition": "auto",
           "type": "bar",
           "x": [
            74.69999694824219
           ],
           "xaxis": "x",
           "y": [
            "United States"
           ],
           "yaxis": "y"
          },
          {
           "alignmentgroup": "True",
           "hovertemplate": "Entity=%{y}<br>Year=2012<br>Individuals using the Internet (% of population)=%{x}<extra></extra>",
           "legendgroup": "France",
           "marker": {
            "color": "#6A82AB",
            "pattern": {
             "shape": ""
            }
           },
           "name": "France",
           "offsetgroup": "France",
           "orientation": "h",
           "showlegend": true,
           "textposition": "auto",
           "type": "bar",
           "x": [
            81.44000244140625
           ],
           "xaxis": "x",
           "y": [
            "France"
           ],
           "yaxis": "y"
          },
          {
           "alignmentgroup": "True",
           "hovertemplate": "Entity=%{y}<br>Year=2012<br>Individuals using the Internet (% of population)=%{x}<extra></extra>",
           "legendgroup": "Brazil",
           "marker": {
            "color": "#6A82AB",
            "pattern": {
             "shape": ""
            }
           },
           "name": "Brazil",
           "offsetgroup": "Brazil",
           "orientation": "h",
           "showlegend": true,
           "textposition": "auto",
           "type": "bar",
           "x": [
            48.560001373291016
           ],
           "xaxis": "x",
           "y": [
            "Brazil"
           ],
           "yaxis": "y"
          },
          {
           "alignmentgroup": "True",
           "hovertemplate": "Entity=%{y}<br>Year=2012<br>Individuals using the Internet (% of population)=%{x}<extra></extra>",
           "legendgroup": "China",
           "marker": {
            "color": "#6A82AB",
            "pattern": {
             "shape": ""
            }
           },
           "name": "China",
           "offsetgroup": "China",
           "orientation": "h",
           "showlegend": true,
           "textposition": "auto",
           "type": "bar",
           "x": [
            42.30011749267578
           ],
           "xaxis": "x",
           "y": [
            "China"
           ],
           "yaxis": "y"
          },
          {
           "alignmentgroup": "True",
           "hovertemplate": "Entity=%{y}<br>Year=2012<br>Individuals using the Internet (% of population)=%{x}<extra></extra>",
           "legendgroup": "World",
           "marker": {
            "color": "#6A82AB",
            "pattern": {
             "shape": ""
            }
           },
           "name": "World",
           "offsetgroup": "World",
           "orientation": "h",
           "showlegend": true,
           "textposition": "auto",
           "type": "bar",
           "x": [
            33.8865852355957
           ],
           "xaxis": "x",
           "y": [
            "World"
           ],
           "yaxis": "y"
          },
          {
           "alignmentgroup": "True",
           "hovertemplate": "Entity=%{y}<br>Year=2012<br>Individuals using the Internet (% of population)=%{x}<extra></extra>",
           "legendgroup": "India",
           "marker": {
            "color": "#6A82AB",
            "pattern": {
             "shape": ""
            }
           },
           "name": "India",
           "offsetgroup": "India",
           "orientation": "h",
           "showlegend": true,
           "textposition": "auto",
           "type": "bar",
           "x": [
            11.100000381469728
           ],
           "xaxis": "x",
           "y": [
            "India"
           ],
           "yaxis": "y"
          },
          {
           "alignmentgroup": "True",
           "hovertemplate": "Entity=%{y}<br>Year=2012<br>Individuals using the Internet (% of population)=%{x}<extra></extra>",
           "legendgroup": "Nigeria",
           "marker": {
            "color": "#6A82AB",
            "pattern": {
             "shape": ""
            }
           },
           "name": "Nigeria",
           "offsetgroup": "Nigeria",
           "orientation": "h",
           "showlegend": true,
           "textposition": "auto",
           "type": "bar",
           "x": [
            16.100000381469727
           ],
           "xaxis": "x",
           "y": [
            "Nigeria"
           ],
           "yaxis": "y"
          }
         ],
         "name": "2012"
        },
        {
         "data": [
          {
           "alignmentgroup": "True",
           "hovertemplate": "Entity=%{y}<br>Year=2011<br>Individuals using the Internet (% of population)=%{x}<extra></extra>",
           "legendgroup": "United Kingdom",
           "marker": {
            "color": "#6A82AB",
            "pattern": {
             "shape": ""
            }
           },
           "name": "United Kingdom",
           "offsetgroup": "United Kingdom",
           "orientation": "h",
           "showlegend": true,
           "textposition": "auto",
           "type": "bar",
           "x": [
            85.37999725341797
           ],
           "xaxis": "x",
           "y": [
            "United Kingdom"
           ],
           "yaxis": "y"
          },
          {
           "alignmentgroup": "True",
           "hovertemplate": "Entity=%{y}<br>Year=2011<br>Individuals using the Internet (% of population)=%{x}<extra></extra>",
           "legendgroup": "Japan",
           "marker": {
            "color": "#6A82AB",
            "pattern": {
             "shape": ""
            }
           },
           "name": "Japan",
           "offsetgroup": "Japan",
           "orientation": "h",
           "showlegend": true,
           "textposition": "auto",
           "type": "bar",
           "x": [
            79.05411529541016
           ],
           "xaxis": "x",
           "y": [
            "Japan"
           ],
           "yaxis": "y"
          },
          {
           "alignmentgroup": "True",
           "hovertemplate": "Entity=%{y}<br>Year=2011<br>Individuals using the Internet (% of population)=%{x}<extra></extra>",
           "legendgroup": "United States",
           "marker": {
            "color": "#D24B4E",
            "pattern": {
             "shape": ""
            }
           },
           "name": "United States",
           "offsetgroup": "United States",
           "orientation": "h",
           "showlegend": true,
           "textposition": "auto",
           "type": "bar",
           "x": [
            69.72946166992188
           ],
           "xaxis": "x",
           "y": [
            "United States"
           ],
           "yaxis": "y"
          },
          {
           "alignmentgroup": "True",
           "hovertemplate": "Entity=%{y}<br>Year=2011<br>Individuals using the Internet (% of population)=%{x}<extra></extra>",
           "legendgroup": "France",
           "marker": {
            "color": "#6A82AB",
            "pattern": {
             "shape": ""
            }
           },
           "name": "France",
           "offsetgroup": "France",
           "orientation": "h",
           "showlegend": true,
           "textposition": "auto",
           "type": "bar",
           "x": [
            77.81999969482422
           ],
           "xaxis": "x",
           "y": [
            "France"
           ],
           "yaxis": "y"
          },
          {
           "alignmentgroup": "True",
           "hovertemplate": "Entity=%{y}<br>Year=2011<br>Individuals using the Internet (% of population)=%{x}<extra></extra>",
           "legendgroup": "Brazil",
           "marker": {
            "color": "#6A82AB",
            "pattern": {
             "shape": ""
            }
           },
           "name": "Brazil",
           "offsetgroup": "Brazil",
           "orientation": "h",
           "showlegend": true,
           "textposition": "auto",
           "type": "bar",
           "x": [
            45.68999862670898
           ],
           "xaxis": "x",
           "y": [
            "Brazil"
           ],
           "yaxis": "y"
          },
          {
           "alignmentgroup": "True",
           "hovertemplate": "Entity=%{y}<br>Year=2011<br>Individuals using the Internet (% of population)=%{x}<extra></extra>",
           "legendgroup": "China",
           "marker": {
            "color": "#6A82AB",
            "pattern": {
             "shape": ""
            }
           },
           "name": "China",
           "offsetgroup": "China",
           "orientation": "h",
           "showlegend": true,
           "textposition": "auto",
           "type": "bar",
           "x": [
            38.29999923706055
           ],
           "xaxis": "x",
           "y": [
            "China"
           ],
           "yaxis": "y"
          },
          {
           "alignmentgroup": "True",
           "hovertemplate": "Entity=%{y}<br>Year=2011<br>Individuals using the Internet (% of population)=%{x}<extra></extra>",
           "legendgroup": "World",
           "marker": {
            "color": "#6A82AB",
            "pattern": {
             "shape": ""
            }
           },
           "name": "World",
           "offsetgroup": "World",
           "orientation": "h",
           "showlegend": true,
           "textposition": "auto",
           "type": "bar",
           "x": [
            31.370603561401367
           ],
           "xaxis": "x",
           "y": [
            "World"
           ],
           "yaxis": "y"
          },
          {
           "alignmentgroup": "True",
           "hovertemplate": "Entity=%{y}<br>Year=2011<br>Individuals using the Internet (% of population)=%{x}<extra></extra>",
           "legendgroup": "India",
           "marker": {
            "color": "#6A82AB",
            "pattern": {
             "shape": ""
            }
           },
           "name": "India",
           "offsetgroup": "India",
           "orientation": "h",
           "showlegend": true,
           "textposition": "auto",
           "type": "bar",
           "x": [
            10.06999969482422
           ],
           "xaxis": "x",
           "y": [
            "India"
           ],
           "yaxis": "y"
          },
          {
           "alignmentgroup": "True",
           "hovertemplate": "Entity=%{y}<br>Year=2011<br>Individuals using the Internet (% of population)=%{x}<extra></extra>",
           "legendgroup": "Nigeria",
           "marker": {
            "color": "#6A82AB",
            "pattern": {
             "shape": ""
            }
           },
           "name": "Nigeria",
           "offsetgroup": "Nigeria",
           "orientation": "h",
           "showlegend": true,
           "textposition": "auto",
           "type": "bar",
           "x": [
            13.800000190734863
           ],
           "xaxis": "x",
           "y": [
            "Nigeria"
           ],
           "yaxis": "y"
          }
         ],
         "name": "2011"
        },
        {
         "data": [
          {
           "alignmentgroup": "True",
           "hovertemplate": "Entity=%{y}<br>Year=2010<br>Individuals using the Internet (% of population)=%{x}<extra></extra>",
           "legendgroup": "United Kingdom",
           "marker": {
            "color": "#6A82AB",
            "pattern": {
             "shape": ""
            }
           },
           "name": "United Kingdom",
           "offsetgroup": "United Kingdom",
           "orientation": "h",
           "showlegend": true,
           "textposition": "auto",
           "type": "bar",
           "x": [
            85
           ],
           "xaxis": "x",
           "y": [
            "United Kingdom"
           ],
           "yaxis": "y"
          },
          {
           "alignmentgroup": "True",
           "hovertemplate": "Entity=%{y}<br>Year=2010<br>Individuals using the Internet (% of population)=%{x}<extra></extra>",
           "legendgroup": "Japan",
           "marker": {
            "color": "#6A82AB",
            "pattern": {
             "shape": ""
            }
           },
           "name": "Japan",
           "offsetgroup": "Japan",
           "orientation": "h",
           "showlegend": true,
           "textposition": "auto",
           "type": "bar",
           "x": [
            78.20999908447266
           ],
           "xaxis": "x",
           "y": [
            "Japan"
           ],
           "yaxis": "y"
          },
          {
           "alignmentgroup": "True",
           "hovertemplate": "Entity=%{y}<br>Year=2010<br>Individuals using the Internet (% of population)=%{x}<extra></extra>",
           "legendgroup": "United States",
           "marker": {
            "color": "#D24B4E",
            "pattern": {
             "shape": ""
            }
           },
           "name": "United States",
           "offsetgroup": "United States",
           "orientation": "h",
           "showlegend": true,
           "textposition": "auto",
           "type": "bar",
           "x": [
            71.69000244140625
           ],
           "xaxis": "x",
           "y": [
            "United States"
           ],
           "yaxis": "y"
          },
          {
           "alignmentgroup": "True",
           "hovertemplate": "Entity=%{y}<br>Year=2010<br>Individuals using the Internet (% of population)=%{x}<extra></extra>",
           "legendgroup": "France",
           "marker": {
            "color": "#6A82AB",
            "pattern": {
             "shape": ""
            }
           },
           "name": "France",
           "offsetgroup": "France",
           "orientation": "h",
           "showlegend": true,
           "textposition": "auto",
           "type": "bar",
           "x": [
            77.27999877929688
           ],
           "xaxis": "x",
           "y": [
            "France"
           ],
           "yaxis": "y"
          },
          {
           "alignmentgroup": "True",
           "hovertemplate": "Entity=%{y}<br>Year=2010<br>Individuals using the Internet (% of population)=%{x}<extra></extra>",
           "legendgroup": "Brazil",
           "marker": {
            "color": "#6A82AB",
            "pattern": {
             "shape": ""
            }
           },
           "name": "Brazil",
           "offsetgroup": "Brazil",
           "orientation": "h",
           "showlegend": true,
           "textposition": "auto",
           "type": "bar",
           "x": [
            40.650001525878906
           ],
           "xaxis": "x",
           "y": [
            "Brazil"
           ],
           "yaxis": "y"
          },
          {
           "alignmentgroup": "True",
           "hovertemplate": "Entity=%{y}<br>Year=2010<br>Individuals using the Internet (% of population)=%{x}<extra></extra>",
           "legendgroup": "China",
           "marker": {
            "color": "#6A82AB",
            "pattern": {
             "shape": ""
            }
           },
           "name": "China",
           "offsetgroup": "China",
           "orientation": "h",
           "showlegend": true,
           "textposition": "auto",
           "type": "bar",
           "x": [
            34.29999923706055
           ],
           "xaxis": "x",
           "y": [
            "China"
           ],
           "yaxis": "y"
          },
          {
           "alignmentgroup": "True",
           "hovertemplate": "Entity=%{y}<br>Year=2010<br>Individuals using the Internet (% of population)=%{x}<extra></extra>",
           "legendgroup": "World",
           "marker": {
            "color": "#6A82AB",
            "pattern": {
             "shape": ""
            }
           },
           "name": "World",
           "offsetgroup": "World",
           "orientation": "h",
           "showlegend": true,
           "textposition": "auto",
           "type": "bar",
           "x": [
            28.933120727539062
           ],
           "xaxis": "x",
           "y": [
            "World"
           ],
           "yaxis": "y"
          },
          {
           "alignmentgroup": "True",
           "hovertemplate": "Entity=%{y}<br>Year=2010<br>Individuals using the Internet (% of population)=%{x}<extra></extra>",
           "legendgroup": "India",
           "marker": {
            "color": "#6A82AB",
            "pattern": {
             "shape": ""
            }
           },
           "name": "India",
           "offsetgroup": "India",
           "orientation": "h",
           "showlegend": true,
           "textposition": "auto",
           "type": "bar",
           "x": [
            7.5
           ],
           "xaxis": "x",
           "y": [
            "India"
           ],
           "yaxis": "y"
          },
          {
           "alignmentgroup": "True",
           "hovertemplate": "Entity=%{y}<br>Year=2010<br>Individuals using the Internet (% of population)=%{x}<extra></extra>",
           "legendgroup": "Nigeria",
           "marker": {
            "color": "#6A82AB",
            "pattern": {
             "shape": ""
            }
           },
           "name": "Nigeria",
           "offsetgroup": "Nigeria",
           "orientation": "h",
           "showlegend": true,
           "textposition": "auto",
           "type": "bar",
           "x": [
            11.5
           ],
           "xaxis": "x",
           "y": [
            "Nigeria"
           ],
           "yaxis": "y"
          }
         ],
         "name": "2010"
        },
        {
         "data": [
          {
           "alignmentgroup": "True",
           "hovertemplate": "Entity=%{y}<br>Year=2009<br>Individuals using the Internet (% of population)=%{x}<extra></extra>",
           "legendgroup": "United Kingdom",
           "marker": {
            "color": "#6A82AB",
            "pattern": {
             "shape": ""
            }
           },
           "name": "United Kingdom",
           "offsetgroup": "United Kingdom",
           "orientation": "h",
           "showlegend": true,
           "textposition": "auto",
           "type": "bar",
           "x": [
            83.55999755859375
           ],
           "xaxis": "x",
           "y": [
            "United Kingdom"
           ],
           "yaxis": "y"
          },
          {
           "alignmentgroup": "True",
           "hovertemplate": "Entity=%{y}<br>Year=2009<br>Individuals using the Internet (% of population)=%{x}<extra></extra>",
           "legendgroup": "Japan",
           "marker": {
            "color": "#6A82AB",
            "pattern": {
             "shape": ""
            }
           },
           "name": "Japan",
           "offsetgroup": "Japan",
           "orientation": "h",
           "showlegend": true,
           "textposition": "auto",
           "type": "bar",
           "x": [
            78
           ],
           "xaxis": "x",
           "y": [
            "Japan"
           ],
           "yaxis": "y"
          },
          {
           "alignmentgroup": "True",
           "hovertemplate": "Entity=%{y}<br>Year=2009<br>Individuals using the Internet (% of population)=%{x}<extra></extra>",
           "legendgroup": "United States",
           "marker": {
            "color": "#D24B4E",
            "pattern": {
             "shape": ""
            }
           },
           "name": "United States",
           "offsetgroup": "United States",
           "orientation": "h",
           "showlegend": true,
           "textposition": "auto",
           "type": "bar",
           "x": [
            71
           ],
           "xaxis": "x",
           "y": [
            "United States"
           ],
           "yaxis": "y"
          },
          {
           "alignmentgroup": "True",
           "hovertemplate": "Entity=%{y}<br>Year=2009<br>Individuals using the Internet (% of population)=%{x}<extra></extra>",
           "legendgroup": "France",
           "marker": {
            "color": "#6A82AB",
            "pattern": {
             "shape": ""
            }
           },
           "name": "France",
           "offsetgroup": "France",
           "orientation": "h",
           "showlegend": true,
           "textposition": "auto",
           "type": "bar",
           "x": [
            71.58000183105469
           ],
           "xaxis": "x",
           "y": [
            "France"
           ],
           "yaxis": "y"
          },
          {
           "alignmentgroup": "True",
           "hovertemplate": "Entity=%{y}<br>Year=2009<br>Individuals using the Internet (% of population)=%{x}<extra></extra>",
           "legendgroup": "Brazil",
           "marker": {
            "color": "#6A82AB",
            "pattern": {
             "shape": ""
            }
           },
           "name": "Brazil",
           "offsetgroup": "Brazil",
           "orientation": "h",
           "showlegend": true,
           "textposition": "auto",
           "type": "bar",
           "x": [
            39.220001220703125
           ],
           "xaxis": "x",
           "y": [
            "Brazil"
           ],
           "yaxis": "y"
          },
          {
           "alignmentgroup": "True",
           "hovertemplate": "Entity=%{y}<br>Year=2009<br>Individuals using the Internet (% of population)=%{x}<extra></extra>",
           "legendgroup": "China",
           "marker": {
            "color": "#6A82AB",
            "pattern": {
             "shape": ""
            }
           },
           "name": "China",
           "offsetgroup": "China",
           "orientation": "h",
           "showlegend": true,
           "textposition": "auto",
           "type": "bar",
           "x": [
            28.899999618530277
           ],
           "xaxis": "x",
           "y": [
            "China"
           ],
           "yaxis": "y"
          },
          {
           "alignmentgroup": "True",
           "hovertemplate": "Entity=%{y}<br>Year=2009<br>Individuals using the Internet (% of population)=%{x}<extra></extra>",
           "legendgroup": "World",
           "marker": {
            "color": "#6A82AB",
            "pattern": {
             "shape": ""
            }
           },
           "name": "World",
           "offsetgroup": "World",
           "orientation": "h",
           "showlegend": true,
           "textposition": "auto",
           "type": "bar",
           "x": [
            25.66851043701172
           ],
           "xaxis": "x",
           "y": [
            "World"
           ],
           "yaxis": "y"
          },
          {
           "alignmentgroup": "True",
           "hovertemplate": "Entity=%{y}<br>Year=2009<br>Individuals using the Internet (% of population)=%{x}<extra></extra>",
           "legendgroup": "India",
           "marker": {
            "color": "#6A82AB",
            "pattern": {
             "shape": ""
            }
           },
           "name": "India",
           "offsetgroup": "India",
           "orientation": "h",
           "showlegend": true,
           "textposition": "auto",
           "type": "bar",
           "x": [
            5.119999885559082
           ],
           "xaxis": "x",
           "y": [
            "India"
           ],
           "yaxis": "y"
          },
          {
           "alignmentgroup": "True",
           "hovertemplate": "Entity=%{y}<br>Year=2009<br>Individuals using the Internet (% of population)=%{x}<extra></extra>",
           "legendgroup": "Nigeria",
           "marker": {
            "color": "#6A82AB",
            "pattern": {
             "shape": ""
            }
           },
           "name": "Nigeria",
           "offsetgroup": "Nigeria",
           "orientation": "h",
           "showlegend": true,
           "textposition": "auto",
           "type": "bar",
           "x": [
            9.300000190734863
           ],
           "xaxis": "x",
           "y": [
            "Nigeria"
           ],
           "yaxis": "y"
          }
         ],
         "name": "2009"
        },
        {
         "data": [
          {
           "alignmentgroup": "True",
           "hovertemplate": "Entity=%{y}<br>Year=2008<br>Individuals using the Internet (% of population)=%{x}<extra></extra>",
           "legendgroup": "United Kingdom",
           "marker": {
            "color": "#6A82AB",
            "pattern": {
             "shape": ""
            }
           },
           "name": "United Kingdom",
           "offsetgroup": "United Kingdom",
           "orientation": "h",
           "showlegend": true,
           "textposition": "auto",
           "type": "bar",
           "x": [
            78.38999938964844
           ],
           "xaxis": "x",
           "y": [
            "United Kingdom"
           ],
           "yaxis": "y"
          },
          {
           "alignmentgroup": "True",
           "hovertemplate": "Entity=%{y}<br>Year=2008<br>Individuals using the Internet (% of population)=%{x}<extra></extra>",
           "legendgroup": "Japan",
           "marker": {
            "color": "#6A82AB",
            "pattern": {
             "shape": ""
            }
           },
           "name": "Japan",
           "offsetgroup": "Japan",
           "orientation": "h",
           "showlegend": true,
           "textposition": "auto",
           "type": "bar",
           "x": [
            75.4000015258789
           ],
           "xaxis": "x",
           "y": [
            "Japan"
           ],
           "yaxis": "y"
          },
          {
           "alignmentgroup": "True",
           "hovertemplate": "Entity=%{y}<br>Year=2008<br>Individuals using the Internet (% of population)=%{x}<extra></extra>",
           "legendgroup": "United States",
           "marker": {
            "color": "#D24B4E",
            "pattern": {
             "shape": ""
            }
           },
           "name": "United States",
           "offsetgroup": "United States",
           "orientation": "h",
           "showlegend": true,
           "textposition": "auto",
           "type": "bar",
           "x": [
            74
           ],
           "xaxis": "x",
           "y": [
            "United States"
           ],
           "yaxis": "y"
          },
          {
           "alignmentgroup": "True",
           "hovertemplate": "Entity=%{y}<br>Year=2008<br>Individuals using the Internet (% of population)=%{x}<extra></extra>",
           "legendgroup": "France",
           "marker": {
            "color": "#6A82AB",
            "pattern": {
             "shape": ""
            }
           },
           "name": "France",
           "offsetgroup": "France",
           "orientation": "h",
           "showlegend": true,
           "textposition": "auto",
           "type": "bar",
           "x": [
            70.68000030517578
           ],
           "xaxis": "x",
           "y": [
            "France"
           ],
           "yaxis": "y"
          },
          {
           "alignmentgroup": "True",
           "hovertemplate": "Entity=%{y}<br>Year=2008<br>Individuals using the Internet (% of population)=%{x}<extra></extra>",
           "legendgroup": "Brazil",
           "marker": {
            "color": "#6A82AB",
            "pattern": {
             "shape": ""
            }
           },
           "name": "Brazil",
           "offsetgroup": "Brazil",
           "orientation": "h",
           "showlegend": true,
           "textposition": "auto",
           "type": "bar",
           "x": [
            33.83000183105469
           ],
           "xaxis": "x",
           "y": [
            "Brazil"
           ],
           "yaxis": "y"
          },
          {
           "alignmentgroup": "True",
           "hovertemplate": "Entity=%{y}<br>Year=2008<br>Individuals using the Internet (% of population)=%{x}<extra></extra>",
           "legendgroup": "China",
           "marker": {
            "color": "#6A82AB",
            "pattern": {
             "shape": ""
            }
           },
           "name": "China",
           "offsetgroup": "China",
           "orientation": "h",
           "showlegend": true,
           "textposition": "auto",
           "type": "bar",
           "x": [
            22.600000381469727
           ],
           "xaxis": "x",
           "y": [
            "China"
           ],
           "yaxis": "y"
          },
          {
           "alignmentgroup": "True",
           "hovertemplate": "Entity=%{y}<br>Year=2008<br>Individuals using the Internet (% of population)=%{x}<extra></extra>",
           "legendgroup": "World",
           "marker": {
            "color": "#6A82AB",
            "pattern": {
             "shape": ""
            }
           },
           "name": "World",
           "offsetgroup": "World",
           "orientation": "h",
           "showlegend": true,
           "textposition": "auto",
           "type": "bar",
           "x": [
            23.092138290405277
           ],
           "xaxis": "x",
           "y": [
            "World"
           ],
           "yaxis": "y"
          },
          {
           "alignmentgroup": "True",
           "hovertemplate": "Entity=%{y}<br>Year=2008<br>Individuals using the Internet (% of population)=%{x}<extra></extra>",
           "legendgroup": "India",
           "marker": {
            "color": "#6A82AB",
            "pattern": {
             "shape": ""
            }
           },
           "name": "India",
           "offsetgroup": "India",
           "orientation": "h",
           "showlegend": true,
           "textposition": "auto",
           "type": "bar",
           "x": [
            4.380000114440918
           ],
           "xaxis": "x",
           "y": [
            "India"
           ],
           "yaxis": "y"
          },
          {
           "alignmentgroup": "True",
           "hovertemplate": "Entity=%{y}<br>Year=2008<br>Individuals using the Internet (% of population)=%{x}<extra></extra>",
           "legendgroup": "Nigeria",
           "marker": {
            "color": "#6A82AB",
            "pattern": {
             "shape": ""
            }
           },
           "name": "Nigeria",
           "offsetgroup": "Nigeria",
           "orientation": "h",
           "showlegend": true,
           "textposition": "auto",
           "type": "bar",
           "x": [
            8
           ],
           "xaxis": "x",
           "y": [
            "Nigeria"
           ],
           "yaxis": "y"
          }
         ],
         "name": "2008"
        },
        {
         "data": [
          {
           "alignmentgroup": "True",
           "hovertemplate": "Entity=%{y}<br>Year=2007<br>Individuals using the Internet (% of population)=%{x}<extra></extra>",
           "legendgroup": "United Kingdom",
           "marker": {
            "color": "#6A82AB",
            "pattern": {
             "shape": ""
            }
           },
           "name": "United Kingdom",
           "offsetgroup": "United Kingdom",
           "orientation": "h",
           "showlegend": true,
           "textposition": "auto",
           "type": "bar",
           "x": [
            75.08999633789062
           ],
           "xaxis": "x",
           "y": [
            "United Kingdom"
           ],
           "yaxis": "y"
          },
          {
           "alignmentgroup": "True",
           "hovertemplate": "Entity=%{y}<br>Year=2007<br>Individuals using the Internet (% of population)=%{x}<extra></extra>",
           "legendgroup": "Japan",
           "marker": {
            "color": "#6A82AB",
            "pattern": {
             "shape": ""
            }
           },
           "name": "Japan",
           "offsetgroup": "Japan",
           "orientation": "h",
           "showlegend": true,
           "textposition": "auto",
           "type": "bar",
           "x": [
            74.30000305175781
           ],
           "xaxis": "x",
           "y": [
            "Japan"
           ],
           "yaxis": "y"
          },
          {
           "alignmentgroup": "True",
           "hovertemplate": "Entity=%{y}<br>Year=2007<br>Individuals using the Internet (% of population)=%{x}<extra></extra>",
           "legendgroup": "United States",
           "marker": {
            "color": "#D24B4E",
            "pattern": {
             "shape": ""
            }
           },
           "name": "United States",
           "offsetgroup": "United States",
           "orientation": "h",
           "showlegend": true,
           "textposition": "auto",
           "type": "bar",
           "x": [
            75
           ],
           "xaxis": "x",
           "y": [
            "United States"
           ],
           "yaxis": "y"
          },
          {
           "alignmentgroup": "True",
           "hovertemplate": "Entity=%{y}<br>Year=2007<br>Individuals using the Internet (% of population)=%{x}<extra></extra>",
           "legendgroup": "France",
           "marker": {
            "color": "#6A82AB",
            "pattern": {
             "shape": ""
            }
           },
           "name": "France",
           "offsetgroup": "France",
           "orientation": "h",
           "showlegend": true,
           "textposition": "auto",
           "type": "bar",
           "x": [
            66.08999633789062
           ],
           "xaxis": "x",
           "y": [
            "France"
           ],
           "yaxis": "y"
          },
          {
           "alignmentgroup": "True",
           "hovertemplate": "Entity=%{y}<br>Year=2007<br>Individuals using the Internet (% of population)=%{x}<extra></extra>",
           "legendgroup": "Brazil",
           "marker": {
            "color": "#6A82AB",
            "pattern": {
             "shape": ""
            }
           },
           "name": "Brazil",
           "offsetgroup": "Brazil",
           "orientation": "h",
           "showlegend": true,
           "textposition": "auto",
           "type": "bar",
           "x": [
            30.8799991607666
           ],
           "xaxis": "x",
           "y": [
            "Brazil"
           ],
           "yaxis": "y"
          },
          {
           "alignmentgroup": "True",
           "hovertemplate": "Entity=%{y}<br>Year=2007<br>Individuals using the Internet (% of population)=%{x}<extra></extra>",
           "legendgroup": "China",
           "marker": {
            "color": "#6A82AB",
            "pattern": {
             "shape": ""
            }
           },
           "name": "China",
           "offsetgroup": "China",
           "orientation": "h",
           "showlegend": true,
           "textposition": "auto",
           "type": "bar",
           "x": [
            16
           ],
           "xaxis": "x",
           "y": [
            "China"
           ],
           "yaxis": "y"
          },
          {
           "alignmentgroup": "True",
           "hovertemplate": "Entity=%{y}<br>Year=2007<br>Individuals using the Internet (% of population)=%{x}<extra></extra>",
           "legendgroup": "World",
           "marker": {
            "color": "#6A82AB",
            "pattern": {
             "shape": ""
            }
           },
           "name": "World",
           "offsetgroup": "World",
           "orientation": "h",
           "showlegend": true,
           "textposition": "auto",
           "type": "bar",
           "x": [
            20.4029541015625
           ],
           "xaxis": "x",
           "y": [
            "World"
           ],
           "yaxis": "y"
          },
          {
           "alignmentgroup": "True",
           "hovertemplate": "Entity=%{y}<br>Year=2007<br>Individuals using the Internet (% of population)=%{x}<extra></extra>",
           "legendgroup": "India",
           "marker": {
            "color": "#6A82AB",
            "pattern": {
             "shape": ""
            }
           },
           "name": "India",
           "offsetgroup": "India",
           "orientation": "h",
           "showlegend": true,
           "textposition": "auto",
           "type": "bar",
           "x": [
            3.950000047683716
           ],
           "xaxis": "x",
           "y": [
            "India"
           ],
           "yaxis": "y"
          },
          {
           "alignmentgroup": "True",
           "hovertemplate": "Entity=%{y}<br>Year=2007<br>Individuals using the Internet (% of population)=%{x}<extra></extra>",
           "legendgroup": "Nigeria",
           "marker": {
            "color": "#6A82AB",
            "pattern": {
             "shape": ""
            }
           },
           "name": "Nigeria",
           "offsetgroup": "Nigeria",
           "orientation": "h",
           "showlegend": true,
           "textposition": "auto",
           "type": "bar",
           "x": [
            6.769999980926514
           ],
           "xaxis": "x",
           "y": [
            "Nigeria"
           ],
           "yaxis": "y"
          }
         ],
         "name": "2007"
        },
        {
         "data": [
          {
           "alignmentgroup": "True",
           "hovertemplate": "Entity=%{y}<br>Year=2005<br>Individuals using the Internet (% of population)=%{x}<extra></extra>",
           "legendgroup": "United Kingdom",
           "marker": {
            "color": "#6A82AB",
            "pattern": {
             "shape": ""
            }
           },
           "name": "United Kingdom",
           "offsetgroup": "United Kingdom",
           "orientation": "h",
           "showlegend": true,
           "textposition": "auto",
           "type": "bar",
           "x": [
            70
           ],
           "xaxis": "x",
           "y": [
            "United Kingdom"
           ],
           "yaxis": "y"
          },
          {
           "alignmentgroup": "True",
           "hovertemplate": "Entity=%{y}<br>Year=2005<br>Individuals using the Internet (% of population)=%{x}<extra></extra>",
           "legendgroup": "Japan",
           "marker": {
            "color": "#6A82AB",
            "pattern": {
             "shape": ""
            }
           },
           "name": "Japan",
           "offsetgroup": "Japan",
           "orientation": "h",
           "showlegend": true,
           "textposition": "auto",
           "type": "bar",
           "x": [
            66.92106628417969
           ],
           "xaxis": "x",
           "y": [
            "Japan"
           ],
           "yaxis": "y"
          },
          {
           "alignmentgroup": "True",
           "hovertemplate": "Entity=%{y}<br>Year=2005<br>Individuals using the Internet (% of population)=%{x}<extra></extra>",
           "legendgroup": "United States",
           "marker": {
            "color": "#D24B4E",
            "pattern": {
             "shape": ""
            }
           },
           "name": "United States",
           "offsetgroup": "United States",
           "orientation": "h",
           "showlegend": true,
           "textposition": "auto",
           "type": "bar",
           "x": [
            67.96805572509766
           ],
           "xaxis": "x",
           "y": [
            "United States"
           ],
           "yaxis": "y"
          },
          {
           "alignmentgroup": "True",
           "hovertemplate": "Entity=%{y}<br>Year=2005<br>Individuals using the Internet (% of population)=%{x}<extra></extra>",
           "legendgroup": "France",
           "marker": {
            "color": "#6A82AB",
            "pattern": {
             "shape": ""
            }
           },
           "name": "France",
           "offsetgroup": "France",
           "orientation": "h",
           "showlegend": true,
           "textposition": "auto",
           "type": "bar",
           "x": [
            42.869998931884766
           ],
           "xaxis": "x",
           "y": [
            "France"
           ],
           "yaxis": "y"
          },
          {
           "alignmentgroup": "True",
           "hovertemplate": "Entity=%{y}<br>Year=2005<br>Individuals using the Internet (% of population)=%{x}<extra></extra>",
           "legendgroup": "Brazil",
           "marker": {
            "color": "#6A82AB",
            "pattern": {
             "shape": ""
            }
           },
           "name": "Brazil",
           "offsetgroup": "Brazil",
           "orientation": "h",
           "showlegend": true,
           "textposition": "auto",
           "type": "bar",
           "x": [
            21.02274703979492
           ],
           "xaxis": "x",
           "y": [
            "Brazil"
           ],
           "yaxis": "y"
          },
          {
           "alignmentgroup": "True",
           "hovertemplate": "Entity=%{y}<br>Year=2005<br>Individuals using the Internet (% of population)=%{x}<extra></extra>",
           "legendgroup": "China",
           "marker": {
            "color": "#6A82AB",
            "pattern": {
             "shape": ""
            }
           },
           "name": "China",
           "offsetgroup": "China",
           "orientation": "h",
           "showlegend": true,
           "textposition": "auto",
           "type": "bar",
           "x": [
            8.5232572555542
           ],
           "xaxis": "x",
           "y": [
            "China"
           ],
           "yaxis": "y"
          },
          {
           "alignmentgroup": "True",
           "hovertemplate": "Entity=%{y}<br>Year=2005<br>Individuals using the Internet (% of population)=%{x}<extra></extra>",
           "legendgroup": "World",
           "marker": {
            "color": "#6A82AB",
            "pattern": {
             "shape": ""
            }
           },
           "name": "World",
           "offsetgroup": "World",
           "orientation": "h",
           "showlegend": true,
           "textposition": "auto",
           "type": "bar",
           "x": [
            15.696121215820312
           ],
           "xaxis": "x",
           "y": [
            "World"
           ],
           "yaxis": "y"
          },
          {
           "alignmentgroup": "True",
           "hovertemplate": "Entity=%{y}<br>Year=2005<br>Individuals using the Internet (% of population)=%{x}<extra></extra>",
           "legendgroup": "India",
           "marker": {
            "color": "#6A82AB",
            "pattern": {
             "shape": ""
            }
           },
           "name": "India",
           "offsetgroup": "India",
           "orientation": "h",
           "showlegend": true,
           "textposition": "auto",
           "type": "bar",
           "x": [
            2.388075113296509
           ],
           "xaxis": "x",
           "y": [
            "India"
           ],
           "yaxis": "y"
          },
          {
           "alignmentgroup": "True",
           "hovertemplate": "Entity=%{y}<br>Year=2005<br>Individuals using the Internet (% of population)=%{x}<extra></extra>",
           "legendgroup": "Nigeria",
           "marker": {
            "color": "#6A82AB",
            "pattern": {
             "shape": ""
            }
           },
           "name": "Nigeria",
           "offsetgroup": "Nigeria",
           "orientation": "h",
           "showlegend": true,
           "textposition": "auto",
           "type": "bar",
           "x": [
            3.549155712127685
           ],
           "xaxis": "x",
           "y": [
            "Nigeria"
           ],
           "yaxis": "y"
          }
         ],
         "name": "2005"
        },
        {
         "data": [
          {
           "alignmentgroup": "True",
           "hovertemplate": "Entity=%{y}<br>Year=2006<br>Individuals using the Internet (% of population)=%{x}<extra></extra>",
           "legendgroup": "United Kingdom",
           "marker": {
            "color": "#6A82AB",
            "pattern": {
             "shape": ""
            }
           },
           "name": "United Kingdom",
           "offsetgroup": "United Kingdom",
           "orientation": "h",
           "showlegend": true,
           "textposition": "auto",
           "type": "bar",
           "x": [
            68.81999969482422
           ],
           "xaxis": "x",
           "y": [
            "United Kingdom"
           ],
           "yaxis": "y"
          },
          {
           "alignmentgroup": "True",
           "hovertemplate": "Entity=%{y}<br>Year=2006<br>Individuals using the Internet (% of population)=%{x}<extra></extra>",
           "legendgroup": "Japan",
           "marker": {
            "color": "#6A82AB",
            "pattern": {
             "shape": ""
            }
           },
           "name": "Japan",
           "offsetgroup": "Japan",
           "orientation": "h",
           "showlegend": true,
           "textposition": "auto",
           "type": "bar",
           "x": [
            68.68527221679688
           ],
           "xaxis": "x",
           "y": [
            "Japan"
           ],
           "yaxis": "y"
          },
          {
           "alignmentgroup": "True",
           "hovertemplate": "Entity=%{y}<br>Year=2006<br>Individuals using the Internet (% of population)=%{x}<extra></extra>",
           "legendgroup": "United States",
           "marker": {
            "color": "#D24B4E",
            "pattern": {
             "shape": ""
            }
           },
           "name": "United States",
           "offsetgroup": "United States",
           "orientation": "h",
           "showlegend": true,
           "textposition": "auto",
           "type": "bar",
           "x": [
            68.93119049072266
           ],
           "xaxis": "x",
           "y": [
            "United States"
           ],
           "yaxis": "y"
          },
          {
           "alignmentgroup": "True",
           "hovertemplate": "Entity=%{y}<br>Year=2006<br>Individuals using the Internet (% of population)=%{x}<extra></extra>",
           "legendgroup": "France",
           "marker": {
            "color": "#6A82AB",
            "pattern": {
             "shape": ""
            }
           },
           "name": "France",
           "offsetgroup": "France",
           "orientation": "h",
           "showlegend": true,
           "textposition": "auto",
           "type": "bar",
           "x": [
            46.869998931884766
           ],
           "xaxis": "x",
           "y": [
            "France"
           ],
           "yaxis": "y"
          },
          {
           "alignmentgroup": "True",
           "hovertemplate": "Entity=%{y}<br>Year=2006<br>Individuals using the Internet (% of population)=%{x}<extra></extra>",
           "legendgroup": "Brazil",
           "marker": {
            "color": "#6A82AB",
            "pattern": {
             "shape": ""
            }
           },
           "name": "Brazil",
           "offsetgroup": "Brazil",
           "orientation": "h",
           "showlegend": true,
           "textposition": "auto",
           "type": "bar",
           "x": [
            28.178380966186523
           ],
           "xaxis": "x",
           "y": [
            "Brazil"
           ],
           "yaxis": "y"
          },
          {
           "alignmentgroup": "True",
           "hovertemplate": "Entity=%{y}<br>Year=2006<br>Individuals using the Internet (% of population)=%{x}<extra></extra>",
           "legendgroup": "China",
           "marker": {
            "color": "#6A82AB",
            "pattern": {
             "shape": ""
            }
           },
           "name": "China",
           "offsetgroup": "China",
           "orientation": "h",
           "showlegend": true,
           "textposition": "auto",
           "type": "bar",
           "x": [
            10.523152351379396
           ],
           "xaxis": "x",
           "y": [
            "China"
           ],
           "yaxis": "y"
          },
          {
           "alignmentgroup": "True",
           "hovertemplate": "Entity=%{y}<br>Year=2006<br>Individuals using the Internet (% of population)=%{x}<extra></extra>",
           "legendgroup": "World",
           "marker": {
            "color": "#6A82AB",
            "pattern": {
             "shape": ""
            }
           },
           "name": "World",
           "offsetgroup": "World",
           "orientation": "h",
           "showlegend": true,
           "textposition": "auto",
           "type": "bar",
           "x": [
            17.474918365478516
           ],
           "xaxis": "x",
           "y": [
            "World"
           ],
           "yaxis": "y"
          },
          {
           "alignmentgroup": "True",
           "hovertemplate": "Entity=%{y}<br>Year=2006<br>Individuals using the Internet (% of population)=%{x}<extra></extra>",
           "legendgroup": "India",
           "marker": {
            "color": "#6A82AB",
            "pattern": {
             "shape": ""
            }
           },
           "name": "India",
           "offsetgroup": "India",
           "orientation": "h",
           "showlegend": true,
           "textposition": "auto",
           "type": "bar",
           "x": [
            2.805499792098999
           ],
           "xaxis": "x",
           "y": [
            "India"
           ],
           "yaxis": "y"
          },
          {
           "alignmentgroup": "True",
           "hovertemplate": "Entity=%{y}<br>Year=2006<br>Individuals using the Internet (% of population)=%{x}<extra></extra>",
           "legendgroup": "Nigeria",
           "marker": {
            "color": "#6A82AB",
            "pattern": {
             "shape": ""
            }
           },
           "name": "Nigeria",
           "offsetgroup": "Nigeria",
           "orientation": "h",
           "showlegend": true,
           "textposition": "auto",
           "type": "bar",
           "x": [
            5.545036315917969
           ],
           "xaxis": "x",
           "y": [
            "Nigeria"
           ],
           "yaxis": "y"
          }
         ],
         "name": "2006"
        },
        {
         "data": [
          {
           "alignmentgroup": "True",
           "hovertemplate": "Entity=%{y}<br>Year=2004<br>Individuals using the Internet (% of population)=%{x}<extra></extra>",
           "legendgroup": "United Kingdom",
           "marker": {
            "color": "#6A82AB",
            "pattern": {
             "shape": ""
            }
           },
           "name": "United Kingdom",
           "offsetgroup": "United Kingdom",
           "orientation": "h",
           "showlegend": true,
           "textposition": "auto",
           "type": "bar",
           "x": [
            65.61000061035156
           ],
           "xaxis": "x",
           "y": [
            "United Kingdom"
           ],
           "yaxis": "y"
          },
          {
           "alignmentgroup": "True",
           "hovertemplate": "Entity=%{y}<br>Year=2004<br>Individuals using the Internet (% of population)=%{x}<extra></extra>",
           "legendgroup": "Japan",
           "marker": {
            "color": "#6A82AB",
            "pattern": {
             "shape": ""
            }
           },
           "name": "Japan",
           "offsetgroup": "Japan",
           "orientation": "h",
           "showlegend": true,
           "textposition": "auto",
           "type": "bar",
           "x": [
            62.39392852783203
           ],
           "xaxis": "x",
           "y": [
            "Japan"
           ],
           "yaxis": "y"
          },
          {
           "alignmentgroup": "True",
           "hovertemplate": "Entity=%{y}<br>Year=2004<br>Individuals using the Internet (% of population)=%{x}<extra></extra>",
           "legendgroup": "United States",
           "marker": {
            "color": "#D24B4E",
            "pattern": {
             "shape": ""
            }
           },
           "name": "United States",
           "offsetgroup": "United States",
           "orientation": "h",
           "showlegend": true,
           "textposition": "auto",
           "type": "bar",
           "x": [
            64.75825500488281
           ],
           "xaxis": "x",
           "y": [
            "United States"
           ],
           "yaxis": "y"
          },
          {
           "alignmentgroup": "True",
           "hovertemplate": "Entity=%{y}<br>Year=2004<br>Individuals using the Internet (% of population)=%{x}<extra></extra>",
           "legendgroup": "France",
           "marker": {
            "color": "#6A82AB",
            "pattern": {
             "shape": ""
            }
           },
           "name": "France",
           "offsetgroup": "France",
           "orientation": "h",
           "showlegend": true,
           "textposition": "auto",
           "type": "bar",
           "x": [
            39.150001525878906
           ],
           "xaxis": "x",
           "y": [
            "France"
           ],
           "yaxis": "y"
          },
          {
           "alignmentgroup": "True",
           "hovertemplate": "Entity=%{y}<br>Year=2004<br>Individuals using the Internet (% of population)=%{x}<extra></extra>",
           "legendgroup": "Brazil",
           "marker": {
            "color": "#6A82AB",
            "pattern": {
             "shape": ""
            }
           },
           "name": "Brazil",
           "offsetgroup": "Brazil",
           "orientation": "h",
           "showlegend": true,
           "textposition": "auto",
           "type": "bar",
           "x": [
            19.073671340942383
           ],
           "xaxis": "x",
           "y": [
            "Brazil"
           ],
           "yaxis": "y"
          },
          {
           "alignmentgroup": "True",
           "hovertemplate": "Entity=%{y}<br>Year=2004<br>Individuals using the Internet (% of population)=%{x}<extra></extra>",
           "legendgroup": "China",
           "marker": {
            "color": "#6A82AB",
            "pattern": {
             "shape": ""
            }
           },
           "name": "China",
           "offsetgroup": "China",
           "orientation": "h",
           "showlegend": true,
           "textposition": "auto",
           "type": "bar",
           "x": [
            7.300000190734863
           ],
           "xaxis": "x",
           "y": [
            "China"
           ],
           "yaxis": "y"
          },
          {
           "alignmentgroup": "True",
           "hovertemplate": "Entity=%{y}<br>Year=2004<br>Individuals using the Internet (% of population)=%{x}<extra></extra>",
           "legendgroup": "World",
           "marker": {
            "color": "#6A82AB",
            "pattern": {
             "shape": ""
            }
           },
           "name": "World",
           "offsetgroup": "World",
           "orientation": "h",
           "showlegend": true,
           "textposition": "auto",
           "type": "bar",
           "x": [
            14.095365524291992
           ],
           "xaxis": "x",
           "y": [
            "World"
           ],
           "yaxis": "y"
          },
          {
           "alignmentgroup": "True",
           "hovertemplate": "Entity=%{y}<br>Year=2004<br>Individuals using the Internet (% of population)=%{x}<extra></extra>",
           "legendgroup": "India",
           "marker": {
            "color": "#6A82AB",
            "pattern": {
             "shape": ""
            }
           },
           "name": "India",
           "offsetgroup": "India",
           "orientation": "h",
           "showlegend": true,
           "textposition": "auto",
           "type": "bar",
           "x": [
            1.9761364459991453
           ],
           "xaxis": "x",
           "y": [
            "India"
           ],
           "yaxis": "y"
          },
          {
           "alignmentgroup": "True",
           "hovertemplate": "Entity=%{y}<br>Year=2004<br>Individuals using the Internet (% of population)=%{x}<extra></extra>",
           "legendgroup": "Nigeria",
           "marker": {
            "color": "#6A82AB",
            "pattern": {
             "shape": ""
            }
           },
           "name": "Nigeria",
           "offsetgroup": "Nigeria",
           "orientation": "h",
           "showlegend": true,
           "textposition": "auto",
           "type": "bar",
           "x": [
            1.2861377000808716
           ],
           "xaxis": "x",
           "y": [
            "Nigeria"
           ],
           "yaxis": "y"
          }
         ],
         "name": "2004"
        },
        {
         "data": [
          {
           "alignmentgroup": "True",
           "hovertemplate": "Entity=%{y}<br>Year=2003<br>Individuals using the Internet (% of population)=%{x}<extra></extra>",
           "legendgroup": "United Kingdom",
           "marker": {
            "color": "#6A82AB",
            "pattern": {
             "shape": ""
            }
           },
           "name": "United Kingdom",
           "offsetgroup": "United Kingdom",
           "orientation": "h",
           "showlegend": true,
           "textposition": "auto",
           "type": "bar",
           "x": [
            64.81999969482422
           ],
           "xaxis": "x",
           "y": [
            "United Kingdom"
           ],
           "yaxis": "y"
          },
          {
           "alignmentgroup": "True",
           "hovertemplate": "Entity=%{y}<br>Year=2003<br>Individuals using the Internet (% of population)=%{x}<extra></extra>",
           "legendgroup": "Japan",
           "marker": {
            "color": "#6A82AB",
            "pattern": {
             "shape": ""
            }
           },
           "name": "Japan",
           "offsetgroup": "Japan",
           "orientation": "h",
           "showlegend": true,
           "textposition": "auto",
           "type": "bar",
           "x": [
            48.43526458740234
           ],
           "xaxis": "x",
           "y": [
            "Japan"
           ],
           "yaxis": "y"
          },
          {
           "alignmentgroup": "True",
           "hovertemplate": "Entity=%{y}<br>Year=2003<br>Individuals using the Internet (% of population)=%{x}<extra></extra>",
           "legendgroup": "United States",
           "marker": {
            "color": "#D24B4E",
            "pattern": {
             "shape": ""
            }
           },
           "name": "United States",
           "offsetgroup": "United States",
           "orientation": "h",
           "showlegend": true,
           "textposition": "auto",
           "type": "bar",
           "x": [
            61.69711685180664
           ],
           "xaxis": "x",
           "y": [
            "United States"
           ],
           "yaxis": "y"
          },
          {
           "alignmentgroup": "True",
           "hovertemplate": "Entity=%{y}<br>Year=2003<br>Individuals using the Internet (% of population)=%{x}<extra></extra>",
           "legendgroup": "France",
           "marker": {
            "color": "#6A82AB",
            "pattern": {
             "shape": ""
            }
           },
           "name": "France",
           "offsetgroup": "France",
           "orientation": "h",
           "showlegend": true,
           "textposition": "auto",
           "type": "bar",
           "x": [
            36.13999938964844
           ],
           "xaxis": "x",
           "y": [
            "France"
           ],
           "yaxis": "y"
          },
          {
           "alignmentgroup": "True",
           "hovertemplate": "Entity=%{y}<br>Year=2003<br>Individuals using the Internet (% of population)=%{x}<extra></extra>",
           "legendgroup": "Brazil",
           "marker": {
            "color": "#6A82AB",
            "pattern": {
             "shape": ""
            }
           },
           "name": "Brazil",
           "offsetgroup": "Brazil",
           "orientation": "h",
           "showlegend": true,
           "textposition": "auto",
           "type": "bar",
           "x": [
            13.207586288452148
           ],
           "xaxis": "x",
           "y": [
            "Brazil"
           ],
           "yaxis": "y"
          },
          {
           "alignmentgroup": "True",
           "hovertemplate": "Entity=%{y}<br>Year=2003<br>Individuals using the Internet (% of population)=%{x}<extra></extra>",
           "legendgroup": "China",
           "marker": {
            "color": "#6A82AB",
            "pattern": {
             "shape": ""
            }
           },
           "name": "China",
           "offsetgroup": "China",
           "orientation": "h",
           "showlegend": true,
           "textposition": "auto",
           "type": "bar",
           "x": [
            6.199999809265137
           ],
           "xaxis": "x",
           "y": [
            "China"
           ],
           "yaxis": "y"
          },
          {
           "alignmentgroup": "True",
           "hovertemplate": "Entity=%{y}<br>Year=2003<br>Individuals using the Internet (% of population)=%{x}<extra></extra>",
           "legendgroup": "World",
           "marker": {
            "color": "#6A82AB",
            "pattern": {
             "shape": ""
            }
           },
           "name": "World",
           "offsetgroup": "World",
           "orientation": "h",
           "showlegend": true,
           "textposition": "auto",
           "type": "bar",
           "x": [
            12.20860195159912
           ],
           "xaxis": "x",
           "y": [
            "World"
           ],
           "yaxis": "y"
          },
          {
           "alignmentgroup": "True",
           "hovertemplate": "Entity=%{y}<br>Year=2003<br>Individuals using the Internet (% of population)=%{x}<extra></extra>",
           "legendgroup": "India",
           "marker": {
            "color": "#6A82AB",
            "pattern": {
             "shape": ""
            }
           },
           "name": "India",
           "offsetgroup": "India",
           "orientation": "h",
           "showlegend": true,
           "textposition": "auto",
           "type": "bar",
           "x": [
            1.6864899396896362
           ],
           "xaxis": "x",
           "y": [
            "India"
           ],
           "yaxis": "y"
          },
          {
           "alignmentgroup": "True",
           "hovertemplate": "Entity=%{y}<br>Year=2003<br>Individuals using the Internet (% of population)=%{x}<extra></extra>",
           "legendgroup": "Nigeria",
           "marker": {
            "color": "#6A82AB",
            "pattern": {
             "shape": ""
            }
           },
           "name": "Nigeria",
           "offsetgroup": "Nigeria",
           "orientation": "h",
           "showlegend": true,
           "textposition": "auto",
           "type": "bar",
           "x": [
            0.558576226234436
           ],
           "xaxis": "x",
           "y": [
            "Nigeria"
           ],
           "yaxis": "y"
          }
         ],
         "name": "2003"
        },
        {
         "data": [
          {
           "alignmentgroup": "True",
           "hovertemplate": "Entity=%{y}<br>Year=2002<br>Individuals using the Internet (% of population)=%{x}<extra></extra>",
           "legendgroup": "United Kingdom",
           "marker": {
            "color": "#6A82AB",
            "pattern": {
             "shape": ""
            }
           },
           "name": "United Kingdom",
           "offsetgroup": "United Kingdom",
           "orientation": "h",
           "showlegend": true,
           "textposition": "auto",
           "type": "bar",
           "x": [
            56.47999954223633
           ],
           "xaxis": "x",
           "y": [
            "United Kingdom"
           ],
           "yaxis": "y"
          },
          {
           "alignmentgroup": "True",
           "hovertemplate": "Entity=%{y}<br>Year=2002<br>Individuals using the Internet (% of population)=%{x}<extra></extra>",
           "legendgroup": "Japan",
           "marker": {
            "color": "#6A82AB",
            "pattern": {
             "shape": ""
            }
           },
           "name": "Japan",
           "offsetgroup": "Japan",
           "orientation": "h",
           "showlegend": true,
           "textposition": "auto",
           "type": "bar",
           "x": [
            46.594200134277344
           ],
           "xaxis": "x",
           "y": [
            "Japan"
           ],
           "yaxis": "y"
          },
          {
           "alignmentgroup": "True",
           "hovertemplate": "Entity=%{y}<br>Year=2002<br>Individuals using the Internet (% of population)=%{x}<extra></extra>",
           "legendgroup": "United States",
           "marker": {
            "color": "#D24B4E",
            "pattern": {
             "shape": ""
            }
           },
           "name": "United States",
           "offsetgroup": "United States",
           "orientation": "h",
           "showlegend": true,
           "textposition": "auto",
           "type": "bar",
           "x": [
            58.785404205322266
           ],
           "xaxis": "x",
           "y": [
            "United States"
           ],
           "yaxis": "y"
          },
          {
           "alignmentgroup": "True",
           "hovertemplate": "Entity=%{y}<br>Year=2002<br>Individuals using the Internet (% of population)=%{x}<extra></extra>",
           "legendgroup": "France",
           "marker": {
            "color": "#6A82AB",
            "pattern": {
             "shape": ""
            }
           },
           "name": "France",
           "offsetgroup": "France",
           "orientation": "h",
           "showlegend": true,
           "textposition": "auto",
           "type": "bar",
           "x": [
            30.18000030517578
           ],
           "xaxis": "x",
           "y": [
            "France"
           ],
           "yaxis": "y"
          },
          {
           "alignmentgroup": "True",
           "hovertemplate": "Entity=%{y}<br>Year=2002<br>Individuals using the Internet (% of population)=%{x}<extra></extra>",
           "legendgroup": "Brazil",
           "marker": {
            "color": "#6A82AB",
            "pattern": {
             "shape": ""
            }
           },
           "name": "Brazil",
           "offsetgroup": "Brazil",
           "orientation": "h",
           "showlegend": true,
           "textposition": "auto",
           "type": "bar",
           "x": [
            9.149425506591797
           ],
           "xaxis": "x",
           "y": [
            "Brazil"
           ],
           "yaxis": "y"
          },
          {
           "alignmentgroup": "True",
           "hovertemplate": "Entity=%{y}<br>Year=2002<br>Individuals using the Internet (% of population)=%{x}<extra></extra>",
           "legendgroup": "China",
           "marker": {
            "color": "#6A82AB",
            "pattern": {
             "shape": ""
            }
           },
           "name": "China",
           "offsetgroup": "China",
           "orientation": "h",
           "showlegend": true,
           "textposition": "auto",
           "type": "bar",
           "x": [
            4.595704555511475
           ],
           "xaxis": "x",
           "y": [
            "China"
           ],
           "yaxis": "y"
          },
          {
           "alignmentgroup": "True",
           "hovertemplate": "Entity=%{y}<br>Year=2002<br>Individuals using the Internet (% of population)=%{x}<extra></extra>",
           "legendgroup": "World",
           "marker": {
            "color": "#6A82AB",
            "pattern": {
             "shape": ""
            }
           },
           "name": "World",
           "offsetgroup": "World",
           "orientation": "h",
           "showlegend": true,
           "textposition": "auto",
           "type": "bar",
           "x": [
            10.527289390563965
           ],
           "xaxis": "x",
           "y": [
            "World"
           ],
           "yaxis": "y"
          },
          {
           "alignmentgroup": "True",
           "hovertemplate": "Entity=%{y}<br>Year=2002<br>Individuals using the Internet (% of population)=%{x}<extra></extra>",
           "legendgroup": "India",
           "marker": {
            "color": "#6A82AB",
            "pattern": {
             "shape": ""
            }
           },
           "name": "India",
           "offsetgroup": "India",
           "orientation": "h",
           "showlegend": true,
           "textposition": "auto",
           "type": "bar",
           "x": [
            1.5378755331039429
           ],
           "xaxis": "x",
           "y": [
            "India"
           ],
           "yaxis": "y"
          },
          {
           "alignmentgroup": "True",
           "hovertemplate": "Entity=%{y}<br>Year=2002<br>Individuals using the Internet (% of population)=%{x}<extra></extra>",
           "legendgroup": "Nigeria",
           "marker": {
            "color": "#6A82AB",
            "pattern": {
             "shape": ""
            }
           },
           "name": "Nigeria",
           "offsetgroup": "Nigeria",
           "orientation": "h",
           "showlegend": true,
           "textposition": "auto",
           "type": "bar",
           "x": [
            0.3204619884490967
           ],
           "xaxis": "x",
           "y": [
            "Nigeria"
           ],
           "yaxis": "y"
          }
         ],
         "name": "2002"
        },
        {
         "data": [
          {
           "alignmentgroup": "True",
           "hovertemplate": "Entity=%{y}<br>Year=2001<br>Individuals using the Internet (% of population)=%{x}<extra></extra>",
           "legendgroup": "United Kingdom",
           "marker": {
            "color": "#6A82AB",
            "pattern": {
             "shape": ""
            }
           },
           "name": "United Kingdom",
           "offsetgroup": "United Kingdom",
           "orientation": "h",
           "showlegend": true,
           "textposition": "auto",
           "type": "bar",
           "x": [
            33.48109436035156
           ],
           "xaxis": "x",
           "y": [
            "United Kingdom"
           ],
           "yaxis": "y"
          },
          {
           "alignmentgroup": "True",
           "hovertemplate": "Entity=%{y}<br>Year=2001<br>Individuals using the Internet (% of population)=%{x}<extra></extra>",
           "legendgroup": "Japan",
           "marker": {
            "color": "#6A82AB",
            "pattern": {
             "shape": ""
            }
           },
           "name": "Japan",
           "offsetgroup": "Japan",
           "orientation": "h",
           "showlegend": true,
           "textposition": "auto",
           "type": "bar",
           "x": [
            38.53206253051758
           ],
           "xaxis": "x",
           "y": [
            "Japan"
           ],
           "yaxis": "y"
          },
          {
           "alignmentgroup": "True",
           "hovertemplate": "Entity=%{y}<br>Year=2001<br>Individuals using the Internet (% of population)=%{x}<extra></extra>",
           "legendgroup": "United States",
           "marker": {
            "color": "#D24B4E",
            "pattern": {
             "shape": ""
            }
           },
           "name": "United States",
           "offsetgroup": "United States",
           "orientation": "h",
           "showlegend": true,
           "textposition": "auto",
           "type": "bar",
           "x": [
            49.080833435058594
           ],
           "xaxis": "x",
           "y": [
            "United States"
           ],
           "yaxis": "y"
          },
          {
           "alignmentgroup": "True",
           "hovertemplate": "Entity=%{y}<br>Year=2001<br>Individuals using the Internet (% of population)=%{x}<extra></extra>",
           "legendgroup": "France",
           "marker": {
            "color": "#6A82AB",
            "pattern": {
             "shape": ""
            }
           },
           "name": "France",
           "offsetgroup": "France",
           "orientation": "h",
           "showlegend": true,
           "textposition": "auto",
           "type": "bar",
           "x": [
            26.325902938842773
           ],
           "xaxis": "x",
           "y": [
            "France"
           ],
           "yaxis": "y"
          },
          {
           "alignmentgroup": "True",
           "hovertemplate": "Entity=%{y}<br>Year=2001<br>Individuals using the Internet (% of population)=%{x}<extra></extra>",
           "legendgroup": "Brazil",
           "marker": {
            "color": "#6A82AB",
            "pattern": {
             "shape": ""
            }
           },
           "name": "Brazil",
           "offsetgroup": "Brazil",
           "orientation": "h",
           "showlegend": true,
           "textposition": "auto",
           "type": "bar",
           "x": [
            4.528494834899902
           ],
           "xaxis": "x",
           "y": [
            "Brazil"
           ],
           "yaxis": "y"
          },
          {
           "alignmentgroup": "True",
           "hovertemplate": "Entity=%{y}<br>Year=2001<br>Individuals using the Internet (% of population)=%{x}<extra></extra>",
           "legendgroup": "China",
           "marker": {
            "color": "#6A82AB",
            "pattern": {
             "shape": ""
            }
           },
           "name": "China",
           "offsetgroup": "China",
           "orientation": "h",
           "showlegend": true,
           "textposition": "auto",
           "type": "bar",
           "x": [
            2.6396501064300537
           ],
           "xaxis": "x",
           "y": [
            "China"
           ],
           "yaxis": "y"
          },
          {
           "alignmentgroup": "True",
           "hovertemplate": "Entity=%{y}<br>Year=2001<br>Individuals using the Internet (% of population)=%{x}<extra></extra>",
           "legendgroup": "World",
           "marker": {
            "color": "#6A82AB",
            "pattern": {
             "shape": ""
            }
           },
           "name": "World",
           "offsetgroup": "World",
           "orientation": "h",
           "showlegend": true,
           "textposition": "auto",
           "type": "bar",
           "x": [
            8.057604789733887
           ],
           "xaxis": "x",
           "y": [
            "World"
           ],
           "yaxis": "y"
          },
          {
           "alignmentgroup": "True",
           "hovertemplate": "Entity=%{y}<br>Year=2001<br>Individuals using the Internet (% of population)=%{x}<extra></extra>",
           "legendgroup": "India",
           "marker": {
            "color": "#6A82AB",
            "pattern": {
             "shape": ""
            }
           },
           "name": "India",
           "offsetgroup": "India",
           "orientation": "h",
           "showlegend": true,
           "textposition": "auto",
           "type": "bar",
           "x": [
            0.6601463556289673
           ],
           "xaxis": "x",
           "y": [
            "India"
           ],
           "yaxis": "y"
          },
          {
           "alignmentgroup": "True",
           "hovertemplate": "Entity=%{y}<br>Year=2001<br>Individuals using the Internet (% of population)=%{x}<extra></extra>",
           "legendgroup": "Nigeria",
           "marker": {
            "color": "#6A82AB",
            "pattern": {
             "shape": ""
            }
           },
           "name": "Nigeria",
           "offsetgroup": "Nigeria",
           "orientation": "h",
           "showlegend": true,
           "textposition": "auto",
           "type": "bar",
           "x": [
            0.0899013727903366
           ],
           "xaxis": "x",
           "y": [
            "Nigeria"
           ],
           "yaxis": "y"
          }
         ],
         "name": "2001"
        },
        {
         "data": [
          {
           "alignmentgroup": "True",
           "hovertemplate": "Entity=%{y}<br>Year=2000<br>Individuals using the Internet (% of population)=%{x}<extra></extra>",
           "legendgroup": "United Kingdom",
           "marker": {
            "color": "#6A82AB",
            "pattern": {
             "shape": ""
            }
           },
           "name": "United Kingdom",
           "offsetgroup": "United Kingdom",
           "orientation": "h",
           "showlegend": true,
           "textposition": "auto",
           "type": "bar",
           "x": [
            26.821754455566406
           ],
           "xaxis": "x",
           "y": [
            "United Kingdom"
           ],
           "yaxis": "y"
          },
          {
           "alignmentgroup": "True",
           "hovertemplate": "Entity=%{y}<br>Year=2000<br>Individuals using the Internet (% of population)=%{x}<extra></extra>",
           "legendgroup": "Japan",
           "marker": {
            "color": "#6A82AB",
            "pattern": {
             "shape": ""
            }
           },
           "name": "Japan",
           "offsetgroup": "Japan",
           "orientation": "h",
           "showlegend": true,
           "textposition": "auto",
           "type": "bar",
           "x": [
            29.99073982238769
           ],
           "xaxis": "x",
           "y": [
            "Japan"
           ],
           "yaxis": "y"
          },
          {
           "alignmentgroup": "True",
           "hovertemplate": "Entity=%{y}<br>Year=2000<br>Individuals using the Internet (% of population)=%{x}<extra></extra>",
           "legendgroup": "United States",
           "marker": {
            "color": "#D24B4E",
            "pattern": {
             "shape": ""
            }
           },
           "name": "United States",
           "offsetgroup": "United States",
           "orientation": "h",
           "showlegend": true,
           "textposition": "auto",
           "type": "bar",
           "x": [
            43.07916259765625
           ],
           "xaxis": "x",
           "y": [
            "United States"
           ],
           "yaxis": "y"
          },
          {
           "alignmentgroup": "True",
           "hovertemplate": "Entity=%{y}<br>Year=2000<br>Individuals using the Internet (% of population)=%{x}<extra></extra>",
           "legendgroup": "France",
           "marker": {
            "color": "#6A82AB",
            "pattern": {
             "shape": ""
            }
           },
           "name": "France",
           "offsetgroup": "France",
           "orientation": "h",
           "showlegend": true,
           "textposition": "auto",
           "type": "bar",
           "x": [
            14.307924270629885
           ],
           "xaxis": "x",
           "y": [
            "France"
           ],
           "yaxis": "y"
          },
          {
           "alignmentgroup": "True",
           "hovertemplate": "Entity=%{y}<br>Year=2000<br>Individuals using the Internet (% of population)=%{x}<extra></extra>",
           "legendgroup": "Brazil",
           "marker": {
            "color": "#6A82AB",
            "pattern": {
             "shape": ""
            }
           },
           "name": "Brazil",
           "offsetgroup": "Brazil",
           "orientation": "h",
           "showlegend": true,
           "textposition": "auto",
           "type": "bar",
           "x": [
            2.87068510055542
           ],
           "xaxis": "x",
           "y": [
            "Brazil"
           ],
           "yaxis": "y"
          },
          {
           "alignmentgroup": "True",
           "hovertemplate": "Entity=%{y}<br>Year=2000<br>Individuals using the Internet (% of population)=%{x}<extra></extra>",
           "legendgroup": "China",
           "marker": {
            "color": "#6A82AB",
            "pattern": {
             "shape": ""
            }
           },
           "name": "China",
           "offsetgroup": "China",
           "orientation": "h",
           "showlegend": true,
           "textposition": "auto",
           "type": "bar",
           "x": [
            1.7759132385253906
           ],
           "xaxis": "x",
           "y": [
            "China"
           ],
           "yaxis": "y"
          },
          {
           "alignmentgroup": "True",
           "hovertemplate": "Entity=%{y}<br>Year=2000<br>Individuals using the Internet (% of population)=%{x}<extra></extra>",
           "legendgroup": "World",
           "marker": {
            "color": "#6A82AB",
            "pattern": {
             "shape": ""
            }
           },
           "name": "World",
           "offsetgroup": "World",
           "orientation": "h",
           "showlegend": true,
           "textposition": "auto",
           "type": "bar",
           "x": [
            6.733119010925293
           ],
           "xaxis": "x",
           "y": [
            "World"
           ],
           "yaxis": "y"
          },
          {
           "alignmentgroup": "True",
           "hovertemplate": "Entity=%{y}<br>Year=2000<br>Individuals using the Internet (% of population)=%{x}<extra></extra>",
           "legendgroup": "India",
           "marker": {
            "color": "#6A82AB",
            "pattern": {
             "shape": ""
            }
           },
           "name": "India",
           "offsetgroup": "India",
           "orientation": "h",
           "showlegend": true,
           "textposition": "auto",
           "type": "bar",
           "x": [
            0.5275324583053589
           ],
           "xaxis": "x",
           "y": [
            "India"
           ],
           "yaxis": "y"
          },
          {
           "alignmentgroup": "True",
           "hovertemplate": "Entity=%{y}<br>Year=2000<br>Individuals using the Internet (% of population)=%{x}<extra></extra>",
           "legendgroup": "Nigeria",
           "marker": {
            "color": "#6A82AB",
            "pattern": {
             "shape": ""
            }
           },
           "name": "Nigeria",
           "offsetgroup": "Nigeria",
           "orientation": "h",
           "showlegend": true,
           "textposition": "auto",
           "type": "bar",
           "x": [
            0.0640808045864105
           ],
           "xaxis": "x",
           "y": [
            "Nigeria"
           ],
           "yaxis": "y"
          }
         ],
         "name": "2000"
        },
        {
         "data": [
          {
           "alignmentgroup": "True",
           "hovertemplate": "Entity=%{y}<br>Year=1999<br>Individuals using the Internet (% of population)=%{x}<extra></extra>",
           "legendgroup": "United Kingdom",
           "marker": {
            "color": "#6A82AB",
            "pattern": {
             "shape": ""
            }
           },
           "name": "United Kingdom",
           "offsetgroup": "United Kingdom",
           "orientation": "h",
           "showlegend": true,
           "textposition": "auto",
           "type": "bar",
           "x": [
            21.29363822937012
           ],
           "xaxis": "x",
           "y": [
            "United Kingdom"
           ],
           "yaxis": "y"
          },
          {
           "alignmentgroup": "True",
           "hovertemplate": "Entity=%{y}<br>Year=1999<br>Individuals using the Internet (% of population)=%{x}<extra></extra>",
           "legendgroup": "Japan",
           "marker": {
            "color": "#6A82AB",
            "pattern": {
             "shape": ""
            }
           },
           "name": "Japan",
           "offsetgroup": "Japan",
           "orientation": "h",
           "showlegend": true,
           "textposition": "auto",
           "type": "bar",
           "x": [
            21.39129066467285
           ],
           "xaxis": "x",
           "y": [
            "Japan"
           ],
           "yaxis": "y"
          },
          {
           "alignmentgroup": "True",
           "hovertemplate": "Entity=%{y}<br>Year=1999<br>Individuals using the Internet (% of population)=%{x}<extra></extra>",
           "legendgroup": "United States",
           "marker": {
            "color": "#D24B4E",
            "pattern": {
             "shape": ""
            }
           },
           "name": "United States",
           "offsetgroup": "United States",
           "orientation": "h",
           "showlegend": true,
           "textposition": "auto",
           "type": "bar",
           "x": [
            35.848724365234375
           ],
           "xaxis": "x",
           "y": [
            "United States"
           ],
           "yaxis": "y"
          },
          {
           "alignmentgroup": "True",
           "hovertemplate": "Entity=%{y}<br>Year=1999<br>Individuals using the Internet (% of population)=%{x}<extra></extra>",
           "legendgroup": "France",
           "marker": {
            "color": "#6A82AB",
            "pattern": {
             "shape": ""
            }
           },
           "name": "France",
           "offsetgroup": "France",
           "orientation": "h",
           "showlegend": true,
           "textposition": "auto",
           "type": "bar",
           "x": [
            9.125317573547363
           ],
           "xaxis": "x",
           "y": [
            "France"
           ],
           "yaxis": "y"
          },
          {
           "alignmentgroup": "True",
           "hovertemplate": "Entity=%{y}<br>Year=1999<br>Individuals using the Internet (% of population)=%{x}<extra></extra>",
           "legendgroup": "Brazil",
           "marker": {
            "color": "#6A82AB",
            "pattern": {
             "shape": ""
            }
           },
           "name": "Brazil",
           "offsetgroup": "Brazil",
           "orientation": "h",
           "showlegend": true,
           "textposition": "auto",
           "type": "bar",
           "x": [
            2.0387322902679443
           ],
           "xaxis": "x",
           "y": [
            "Brazil"
           ],
           "yaxis": "y"
          },
          {
           "alignmentgroup": "True",
           "hovertemplate": "Entity=%{y}<br>Year=1999<br>Individuals using the Internet (% of population)=%{x}<extra></extra>",
           "legendgroup": "China",
           "marker": {
            "color": "#6A82AB",
            "pattern": {
             "shape": ""
            }
           },
           "name": "China",
           "offsetgroup": "China",
           "orientation": "h",
           "showlegend": true,
           "textposition": "auto",
           "type": "bar",
           "x": [
            0.7081879377365112
           ],
           "xaxis": "x",
           "y": [
            "China"
           ],
           "yaxis": "y"
          },
          {
           "alignmentgroup": "True",
           "hovertemplate": "Entity=%{y}<br>Year=1999<br>Individuals using the Internet (% of population)=%{x}<extra></extra>",
           "legendgroup": "World",
           "marker": {
            "color": "#6A82AB",
            "pattern": {
             "shape": ""
            }
           },
           "name": "World",
           "offsetgroup": "World",
           "orientation": "h",
           "showlegend": true,
           "textposition": "auto",
           "type": "bar",
           "x": [
            4.629489898681641
           ],
           "xaxis": "x",
           "y": [
            "World"
           ],
           "yaxis": "y"
          },
          {
           "alignmentgroup": "True",
           "hovertemplate": "Entity=%{y}<br>Year=1999<br>Individuals using the Internet (% of population)=%{x}<extra></extra>",
           "legendgroup": "India",
           "marker": {
            "color": "#6A82AB",
            "pattern": {
             "shape": ""
            }
           },
           "name": "India",
           "offsetgroup": "India",
           "orientation": "h",
           "showlegend": true,
           "textposition": "auto",
           "type": "bar",
           "x": [
            0.273224264383316
           ],
           "xaxis": "x",
           "y": [
            "India"
           ],
           "yaxis": "y"
          },
          {
           "alignmentgroup": "True",
           "hovertemplate": "Entity=%{y}<br>Year=1999<br>Individuals using the Internet (% of population)=%{x}<extra></extra>",
           "legendgroup": "Nigeria",
           "marker": {
            "color": "#6A82AB",
            "pattern": {
             "shape": ""
            }
           },
           "name": "Nigeria",
           "offsetgroup": "Nigeria",
           "orientation": "h",
           "showlegend": true,
           "textposition": "auto",
           "type": "bar",
           "x": [
            0.0410387217998504
           ],
           "xaxis": "x",
           "y": [
            "Nigeria"
           ],
           "yaxis": "y"
          }
         ],
         "name": "1999"
        },
        {
         "data": [
          {
           "alignmentgroup": "True",
           "hovertemplate": "Entity=%{y}<br>Year=1998<br>Individuals using the Internet (% of population)=%{x}<extra></extra>",
           "legendgroup": "United Kingdom",
           "marker": {
            "color": "#6A82AB",
            "pattern": {
             "shape": ""
            }
           },
           "name": "United Kingdom",
           "offsetgroup": "United Kingdom",
           "orientation": "h",
           "showlegend": true,
           "textposition": "auto",
           "type": "bar",
           "x": [
            13.66998291015625
           ],
           "xaxis": "x",
           "y": [
            "United Kingdom"
           ],
           "yaxis": "y"
          },
          {
           "alignmentgroup": "True",
           "hovertemplate": "Entity=%{y}<br>Year=1998<br>Individuals using the Internet (% of population)=%{x}<extra></extra>",
           "legendgroup": "Japan",
           "marker": {
            "color": "#6A82AB",
            "pattern": {
             "shape": ""
            }
           },
           "name": "Japan",
           "offsetgroup": "Japan",
           "orientation": "h",
           "showlegend": true,
           "textposition": "auto",
           "type": "bar",
           "x": [
            13.414040565490724
           ],
           "xaxis": "x",
           "y": [
            "Japan"
           ],
           "yaxis": "y"
          },
          {
           "alignmentgroup": "True",
           "hovertemplate": "Entity=%{y}<br>Year=1998<br>Individuals using the Internet (% of population)=%{x}<extra></extra>",
           "legendgroup": "United States",
           "marker": {
            "color": "#D24B4E",
            "pattern": {
             "shape": ""
            }
           },
           "name": "United States",
           "offsetgroup": "United States",
           "orientation": "h",
           "showlegend": true,
           "textposition": "auto",
           "type": "bar",
           "x": [
            30.093196868896484
           ],
           "xaxis": "x",
           "y": [
            "United States"
           ],
           "yaxis": "y"
          },
          {
           "alignmentgroup": "True",
           "hovertemplate": "Entity=%{y}<br>Year=1998<br>Individuals using the Internet (% of population)=%{x}<extra></extra>",
           "legendgroup": "France",
           "marker": {
            "color": "#6A82AB",
            "pattern": {
             "shape": ""
            }
           },
           "name": "France",
           "offsetgroup": "France",
           "orientation": "h",
           "showlegend": true,
           "textposition": "auto",
           "type": "bar",
           "x": [
            6.319778919219971
           ],
           "xaxis": "x",
           "y": [
            "France"
           ],
           "yaxis": "y"
          },
          {
           "alignmentgroup": "True",
           "hovertemplate": "Entity=%{y}<br>Year=1998<br>Individuals using the Internet (% of population)=%{x}<extra></extra>",
           "legendgroup": "Brazil",
           "marker": {
            "color": "#6A82AB",
            "pattern": {
             "shape": ""
            }
           },
           "name": "Brazil",
           "offsetgroup": "Brazil",
           "orientation": "h",
           "showlegend": true,
           "textposition": "auto",
           "type": "bar",
           "x": [
            1.477874994277954
           ],
           "xaxis": "x",
           "y": [
            "Brazil"
           ],
           "yaxis": "y"
          },
          {
           "alignmentgroup": "True",
           "hovertemplate": "Entity=%{y}<br>Year=1998<br>Individuals using the Internet (% of population)=%{x}<extra></extra>",
           "legendgroup": "China",
           "marker": {
            "color": "#6A82AB",
            "pattern": {
             "shape": ""
            }
           },
           "name": "China",
           "offsetgroup": "China",
           "orientation": "h",
           "showlegend": true,
           "textposition": "auto",
           "type": "bar",
           "x": [
            0.1685402989387512
           ],
           "xaxis": "x",
           "y": [
            "China"
           ],
           "yaxis": "y"
          },
          {
           "alignmentgroup": "True",
           "hovertemplate": "Entity=%{y}<br>Year=1998<br>Individuals using the Internet (% of population)=%{x}<extra></extra>",
           "legendgroup": "World",
           "marker": {
            "color": "#6A82AB",
            "pattern": {
             "shape": ""
            }
           },
           "name": "World",
           "offsetgroup": "World",
           "orientation": "h",
           "showlegend": true,
           "textposition": "auto",
           "type": "bar",
           "x": [
            3.1364059448242188
           ],
           "xaxis": "x",
           "y": [
            "World"
           ],
           "yaxis": "y"
          },
          {
           "alignmentgroup": "True",
           "hovertemplate": "Entity=%{y}<br>Year=1998<br>Individuals using the Internet (% of population)=%{x}<extra></extra>",
           "legendgroup": "India",
           "marker": {
            "color": "#6A82AB",
            "pattern": {
             "shape": ""
            }
           },
           "name": "India",
           "offsetgroup": "India",
           "orientation": "h",
           "showlegend": true,
           "textposition": "auto",
           "type": "bar",
           "x": [
            0.139027327299118
           ],
           "xaxis": "x",
           "y": [
            "India"
           ],
           "yaxis": "y"
          },
          {
           "alignmentgroup": "True",
           "hovertemplate": "Entity=%{y}<br>Year=1998<br>Individuals using the Internet (% of population)=%{x}<extra></extra>",
           "legendgroup": "Nigeria",
           "marker": {
            "color": "#6A82AB",
            "pattern": {
             "shape": ""
            }
           },
           "name": "Nigeria",
           "offsetgroup": "Nigeria",
           "orientation": "h",
           "showlegend": true,
           "textposition": "auto",
           "type": "bar",
           "x": [
            0.025231460109353
           ],
           "xaxis": "x",
           "y": [
            "Nigeria"
           ],
           "yaxis": "y"
          }
         ],
         "name": "1998"
        },
        {
         "data": [
          {
           "alignmentgroup": "True",
           "hovertemplate": "Entity=%{y}<br>Year=1997<br>Individuals using the Internet (% of population)=%{x}<extra></extra>",
           "legendgroup": "United Kingdom",
           "marker": {
            "color": "#6A82AB",
            "pattern": {
             "shape": ""
            }
           },
           "name": "United Kingdom",
           "offsetgroup": "United Kingdom",
           "orientation": "h",
           "showlegend": true,
           "textposition": "auto",
           "type": "bar",
           "x": [
            7.385398864746094
           ],
           "xaxis": "x",
           "y": [
            "United Kingdom"
           ],
           "yaxis": "y"
          },
          {
           "alignmentgroup": "True",
           "hovertemplate": "Entity=%{y}<br>Year=1997<br>Individuals using the Internet (% of population)=%{x}<extra></extra>",
           "legendgroup": "Japan",
           "marker": {
            "color": "#6A82AB",
            "pattern": {
             "shape": ""
            }
           },
           "name": "Japan",
           "offsetgroup": "Japan",
           "orientation": "h",
           "showlegend": true,
           "textposition": "auto",
           "type": "bar",
           "x": [
            9.163077354431152
           ],
           "xaxis": "x",
           "y": [
            "Japan"
           ],
           "yaxis": "y"
          },
          {
           "alignmentgroup": "True",
           "hovertemplate": "Entity=%{y}<br>Year=1997<br>Individuals using the Internet (% of population)=%{x}<extra></extra>",
           "legendgroup": "United States",
           "marker": {
            "color": "#D24B4E",
            "pattern": {
             "shape": ""
            }
           },
           "name": "United States",
           "offsetgroup": "United States",
           "orientation": "h",
           "showlegend": true,
           "textposition": "auto",
           "type": "bar",
           "x": [
            21.61640167236328
           ],
           "xaxis": "x",
           "y": [
            "United States"
           ],
           "yaxis": "y"
          },
          {
           "alignmentgroup": "True",
           "hovertemplate": "Entity=%{y}<br>Year=1997<br>Individuals using the Internet (% of population)=%{x}<extra></extra>",
           "legendgroup": "France",
           "marker": {
            "color": "#6A82AB",
            "pattern": {
             "shape": ""
            }
           },
           "name": "France",
           "offsetgroup": "France",
           "orientation": "h",
           "showlegend": true,
           "textposition": "auto",
           "type": "bar",
           "x": [
            4.255003929138184
           ],
           "xaxis": "x",
           "y": [
            "France"
           ],
           "yaxis": "y"
          },
          {
           "alignmentgroup": "True",
           "hovertemplate": "Entity=%{y}<br>Year=1997<br>Individuals using the Internet (% of population)=%{x}<extra></extra>",
           "legendgroup": "Brazil",
           "marker": {
            "color": "#6A82AB",
            "pattern": {
             "shape": ""
            }
           },
           "name": "Brazil",
           "offsetgroup": "Brazil",
           "orientation": "h",
           "showlegend": true,
           "textposition": "auto",
           "type": "bar",
           "x": [
            0.7860791683197021
           ],
           "xaxis": "x",
           "y": [
            "Brazil"
           ],
           "yaxis": "y"
          },
          {
           "alignmentgroup": "True",
           "hovertemplate": "Entity=%{y}<br>Year=1997<br>Individuals using the Internet (% of population)=%{x}<extra></extra>",
           "legendgroup": "China",
           "marker": {
            "color": "#6A82AB",
            "pattern": {
             "shape": ""
            }
           },
           "name": "China",
           "offsetgroup": "China",
           "orientation": "h",
           "showlegend": true,
           "textposition": "auto",
           "type": "bar",
           "x": [
            0.0323948599398136
           ],
           "xaxis": "x",
           "y": [
            "China"
           ],
           "yaxis": "y"
          },
          {
           "alignmentgroup": "True",
           "hovertemplate": "Entity=%{y}<br>Year=1997<br>Individuals using the Internet (% of population)=%{x}<extra></extra>",
           "legendgroup": "World",
           "marker": {
            "color": "#6A82AB",
            "pattern": {
             "shape": ""
            }
           },
           "name": "World",
           "offsetgroup": "World",
           "orientation": "h",
           "showlegend": true,
           "textposition": "auto",
           "type": "bar",
           "x": [
            2.039508581161499
           ],
           "xaxis": "x",
           "y": [
            "World"
           ],
           "yaxis": "y"
          },
          {
           "alignmentgroup": "True",
           "hovertemplate": "Entity=%{y}<br>Year=1997<br>Individuals using the Internet (% of population)=%{x}<extra></extra>",
           "legendgroup": "India",
           "marker": {
            "color": "#6A82AB",
            "pattern": {
             "shape": ""
            }
           },
           "name": "India",
           "offsetgroup": "India",
           "orientation": "h",
           "showlegend": true,
           "textposition": "auto",
           "type": "bar",
           "x": [
            0.0707678496837616
           ],
           "xaxis": "x",
           "y": [
            "India"
           ],
           "yaxis": "y"
          },
          {
           "alignmentgroup": "True",
           "hovertemplate": "Entity=%{y}<br>Year=1997<br>Individuals using the Internet (% of population)=%{x}<extra></extra>",
           "legendgroup": "Nigeria",
           "marker": {
            "color": "#6A82AB",
            "pattern": {
             "shape": ""
            }
           },
           "name": "Nigeria",
           "offsetgroup": "Nigeria",
           "orientation": "h",
           "showlegend": true,
           "textposition": "auto",
           "type": "bar",
           "x": [
            0.0172374006360769
           ],
           "xaxis": "x",
           "y": [
            "Nigeria"
           ],
           "yaxis": "y"
          }
         ],
         "name": "1997"
        },
        {
         "data": [
          {
           "alignmentgroup": "True",
           "hovertemplate": "Entity=%{y}<br>Year=1996<br>Individuals using the Internet (% of population)=%{x}<extra></extra>",
           "legendgroup": "United Kingdom",
           "marker": {
            "color": "#6A82AB",
            "pattern": {
             "shape": ""
            }
           },
           "name": "United Kingdom",
           "offsetgroup": "United Kingdom",
           "orientation": "h",
           "showlegend": true,
           "textposition": "auto",
           "type": "bar",
           "x": [
            4.123650550842285
           ],
           "xaxis": "x",
           "y": [
            "United Kingdom"
           ],
           "yaxis": "y"
          },
          {
           "alignmentgroup": "True",
           "hovertemplate": "Entity=%{y}<br>Year=1996<br>Individuals using the Internet (% of population)=%{x}<extra></extra>",
           "legendgroup": "Japan",
           "marker": {
            "color": "#6A82AB",
            "pattern": {
             "shape": ""
            }
           },
           "name": "Japan",
           "offsetgroup": "Japan",
           "orientation": "h",
           "showlegend": true,
           "textposition": "auto",
           "type": "bar",
           "x": [
            4.372982025146484
           ],
           "xaxis": "x",
           "y": [
            "Japan"
           ],
           "yaxis": "y"
          },
          {
           "alignmentgroup": "True",
           "hovertemplate": "Entity=%{y}<br>Year=1996<br>Individuals using the Internet (% of population)=%{x}<extra></extra>",
           "legendgroup": "United States",
           "marker": {
            "color": "#D24B4E",
            "pattern": {
             "shape": ""
            }
           },
           "name": "United States",
           "offsetgroup": "United States",
           "orientation": "h",
           "showlegend": true,
           "textposition": "auto",
           "type": "bar",
           "x": [
            16.419353485107422
           ],
           "xaxis": "x",
           "y": [
            "United States"
           ],
           "yaxis": "y"
          },
          {
           "alignmentgroup": "True",
           "hovertemplate": "Entity=%{y}<br>Year=1996<br>Individuals using the Internet (% of population)=%{x}<extra></extra>",
           "legendgroup": "France",
           "marker": {
            "color": "#6A82AB",
            "pattern": {
             "shape": ""
            }
           },
           "name": "France",
           "offsetgroup": "France",
           "orientation": "h",
           "showlegend": true,
           "textposition": "auto",
           "type": "bar",
           "x": [
            2.584033966064453
           ],
           "xaxis": "x",
           "y": [
            "France"
           ],
           "yaxis": "y"
          },
          {
           "alignmentgroup": "True",
           "hovertemplate": "Entity=%{y}<br>Year=1996<br>Individuals using the Internet (% of population)=%{x}<extra></extra>",
           "legendgroup": "Brazil",
           "marker": {
            "color": "#6A82AB",
            "pattern": {
             "shape": ""
            }
           },
           "name": "Brazil",
           "offsetgroup": "Brazil",
           "orientation": "h",
           "showlegend": true,
           "textposition": "auto",
           "type": "bar",
           "x": [
            0.4507891833782196
           ],
           "xaxis": "x",
           "y": [
            "Brazil"
           ],
           "yaxis": "y"
          },
          {
           "alignmentgroup": "True",
           "hovertemplate": "Entity=%{y}<br>Year=1996<br>Individuals using the Internet (% of population)=%{x}<extra></extra>",
           "legendgroup": "China",
           "marker": {
            "color": "#6A82AB",
            "pattern": {
             "shape": ""
            }
           },
           "name": "China",
           "offsetgroup": "China",
           "orientation": "h",
           "showlegend": true,
           "textposition": "auto",
           "type": "bar",
           "x": [
            0.0130816921591758
           ],
           "xaxis": "x",
           "y": [
            "China"
           ],
           "yaxis": "y"
          },
          {
           "alignmentgroup": "True",
           "hovertemplate": "Entity=%{y}<br>Year=1996<br>Individuals using the Internet (% of population)=%{x}<extra></extra>",
           "legendgroup": "World",
           "marker": {
            "color": "#6A82AB",
            "pattern": {
             "shape": ""
            }
           },
           "name": "World",
           "offsetgroup": "World",
           "orientation": "h",
           "showlegend": true,
           "textposition": "auto",
           "type": "bar",
           "x": [
            1.3234697580337524
           ],
           "xaxis": "x",
           "y": [
            "World"
           ],
           "yaxis": "y"
          },
          {
           "alignmentgroup": "True",
           "hovertemplate": "Entity=%{y}<br>Year=1996<br>Individuals using the Internet (% of population)=%{x}<extra></extra>",
           "legendgroup": "India",
           "marker": {
            "color": "#6A82AB",
            "pattern": {
             "shape": ""
            }
           },
           "name": "India",
           "offsetgroup": "India",
           "orientation": "h",
           "showlegend": true,
           "textposition": "auto",
           "type": "bar",
           "x": [
            0.0463339760899543
           ],
           "xaxis": "x",
           "y": [
            "India"
           ],
           "yaxis": "y"
          },
          {
           "alignmentgroup": "True",
           "hovertemplate": "Entity=%{y}<br>Year=1996<br>Individuals using the Internet (% of population)=%{x}<extra></extra>",
           "legendgroup": "Nigeria",
           "marker": {
            "color": "#6A82AB",
            "pattern": {
             "shape": ""
            }
           },
           "name": "Nigeria",
           "offsetgroup": "Nigeria",
           "orientation": "h",
           "showlegend": true,
           "textposition": "auto",
           "type": "bar",
           "x": [
            0.0088329799473285
           ],
           "xaxis": "x",
           "y": [
            "Nigeria"
           ],
           "yaxis": "y"
          }
         ],
         "name": "1996"
        },
        {
         "data": [
          {
           "alignmentgroup": "True",
           "hovertemplate": "Entity=%{y}<br>Year=1995<br>Individuals using the Internet (% of population)=%{x}<extra></extra>",
           "legendgroup": "United Kingdom",
           "marker": {
            "color": "#6A82AB",
            "pattern": {
             "shape": ""
            }
           },
           "name": "United Kingdom",
           "offsetgroup": "United Kingdom",
           "orientation": "h",
           "showlegend": true,
           "textposition": "auto",
           "type": "bar",
           "x": [
            1.8951683044433596
           ],
           "xaxis": "x",
           "y": [
            "United Kingdom"
           ],
           "yaxis": "y"
          },
          {
           "alignmentgroup": "True",
           "hovertemplate": "Entity=%{y}<br>Year=1995<br>Individuals using the Internet (% of population)=%{x}<extra></extra>",
           "legendgroup": "Japan",
           "marker": {
            "color": "#6A82AB",
            "pattern": {
             "shape": ""
            }
           },
           "name": "Japan",
           "offsetgroup": "Japan",
           "orientation": "h",
           "showlegend": true,
           "textposition": "auto",
           "type": "bar",
           "x": [
            1.5943630933761597
           ],
           "xaxis": "x",
           "y": [
            "Japan"
           ],
           "yaxis": "y"
          },
          {
           "alignmentgroup": "True",
           "hovertemplate": "Entity=%{y}<br>Year=1995<br>Individuals using the Internet (% of population)=%{x}<extra></extra>",
           "legendgroup": "United States",
           "marker": {
            "color": "#D24B4E",
            "pattern": {
             "shape": ""
            }
           },
           "name": "United States",
           "offsetgroup": "United States",
           "orientation": "h",
           "showlegend": true,
           "textposition": "auto",
           "type": "bar",
           "x": [
            9.237088203430176
           ],
           "xaxis": "x",
           "y": [
            "United States"
           ],
           "yaxis": "y"
          },
          {
           "alignmentgroup": "True",
           "hovertemplate": "Entity=%{y}<br>Year=1995<br>Individuals using the Internet (% of population)=%{x}<extra></extra>",
           "legendgroup": "France",
           "marker": {
            "color": "#6A82AB",
            "pattern": {
             "shape": ""
            }
           },
           "name": "France",
           "offsetgroup": "France",
           "orientation": "h",
           "showlegend": true,
           "textposition": "auto",
           "type": "bar",
           "x": [
            1.6379472017288208
           ],
           "xaxis": "x",
           "y": [
            "France"
           ],
           "yaxis": "y"
          },
          {
           "alignmentgroup": "True",
           "hovertemplate": "Entity=%{y}<br>Year=1995<br>Individuals using the Internet (% of population)=%{x}<extra></extra>",
           "legendgroup": "Brazil",
           "marker": {
            "color": "#6A82AB",
            "pattern": {
             "shape": ""
            }
           },
           "name": "Brazil",
           "offsetgroup": "Brazil",
           "orientation": "h",
           "showlegend": true,
           "textposition": "auto",
           "type": "bar",
           "x": [
            0.1051381677389144
           ],
           "xaxis": "x",
           "y": [
            "Brazil"
           ],
           "yaxis": "y"
          },
          {
           "alignmentgroup": "True",
           "hovertemplate": "Entity=%{y}<br>Year=1995<br>Individuals using the Internet (% of population)=%{x}<extra></extra>",
           "legendgroup": "China",
           "marker": {
            "color": "#6A82AB",
            "pattern": {
             "shape": ""
            }
           },
           "name": "China",
           "offsetgroup": "China",
           "orientation": "h",
           "showlegend": true,
           "textposition": "auto",
           "type": "bar",
           "x": [
            0.004954710137099
           ],
           "xaxis": "x",
           "y": [
            "China"
           ],
           "yaxis": "y"
          },
          {
           "alignmentgroup": "True",
           "hovertemplate": "Entity=%{y}<br>Year=1995<br>Individuals using the Internet (% of population)=%{x}<extra></extra>",
           "legendgroup": "World",
           "marker": {
            "color": "#6A82AB",
            "pattern": {
             "shape": ""
            }
           },
           "name": "World",
           "offsetgroup": "World",
           "orientation": "h",
           "showlegend": true,
           "textposition": "auto",
           "type": "bar",
           "x": [
            0.681456983089447
           ],
           "xaxis": "x",
           "y": [
            "World"
           ],
           "yaxis": "y"
          },
          {
           "alignmentgroup": "True",
           "hovertemplate": "Entity=%{y}<br>Year=1995<br>Individuals using the Internet (% of population)=%{x}<extra></extra>",
           "legendgroup": "India",
           "marker": {
            "color": "#6A82AB",
            "pattern": {
             "shape": ""
            }
           },
           "name": "India",
           "offsetgroup": "India",
           "orientation": "h",
           "showlegend": true,
           "textposition": "auto",
           "type": "bar",
           "x": [
            0.026228878647089
           ],
           "xaxis": "x",
           "y": [
            "India"
           ],
           "yaxis": "y"
          },
          {
           "alignmentgroup": "True",
           "hovertemplate": "Entity=%{y}<br>Year=1995<br>Individuals using the Internet (% of population)=%{x}<extra></extra>",
           "legendgroup": "Nigeria",
           "marker": {
            "color": "#6A82AB",
            "pattern": {
             "shape": ""
            }
           },
           "name": "Nigeria",
           "offsetgroup": "Nigeria",
           "orientation": "h",
           "showlegend": true,
           "textposition": "auto",
           "type": "bar",
           "x": [
            0
           ],
           "xaxis": "x",
           "y": [
            "Nigeria"
           ],
           "yaxis": "y"
          }
         ],
         "name": "1995"
        },
        {
         "data": [
          {
           "alignmentgroup": "True",
           "hovertemplate": "Entity=%{y}<br>Year=1994<br>Individuals using the Internet (% of population)=%{x}<extra></extra>",
           "legendgroup": "United Kingdom",
           "marker": {
            "color": "#6A82AB",
            "pattern": {
             "shape": ""
            }
           },
           "name": "United Kingdom",
           "offsetgroup": "United Kingdom",
           "orientation": "h",
           "showlegend": true,
           "textposition": "auto",
           "type": "bar",
           "x": [
            1.036609172821045
           ],
           "xaxis": "x",
           "y": [
            "United Kingdom"
           ],
           "yaxis": "y"
          },
          {
           "alignmentgroup": "True",
           "hovertemplate": "Entity=%{y}<br>Year=1994<br>Individuals using the Internet (% of population)=%{x}<extra></extra>",
           "legendgroup": "Japan",
           "marker": {
            "color": "#6A82AB",
            "pattern": {
             "shape": ""
            }
           },
           "name": "Japan",
           "offsetgroup": "Japan",
           "orientation": "h",
           "showlegend": true,
           "textposition": "auto",
           "type": "bar",
           "x": [
            0.7996842861175537
           ],
           "xaxis": "x",
           "y": [
            "Japan"
           ],
           "yaxis": "y"
          },
          {
           "alignmentgroup": "True",
           "hovertemplate": "Entity=%{y}<br>Year=1994<br>Individuals using the Internet (% of population)=%{x}<extra></extra>",
           "legendgroup": "United States",
           "marker": {
            "color": "#D24B4E",
            "pattern": {
             "shape": ""
            }
           },
           "name": "United States",
           "offsetgroup": "United States",
           "orientation": "h",
           "showlegend": true,
           "textposition": "auto",
           "type": "bar",
           "x": [
            4.862780570983887
           ],
           "xaxis": "x",
           "y": [
            "United States"
           ],
           "yaxis": "y"
          },
          {
           "alignmentgroup": "True",
           "hovertemplate": "Entity=%{y}<br>Year=1994<br>Individuals using the Internet (% of population)=%{x}<extra></extra>",
           "legendgroup": "France",
           "marker": {
            "color": "#6A82AB",
            "pattern": {
             "shape": ""
            }
           },
           "name": "France",
           "offsetgroup": "France",
           "orientation": "h",
           "showlegend": true,
           "textposition": "auto",
           "type": "bar",
           "x": [
            0.8998674154281616
           ],
           "xaxis": "x",
           "y": [
            "France"
           ],
           "yaxis": "y"
          },
          {
           "alignmentgroup": "True",
           "hovertemplate": "Entity=%{y}<br>Year=1994<br>Individuals using the Internet (% of population)=%{x}<extra></extra>",
           "legendgroup": "Brazil",
           "marker": {
            "color": "#6A82AB",
            "pattern": {
             "shape": ""
            }
           },
           "name": "Brazil",
           "offsetgroup": "Brazil",
           "orientation": "h",
           "showlegend": true,
           "textposition": "auto",
           "type": "bar",
           "x": [
            0.0376727096736431
           ],
           "xaxis": "x",
           "y": [
            "Brazil"
           ],
           "yaxis": "y"
          },
          {
           "alignmentgroup": "True",
           "hovertemplate": "Entity=%{y}<br>Year=1994<br>Individuals using the Internet (% of population)=%{x}<extra></extra>",
           "legendgroup": "China",
           "marker": {
            "color": "#6A82AB",
            "pattern": {
             "shape": ""
            }
           },
           "name": "China",
           "offsetgroup": "China",
           "orientation": "h",
           "showlegend": true,
           "textposition": "auto",
           "type": "bar",
           "x": [
            0.0011681149480864
           ],
           "xaxis": "x",
           "y": [
            "China"
           ],
           "yaxis": "y"
          },
          {
           "alignmentgroup": "True",
           "hovertemplate": "Entity=%{y}<br>Year=1994<br>Individuals using the Internet (% of population)=%{x}<extra></extra>",
           "legendgroup": "World",
           "marker": {
            "color": "#6A82AB",
            "pattern": {
             "shape": ""
            }
           },
           "name": "World",
           "offsetgroup": "World",
           "orientation": "h",
           "showlegend": true,
           "textposition": "auto",
           "type": "bar",
           "x": [
            0.3599002063274383
           ],
           "xaxis": "x",
           "y": [
            "World"
           ],
           "yaxis": "y"
          },
          {
           "alignmentgroup": "True",
           "hovertemplate": "Entity=%{y}<br>Year=1994<br>Individuals using the Internet (% of population)=%{x}<extra></extra>",
           "legendgroup": "India",
           "marker": {
            "color": "#6A82AB",
            "pattern": {
             "shape": ""
            }
           },
           "name": "India",
           "offsetgroup": "India",
           "orientation": "h",
           "showlegend": true,
           "textposition": "auto",
           "type": "bar",
           "x": [
            0.0010695620439946
           ],
           "xaxis": "x",
           "y": [
            "India"
           ],
           "yaxis": "y"
          },
          {
           "alignmentgroup": "True",
           "hovertemplate": "Entity=%{y}<br>Year=1994<br>Individuals using the Internet (% of population)=%{x}<extra></extra>",
           "legendgroup": "Nigeria",
           "marker": {
            "color": "#6A82AB",
            "pattern": {
             "shape": ""
            }
           },
           "name": "Nigeria",
           "offsetgroup": "Nigeria",
           "orientation": "h",
           "showlegend": true,
           "textposition": "auto",
           "type": "bar",
           "x": [
            0
           ],
           "xaxis": "x",
           "y": [
            "Nigeria"
           ],
           "yaxis": "y"
          }
         ],
         "name": "1994"
        },
        {
         "data": [
          {
           "alignmentgroup": "True",
           "hovertemplate": "Entity=%{y}<br>Year=1993<br>Individuals using the Internet (% of population)=%{x}<extra></extra>",
           "legendgroup": "United Kingdom",
           "marker": {
            "color": "#6A82AB",
            "pattern": {
             "shape": ""
            }
           },
           "name": "United Kingdom",
           "offsetgroup": "United Kingdom",
           "orientation": "h",
           "showlegend": true,
           "textposition": "auto",
           "type": "bar",
           "x": [
            0.5197619795799255
           ],
           "xaxis": "x",
           "y": [
            "United Kingdom"
           ],
           "yaxis": "y"
          },
          {
           "alignmentgroup": "True",
           "hovertemplate": "Entity=%{y}<br>Year=1993<br>Individuals using the Internet (% of population)=%{x}<extra></extra>",
           "legendgroup": "Japan",
           "marker": {
            "color": "#6A82AB",
            "pattern": {
             "shape": ""
            }
           },
           "name": "Japan",
           "offsetgroup": "Japan",
           "orientation": "h",
           "showlegend": true,
           "textposition": "auto",
           "type": "bar",
           "x": [
            0.4012775123119354
           ],
           "xaxis": "x",
           "y": [
            "Japan"
           ],
           "yaxis": "y"
          },
          {
           "alignmentgroup": "True",
           "hovertemplate": "Entity=%{y}<br>Year=1993<br>Individuals using the Internet (% of population)=%{x}<extra></extra>",
           "legendgroup": "United States",
           "marker": {
            "color": "#D24B4E",
            "pattern": {
             "shape": ""
            }
           },
           "name": "United States",
           "offsetgroup": "United States",
           "orientation": "h",
           "showlegend": true,
           "textposition": "auto",
           "type": "bar",
           "x": [
            2.2716732025146484
           ],
           "xaxis": "x",
           "y": [
            "United States"
           ],
           "yaxis": "y"
          },
          {
           "alignmentgroup": "True",
           "hovertemplate": "Entity=%{y}<br>Year=1993<br>Individuals using the Internet (% of population)=%{x}<extra></extra>",
           "legendgroup": "France",
           "marker": {
            "color": "#6A82AB",
            "pattern": {
             "shape": ""
            }
           },
           "name": "France",
           "offsetgroup": "France",
           "orientation": "h",
           "showlegend": true,
           "textposition": "auto",
           "type": "bar",
           "x": [
            0.5906193852424622
           ],
           "xaxis": "x",
           "y": [
            "France"
           ],
           "yaxis": "y"
          },
          {
           "alignmentgroup": "True",
           "hovertemplate": "Entity=%{y}<br>Year=1993<br>Individuals using the Internet (% of population)=%{x}<extra></extra>",
           "legendgroup": "Brazil",
           "marker": {
            "color": "#6A82AB",
            "pattern": {
             "shape": ""
            }
           },
           "name": "Brazil",
           "offsetgroup": "Brazil",
           "orientation": "h",
           "showlegend": true,
           "textposition": "auto",
           "type": "bar",
           "x": [
            0.0254982523620128
           ],
           "xaxis": "x",
           "y": [
            "Brazil"
           ],
           "yaxis": "y"
          },
          {
           "alignmentgroup": "True",
           "hovertemplate": "Entity=%{y}<br>Year=1993<br>Individuals using the Internet (% of population)=%{x}<extra></extra>",
           "legendgroup": "China",
           "marker": {
            "color": "#6A82AB",
            "pattern": {
             "shape": ""
            }
           },
           "name": "China",
           "offsetgroup": "China",
           "orientation": "h",
           "showlegend": true,
           "textposition": "auto",
           "type": "bar",
           "x": [
            0.000168679995113
           ],
           "xaxis": "x",
           "y": [
            "China"
           ],
           "yaxis": "y"
          },
          {
           "alignmentgroup": "True",
           "hovertemplate": "Entity=%{y}<br>Year=1993<br>Individuals using the Internet (% of population)=%{x}<extra></extra>",
           "legendgroup": "World",
           "marker": {
            "color": "#6A82AB",
            "pattern": {
             "shape": ""
            }
           },
           "name": "World",
           "offsetgroup": "World",
           "orientation": "h",
           "showlegend": true,
           "textposition": "auto",
           "type": "bar",
           "x": [
            0.1788999289274215
           ],
           "xaxis": "x",
           "y": [
            "World"
           ],
           "yaxis": "y"
          },
          {
           "alignmentgroup": "True",
           "hovertemplate": "Entity=%{y}<br>Year=1993<br>Individuals using the Internet (% of population)=%{x}<extra></extra>",
           "legendgroup": "India",
           "marker": {
            "color": "#6A82AB",
            "pattern": {
             "shape": ""
            }
           },
           "name": "India",
           "offsetgroup": "India",
           "orientation": "h",
           "showlegend": true,
           "textposition": "auto",
           "type": "bar",
           "x": [
            0.0002181760064559
           ],
           "xaxis": "x",
           "y": [
            "India"
           ],
           "yaxis": "y"
          },
          {
           "alignmentgroup": "True",
           "hovertemplate": "Entity=%{y}<br>Year=1993<br>Individuals using the Internet (% of population)=%{x}<extra></extra>",
           "legendgroup": "Nigeria",
           "marker": {
            "color": "#6A82AB",
            "pattern": {
             "shape": ""
            }
           },
           "name": "Nigeria",
           "offsetgroup": "Nigeria",
           "orientation": "h",
           "showlegend": true,
           "textposition": "auto",
           "type": "bar",
           "x": [
            0
           ],
           "xaxis": "x",
           "y": [
            "Nigeria"
           ],
           "yaxis": "y"
          }
         ],
         "name": "1993"
        },
        {
         "data": [
          {
           "alignmentgroup": "True",
           "hovertemplate": "Entity=%{y}<br>Year=1992<br>Individuals using the Internet (% of population)=%{x}<extra></extra>",
           "legendgroup": "United Kingdom",
           "marker": {
            "color": "#6A82AB",
            "pattern": {
             "shape": ""
            }
           },
           "name": "United Kingdom",
           "offsetgroup": "United Kingdom",
           "orientation": "h",
           "showlegend": true,
           "textposition": "auto",
           "type": "bar",
           "x": [
            0.2606151700019836
           ],
           "xaxis": "x",
           "y": [
            "United Kingdom"
           ],
           "yaxis": "y"
          },
          {
           "alignmentgroup": "True",
           "hovertemplate": "Entity=%{y}<br>Year=1992<br>Individuals using the Internet (% of population)=%{x}<extra></extra>",
           "legendgroup": "Japan",
           "marker": {
            "color": "#6A82AB",
            "pattern": {
             "shape": ""
            }
           },
           "name": "Japan",
           "offsetgroup": "Japan",
           "orientation": "h",
           "showlegend": true,
           "textposition": "auto",
           "type": "bar",
           "x": [
            0.0966780260205268
           ],
           "xaxis": "x",
           "y": [
            "Japan"
           ],
           "yaxis": "y"
          },
          {
           "alignmentgroup": "True",
           "hovertemplate": "Entity=%{y}<br>Year=1992<br>Individuals using the Internet (% of population)=%{x}<extra></extra>",
           "legendgroup": "United States",
           "marker": {
            "color": "#D24B4E",
            "pattern": {
             "shape": ""
            }
           },
           "name": "United States",
           "offsetgroup": "United States",
           "orientation": "h",
           "showlegend": true,
           "textposition": "auto",
           "type": "bar",
           "x": [
            1.7242025136947632
           ],
           "xaxis": "x",
           "y": [
            "United States"
           ],
           "yaxis": "y"
          },
          {
           "alignmentgroup": "True",
           "hovertemplate": "Entity=%{y}<br>Year=1992<br>Individuals using the Internet (% of population)=%{x}<extra></extra>",
           "legendgroup": "France",
           "marker": {
            "color": "#6A82AB",
            "pattern": {
             "shape": ""
            }
           },
           "name": "France",
           "offsetgroup": "France",
           "orientation": "h",
           "showlegend": true,
           "textposition": "auto",
           "type": "bar",
           "x": [
            0.2790494561195373
           ],
           "xaxis": "x",
           "y": [
            "France"
           ],
           "yaxis": "y"
          },
          {
           "alignmentgroup": "True",
           "hovertemplate": "Entity=%{y}<br>Year=1992<br>Individuals using the Internet (% of population)=%{x}<extra></extra>",
           "legendgroup": "Brazil",
           "marker": {
            "color": "#6A82AB",
            "pattern": {
             "shape": ""
            }
           },
           "name": "Brazil",
           "offsetgroup": "Brazil",
           "orientation": "h",
           "showlegend": true,
           "textposition": "auto",
           "type": "bar",
           "x": [
            0.012946262024343
           ],
           "xaxis": "x",
           "y": [
            "Brazil"
           ],
           "yaxis": "y"
          },
          {
           "alignmentgroup": "True",
           "hovertemplate": "Entity=%{y}<br>Year=1992<br>Individuals using the Internet (% of population)=%{x}<extra></extra>",
           "legendgroup": "China",
           "marker": {
            "color": "#6A82AB",
            "pattern": {
             "shape": ""
            }
           },
           "name": "China",
           "offsetgroup": "China",
           "orientation": "h",
           "showlegend": true,
           "textposition": "auto",
           "type": "bar",
           "x": [
            0
           ],
           "xaxis": "x",
           "y": [
            "China"
           ],
           "yaxis": "y"
          },
          {
           "alignmentgroup": "True",
           "hovertemplate": "Entity=%{y}<br>Year=1992<br>Individuals using the Internet (% of population)=%{x}<extra></extra>",
           "legendgroup": "World",
           "marker": {
            "color": "#6A82AB",
            "pattern": {
             "shape": ""
            }
           },
           "name": "World",
           "offsetgroup": "World",
           "orientation": "h",
           "showlegend": true,
           "textposition": "auto",
           "type": "bar",
           "x": [
            0.1253635138273239
           ],
           "xaxis": "x",
           "y": [
            "World"
           ],
           "yaxis": "y"
          },
          {
           "alignmentgroup": "True",
           "hovertemplate": "Entity=%{y}<br>Year=1992<br>Individuals using the Internet (% of population)=%{x}<extra></extra>",
           "legendgroup": "India",
           "marker": {
            "color": "#6A82AB",
            "pattern": {
             "shape": ""
            }
           },
           "name": "India",
           "offsetgroup": "India",
           "orientation": "h",
           "showlegend": true,
           "textposition": "auto",
           "type": "bar",
           "x": [
            0.0001113079997594
           ],
           "xaxis": "x",
           "y": [
            "India"
           ],
           "yaxis": "y"
          },
          {
           "alignmentgroup": "True",
           "hovertemplate": "Entity=%{y}<br>Year=1992<br>Individuals using the Internet (% of population)=%{x}<extra></extra>",
           "legendgroup": "Nigeria",
           "marker": {
            "color": "#6A82AB",
            "pattern": {
             "shape": ""
            }
           },
           "name": "Nigeria",
           "offsetgroup": "Nigeria",
           "orientation": "h",
           "showlegend": true,
           "textposition": "auto",
           "type": "bar",
           "x": [
            0
           ],
           "xaxis": "x",
           "y": [
            "Nigeria"
           ],
           "yaxis": "y"
          }
         ],
         "name": "1992"
        },
        {
         "data": [
          {
           "alignmentgroup": "True",
           "hovertemplate": "Entity=%{y}<br>Year=1991<br>Individuals using the Internet (% of population)=%{x}<extra></extra>",
           "legendgroup": "United Kingdom",
           "marker": {
            "color": "#6A82AB",
            "pattern": {
             "shape": ""
            }
           },
           "name": "United Kingdom",
           "offsetgroup": "United Kingdom",
           "orientation": "h",
           "showlegend": true,
           "textposition": "auto",
           "type": "bar",
           "x": [
            0.1742309182882309
           ],
           "xaxis": "x",
           "y": [
            "United Kingdom"
           ],
           "yaxis": "y"
          },
          {
           "alignmentgroup": "True",
           "hovertemplate": "Entity=%{y}<br>Year=1991<br>Individuals using the Internet (% of population)=%{x}<extra></extra>",
           "legendgroup": "Japan",
           "marker": {
            "color": "#6A82AB",
            "pattern": {
             "shape": ""
            }
           },
           "name": "Japan",
           "offsetgroup": "Japan",
           "orientation": "h",
           "showlegend": true,
           "textposition": "auto",
           "type": "bar",
           "x": [
            0.0404380410909652
           ],
           "xaxis": "x",
           "y": [
            "Japan"
           ],
           "yaxis": "y"
          },
          {
           "alignmentgroup": "True",
           "hovertemplate": "Entity=%{y}<br>Year=1991<br>Individuals using the Internet (% of population)=%{x}<extra></extra>",
           "legendgroup": "United States",
           "marker": {
            "color": "#D24B4E",
            "pattern": {
             "shape": ""
            }
           },
           "name": "United States",
           "offsetgroup": "United States",
           "orientation": "h",
           "showlegend": true,
           "textposition": "auto",
           "type": "bar",
           "x": [
            1.163193702697754
           ],
           "xaxis": "x",
           "y": [
            "United States"
           ],
           "yaxis": "y"
          },
          {
           "alignmentgroup": "True",
           "hovertemplate": "Entity=%{y}<br>Year=1991<br>Individuals using the Internet (% of population)=%{x}<extra></extra>",
           "legendgroup": "France",
           "marker": {
            "color": "#6A82AB",
            "pattern": {
             "shape": ""
            }
           },
           "name": "France",
           "offsetgroup": "France",
           "orientation": "h",
           "showlegend": true,
           "textposition": "auto",
           "type": "bar",
           "x": [
            0.140113890171051
           ],
           "xaxis": "x",
           "y": [
            "France"
           ],
           "yaxis": "y"
          },
          {
           "alignmentgroup": "True",
           "hovertemplate": "Entity=%{y}<br>Year=1991<br>Individuals using the Internet (% of population)=%{x}<extra></extra>",
           "legendgroup": "Brazil",
           "marker": {
            "color": "#6A82AB",
            "pattern": {
             "shape": ""
            }
           },
           "name": "Brazil",
           "offsetgroup": "Brazil",
           "orientation": "h",
           "showlegend": true,
           "textposition": "auto",
           "type": "bar",
           "x": [
            0.0032881710212677
           ],
           "xaxis": "x",
           "y": [
            "Brazil"
           ],
           "yaxis": "y"
          },
          {
           "alignmentgroup": "True",
           "hovertemplate": "Entity=%{y}<br>Year=1991<br>Individuals using the Internet (% of population)=%{x}<extra></extra>",
           "legendgroup": "China",
           "marker": {
            "color": "#6A82AB",
            "pattern": {
             "shape": ""
            }
           },
           "name": "China",
           "offsetgroup": "China",
           "orientation": "h",
           "showlegend": true,
           "textposition": "auto",
           "type": "bar",
           "x": [
            0
           ],
           "xaxis": "x",
           "y": [
            "China"
           ],
           "yaxis": "y"
          },
          {
           "alignmentgroup": "True",
           "hovertemplate": "Entity=%{y}<br>Year=1991<br>Individuals using the Internet (% of population)=%{x}<extra></extra>",
           "legendgroup": "World",
           "marker": {
            "color": "#6A82AB",
            "pattern": {
             "shape": ""
            }
           },
           "name": "World",
           "offsetgroup": "World",
           "orientation": "h",
           "showlegend": true,
           "textposition": "auto",
           "type": "bar",
           "x": [
            0.0791811421513557
           ],
           "xaxis": "x",
           "y": [
            "World"
           ],
           "yaxis": "y"
          },
          {
           "alignmentgroup": "True",
           "hovertemplate": "Entity=%{y}<br>Year=1991<br>Individuals using the Internet (% of population)=%{x}<extra></extra>",
           "legendgroup": "India",
           "marker": {
            "color": "#6A82AB",
            "pattern": {
             "shape": ""
            }
           },
           "name": "India",
           "offsetgroup": "India",
           "orientation": "h",
           "showlegend": true,
           "textposition": "auto",
           "type": "bar",
           "x": [
            0
           ],
           "xaxis": "x",
           "y": [
            "India"
           ],
           "yaxis": "y"
          },
          {
           "alignmentgroup": "True",
           "hovertemplate": "Entity=%{y}<br>Year=1991<br>Individuals using the Internet (% of population)=%{x}<extra></extra>",
           "legendgroup": "Nigeria",
           "marker": {
            "color": "#6A82AB",
            "pattern": {
             "shape": ""
            }
           },
           "name": "Nigeria",
           "offsetgroup": "Nigeria",
           "orientation": "h",
           "showlegend": true,
           "textposition": "auto",
           "type": "bar",
           "x": [
            0
           ],
           "xaxis": "x",
           "y": [
            "Nigeria"
           ],
           "yaxis": "y"
          }
         ],
         "name": "1991"
        },
        {
         "data": [
          {
           "alignmentgroup": "True",
           "hovertemplate": "Entity=%{y}<br>Year=1990<br>Individuals using the Internet (% of population)=%{x}<extra></extra>",
           "legendgroup": "United Kingdom",
           "marker": {
            "color": "#6A82AB",
            "pattern": {
             "shape": ""
            }
           },
           "name": "United Kingdom",
           "offsetgroup": "United Kingdom",
           "orientation": "h",
           "showlegend": true,
           "textposition": "auto",
           "type": "bar",
           "x": [
            0.0873553156852722
           ],
           "xaxis": "x",
           "y": [
            "United Kingdom"
           ],
           "yaxis": "y"
          },
          {
           "alignmentgroup": "True",
           "hovertemplate": "Entity=%{y}<br>Year=1990<br>Individuals using the Internet (% of population)=%{x}<extra></extra>",
           "legendgroup": "Japan",
           "marker": {
            "color": "#6A82AB",
            "pattern": {
             "shape": ""
            }
           },
           "name": "Japan",
           "offsetgroup": "Japan",
           "orientation": "h",
           "showlegend": true,
           "textposition": "auto",
           "type": "bar",
           "x": [
            0.0202936828136444
           ],
           "xaxis": "x",
           "y": [
            "Japan"
           ],
           "yaxis": "y"
          },
          {
           "alignmentgroup": "True",
           "hovertemplate": "Entity=%{y}<br>Year=1990<br>Individuals using the Internet (% of population)=%{x}<extra></extra>",
           "legendgroup": "United States",
           "marker": {
            "color": "#D24B4E",
            "pattern": {
             "shape": ""
            }
           },
           "name": "United States",
           "offsetgroup": "United States",
           "orientation": "h",
           "showlegend": true,
           "textposition": "auto",
           "type": "bar",
           "x": [
            0.7847285270690918
           ],
           "xaxis": "x",
           "y": [
            "United States"
           ],
           "yaxis": "y"
          },
          {
           "alignmentgroup": "True",
           "hovertemplate": "Entity=%{y}<br>Year=1990<br>Individuals using the Internet (% of population)=%{x}<extra></extra>",
           "legendgroup": "France",
           "marker": {
            "color": "#6A82AB",
            "pattern": {
             "shape": ""
            }
           },
           "name": "France",
           "offsetgroup": "France",
           "orientation": "h",
           "showlegend": true,
           "textposition": "auto",
           "type": "bar",
           "x": [
            0.0527778603136539
           ],
           "xaxis": "x",
           "y": [
            "France"
           ],
           "yaxis": "y"
          },
          {
           "alignmentgroup": "True",
           "hovertemplate": "Entity=%{y}<br>Year=1990<br>Individuals using the Internet (% of population)=%{x}<extra></extra>",
           "legendgroup": "Brazil",
           "marker": {
            "color": "#6A82AB",
            "pattern": {
             "shape": ""
            }
           },
           "name": "Brazil",
           "offsetgroup": "Brazil",
           "orientation": "h",
           "showlegend": true,
           "textposition": "auto",
           "type": "bar",
           "x": [
            0
           ],
           "xaxis": "x",
           "y": [
            "Brazil"
           ],
           "yaxis": "y"
          },
          {
           "alignmentgroup": "True",
           "hovertemplate": "Entity=%{y}<br>Year=1990<br>Individuals using the Internet (% of population)=%{x}<extra></extra>",
           "legendgroup": "China",
           "marker": {
            "color": "#6A82AB",
            "pattern": {
             "shape": ""
            }
           },
           "name": "China",
           "offsetgroup": "China",
           "orientation": "h",
           "showlegend": true,
           "textposition": "auto",
           "type": "bar",
           "x": [
            0
           ],
           "xaxis": "x",
           "y": [
            "China"
           ],
           "yaxis": "y"
          },
          {
           "alignmentgroup": "True",
           "hovertemplate": "Entity=%{y}<br>Year=1990<br>Individuals using the Internet (% of population)=%{x}<extra></extra>",
           "legendgroup": "World",
           "marker": {
            "color": "#6A82AB",
            "pattern": {
             "shape": ""
            }
           },
           "name": "World",
           "offsetgroup": "World",
           "orientation": "h",
           "showlegend": true,
           "textposition": "auto",
           "type": "bar",
           "x": [
            0.049235351383686
           ],
           "xaxis": "x",
           "y": [
            "World"
           ],
           "yaxis": "y"
          },
          {
           "alignmentgroup": "True",
           "hovertemplate": "Entity=%{y}<br>Year=1990<br>Individuals using the Internet (% of population)=%{x}<extra></extra>",
           "legendgroup": "India",
           "marker": {
            "color": "#6A82AB",
            "pattern": {
             "shape": ""
            }
           },
           "name": "India",
           "offsetgroup": "India",
           "orientation": "h",
           "showlegend": true,
           "textposition": "auto",
           "type": "bar",
           "x": [
            0
           ],
           "xaxis": "x",
           "y": [
            "India"
           ],
           "yaxis": "y"
          },
          {
           "alignmentgroup": "True",
           "hovertemplate": "Entity=%{y}<br>Year=1990<br>Individuals using the Internet (% of population)=%{x}<extra></extra>",
           "legendgroup": "Nigeria",
           "marker": {
            "color": "#6A82AB",
            "pattern": {
             "shape": ""
            }
           },
           "name": "Nigeria",
           "offsetgroup": "Nigeria",
           "orientation": "h",
           "showlegend": true,
           "textposition": "auto",
           "type": "bar",
           "x": [
            0
           ],
           "xaxis": "x",
           "y": [
            "Nigeria"
           ],
           "yaxis": "y"
          }
         ],
         "name": "1990"
        }
       ],
       "layout": {
        "barmode": "relative",
        "legend": {
         "title": {
          "text": "Entity"
         },
         "tracegroupgap": 0
        },
        "margin": {
         "t": 60
        },
        "sliders": [
         {
          "active": 0,
          "currentvalue": {
           "prefix": "Year="
          },
          "len": 0.9,
          "pad": {
           "b": 10,
           "t": 60
          },
          "steps": [
           {
            "args": [
             [
              "2020"
             ],
             {
              "frame": {
               "duration": 0,
               "redraw": true
              },
              "fromcurrent": true,
              "mode": "immediate",
              "transition": {
               "duration": 0,
               "easing": "linear"
              }
             }
            ],
            "label": "2020",
            "method": "animate"
           },
           {
            "args": [
             [
              "2016"
             ],
             {
              "frame": {
               "duration": 0,
               "redraw": true
              },
              "fromcurrent": true,
              "mode": "immediate",
              "transition": {
               "duration": 0,
               "easing": "linear"
              }
             }
            ],
            "label": "2016",
            "method": "animate"
           },
           {
            "args": [
             [
              "2019"
             ],
             {
              "frame": {
               "duration": 0,
               "redraw": true
              },
              "fromcurrent": true,
              "mode": "immediate",
              "transition": {
               "duration": 0,
               "easing": "linear"
              }
             }
            ],
            "label": "2019",
            "method": "animate"
           },
           {
            "args": [
             [
              "2015"
             ],
             {
              "frame": {
               "duration": 0,
               "redraw": true
              },
              "fromcurrent": true,
              "mode": "immediate",
              "transition": {
               "duration": 0,
               "easing": "linear"
              }
             }
            ],
            "label": "2015",
            "method": "animate"
           },
           {
            "args": [
             [
              "2017"
             ],
             {
              "frame": {
               "duration": 0,
               "redraw": true
              },
              "fromcurrent": true,
              "mode": "immediate",
              "transition": {
               "duration": 0,
               "easing": "linear"
              }
             }
            ],
            "label": "2017",
            "method": "animate"
           },
           {
            "args": [
             [
              "2014"
             ],
             {
              "frame": {
               "duration": 0,
               "redraw": true
              },
              "fromcurrent": true,
              "mode": "immediate",
              "transition": {
               "duration": 0,
               "easing": "linear"
              }
             }
            ],
            "label": "2014",
            "method": "animate"
           },
           {
            "args": [
             [
              "2018"
             ],
             {
              "frame": {
               "duration": 0,
               "redraw": true
              },
              "fromcurrent": true,
              "mode": "immediate",
              "transition": {
               "duration": 0,
               "easing": "linear"
              }
             }
            ],
            "label": "2018",
            "method": "animate"
           },
           {
            "args": [
             [
              "2013"
             ],
             {
              "frame": {
               "duration": 0,
               "redraw": true
              },
              "fromcurrent": true,
              "mode": "immediate",
              "transition": {
               "duration": 0,
               "easing": "linear"
              }
             }
            ],
            "label": "2013",
            "method": "animate"
           },
           {
            "args": [
             [
              "2012"
             ],
             {
              "frame": {
               "duration": 0,
               "redraw": true
              },
              "fromcurrent": true,
              "mode": "immediate",
              "transition": {
               "duration": 0,
               "easing": "linear"
              }
             }
            ],
            "label": "2012",
            "method": "animate"
           },
           {
            "args": [
             [
              "2011"
             ],
             {
              "frame": {
               "duration": 0,
               "redraw": true
              },
              "fromcurrent": true,
              "mode": "immediate",
              "transition": {
               "duration": 0,
               "easing": "linear"
              }
             }
            ],
            "label": "2011",
            "method": "animate"
           },
           {
            "args": [
             [
              "2010"
             ],
             {
              "frame": {
               "duration": 0,
               "redraw": true
              },
              "fromcurrent": true,
              "mode": "immediate",
              "transition": {
               "duration": 0,
               "easing": "linear"
              }
             }
            ],
            "label": "2010",
            "method": "animate"
           },
           {
            "args": [
             [
              "2009"
             ],
             {
              "frame": {
               "duration": 0,
               "redraw": true
              },
              "fromcurrent": true,
              "mode": "immediate",
              "transition": {
               "duration": 0,
               "easing": "linear"
              }
             }
            ],
            "label": "2009",
            "method": "animate"
           },
           {
            "args": [
             [
              "2008"
             ],
             {
              "frame": {
               "duration": 0,
               "redraw": true
              },
              "fromcurrent": true,
              "mode": "immediate",
              "transition": {
               "duration": 0,
               "easing": "linear"
              }
             }
            ],
            "label": "2008",
            "method": "animate"
           },
           {
            "args": [
             [
              "2007"
             ],
             {
              "frame": {
               "duration": 0,
               "redraw": true
              },
              "fromcurrent": true,
              "mode": "immediate",
              "transition": {
               "duration": 0,
               "easing": "linear"
              }
             }
            ],
            "label": "2007",
            "method": "animate"
           },
           {
            "args": [
             [
              "2005"
             ],
             {
              "frame": {
               "duration": 0,
               "redraw": true
              },
              "fromcurrent": true,
              "mode": "immediate",
              "transition": {
               "duration": 0,
               "easing": "linear"
              }
             }
            ],
            "label": "2005",
            "method": "animate"
           },
           {
            "args": [
             [
              "2006"
             ],
             {
              "frame": {
               "duration": 0,
               "redraw": true
              },
              "fromcurrent": true,
              "mode": "immediate",
              "transition": {
               "duration": 0,
               "easing": "linear"
              }
             }
            ],
            "label": "2006",
            "method": "animate"
           },
           {
            "args": [
             [
              "2004"
             ],
             {
              "frame": {
               "duration": 0,
               "redraw": true
              },
              "fromcurrent": true,
              "mode": "immediate",
              "transition": {
               "duration": 0,
               "easing": "linear"
              }
             }
            ],
            "label": "2004",
            "method": "animate"
           },
           {
            "args": [
             [
              "2003"
             ],
             {
              "frame": {
               "duration": 0,
               "redraw": true
              },
              "fromcurrent": true,
              "mode": "immediate",
              "transition": {
               "duration": 0,
               "easing": "linear"
              }
             }
            ],
            "label": "2003",
            "method": "animate"
           },
           {
            "args": [
             [
              "2002"
             ],
             {
              "frame": {
               "duration": 0,
               "redraw": true
              },
              "fromcurrent": true,
              "mode": "immediate",
              "transition": {
               "duration": 0,
               "easing": "linear"
              }
             }
            ],
            "label": "2002",
            "method": "animate"
           },
           {
            "args": [
             [
              "2001"
             ],
             {
              "frame": {
               "duration": 0,
               "redraw": true
              },
              "fromcurrent": true,
              "mode": "immediate",
              "transition": {
               "duration": 0,
               "easing": "linear"
              }
             }
            ],
            "label": "2001",
            "method": "animate"
           },
           {
            "args": [
             [
              "2000"
             ],
             {
              "frame": {
               "duration": 0,
               "redraw": true
              },
              "fromcurrent": true,
              "mode": "immediate",
              "transition": {
               "duration": 0,
               "easing": "linear"
              }
             }
            ],
            "label": "2000",
            "method": "animate"
           },
           {
            "args": [
             [
              "1999"
             ],
             {
              "frame": {
               "duration": 0,
               "redraw": true
              },
              "fromcurrent": true,
              "mode": "immediate",
              "transition": {
               "duration": 0,
               "easing": "linear"
              }
             }
            ],
            "label": "1999",
            "method": "animate"
           },
           {
            "args": [
             [
              "1998"
             ],
             {
              "frame": {
               "duration": 0,
               "redraw": true
              },
              "fromcurrent": true,
              "mode": "immediate",
              "transition": {
               "duration": 0,
               "easing": "linear"
              }
             }
            ],
            "label": "1998",
            "method": "animate"
           },
           {
            "args": [
             [
              "1997"
             ],
             {
              "frame": {
               "duration": 0,
               "redraw": true
              },
              "fromcurrent": true,
              "mode": "immediate",
              "transition": {
               "duration": 0,
               "easing": "linear"
              }
             }
            ],
            "label": "1997",
            "method": "animate"
           },
           {
            "args": [
             [
              "1996"
             ],
             {
              "frame": {
               "duration": 0,
               "redraw": true
              },
              "fromcurrent": true,
              "mode": "immediate",
              "transition": {
               "duration": 0,
               "easing": "linear"
              }
             }
            ],
            "label": "1996",
            "method": "animate"
           },
           {
            "args": [
             [
              "1995"
             ],
             {
              "frame": {
               "duration": 0,
               "redraw": true
              },
              "fromcurrent": true,
              "mode": "immediate",
              "transition": {
               "duration": 0,
               "easing": "linear"
              }
             }
            ],
            "label": "1995",
            "method": "animate"
           },
           {
            "args": [
             [
              "1994"
             ],
             {
              "frame": {
               "duration": 0,
               "redraw": true
              },
              "fromcurrent": true,
              "mode": "immediate",
              "transition": {
               "duration": 0,
               "easing": "linear"
              }
             }
            ],
            "label": "1994",
            "method": "animate"
           },
           {
            "args": [
             [
              "1993"
             ],
             {
              "frame": {
               "duration": 0,
               "redraw": true
              },
              "fromcurrent": true,
              "mode": "immediate",
              "transition": {
               "duration": 0,
               "easing": "linear"
              }
             }
            ],
            "label": "1993",
            "method": "animate"
           },
           {
            "args": [
             [
              "1992"
             ],
             {
              "frame": {
               "duration": 0,
               "redraw": true
              },
              "fromcurrent": true,
              "mode": "immediate",
              "transition": {
               "duration": 0,
               "easing": "linear"
              }
             }
            ],
            "label": "1992",
            "method": "animate"
           },
           {
            "args": [
             [
              "1991"
             ],
             {
              "frame": {
               "duration": 0,
               "redraw": true
              },
              "fromcurrent": true,
              "mode": "immediate",
              "transition": {
               "duration": 0,
               "easing": "linear"
              }
             }
            ],
            "label": "1991",
            "method": "animate"
           },
           {
            "args": [
             [
              "1990"
             ],
             {
              "frame": {
               "duration": 0,
               "redraw": true
              },
              "fromcurrent": true,
              "mode": "immediate",
              "transition": {
               "duration": 0,
               "easing": "linear"
              }
             }
            ],
            "label": "1990",
            "method": "animate"
           }
          ],
          "x": 0.1,
          "xanchor": "left",
          "y": 0,
          "yanchor": "top"
         }
        ],
        "template": {
         "data": {
          "bar": [
           {
            "error_x": {
             "color": "#2a3f5f"
            },
            "error_y": {
             "color": "#2a3f5f"
            },
            "marker": {
             "line": {
              "color": "#E5ECF6",
              "width": 0.5
             },
             "pattern": {
              "fillmode": "overlay",
              "size": 10,
              "solidity": 0.2
             }
            },
            "type": "bar"
           }
          ],
          "barpolar": [
           {
            "marker": {
             "line": {
              "color": "#E5ECF6",
              "width": 0.5
             },
             "pattern": {
              "fillmode": "overlay",
              "size": 10,
              "solidity": 0.2
             }
            },
            "type": "barpolar"
           }
          ],
          "carpet": [
           {
            "aaxis": {
             "endlinecolor": "#2a3f5f",
             "gridcolor": "white",
             "linecolor": "white",
             "minorgridcolor": "white",
             "startlinecolor": "#2a3f5f"
            },
            "baxis": {
             "endlinecolor": "#2a3f5f",
             "gridcolor": "white",
             "linecolor": "white",
             "minorgridcolor": "white",
             "startlinecolor": "#2a3f5f"
            },
            "type": "carpet"
           }
          ],
          "choropleth": [
           {
            "colorbar": {
             "outlinewidth": 0,
             "ticks": ""
            },
            "type": "choropleth"
           }
          ],
          "contour": [
           {
            "colorbar": {
             "outlinewidth": 0,
             "ticks": ""
            },
            "colorscale": [
             [
              0,
              "#0d0887"
             ],
             [
              0.1111111111111111,
              "#46039f"
             ],
             [
              0.2222222222222222,
              "#7201a8"
             ],
             [
              0.3333333333333333,
              "#9c179e"
             ],
             [
              0.4444444444444444,
              "#bd3786"
             ],
             [
              0.5555555555555556,
              "#d8576b"
             ],
             [
              0.6666666666666666,
              "#ed7953"
             ],
             [
              0.7777777777777778,
              "#fb9f3a"
             ],
             [
              0.8888888888888888,
              "#fdca26"
             ],
             [
              1,
              "#f0f921"
             ]
            ],
            "type": "contour"
           }
          ],
          "contourcarpet": [
           {
            "colorbar": {
             "outlinewidth": 0,
             "ticks": ""
            },
            "type": "contourcarpet"
           }
          ],
          "heatmap": [
           {
            "colorbar": {
             "outlinewidth": 0,
             "ticks": ""
            },
            "colorscale": [
             [
              0,
              "#0d0887"
             ],
             [
              0.1111111111111111,
              "#46039f"
             ],
             [
              0.2222222222222222,
              "#7201a8"
             ],
             [
              0.3333333333333333,
              "#9c179e"
             ],
             [
              0.4444444444444444,
              "#bd3786"
             ],
             [
              0.5555555555555556,
              "#d8576b"
             ],
             [
              0.6666666666666666,
              "#ed7953"
             ],
             [
              0.7777777777777778,
              "#fb9f3a"
             ],
             [
              0.8888888888888888,
              "#fdca26"
             ],
             [
              1,
              "#f0f921"
             ]
            ],
            "type": "heatmap"
           }
          ],
          "heatmapgl": [
           {
            "colorbar": {
             "outlinewidth": 0,
             "ticks": ""
            },
            "colorscale": [
             [
              0,
              "#0d0887"
             ],
             [
              0.1111111111111111,
              "#46039f"
             ],
             [
              0.2222222222222222,
              "#7201a8"
             ],
             [
              0.3333333333333333,
              "#9c179e"
             ],
             [
              0.4444444444444444,
              "#bd3786"
             ],
             [
              0.5555555555555556,
              "#d8576b"
             ],
             [
              0.6666666666666666,
              "#ed7953"
             ],
             [
              0.7777777777777778,
              "#fb9f3a"
             ],
             [
              0.8888888888888888,
              "#fdca26"
             ],
             [
              1,
              "#f0f921"
             ]
            ],
            "type": "heatmapgl"
           }
          ],
          "histogram": [
           {
            "marker": {
             "pattern": {
              "fillmode": "overlay",
              "size": 10,
              "solidity": 0.2
             }
            },
            "type": "histogram"
           }
          ],
          "histogram2d": [
           {
            "colorbar": {
             "outlinewidth": 0,
             "ticks": ""
            },
            "colorscale": [
             [
              0,
              "#0d0887"
             ],
             [
              0.1111111111111111,
              "#46039f"
             ],
             [
              0.2222222222222222,
              "#7201a8"
             ],
             [
              0.3333333333333333,
              "#9c179e"
             ],
             [
              0.4444444444444444,
              "#bd3786"
             ],
             [
              0.5555555555555556,
              "#d8576b"
             ],
             [
              0.6666666666666666,
              "#ed7953"
             ],
             [
              0.7777777777777778,
              "#fb9f3a"
             ],
             [
              0.8888888888888888,
              "#fdca26"
             ],
             [
              1,
              "#f0f921"
             ]
            ],
            "type": "histogram2d"
           }
          ],
          "histogram2dcontour": [
           {
            "colorbar": {
             "outlinewidth": 0,
             "ticks": ""
            },
            "colorscale": [
             [
              0,
              "#0d0887"
             ],
             [
              0.1111111111111111,
              "#46039f"
             ],
             [
              0.2222222222222222,
              "#7201a8"
             ],
             [
              0.3333333333333333,
              "#9c179e"
             ],
             [
              0.4444444444444444,
              "#bd3786"
             ],
             [
              0.5555555555555556,
              "#d8576b"
             ],
             [
              0.6666666666666666,
              "#ed7953"
             ],
             [
              0.7777777777777778,
              "#fb9f3a"
             ],
             [
              0.8888888888888888,
              "#fdca26"
             ],
             [
              1,
              "#f0f921"
             ]
            ],
            "type": "histogram2dcontour"
           }
          ],
          "mesh3d": [
           {
            "colorbar": {
             "outlinewidth": 0,
             "ticks": ""
            },
            "type": "mesh3d"
           }
          ],
          "parcoords": [
           {
            "line": {
             "colorbar": {
              "outlinewidth": 0,
              "ticks": ""
             }
            },
            "type": "parcoords"
           }
          ],
          "pie": [
           {
            "automargin": true,
            "type": "pie"
           }
          ],
          "scatter": [
           {
            "marker": {
             "colorbar": {
              "outlinewidth": 0,
              "ticks": ""
             }
            },
            "type": "scatter"
           }
          ],
          "scatter3d": [
           {
            "line": {
             "colorbar": {
              "outlinewidth": 0,
              "ticks": ""
             }
            },
            "marker": {
             "colorbar": {
              "outlinewidth": 0,
              "ticks": ""
             }
            },
            "type": "scatter3d"
           }
          ],
          "scattercarpet": [
           {
            "marker": {
             "colorbar": {
              "outlinewidth": 0,
              "ticks": ""
             }
            },
            "type": "scattercarpet"
           }
          ],
          "scattergeo": [
           {
            "marker": {
             "colorbar": {
              "outlinewidth": 0,
              "ticks": ""
             }
            },
            "type": "scattergeo"
           }
          ],
          "scattergl": [
           {
            "marker": {
             "colorbar": {
              "outlinewidth": 0,
              "ticks": ""
             }
            },
            "type": "scattergl"
           }
          ],
          "scattermapbox": [
           {
            "marker": {
             "colorbar": {
              "outlinewidth": 0,
              "ticks": ""
             }
            },
            "type": "scattermapbox"
           }
          ],
          "scatterpolar": [
           {
            "marker": {
             "colorbar": {
              "outlinewidth": 0,
              "ticks": ""
             }
            },
            "type": "scatterpolar"
           }
          ],
          "scatterpolargl": [
           {
            "marker": {
             "colorbar": {
              "outlinewidth": 0,
              "ticks": ""
             }
            },
            "type": "scatterpolargl"
           }
          ],
          "scatterternary": [
           {
            "marker": {
             "colorbar": {
              "outlinewidth": 0,
              "ticks": ""
             }
            },
            "type": "scatterternary"
           }
          ],
          "surface": [
           {
            "colorbar": {
             "outlinewidth": 0,
             "ticks": ""
            },
            "colorscale": [
             [
              0,
              "#0d0887"
             ],
             [
              0.1111111111111111,
              "#46039f"
             ],
             [
              0.2222222222222222,
              "#7201a8"
             ],
             [
              0.3333333333333333,
              "#9c179e"
             ],
             [
              0.4444444444444444,
              "#bd3786"
             ],
             [
              0.5555555555555556,
              "#d8576b"
             ],
             [
              0.6666666666666666,
              "#ed7953"
             ],
             [
              0.7777777777777778,
              "#fb9f3a"
             ],
             [
              0.8888888888888888,
              "#fdca26"
             ],
             [
              1,
              "#f0f921"
             ]
            ],
            "type": "surface"
           }
          ],
          "table": [
           {
            "cells": {
             "fill": {
              "color": "#EBF0F8"
             },
             "line": {
              "color": "white"
             }
            },
            "header": {
             "fill": {
              "color": "#C8D4E3"
             },
             "line": {
              "color": "white"
             }
            },
            "type": "table"
           }
          ]
         },
         "layout": {
          "annotationdefaults": {
           "arrowcolor": "#2a3f5f",
           "arrowhead": 0,
           "arrowwidth": 1
          },
          "autotypenumbers": "strict",
          "coloraxis": {
           "colorbar": {
            "outlinewidth": 0,
            "ticks": ""
           }
          },
          "colorscale": {
           "diverging": [
            [
             0,
             "#8e0152"
            ],
            [
             0.1,
             "#c51b7d"
            ],
            [
             0.2,
             "#de77ae"
            ],
            [
             0.3,
             "#f1b6da"
            ],
            [
             0.4,
             "#fde0ef"
            ],
            [
             0.5,
             "#f7f7f7"
            ],
            [
             0.6,
             "#e6f5d0"
            ],
            [
             0.7,
             "#b8e186"
            ],
            [
             0.8,
             "#7fbc41"
            ],
            [
             0.9,
             "#4d9221"
            ],
            [
             1,
             "#276419"
            ]
           ],
           "sequential": [
            [
             0,
             "#0d0887"
            ],
            [
             0.1111111111111111,
             "#46039f"
            ],
            [
             0.2222222222222222,
             "#7201a8"
            ],
            [
             0.3333333333333333,
             "#9c179e"
            ],
            [
             0.4444444444444444,
             "#bd3786"
            ],
            [
             0.5555555555555556,
             "#d8576b"
            ],
            [
             0.6666666666666666,
             "#ed7953"
            ],
            [
             0.7777777777777778,
             "#fb9f3a"
            ],
            [
             0.8888888888888888,
             "#fdca26"
            ],
            [
             1,
             "#f0f921"
            ]
           ],
           "sequentialminus": [
            [
             0,
             "#0d0887"
            ],
            [
             0.1111111111111111,
             "#46039f"
            ],
            [
             0.2222222222222222,
             "#7201a8"
            ],
            [
             0.3333333333333333,
             "#9c179e"
            ],
            [
             0.4444444444444444,
             "#bd3786"
            ],
            [
             0.5555555555555556,
             "#d8576b"
            ],
            [
             0.6666666666666666,
             "#ed7953"
            ],
            [
             0.7777777777777778,
             "#fb9f3a"
            ],
            [
             0.8888888888888888,
             "#fdca26"
            ],
            [
             1,
             "#f0f921"
            ]
           ]
          },
          "colorway": [
           "#636efa",
           "#EF553B",
           "#00cc96",
           "#ab63fa",
           "#FFA15A",
           "#19d3f3",
           "#FF6692",
           "#B6E880",
           "#FF97FF",
           "#FECB52"
          ],
          "font": {
           "color": "#2a3f5f"
          },
          "geo": {
           "bgcolor": "white",
           "lakecolor": "white",
           "landcolor": "#E5ECF6",
           "showlakes": true,
           "showland": true,
           "subunitcolor": "white"
          },
          "hoverlabel": {
           "align": "left"
          },
          "hovermode": "closest",
          "mapbox": {
           "style": "light"
          },
          "paper_bgcolor": "white",
          "plot_bgcolor": "#E5ECF6",
          "polar": {
           "angularaxis": {
            "gridcolor": "white",
            "linecolor": "white",
            "ticks": ""
           },
           "bgcolor": "#E5ECF6",
           "radialaxis": {
            "gridcolor": "white",
            "linecolor": "white",
            "ticks": ""
           }
          },
          "scene": {
           "xaxis": {
            "backgroundcolor": "#E5ECF6",
            "gridcolor": "white",
            "gridwidth": 2,
            "linecolor": "white",
            "showbackground": true,
            "ticks": "",
            "zerolinecolor": "white"
           },
           "yaxis": {
            "backgroundcolor": "#E5ECF6",
            "gridcolor": "white",
            "gridwidth": 2,
            "linecolor": "white",
            "showbackground": true,
            "ticks": "",
            "zerolinecolor": "white"
           },
           "zaxis": {
            "backgroundcolor": "#E5ECF6",
            "gridcolor": "white",
            "gridwidth": 2,
            "linecolor": "white",
            "showbackground": true,
            "ticks": "",
            "zerolinecolor": "white"
           }
          },
          "shapedefaults": {
           "line": {
            "color": "#2a3f5f"
           }
          },
          "ternary": {
           "aaxis": {
            "gridcolor": "white",
            "linecolor": "white",
            "ticks": ""
           },
           "baxis": {
            "gridcolor": "white",
            "linecolor": "white",
            "ticks": ""
           },
           "bgcolor": "#E5ECF6",
           "caxis": {
            "gridcolor": "white",
            "linecolor": "white",
            "ticks": ""
           }
          },
          "title": {
           "x": 0.05
          },
          "xaxis": {
           "automargin": true,
           "gridcolor": "white",
           "linecolor": "white",
           "ticks": "",
           "title": {
            "standoff": 15
           },
           "zerolinecolor": "white",
           "zerolinewidth": 2
          },
          "yaxis": {
           "automargin": true,
           "gridcolor": "white",
           "linecolor": "white",
           "ticks": "",
           "title": {
            "standoff": 15
           },
           "zerolinecolor": "white",
           "zerolinewidth": 2
          }
         }
        },
        "updatemenus": [
         {
          "buttons": [
           {
            "args": [
             null,
             {
              "frame": {
               "duration": 500,
               "redraw": true
              },
              "fromcurrent": true,
              "mode": "immediate",
              "transition": {
               "duration": 500,
               "easing": "linear"
              }
             }
            ],
            "label": "&#9654;",
            "method": "animate"
           },
           {
            "args": [
             [
              null
             ],
             {
              "frame": {
               "duration": 0,
               "redraw": true
              },
              "fromcurrent": true,
              "mode": "immediate",
              "transition": {
               "duration": 0,
               "easing": "linear"
              }
             }
            ],
            "label": "&#9724;",
            "method": "animate"
           }
          ],
          "direction": "left",
          "pad": {
           "r": 10,
           "t": 70
          },
          "showactive": false,
          "type": "buttons",
          "x": 0.1,
          "xanchor": "right",
          "y": 0,
          "yanchor": "top"
         }
        ],
        "xaxis": {
         "anchor": "y",
         "domain": [
          0,
          1
         ],
         "title": {
          "text": "Individuals using the Internet (% of population)"
         }
        },
        "yaxis": {
         "anchor": "x",
         "categoryarray": [
          "Nigeria",
          "India",
          "World",
          "China",
          "Brazil",
          "France",
          "United States",
          "Japan",
          "United Kingdom"
         ],
         "categoryorder": "array",
         "domain": [
          0,
          1
         ],
         "title": {
          "text": "Entity"
         }
        }
       }
      },
      "text/html": [
       "<div>                            <div id=\"06cb1f32-6969-4ab5-a813-c232d01e35ec\" class=\"plotly-graph-div\" style=\"height:525px; width:100%;\"></div>            <script type=\"text/javascript\">                require([\"plotly\"], function(Plotly) {                    window.PLOTLYENV=window.PLOTLYENV || {};                                    if (document.getElementById(\"06cb1f32-6969-4ab5-a813-c232d01e35ec\")) {                    Plotly.newPlot(                        \"06cb1f32-6969-4ab5-a813-c232d01e35ec\",                        [{\"alignmentgroup\":\"True\",\"hovertemplate\":\"Entity=%{y}<br>Year=2020<br>Individuals using the Internet (% of population)=%{x}<extra></extra>\",\"legendgroup\":\"United Kingdom\",\"marker\":{\"color\":\"#6A82AB\",\"pattern\":{\"shape\":\"\"}},\"name\":\"United Kingdom\",\"offsetgroup\":\"United Kingdom\",\"orientation\":\"h\",\"showlegend\":true,\"textposition\":\"auto\",\"x\":[94.81819915771484],\"xaxis\":\"x\",\"y\":[\"United Kingdom\"],\"yaxis\":\"y\",\"type\":\"bar\"},{\"alignmentgroup\":\"True\",\"hovertemplate\":\"Entity=%{y}<br>Year=2020<br>Individuals using the Internet (% of population)=%{x}<extra></extra>\",\"legendgroup\":\"Japan\",\"marker\":{\"color\":\"#6A82AB\",\"pattern\":{\"shape\":\"\"}},\"name\":\"Japan\",\"offsetgroup\":\"Japan\",\"orientation\":\"h\",\"showlegend\":true,\"textposition\":\"auto\",\"x\":[90.2194595336914],\"xaxis\":\"x\",\"y\":[\"Japan\"],\"yaxis\":\"y\",\"type\":\"bar\"},{\"alignmentgroup\":\"True\",\"hovertemplate\":\"Entity=%{y}<br>Year=2020<br>Individuals using the Internet (% of population)=%{x}<extra></extra>\",\"legendgroup\":\"United States\",\"marker\":{\"color\":\"#D24B4E\",\"pattern\":{\"shape\":\"\"}},\"name\":\"United States\",\"offsetgroup\":\"United States\",\"orientation\":\"h\",\"showlegend\":true,\"textposition\":\"auto\",\"x\":[90.9000015258789],\"xaxis\":\"x\",\"y\":[\"United States\"],\"yaxis\":\"y\",\"type\":\"bar\"},{\"alignmentgroup\":\"True\",\"hovertemplate\":\"Entity=%{y}<br>Year=2020<br>Individuals using the Internet (% of population)=%{x}<extra></extra>\",\"legendgroup\":\"France\",\"marker\":{\"color\":\"#6A82AB\",\"pattern\":{\"shape\":\"\"}},\"name\":\"France\",\"offsetgroup\":\"France\",\"orientation\":\"h\",\"showlegend\":true,\"textposition\":\"auto\",\"x\":[84.80000305175781],\"xaxis\":\"x\",\"y\":[\"France\"],\"yaxis\":\"y\",\"type\":\"bar\"},{\"alignmentgroup\":\"True\",\"hovertemplate\":\"Entity=%{y}<br>Year=2020<br>Individuals using the Internet (% of population)=%{x}<extra></extra>\",\"legendgroup\":\"Brazil\",\"marker\":{\"color\":\"#6A82AB\",\"pattern\":{\"shape\":\"\"}},\"name\":\"Brazil\",\"offsetgroup\":\"Brazil\",\"orientation\":\"h\",\"showlegend\":true,\"textposition\":\"auto\",\"x\":[81.34269714355469],\"xaxis\":\"x\",\"y\":[\"Brazil\"],\"yaxis\":\"y\",\"type\":\"bar\"},{\"alignmentgroup\":\"True\",\"hovertemplate\":\"Entity=%{y}<br>Year=2020<br>Individuals using the Internet (% of population)=%{x}<extra></extra>\",\"legendgroup\":\"China\",\"marker\":{\"color\":\"#6A82AB\",\"pattern\":{\"shape\":\"\"}},\"name\":\"China\",\"offsetgroup\":\"China\",\"orientation\":\"h\",\"showlegend\":true,\"textposition\":\"auto\",\"x\":[70.40477752685547],\"xaxis\":\"x\",\"y\":[\"China\"],\"yaxis\":\"y\",\"type\":\"bar\"},{\"alignmentgroup\":\"True\",\"hovertemplate\":\"Entity=%{y}<br>Year=2020<br>Individuals using the Internet (% of population)=%{x}<extra></extra>\",\"legendgroup\":\"World\",\"marker\":{\"color\":\"#6A82AB\",\"pattern\":{\"shape\":\"\"}},\"name\":\"World\",\"offsetgroup\":\"World\",\"orientation\":\"h\",\"showlegend\":true,\"textposition\":\"auto\",\"x\":[59.94024658203125],\"xaxis\":\"x\",\"y\":[\"World\"],\"yaxis\":\"y\",\"type\":\"bar\"},{\"alignmentgroup\":\"True\",\"hovertemplate\":\"Entity=%{y}<br>Year=2020<br>Individuals using the Internet (% of population)=%{x}<extra></extra>\",\"legendgroup\":\"India\",\"marker\":{\"color\":\"#6A82AB\",\"pattern\":{\"shape\":\"\"}},\"name\":\"India\",\"offsetgroup\":\"India\",\"orientation\":\"h\",\"showlegend\":true,\"textposition\":\"auto\",\"x\":[43.0],\"xaxis\":\"x\",\"y\":[\"India\"],\"yaxis\":\"y\",\"type\":\"bar\"},{\"alignmentgroup\":\"True\",\"hovertemplate\":\"Entity=%{y}<br>Year=2020<br>Individuals using the Internet (% of population)=%{x}<extra></extra>\",\"legendgroup\":\"Nigeria\",\"marker\":{\"color\":\"#6A82AB\",\"pattern\":{\"shape\":\"\"}},\"name\":\"Nigeria\",\"offsetgroup\":\"Nigeria\",\"orientation\":\"h\",\"showlegend\":true,\"textposition\":\"auto\",\"x\":[35.5],\"xaxis\":\"x\",\"y\":[\"Nigeria\"],\"yaxis\":\"y\",\"type\":\"bar\"}],                        {\"template\":{\"data\":{\"bar\":[{\"error_x\":{\"color\":\"#2a3f5f\"},\"error_y\":{\"color\":\"#2a3f5f\"},\"marker\":{\"line\":{\"color\":\"#E5ECF6\",\"width\":0.5},\"pattern\":{\"fillmode\":\"overlay\",\"size\":10,\"solidity\":0.2}},\"type\":\"bar\"}],\"barpolar\":[{\"marker\":{\"line\":{\"color\":\"#E5ECF6\",\"width\":0.5},\"pattern\":{\"fillmode\":\"overlay\",\"size\":10,\"solidity\":0.2}},\"type\":\"barpolar\"}],\"carpet\":[{\"aaxis\":{\"endlinecolor\":\"#2a3f5f\",\"gridcolor\":\"white\",\"linecolor\":\"white\",\"minorgridcolor\":\"white\",\"startlinecolor\":\"#2a3f5f\"},\"baxis\":{\"endlinecolor\":\"#2a3f5f\",\"gridcolor\":\"white\",\"linecolor\":\"white\",\"minorgridcolor\":\"white\",\"startlinecolor\":\"#2a3f5f\"},\"type\":\"carpet\"}],\"choropleth\":[{\"colorbar\":{\"outlinewidth\":0,\"ticks\":\"\"},\"type\":\"choropleth\"}],\"contour\":[{\"colorbar\":{\"outlinewidth\":0,\"ticks\":\"\"},\"colorscale\":[[0.0,\"#0d0887\"],[0.1111111111111111,\"#46039f\"],[0.2222222222222222,\"#7201a8\"],[0.3333333333333333,\"#9c179e\"],[0.4444444444444444,\"#bd3786\"],[0.5555555555555556,\"#d8576b\"],[0.6666666666666666,\"#ed7953\"],[0.7777777777777778,\"#fb9f3a\"],[0.8888888888888888,\"#fdca26\"],[1.0,\"#f0f921\"]],\"type\":\"contour\"}],\"contourcarpet\":[{\"colorbar\":{\"outlinewidth\":0,\"ticks\":\"\"},\"type\":\"contourcarpet\"}],\"heatmap\":[{\"colorbar\":{\"outlinewidth\":0,\"ticks\":\"\"},\"colorscale\":[[0.0,\"#0d0887\"],[0.1111111111111111,\"#46039f\"],[0.2222222222222222,\"#7201a8\"],[0.3333333333333333,\"#9c179e\"],[0.4444444444444444,\"#bd3786\"],[0.5555555555555556,\"#d8576b\"],[0.6666666666666666,\"#ed7953\"],[0.7777777777777778,\"#fb9f3a\"],[0.8888888888888888,\"#fdca26\"],[1.0,\"#f0f921\"]],\"type\":\"heatmap\"}],\"heatmapgl\":[{\"colorbar\":{\"outlinewidth\":0,\"ticks\":\"\"},\"colorscale\":[[0.0,\"#0d0887\"],[0.1111111111111111,\"#46039f\"],[0.2222222222222222,\"#7201a8\"],[0.3333333333333333,\"#9c179e\"],[0.4444444444444444,\"#bd3786\"],[0.5555555555555556,\"#d8576b\"],[0.6666666666666666,\"#ed7953\"],[0.7777777777777778,\"#fb9f3a\"],[0.8888888888888888,\"#fdca26\"],[1.0,\"#f0f921\"]],\"type\":\"heatmapgl\"}],\"histogram\":[{\"marker\":{\"pattern\":{\"fillmode\":\"overlay\",\"size\":10,\"solidity\":0.2}},\"type\":\"histogram\"}],\"histogram2d\":[{\"colorbar\":{\"outlinewidth\":0,\"ticks\":\"\"},\"colorscale\":[[0.0,\"#0d0887\"],[0.1111111111111111,\"#46039f\"],[0.2222222222222222,\"#7201a8\"],[0.3333333333333333,\"#9c179e\"],[0.4444444444444444,\"#bd3786\"],[0.5555555555555556,\"#d8576b\"],[0.6666666666666666,\"#ed7953\"],[0.7777777777777778,\"#fb9f3a\"],[0.8888888888888888,\"#fdca26\"],[1.0,\"#f0f921\"]],\"type\":\"histogram2d\"}],\"histogram2dcontour\":[{\"colorbar\":{\"outlinewidth\":0,\"ticks\":\"\"},\"colorscale\":[[0.0,\"#0d0887\"],[0.1111111111111111,\"#46039f\"],[0.2222222222222222,\"#7201a8\"],[0.3333333333333333,\"#9c179e\"],[0.4444444444444444,\"#bd3786\"],[0.5555555555555556,\"#d8576b\"],[0.6666666666666666,\"#ed7953\"],[0.7777777777777778,\"#fb9f3a\"],[0.8888888888888888,\"#fdca26\"],[1.0,\"#f0f921\"]],\"type\":\"histogram2dcontour\"}],\"mesh3d\":[{\"colorbar\":{\"outlinewidth\":0,\"ticks\":\"\"},\"type\":\"mesh3d\"}],\"parcoords\":[{\"line\":{\"colorbar\":{\"outlinewidth\":0,\"ticks\":\"\"}},\"type\":\"parcoords\"}],\"pie\":[{\"automargin\":true,\"type\":\"pie\"}],\"scatter\":[{\"marker\":{\"colorbar\":{\"outlinewidth\":0,\"ticks\":\"\"}},\"type\":\"scatter\"}],\"scatter3d\":[{\"line\":{\"colorbar\":{\"outlinewidth\":0,\"ticks\":\"\"}},\"marker\":{\"colorbar\":{\"outlinewidth\":0,\"ticks\":\"\"}},\"type\":\"scatter3d\"}],\"scattercarpet\":[{\"marker\":{\"colorbar\":{\"outlinewidth\":0,\"ticks\":\"\"}},\"type\":\"scattercarpet\"}],\"scattergeo\":[{\"marker\":{\"colorbar\":{\"outlinewidth\":0,\"ticks\":\"\"}},\"type\":\"scattergeo\"}],\"scattergl\":[{\"marker\":{\"colorbar\":{\"outlinewidth\":0,\"ticks\":\"\"}},\"type\":\"scattergl\"}],\"scattermapbox\":[{\"marker\":{\"colorbar\":{\"outlinewidth\":0,\"ticks\":\"\"}},\"type\":\"scattermapbox\"}],\"scatterpolar\":[{\"marker\":{\"colorbar\":{\"outlinewidth\":0,\"ticks\":\"\"}},\"type\":\"scatterpolar\"}],\"scatterpolargl\":[{\"marker\":{\"colorbar\":{\"outlinewidth\":0,\"ticks\":\"\"}},\"type\":\"scatterpolargl\"}],\"scatterternary\":[{\"marker\":{\"colorbar\":{\"outlinewidth\":0,\"ticks\":\"\"}},\"type\":\"scatterternary\"}],\"surface\":[{\"colorbar\":{\"outlinewidth\":0,\"ticks\":\"\"},\"colorscale\":[[0.0,\"#0d0887\"],[0.1111111111111111,\"#46039f\"],[0.2222222222222222,\"#7201a8\"],[0.3333333333333333,\"#9c179e\"],[0.4444444444444444,\"#bd3786\"],[0.5555555555555556,\"#d8576b\"],[0.6666666666666666,\"#ed7953\"],[0.7777777777777778,\"#fb9f3a\"],[0.8888888888888888,\"#fdca26\"],[1.0,\"#f0f921\"]],\"type\":\"surface\"}],\"table\":[{\"cells\":{\"fill\":{\"color\":\"#EBF0F8\"},\"line\":{\"color\":\"white\"}},\"header\":{\"fill\":{\"color\":\"#C8D4E3\"},\"line\":{\"color\":\"white\"}},\"type\":\"table\"}]},\"layout\":{\"annotationdefaults\":{\"arrowcolor\":\"#2a3f5f\",\"arrowhead\":0,\"arrowwidth\":1},\"autotypenumbers\":\"strict\",\"coloraxis\":{\"colorbar\":{\"outlinewidth\":0,\"ticks\":\"\"}},\"colorscale\":{\"diverging\":[[0,\"#8e0152\"],[0.1,\"#c51b7d\"],[0.2,\"#de77ae\"],[0.3,\"#f1b6da\"],[0.4,\"#fde0ef\"],[0.5,\"#f7f7f7\"],[0.6,\"#e6f5d0\"],[0.7,\"#b8e186\"],[0.8,\"#7fbc41\"],[0.9,\"#4d9221\"],[1,\"#276419\"]],\"sequential\":[[0.0,\"#0d0887\"],[0.1111111111111111,\"#46039f\"],[0.2222222222222222,\"#7201a8\"],[0.3333333333333333,\"#9c179e\"],[0.4444444444444444,\"#bd3786\"],[0.5555555555555556,\"#d8576b\"],[0.6666666666666666,\"#ed7953\"],[0.7777777777777778,\"#fb9f3a\"],[0.8888888888888888,\"#fdca26\"],[1.0,\"#f0f921\"]],\"sequentialminus\":[[0.0,\"#0d0887\"],[0.1111111111111111,\"#46039f\"],[0.2222222222222222,\"#7201a8\"],[0.3333333333333333,\"#9c179e\"],[0.4444444444444444,\"#bd3786\"],[0.5555555555555556,\"#d8576b\"],[0.6666666666666666,\"#ed7953\"],[0.7777777777777778,\"#fb9f3a\"],[0.8888888888888888,\"#fdca26\"],[1.0,\"#f0f921\"]]},\"colorway\":[\"#636efa\",\"#EF553B\",\"#00cc96\",\"#ab63fa\",\"#FFA15A\",\"#19d3f3\",\"#FF6692\",\"#B6E880\",\"#FF97FF\",\"#FECB52\"],\"font\":{\"color\":\"#2a3f5f\"},\"geo\":{\"bgcolor\":\"white\",\"lakecolor\":\"white\",\"landcolor\":\"#E5ECF6\",\"showlakes\":true,\"showland\":true,\"subunitcolor\":\"white\"},\"hoverlabel\":{\"align\":\"left\"},\"hovermode\":\"closest\",\"mapbox\":{\"style\":\"light\"},\"paper_bgcolor\":\"white\",\"plot_bgcolor\":\"#E5ECF6\",\"polar\":{\"angularaxis\":{\"gridcolor\":\"white\",\"linecolor\":\"white\",\"ticks\":\"\"},\"bgcolor\":\"#E5ECF6\",\"radialaxis\":{\"gridcolor\":\"white\",\"linecolor\":\"white\",\"ticks\":\"\"}},\"scene\":{\"xaxis\":{\"backgroundcolor\":\"#E5ECF6\",\"gridcolor\":\"white\",\"gridwidth\":2,\"linecolor\":\"white\",\"showbackground\":true,\"ticks\":\"\",\"zerolinecolor\":\"white\"},\"yaxis\":{\"backgroundcolor\":\"#E5ECF6\",\"gridcolor\":\"white\",\"gridwidth\":2,\"linecolor\":\"white\",\"showbackground\":true,\"ticks\":\"\",\"zerolinecolor\":\"white\"},\"zaxis\":{\"backgroundcolor\":\"#E5ECF6\",\"gridcolor\":\"white\",\"gridwidth\":2,\"linecolor\":\"white\",\"showbackground\":true,\"ticks\":\"\",\"zerolinecolor\":\"white\"}},\"shapedefaults\":{\"line\":{\"color\":\"#2a3f5f\"}},\"ternary\":{\"aaxis\":{\"gridcolor\":\"white\",\"linecolor\":\"white\",\"ticks\":\"\"},\"baxis\":{\"gridcolor\":\"white\",\"linecolor\":\"white\",\"ticks\":\"\"},\"bgcolor\":\"#E5ECF6\",\"caxis\":{\"gridcolor\":\"white\",\"linecolor\":\"white\",\"ticks\":\"\"}},\"title\":{\"x\":0.05},\"xaxis\":{\"automargin\":true,\"gridcolor\":\"white\",\"linecolor\":\"white\",\"ticks\":\"\",\"title\":{\"standoff\":15},\"zerolinecolor\":\"white\",\"zerolinewidth\":2},\"yaxis\":{\"automargin\":true,\"gridcolor\":\"white\",\"linecolor\":\"white\",\"ticks\":\"\",\"title\":{\"standoff\":15},\"zerolinecolor\":\"white\",\"zerolinewidth\":2}}},\"xaxis\":{\"anchor\":\"y\",\"domain\":[0.0,1.0],\"title\":{\"text\":\"Individuals using the Internet (% of population)\"}},\"yaxis\":{\"anchor\":\"x\",\"domain\":[0.0,1.0],\"title\":{\"text\":\"Entity\"},\"categoryorder\":\"array\",\"categoryarray\":[\"Nigeria\",\"India\",\"World\",\"China\",\"Brazil\",\"France\",\"United States\",\"Japan\",\"United Kingdom\"]},\"legend\":{\"title\":{\"text\":\"Entity\"},\"tracegroupgap\":0},\"margin\":{\"t\":60},\"barmode\":\"relative\",\"updatemenus\":[{\"buttons\":[{\"args\":[null,{\"frame\":{\"duration\":500,\"redraw\":true},\"mode\":\"immediate\",\"fromcurrent\":true,\"transition\":{\"duration\":500,\"easing\":\"linear\"}}],\"label\":\"&#9654;\",\"method\":\"animate\"},{\"args\":[[null],{\"frame\":{\"duration\":0,\"redraw\":true},\"mode\":\"immediate\",\"fromcurrent\":true,\"transition\":{\"duration\":0,\"easing\":\"linear\"}}],\"label\":\"&#9724;\",\"method\":\"animate\"}],\"direction\":\"left\",\"pad\":{\"r\":10,\"t\":70},\"showactive\":false,\"type\":\"buttons\",\"x\":0.1,\"xanchor\":\"right\",\"y\":0,\"yanchor\":\"top\"}],\"sliders\":[{\"active\":0,\"currentvalue\":{\"prefix\":\"Year=\"},\"len\":0.9,\"pad\":{\"b\":10,\"t\":60},\"steps\":[{\"args\":[[\"2020\"],{\"frame\":{\"duration\":0,\"redraw\":true},\"mode\":\"immediate\",\"fromcurrent\":true,\"transition\":{\"duration\":0,\"easing\":\"linear\"}}],\"label\":\"2020\",\"method\":\"animate\"},{\"args\":[[\"2016\"],{\"frame\":{\"duration\":0,\"redraw\":true},\"mode\":\"immediate\",\"fromcurrent\":true,\"transition\":{\"duration\":0,\"easing\":\"linear\"}}],\"label\":\"2016\",\"method\":\"animate\"},{\"args\":[[\"2019\"],{\"frame\":{\"duration\":0,\"redraw\":true},\"mode\":\"immediate\",\"fromcurrent\":true,\"transition\":{\"duration\":0,\"easing\":\"linear\"}}],\"label\":\"2019\",\"method\":\"animate\"},{\"args\":[[\"2015\"],{\"frame\":{\"duration\":0,\"redraw\":true},\"mode\":\"immediate\",\"fromcurrent\":true,\"transition\":{\"duration\":0,\"easing\":\"linear\"}}],\"label\":\"2015\",\"method\":\"animate\"},{\"args\":[[\"2017\"],{\"frame\":{\"duration\":0,\"redraw\":true},\"mode\":\"immediate\",\"fromcurrent\":true,\"transition\":{\"duration\":0,\"easing\":\"linear\"}}],\"label\":\"2017\",\"method\":\"animate\"},{\"args\":[[\"2014\"],{\"frame\":{\"duration\":0,\"redraw\":true},\"mode\":\"immediate\",\"fromcurrent\":true,\"transition\":{\"duration\":0,\"easing\":\"linear\"}}],\"label\":\"2014\",\"method\":\"animate\"},{\"args\":[[\"2018\"],{\"frame\":{\"duration\":0,\"redraw\":true},\"mode\":\"immediate\",\"fromcurrent\":true,\"transition\":{\"duration\":0,\"easing\":\"linear\"}}],\"label\":\"2018\",\"method\":\"animate\"},{\"args\":[[\"2013\"],{\"frame\":{\"duration\":0,\"redraw\":true},\"mode\":\"immediate\",\"fromcurrent\":true,\"transition\":{\"duration\":0,\"easing\":\"linear\"}}],\"label\":\"2013\",\"method\":\"animate\"},{\"args\":[[\"2012\"],{\"frame\":{\"duration\":0,\"redraw\":true},\"mode\":\"immediate\",\"fromcurrent\":true,\"transition\":{\"duration\":0,\"easing\":\"linear\"}}],\"label\":\"2012\",\"method\":\"animate\"},{\"args\":[[\"2011\"],{\"frame\":{\"duration\":0,\"redraw\":true},\"mode\":\"immediate\",\"fromcurrent\":true,\"transition\":{\"duration\":0,\"easing\":\"linear\"}}],\"label\":\"2011\",\"method\":\"animate\"},{\"args\":[[\"2010\"],{\"frame\":{\"duration\":0,\"redraw\":true},\"mode\":\"immediate\",\"fromcurrent\":true,\"transition\":{\"duration\":0,\"easing\":\"linear\"}}],\"label\":\"2010\",\"method\":\"animate\"},{\"args\":[[\"2009\"],{\"frame\":{\"duration\":0,\"redraw\":true},\"mode\":\"immediate\",\"fromcurrent\":true,\"transition\":{\"duration\":0,\"easing\":\"linear\"}}],\"label\":\"2009\",\"method\":\"animate\"},{\"args\":[[\"2008\"],{\"frame\":{\"duration\":0,\"redraw\":true},\"mode\":\"immediate\",\"fromcurrent\":true,\"transition\":{\"duration\":0,\"easing\":\"linear\"}}],\"label\":\"2008\",\"method\":\"animate\"},{\"args\":[[\"2007\"],{\"frame\":{\"duration\":0,\"redraw\":true},\"mode\":\"immediate\",\"fromcurrent\":true,\"transition\":{\"duration\":0,\"easing\":\"linear\"}}],\"label\":\"2007\",\"method\":\"animate\"},{\"args\":[[\"2005\"],{\"frame\":{\"duration\":0,\"redraw\":true},\"mode\":\"immediate\",\"fromcurrent\":true,\"transition\":{\"duration\":0,\"easing\":\"linear\"}}],\"label\":\"2005\",\"method\":\"animate\"},{\"args\":[[\"2006\"],{\"frame\":{\"duration\":0,\"redraw\":true},\"mode\":\"immediate\",\"fromcurrent\":true,\"transition\":{\"duration\":0,\"easing\":\"linear\"}}],\"label\":\"2006\",\"method\":\"animate\"},{\"args\":[[\"2004\"],{\"frame\":{\"duration\":0,\"redraw\":true},\"mode\":\"immediate\",\"fromcurrent\":true,\"transition\":{\"duration\":0,\"easing\":\"linear\"}}],\"label\":\"2004\",\"method\":\"animate\"},{\"args\":[[\"2003\"],{\"frame\":{\"duration\":0,\"redraw\":true},\"mode\":\"immediate\",\"fromcurrent\":true,\"transition\":{\"duration\":0,\"easing\":\"linear\"}}],\"label\":\"2003\",\"method\":\"animate\"},{\"args\":[[\"2002\"],{\"frame\":{\"duration\":0,\"redraw\":true},\"mode\":\"immediate\",\"fromcurrent\":true,\"transition\":{\"duration\":0,\"easing\":\"linear\"}}],\"label\":\"2002\",\"method\":\"animate\"},{\"args\":[[\"2001\"],{\"frame\":{\"duration\":0,\"redraw\":true},\"mode\":\"immediate\",\"fromcurrent\":true,\"transition\":{\"duration\":0,\"easing\":\"linear\"}}],\"label\":\"2001\",\"method\":\"animate\"},{\"args\":[[\"2000\"],{\"frame\":{\"duration\":0,\"redraw\":true},\"mode\":\"immediate\",\"fromcurrent\":true,\"transition\":{\"duration\":0,\"easing\":\"linear\"}}],\"label\":\"2000\",\"method\":\"animate\"},{\"args\":[[\"1999\"],{\"frame\":{\"duration\":0,\"redraw\":true},\"mode\":\"immediate\",\"fromcurrent\":true,\"transition\":{\"duration\":0,\"easing\":\"linear\"}}],\"label\":\"1999\",\"method\":\"animate\"},{\"args\":[[\"1998\"],{\"frame\":{\"duration\":0,\"redraw\":true},\"mode\":\"immediate\",\"fromcurrent\":true,\"transition\":{\"duration\":0,\"easing\":\"linear\"}}],\"label\":\"1998\",\"method\":\"animate\"},{\"args\":[[\"1997\"],{\"frame\":{\"duration\":0,\"redraw\":true},\"mode\":\"immediate\",\"fromcurrent\":true,\"transition\":{\"duration\":0,\"easing\":\"linear\"}}],\"label\":\"1997\",\"method\":\"animate\"},{\"args\":[[\"1996\"],{\"frame\":{\"duration\":0,\"redraw\":true},\"mode\":\"immediate\",\"fromcurrent\":true,\"transition\":{\"duration\":0,\"easing\":\"linear\"}}],\"label\":\"1996\",\"method\":\"animate\"},{\"args\":[[\"1995\"],{\"frame\":{\"duration\":0,\"redraw\":true},\"mode\":\"immediate\",\"fromcurrent\":true,\"transition\":{\"duration\":0,\"easing\":\"linear\"}}],\"label\":\"1995\",\"method\":\"animate\"},{\"args\":[[\"1994\"],{\"frame\":{\"duration\":0,\"redraw\":true},\"mode\":\"immediate\",\"fromcurrent\":true,\"transition\":{\"duration\":0,\"easing\":\"linear\"}}],\"label\":\"1994\",\"method\":\"animate\"},{\"args\":[[\"1993\"],{\"frame\":{\"duration\":0,\"redraw\":true},\"mode\":\"immediate\",\"fromcurrent\":true,\"transition\":{\"duration\":0,\"easing\":\"linear\"}}],\"label\":\"1993\",\"method\":\"animate\"},{\"args\":[[\"1992\"],{\"frame\":{\"duration\":0,\"redraw\":true},\"mode\":\"immediate\",\"fromcurrent\":true,\"transition\":{\"duration\":0,\"easing\":\"linear\"}}],\"label\":\"1992\",\"method\":\"animate\"},{\"args\":[[\"1991\"],{\"frame\":{\"duration\":0,\"redraw\":true},\"mode\":\"immediate\",\"fromcurrent\":true,\"transition\":{\"duration\":0,\"easing\":\"linear\"}}],\"label\":\"1991\",\"method\":\"animate\"},{\"args\":[[\"1990\"],{\"frame\":{\"duration\":0,\"redraw\":true},\"mode\":\"immediate\",\"fromcurrent\":true,\"transition\":{\"duration\":0,\"easing\":\"linear\"}}],\"label\":\"1990\",\"method\":\"animate\"}],\"x\":0.1,\"xanchor\":\"left\",\"y\":0,\"yanchor\":\"top\"}]},                        {\"responsive\": true}                    ).then(function(){\n",
       "                            Plotly.addFrames('06cb1f32-6969-4ab5-a813-c232d01e35ec', [{\"data\":[{\"alignmentgroup\":\"True\",\"hovertemplate\":\"Entity=%{y}<br>Year=2020<br>Individuals using the Internet (% of population)=%{x}<extra></extra>\",\"legendgroup\":\"United Kingdom\",\"marker\":{\"color\":\"#6A82AB\",\"pattern\":{\"shape\":\"\"}},\"name\":\"United Kingdom\",\"offsetgroup\":\"United Kingdom\",\"orientation\":\"h\",\"showlegend\":true,\"textposition\":\"auto\",\"x\":[94.81819915771484],\"xaxis\":\"x\",\"y\":[\"United Kingdom\"],\"yaxis\":\"y\",\"type\":\"bar\"},{\"alignmentgroup\":\"True\",\"hovertemplate\":\"Entity=%{y}<br>Year=2020<br>Individuals using the Internet (% of population)=%{x}<extra></extra>\",\"legendgroup\":\"Japan\",\"marker\":{\"color\":\"#6A82AB\",\"pattern\":{\"shape\":\"\"}},\"name\":\"Japan\",\"offsetgroup\":\"Japan\",\"orientation\":\"h\",\"showlegend\":true,\"textposition\":\"auto\",\"x\":[90.2194595336914],\"xaxis\":\"x\",\"y\":[\"Japan\"],\"yaxis\":\"y\",\"type\":\"bar\"},{\"alignmentgroup\":\"True\",\"hovertemplate\":\"Entity=%{y}<br>Year=2020<br>Individuals using the Internet (% of population)=%{x}<extra></extra>\",\"legendgroup\":\"United States\",\"marker\":{\"color\":\"#D24B4E\",\"pattern\":{\"shape\":\"\"}},\"name\":\"United States\",\"offsetgroup\":\"United States\",\"orientation\":\"h\",\"showlegend\":true,\"textposition\":\"auto\",\"x\":[90.9000015258789],\"xaxis\":\"x\",\"y\":[\"United States\"],\"yaxis\":\"y\",\"type\":\"bar\"},{\"alignmentgroup\":\"True\",\"hovertemplate\":\"Entity=%{y}<br>Year=2020<br>Individuals using the Internet (% of population)=%{x}<extra></extra>\",\"legendgroup\":\"France\",\"marker\":{\"color\":\"#6A82AB\",\"pattern\":{\"shape\":\"\"}},\"name\":\"France\",\"offsetgroup\":\"France\",\"orientation\":\"h\",\"showlegend\":true,\"textposition\":\"auto\",\"x\":[84.80000305175781],\"xaxis\":\"x\",\"y\":[\"France\"],\"yaxis\":\"y\",\"type\":\"bar\"},{\"alignmentgroup\":\"True\",\"hovertemplate\":\"Entity=%{y}<br>Year=2020<br>Individuals using the Internet (% of population)=%{x}<extra></extra>\",\"legendgroup\":\"Brazil\",\"marker\":{\"color\":\"#6A82AB\",\"pattern\":{\"shape\":\"\"}},\"name\":\"Brazil\",\"offsetgroup\":\"Brazil\",\"orientation\":\"h\",\"showlegend\":true,\"textposition\":\"auto\",\"x\":[81.34269714355469],\"xaxis\":\"x\",\"y\":[\"Brazil\"],\"yaxis\":\"y\",\"type\":\"bar\"},{\"alignmentgroup\":\"True\",\"hovertemplate\":\"Entity=%{y}<br>Year=2020<br>Individuals using the Internet (% of population)=%{x}<extra></extra>\",\"legendgroup\":\"China\",\"marker\":{\"color\":\"#6A82AB\",\"pattern\":{\"shape\":\"\"}},\"name\":\"China\",\"offsetgroup\":\"China\",\"orientation\":\"h\",\"showlegend\":true,\"textposition\":\"auto\",\"x\":[70.40477752685547],\"xaxis\":\"x\",\"y\":[\"China\"],\"yaxis\":\"y\",\"type\":\"bar\"},{\"alignmentgroup\":\"True\",\"hovertemplate\":\"Entity=%{y}<br>Year=2020<br>Individuals using the Internet (% of population)=%{x}<extra></extra>\",\"legendgroup\":\"World\",\"marker\":{\"color\":\"#6A82AB\",\"pattern\":{\"shape\":\"\"}},\"name\":\"World\",\"offsetgroup\":\"World\",\"orientation\":\"h\",\"showlegend\":true,\"textposition\":\"auto\",\"x\":[59.94024658203125],\"xaxis\":\"x\",\"y\":[\"World\"],\"yaxis\":\"y\",\"type\":\"bar\"},{\"alignmentgroup\":\"True\",\"hovertemplate\":\"Entity=%{y}<br>Year=2020<br>Individuals using the Internet (% of population)=%{x}<extra></extra>\",\"legendgroup\":\"India\",\"marker\":{\"color\":\"#6A82AB\",\"pattern\":{\"shape\":\"\"}},\"name\":\"India\",\"offsetgroup\":\"India\",\"orientation\":\"h\",\"showlegend\":true,\"textposition\":\"auto\",\"x\":[43.0],\"xaxis\":\"x\",\"y\":[\"India\"],\"yaxis\":\"y\",\"type\":\"bar\"},{\"alignmentgroup\":\"True\",\"hovertemplate\":\"Entity=%{y}<br>Year=2020<br>Individuals using the Internet (% of population)=%{x}<extra></extra>\",\"legendgroup\":\"Nigeria\",\"marker\":{\"color\":\"#6A82AB\",\"pattern\":{\"shape\":\"\"}},\"name\":\"Nigeria\",\"offsetgroup\":\"Nigeria\",\"orientation\":\"h\",\"showlegend\":true,\"textposition\":\"auto\",\"x\":[35.5],\"xaxis\":\"x\",\"y\":[\"Nigeria\"],\"yaxis\":\"y\",\"type\":\"bar\"}],\"name\":\"2020\"},{\"data\":[{\"alignmentgroup\":\"True\",\"hovertemplate\":\"Entity=%{y}<br>Year=2016<br>Individuals using the Internet (% of population)=%{x}<extra></extra>\",\"legendgroup\":\"United Kingdom\",\"marker\":{\"color\":\"#6A82AB\",\"pattern\":{\"shape\":\"\"}},\"name\":\"United Kingdom\",\"offsetgroup\":\"United Kingdom\",\"orientation\":\"h\",\"showlegend\":true,\"textposition\":\"auto\",\"x\":[94.77580261230467],\"xaxis\":\"x\",\"y\":[\"United Kingdom\"],\"yaxis\":\"y\",\"type\":\"bar\"},{\"alignmentgroup\":\"True\",\"hovertemplate\":\"Entity=%{y}<br>Year=2016<br>Individuals using the Internet (% of population)=%{x}<extra></extra>\",\"legendgroup\":\"Japan\",\"marker\":{\"color\":\"#6A82AB\",\"pattern\":{\"shape\":\"\"}},\"name\":\"Japan\",\"offsetgroup\":\"Japan\",\"orientation\":\"h\",\"showlegend\":true,\"textposition\":\"auto\",\"x\":[93.18272399902344],\"xaxis\":\"x\",\"y\":[\"Japan\"],\"yaxis\":\"y\",\"type\":\"bar\"},{\"alignmentgroup\":\"True\",\"hovertemplate\":\"Entity=%{y}<br>Year=2016<br>Individuals using the Internet (% of population)=%{x}<extra></extra>\",\"legendgroup\":\"United States\",\"marker\":{\"color\":\"#D24B4E\",\"pattern\":{\"shape\":\"\"}},\"name\":\"United States\",\"offsetgroup\":\"United States\",\"orientation\":\"h\",\"showlegend\":true,\"textposition\":\"auto\",\"x\":[85.54441833496094],\"xaxis\":\"x\",\"y\":[\"United States\"],\"yaxis\":\"y\",\"type\":\"bar\"},{\"alignmentgroup\":\"True\",\"hovertemplate\":\"Entity=%{y}<br>Year=2016<br>Individuals using the Internet (% of population)=%{x}<extra></extra>\",\"legendgroup\":\"France\",\"marker\":{\"color\":\"#6A82AB\",\"pattern\":{\"shape\":\"\"}},\"name\":\"France\",\"offsetgroup\":\"France\",\"orientation\":\"h\",\"showlegend\":true,\"textposition\":\"auto\",\"x\":[79.26981353759766],\"xaxis\":\"x\",\"y\":[\"France\"],\"yaxis\":\"y\",\"type\":\"bar\"},{\"alignmentgroup\":\"True\",\"hovertemplate\":\"Entity=%{y}<br>Year=2016<br>Individuals using the Internet (% of population)=%{x}<extra></extra>\",\"legendgroup\":\"Brazil\",\"marker\":{\"color\":\"#6A82AB\",\"pattern\":{\"shape\":\"\"}},\"name\":\"Brazil\",\"offsetgroup\":\"Brazil\",\"orientation\":\"h\",\"showlegend\":true,\"textposition\":\"auto\",\"x\":[60.87253952026367],\"xaxis\":\"x\",\"y\":[\"Brazil\"],\"yaxis\":\"y\",\"type\":\"bar\"},{\"alignmentgroup\":\"True\",\"hovertemplate\":\"Entity=%{y}<br>Year=2016<br>Individuals using the Internet (% of population)=%{x}<extra></extra>\",\"legendgroup\":\"China\",\"marker\":{\"color\":\"#6A82AB\",\"pattern\":{\"shape\":\"\"}},\"name\":\"China\",\"offsetgroup\":\"China\",\"orientation\":\"h\",\"showlegend\":true,\"textposition\":\"auto\",\"x\":[53.20000076293945],\"xaxis\":\"x\",\"y\":[\"China\"],\"yaxis\":\"y\",\"type\":\"bar\"},{\"alignmentgroup\":\"True\",\"hovertemplate\":\"Entity=%{y}<br>Year=2016<br>Individuals using the Internet (% of population)=%{x}<extra></extra>\",\"legendgroup\":\"World\",\"marker\":{\"color\":\"#6A82AB\",\"pattern\":{\"shape\":\"\"}},\"name\":\"World\",\"offsetgroup\":\"World\",\"orientation\":\"h\",\"showlegend\":true,\"textposition\":\"auto\",\"x\":[43.33835220336914],\"xaxis\":\"x\",\"y\":[\"World\"],\"yaxis\":\"y\",\"type\":\"bar\"},{\"alignmentgroup\":\"True\",\"hovertemplate\":\"Entity=%{y}<br>Year=2016<br>Individuals using the Internet (% of population)=%{x}<extra></extra>\",\"legendgroup\":\"India\",\"marker\":{\"color\":\"#6A82AB\",\"pattern\":{\"shape\":\"\"}},\"name\":\"India\",\"offsetgroup\":\"India\",\"orientation\":\"h\",\"showlegend\":true,\"textposition\":\"auto\",\"x\":[16.5],\"xaxis\":\"x\",\"y\":[\"India\"],\"yaxis\":\"y\",\"type\":\"bar\"},{\"alignmentgroup\":\"True\",\"hovertemplate\":\"Entity=%{y}<br>Year=2016<br>Individuals using the Internet (% of population)=%{x}<extra></extra>\",\"legendgroup\":\"Nigeria\",\"marker\":{\"color\":\"#6A82AB\",\"pattern\":{\"shape\":\"\"}},\"name\":\"Nigeria\",\"offsetgroup\":\"Nigeria\",\"orientation\":\"h\",\"showlegend\":true,\"textposition\":\"auto\",\"x\":[25.670000076293945],\"xaxis\":\"x\",\"y\":[\"Nigeria\"],\"yaxis\":\"y\",\"type\":\"bar\"}],\"name\":\"2016\"},{\"data\":[{\"alignmentgroup\":\"True\",\"hovertemplate\":\"Entity=%{y}<br>Year=2019<br>Individuals using the Internet (% of population)=%{x}<extra></extra>\",\"legendgroup\":\"United Kingdom\",\"marker\":{\"color\":\"#6A82AB\",\"pattern\":{\"shape\":\"\"}},\"name\":\"United Kingdom\",\"offsetgroup\":\"United Kingdom\",\"orientation\":\"h\",\"showlegend\":true,\"textposition\":\"auto\",\"x\":[92.51663208007812],\"xaxis\":\"x\",\"y\":[\"United Kingdom\"],\"yaxis\":\"y\",\"type\":\"bar\"},{\"alignmentgroup\":\"True\",\"hovertemplate\":\"Entity=%{y}<br>Year=2019<br>Individuals using the Internet (% of population)=%{x}<extra></extra>\",\"legendgroup\":\"Japan\",\"marker\":{\"color\":\"#6A82AB\",\"pattern\":{\"shape\":\"\"}},\"name\":\"Japan\",\"offsetgroup\":\"Japan\",\"orientation\":\"h\",\"showlegend\":true,\"textposition\":\"auto\",\"x\":[92.73040008544922],\"xaxis\":\"x\",\"y\":[\"Japan\"],\"yaxis\":\"y\",\"type\":\"bar\"},{\"alignmentgroup\":\"True\",\"hovertemplate\":\"Entity=%{y}<br>Year=2019<br>Individuals using the Internet (% of population)=%{x}<extra></extra>\",\"legendgroup\":\"United States\",\"marker\":{\"color\":\"#D24B4E\",\"pattern\":{\"shape\":\"\"}},\"name\":\"United States\",\"offsetgroup\":\"United States\",\"orientation\":\"h\",\"showlegend\":true,\"textposition\":\"auto\",\"x\":[89.43028259277344],\"xaxis\":\"x\",\"y\":[\"United States\"],\"yaxis\":\"y\",\"type\":\"bar\"},{\"alignmentgroup\":\"True\",\"hovertemplate\":\"Entity=%{y}<br>Year=2019<br>Individuals using the Internet (% of population)=%{x}<extra></extra>\",\"legendgroup\":\"France\",\"marker\":{\"color\":\"#6A82AB\",\"pattern\":{\"shape\":\"\"}},\"name\":\"France\",\"offsetgroup\":\"France\",\"orientation\":\"h\",\"showlegend\":true,\"textposition\":\"auto\",\"x\":[83.3397445678711],\"xaxis\":\"x\",\"y\":[\"France\"],\"yaxis\":\"y\",\"type\":\"bar\"},{\"alignmentgroup\":\"True\",\"hovertemplate\":\"Entity=%{y}<br>Year=2019<br>Individuals using the Internet (% of population)=%{x}<extra></extra>\",\"legendgroup\":\"Brazil\",\"marker\":{\"color\":\"#6A82AB\",\"pattern\":{\"shape\":\"\"}},\"name\":\"Brazil\",\"offsetgroup\":\"Brazil\",\"orientation\":\"h\",\"showlegend\":true,\"textposition\":\"auto\",\"x\":[73.91243743896484],\"xaxis\":\"x\",\"y\":[\"Brazil\"],\"yaxis\":\"y\",\"type\":\"bar\"},{\"alignmentgroup\":\"True\",\"hovertemplate\":\"Entity=%{y}<br>Year=2019<br>Individuals using the Internet (% of population)=%{x}<extra></extra>\",\"legendgroup\":\"China\",\"marker\":{\"color\":\"#6A82AB\",\"pattern\":{\"shape\":\"\"}},\"name\":\"China\",\"offsetgroup\":\"China\",\"orientation\":\"h\",\"showlegend\":true,\"textposition\":\"auto\",\"x\":[64.1098403930664],\"xaxis\":\"x\",\"y\":[\"China\"],\"yaxis\":\"y\",\"type\":\"bar\"},{\"alignmentgroup\":\"True\",\"hovertemplate\":\"Entity=%{y}<br>Year=2019<br>Individuals using the Internet (% of population)=%{x}<extra></extra>\",\"legendgroup\":\"World\",\"marker\":{\"color\":\"#6A82AB\",\"pattern\":{\"shape\":\"\"}},\"name\":\"World\",\"offsetgroup\":\"World\",\"orientation\":\"h\",\"showlegend\":true,\"textposition\":\"auto\",\"x\":[54.01298522949219],\"xaxis\":\"x\",\"y\":[\"World\"],\"yaxis\":\"y\",\"type\":\"bar\"},{\"alignmentgroup\":\"True\",\"hovertemplate\":\"Entity=%{y}<br>Year=2019<br>Individuals using the Internet (% of population)=%{x}<extra></extra>\",\"legendgroup\":\"India\",\"marker\":{\"color\":\"#6A82AB\",\"pattern\":{\"shape\":\"\"}},\"name\":\"India\",\"offsetgroup\":\"India\",\"orientation\":\"h\",\"showlegend\":true,\"textposition\":\"auto\",\"x\":[29.399999618530277],\"xaxis\":\"x\",\"y\":[\"India\"],\"yaxis\":\"y\",\"type\":\"bar\"},{\"alignmentgroup\":\"True\",\"hovertemplate\":\"Entity=%{y}<br>Year=2019<br>Individuals using the Internet (% of population)=%{x}<extra></extra>\",\"legendgroup\":\"Nigeria\",\"marker\":{\"color\":\"#6A82AB\",\"pattern\":{\"shape\":\"\"}},\"name\":\"Nigeria\",\"offsetgroup\":\"Nigeria\",\"orientation\":\"h\",\"showlegend\":true,\"textposition\":\"auto\",\"x\":[33.599998474121094],\"xaxis\":\"x\",\"y\":[\"Nigeria\"],\"yaxis\":\"y\",\"type\":\"bar\"}],\"name\":\"2019\"},{\"data\":[{\"alignmentgroup\":\"True\",\"hovertemplate\":\"Entity=%{y}<br>Year=2015<br>Individuals using the Internet (% of population)=%{x}<extra></extra>\",\"legendgroup\":\"United Kingdom\",\"marker\":{\"color\":\"#6A82AB\",\"pattern\":{\"shape\":\"\"}},\"name\":\"United Kingdom\",\"offsetgroup\":\"United Kingdom\",\"orientation\":\"h\",\"showlegend\":true,\"textposition\":\"auto\",\"x\":[92.00029754638672],\"xaxis\":\"x\",\"y\":[\"United Kingdom\"],\"yaxis\":\"y\",\"type\":\"bar\"},{\"alignmentgroup\":\"True\",\"hovertemplate\":\"Entity=%{y}<br>Year=2015<br>Individuals using the Internet (% of population)=%{x}<extra></extra>\",\"legendgroup\":\"Japan\",\"marker\":{\"color\":\"#6A82AB\",\"pattern\":{\"shape\":\"\"}},\"name\":\"Japan\",\"offsetgroup\":\"Japan\",\"orientation\":\"h\",\"showlegend\":true,\"textposition\":\"auto\",\"x\":[91.05802917480467],\"xaxis\":\"x\",\"y\":[\"Japan\"],\"yaxis\":\"y\",\"type\":\"bar\"},{\"alignmentgroup\":\"True\",\"hovertemplate\":\"Entity=%{y}<br>Year=2015<br>Individuals using the Internet (% of population)=%{x}<extra></extra>\",\"legendgroup\":\"United States\",\"marker\":{\"color\":\"#D24B4E\",\"pattern\":{\"shape\":\"\"}},\"name\":\"United States\",\"offsetgroup\":\"United States\",\"orientation\":\"h\",\"showlegend\":true,\"textposition\":\"auto\",\"x\":[74.55419921875],\"xaxis\":\"x\",\"y\":[\"United States\"],\"yaxis\":\"y\",\"type\":\"bar\"},{\"alignmentgroup\":\"True\",\"hovertemplate\":\"Entity=%{y}<br>Year=2015<br>Individuals using the Internet (% of population)=%{x}<extra></extra>\",\"legendgroup\":\"France\",\"marker\":{\"color\":\"#6A82AB\",\"pattern\":{\"shape\":\"\"}},\"name\":\"France\",\"offsetgroup\":\"France\",\"orientation\":\"h\",\"showlegend\":true,\"textposition\":\"auto\",\"x\":[78.00603485107422],\"xaxis\":\"x\",\"y\":[\"France\"],\"yaxis\":\"y\",\"type\":\"bar\"},{\"alignmentgroup\":\"True\",\"hovertemplate\":\"Entity=%{y}<br>Year=2015<br>Individuals using the Internet (% of population)=%{x}<extra></extra>\",\"legendgroup\":\"Brazil\",\"marker\":{\"color\":\"#6A82AB\",\"pattern\":{\"shape\":\"\"}},\"name\":\"Brazil\",\"offsetgroup\":\"Brazil\",\"orientation\":\"h\",\"showlegend\":true,\"textposition\":\"auto\",\"x\":[58.32795333862305],\"xaxis\":\"x\",\"y\":[\"Brazil\"],\"yaxis\":\"y\",\"type\":\"bar\"},{\"alignmentgroup\":\"True\",\"hovertemplate\":\"Entity=%{y}<br>Year=2015<br>Individuals using the Internet (% of population)=%{x}<extra></extra>\",\"legendgroup\":\"China\",\"marker\":{\"color\":\"#6A82AB\",\"pattern\":{\"shape\":\"\"}},\"name\":\"China\",\"offsetgroup\":\"China\",\"orientation\":\"h\",\"showlegend\":true,\"textposition\":\"auto\",\"x\":[50.29999923706055],\"xaxis\":\"x\",\"y\":[\"China\"],\"yaxis\":\"y\",\"type\":\"bar\"},{\"alignmentgroup\":\"True\",\"hovertemplate\":\"Entity=%{y}<br>Year=2015<br>Individuals using the Internet (% of population)=%{x}<extra></extra>\",\"legendgroup\":\"World\",\"marker\":{\"color\":\"#6A82AB\",\"pattern\":{\"shape\":\"\"}},\"name\":\"World\",\"offsetgroup\":\"World\",\"orientation\":\"h\",\"showlegend\":true,\"textposition\":\"auto\",\"x\":[40.4570541381836],\"xaxis\":\"x\",\"y\":[\"World\"],\"yaxis\":\"y\",\"type\":\"bar\"},{\"alignmentgroup\":\"True\",\"hovertemplate\":\"Entity=%{y}<br>Year=2015<br>Individuals using the Internet (% of population)=%{x}<extra></extra>\",\"legendgroup\":\"India\",\"marker\":{\"color\":\"#6A82AB\",\"pattern\":{\"shape\":\"\"}},\"name\":\"India\",\"offsetgroup\":\"India\",\"orientation\":\"h\",\"showlegend\":true,\"textposition\":\"auto\",\"x\":[14.899999618530272],\"xaxis\":\"x\",\"y\":[\"India\"],\"yaxis\":\"y\",\"type\":\"bar\"},{\"alignmentgroup\":\"True\",\"hovertemplate\":\"Entity=%{y}<br>Year=2015<br>Individuals using the Internet (% of population)=%{x}<extra></extra>\",\"legendgroup\":\"Nigeria\",\"marker\":{\"color\":\"#6A82AB\",\"pattern\":{\"shape\":\"\"}},\"name\":\"Nigeria\",\"offsetgroup\":\"Nigeria\",\"orientation\":\"h\",\"showlegend\":true,\"textposition\":\"auto\",\"x\":[24.5],\"xaxis\":\"x\",\"y\":[\"Nigeria\"],\"yaxis\":\"y\",\"type\":\"bar\"}],\"name\":\"2015\"},{\"data\":[{\"alignmentgroup\":\"True\",\"hovertemplate\":\"Entity=%{y}<br>Year=2017<br>Individuals using the Internet (% of population)=%{x}<extra></extra>\",\"legendgroup\":\"United Kingdom\",\"marker\":{\"color\":\"#6A82AB\",\"pattern\":{\"shape\":\"\"}},\"name\":\"United Kingdom\",\"offsetgroup\":\"United Kingdom\",\"orientation\":\"h\",\"showlegend\":true,\"textposition\":\"auto\",\"x\":[90.42455291748048],\"xaxis\":\"x\",\"y\":[\"United Kingdom\"],\"yaxis\":\"y\",\"type\":\"bar\"},{\"alignmentgroup\":\"True\",\"hovertemplate\":\"Entity=%{y}<br>Year=2017<br>Individuals using the Internet (% of population)=%{x}<extra></extra>\",\"legendgroup\":\"Japan\",\"marker\":{\"color\":\"#6A82AB\",\"pattern\":{\"shape\":\"\"}},\"name\":\"Japan\",\"offsetgroup\":\"Japan\",\"orientation\":\"h\",\"showlegend\":true,\"textposition\":\"auto\",\"x\":[91.72654724121094],\"xaxis\":\"x\",\"y\":[\"Japan\"],\"yaxis\":\"y\",\"type\":\"bar\"},{\"alignmentgroup\":\"True\",\"hovertemplate\":\"Entity=%{y}<br>Year=2017<br>Individuals using the Internet (% of population)=%{x}<extra></extra>\",\"legendgroup\":\"United States\",\"marker\":{\"color\":\"#D24B4E\",\"pattern\":{\"shape\":\"\"}},\"name\":\"United States\",\"offsetgroup\":\"United States\",\"orientation\":\"h\",\"showlegend\":true,\"textposition\":\"auto\",\"x\":[87.27488708496094],\"xaxis\":\"x\",\"y\":[\"United States\"],\"yaxis\":\"y\",\"type\":\"bar\"},{\"alignmentgroup\":\"True\",\"hovertemplate\":\"Entity=%{y}<br>Year=2017<br>Individuals using the Internet (% of population)=%{x}<extra></extra>\",\"legendgroup\":\"France\",\"marker\":{\"color\":\"#6A82AB\",\"pattern\":{\"shape\":\"\"}},\"name\":\"France\",\"offsetgroup\":\"France\",\"orientation\":\"h\",\"showlegend\":true,\"textposition\":\"auto\",\"x\":[80.50245666503906],\"xaxis\":\"x\",\"y\":[\"France\"],\"yaxis\":\"y\",\"type\":\"bar\"},{\"alignmentgroup\":\"True\",\"hovertemplate\":\"Entity=%{y}<br>Year=2017<br>Individuals using the Internet (% of population)=%{x}<extra></extra>\",\"legendgroup\":\"Brazil\",\"marker\":{\"color\":\"#6A82AB\",\"pattern\":{\"shape\":\"\"}},\"name\":\"Brazil\",\"offsetgroup\":\"Brazil\",\"orientation\":\"h\",\"showlegend\":true,\"textposition\":\"auto\",\"x\":[67.47128295898438],\"xaxis\":\"x\",\"y\":[\"Brazil\"],\"yaxis\":\"y\",\"type\":\"bar\"},{\"alignmentgroup\":\"True\",\"hovertemplate\":\"Entity=%{y}<br>Year=2017<br>Individuals using the Internet (% of population)=%{x}<extra></extra>\",\"legendgroup\":\"China\",\"marker\":{\"color\":\"#6A82AB\",\"pattern\":{\"shape\":\"\"}},\"name\":\"China\",\"offsetgroup\":\"China\",\"orientation\":\"h\",\"showlegend\":true,\"textposition\":\"auto\",\"x\":[54.29999923706055],\"xaxis\":\"x\",\"y\":[\"China\"],\"yaxis\":\"y\",\"type\":\"bar\"},{\"alignmentgroup\":\"True\",\"hovertemplate\":\"Entity=%{y}<br>Year=2017<br>Individuals using the Internet (% of population)=%{x}<extra></extra>\",\"legendgroup\":\"World\",\"marker\":{\"color\":\"#6A82AB\",\"pattern\":{\"shape\":\"\"}},\"name\":\"World\",\"offsetgroup\":\"World\",\"orientation\":\"h\",\"showlegend\":true,\"textposition\":\"auto\",\"x\":[45.83983612060547],\"xaxis\":\"x\",\"y\":[\"World\"],\"yaxis\":\"y\",\"type\":\"bar\"},{\"alignmentgroup\":\"True\",\"hovertemplate\":\"Entity=%{y}<br>Year=2017<br>Individuals using the Internet (% of population)=%{x}<extra></extra>\",\"legendgroup\":\"India\",\"marker\":{\"color\":\"#6A82AB\",\"pattern\":{\"shape\":\"\"}},\"name\":\"India\",\"offsetgroup\":\"India\",\"orientation\":\"h\",\"showlegend\":true,\"textposition\":\"auto\",\"x\":[18.200000762939453],\"xaxis\":\"x\",\"y\":[\"India\"],\"yaxis\":\"y\",\"type\":\"bar\"},{\"alignmentgroup\":\"True\",\"hovertemplate\":\"Entity=%{y}<br>Year=2017<br>Individuals using the Internet (% of population)=%{x}<extra></extra>\",\"legendgroup\":\"Nigeria\",\"marker\":{\"color\":\"#6A82AB\",\"pattern\":{\"shape\":\"\"}},\"name\":\"Nigeria\",\"offsetgroup\":\"Nigeria\",\"orientation\":\"h\",\"showlegend\":true,\"textposition\":\"auto\",\"x\":[28.0],\"xaxis\":\"x\",\"y\":[\"Nigeria\"],\"yaxis\":\"y\",\"type\":\"bar\"}],\"name\":\"2017\"},{\"data\":[{\"alignmentgroup\":\"True\",\"hovertemplate\":\"Entity=%{y}<br>Year=2014<br>Individuals using the Internet (% of population)=%{x}<extra></extra>\",\"legendgroup\":\"United Kingdom\",\"marker\":{\"color\":\"#6A82AB\",\"pattern\":{\"shape\":\"\"}},\"name\":\"United Kingdom\",\"offsetgroup\":\"United Kingdom\",\"orientation\":\"h\",\"showlegend\":true,\"textposition\":\"auto\",\"x\":[91.61000061035156],\"xaxis\":\"x\",\"y\":[\"United Kingdom\"],\"yaxis\":\"y\",\"type\":\"bar\"},{\"alignmentgroup\":\"True\",\"hovertemplate\":\"Entity=%{y}<br>Year=2014<br>Individuals using the Internet (% of population)=%{x}<extra></extra>\",\"legendgroup\":\"Japan\",\"marker\":{\"color\":\"#6A82AB\",\"pattern\":{\"shape\":\"\"}},\"name\":\"Japan\",\"offsetgroup\":\"Japan\",\"orientation\":\"h\",\"showlegend\":true,\"textposition\":\"auto\",\"x\":[89.1068344116211],\"xaxis\":\"x\",\"y\":[\"Japan\"],\"yaxis\":\"y\",\"type\":\"bar\"},{\"alignmentgroup\":\"True\",\"hovertemplate\":\"Entity=%{y}<br>Year=2014<br>Individuals using the Internet (% of population)=%{x}<extra></extra>\",\"legendgroup\":\"United States\",\"marker\":{\"color\":\"#D24B4E\",\"pattern\":{\"shape\":\"\"}},\"name\":\"United States\",\"offsetgroup\":\"United States\",\"orientation\":\"h\",\"showlegend\":true,\"textposition\":\"auto\",\"x\":[73.0],\"xaxis\":\"x\",\"y\":[\"United States\"],\"yaxis\":\"y\",\"type\":\"bar\"},{\"alignmentgroup\":\"True\",\"hovertemplate\":\"Entity=%{y}<br>Year=2014<br>Individuals using the Internet (% of population)=%{x}<extra></extra>\",\"legendgroup\":\"France\",\"marker\":{\"color\":\"#6A82AB\",\"pattern\":{\"shape\":\"\"}},\"name\":\"France\",\"offsetgroup\":\"France\",\"orientation\":\"h\",\"showlegend\":true,\"textposition\":\"auto\",\"x\":[83.75],\"xaxis\":\"x\",\"y\":[\"France\"],\"yaxis\":\"y\",\"type\":\"bar\"},{\"alignmentgroup\":\"True\",\"hovertemplate\":\"Entity=%{y}<br>Year=2014<br>Individuals using the Internet (% of population)=%{x}<extra></extra>\",\"legendgroup\":\"Brazil\",\"marker\":{\"color\":\"#6A82AB\",\"pattern\":{\"shape\":\"\"}},\"name\":\"Brazil\",\"offsetgroup\":\"Brazil\",\"orientation\":\"h\",\"showlegend\":true,\"textposition\":\"auto\",\"x\":[54.551002502441406],\"xaxis\":\"x\",\"y\":[\"Brazil\"],\"yaxis\":\"y\",\"type\":\"bar\"},{\"alignmentgroup\":\"True\",\"hovertemplate\":\"Entity=%{y}<br>Year=2014<br>Individuals using the Internet (% of population)=%{x}<extra></extra>\",\"legendgroup\":\"China\",\"marker\":{\"color\":\"#6A82AB\",\"pattern\":{\"shape\":\"\"}},\"name\":\"China\",\"offsetgroup\":\"China\",\"orientation\":\"h\",\"showlegend\":true,\"textposition\":\"auto\",\"x\":[47.900001525878906],\"xaxis\":\"x\",\"y\":[\"China\"],\"yaxis\":\"y\",\"type\":\"bar\"},{\"alignmentgroup\":\"True\",\"hovertemplate\":\"Entity=%{y}<br>Year=2014<br>Individuals using the Internet (% of population)=%{x}<extra></extra>\",\"legendgroup\":\"World\",\"marker\":{\"color\":\"#6A82AB\",\"pattern\":{\"shape\":\"\"}},\"name\":\"World\",\"offsetgroup\":\"World\",\"orientation\":\"h\",\"showlegend\":true,\"textposition\":\"auto\",\"x\":[38.0659294128418],\"xaxis\":\"x\",\"y\":[\"World\"],\"yaxis\":\"y\",\"type\":\"bar\"},{\"alignmentgroup\":\"True\",\"hovertemplate\":\"Entity=%{y}<br>Year=2014<br>Individuals using the Internet (% of population)=%{x}<extra></extra>\",\"legendgroup\":\"India\",\"marker\":{\"color\":\"#6A82AB\",\"pattern\":{\"shape\":\"\"}},\"name\":\"India\",\"offsetgroup\":\"India\",\"orientation\":\"h\",\"showlegend\":true,\"textposition\":\"auto\",\"x\":[13.5],\"xaxis\":\"x\",\"y\":[\"India\"],\"yaxis\":\"y\",\"type\":\"bar\"},{\"alignmentgroup\":\"True\",\"hovertemplate\":\"Entity=%{y}<br>Year=2014<br>Individuals using the Internet (% of population)=%{x}<extra></extra>\",\"legendgroup\":\"Nigeria\",\"marker\":{\"color\":\"#6A82AB\",\"pattern\":{\"shape\":\"\"}},\"name\":\"Nigeria\",\"offsetgroup\":\"Nigeria\",\"orientation\":\"h\",\"showlegend\":true,\"textposition\":\"auto\",\"x\":[21.0],\"xaxis\":\"x\",\"y\":[\"Nigeria\"],\"yaxis\":\"y\",\"type\":\"bar\"}],\"name\":\"2014\"},{\"data\":[{\"alignmentgroup\":\"True\",\"hovertemplate\":\"Entity=%{y}<br>Year=2018<br>Individuals using the Internet (% of population)=%{x}<extra></extra>\",\"legendgroup\":\"United Kingdom\",\"marker\":{\"color\":\"#6A82AB\",\"pattern\":{\"shape\":\"\"}},\"name\":\"United Kingdom\",\"offsetgroup\":\"United Kingdom\",\"orientation\":\"h\",\"showlegend\":true,\"textposition\":\"auto\",\"x\":[90.69200897216795],\"xaxis\":\"x\",\"y\":[\"United Kingdom\"],\"yaxis\":\"y\",\"type\":\"bar\"},{\"alignmentgroup\":\"True\",\"hovertemplate\":\"Entity=%{y}<br>Year=2018<br>Individuals using the Internet (% of population)=%{x}<extra></extra>\",\"legendgroup\":\"Japan\",\"marker\":{\"color\":\"#6A82AB\",\"pattern\":{\"shape\":\"\"}},\"name\":\"Japan\",\"offsetgroup\":\"Japan\",\"orientation\":\"h\",\"showlegend\":true,\"textposition\":\"auto\",\"x\":[91.27999877929688],\"xaxis\":\"x\",\"y\":[\"Japan\"],\"yaxis\":\"y\",\"type\":\"bar\"},{\"alignmentgroup\":\"True\",\"hovertemplate\":\"Entity=%{y}<br>Year=2018<br>Individuals using the Internet (% of population)=%{x}<extra></extra>\",\"legendgroup\":\"United States\",\"marker\":{\"color\":\"#D24B4E\",\"pattern\":{\"shape\":\"\"}},\"name\":\"United States\",\"offsetgroup\":\"United States\",\"orientation\":\"h\",\"showlegend\":true,\"textposition\":\"auto\",\"x\":[88.4989013671875],\"xaxis\":\"x\",\"y\":[\"United States\"],\"yaxis\":\"y\",\"type\":\"bar\"},{\"alignmentgroup\":\"True\",\"hovertemplate\":\"Entity=%{y}<br>Year=2018<br>Individuals using the Internet (% of population)=%{x}<extra></extra>\",\"legendgroup\":\"France\",\"marker\":{\"color\":\"#6A82AB\",\"pattern\":{\"shape\":\"\"}},\"name\":\"France\",\"offsetgroup\":\"France\",\"orientation\":\"h\",\"showlegend\":true,\"textposition\":\"auto\",\"x\":[82.0431900024414],\"xaxis\":\"x\",\"y\":[\"France\"],\"yaxis\":\"y\",\"type\":\"bar\"},{\"alignmentgroup\":\"True\",\"hovertemplate\":\"Entity=%{y}<br>Year=2018<br>Individuals using the Internet (% of population)=%{x}<extra></extra>\",\"legendgroup\":\"Brazil\",\"marker\":{\"color\":\"#6A82AB\",\"pattern\":{\"shape\":\"\"}},\"name\":\"Brazil\",\"offsetgroup\":\"Brazil\",\"orientation\":\"h\",\"showlegend\":true,\"textposition\":\"auto\",\"x\":[70.43428039550781],\"xaxis\":\"x\",\"y\":[\"Brazil\"],\"yaxis\":\"y\",\"type\":\"bar\"},{\"alignmentgroup\":\"True\",\"hovertemplate\":\"Entity=%{y}<br>Year=2018<br>Individuals using the Internet (% of population)=%{x}<extra></extra>\",\"legendgroup\":\"China\",\"marker\":{\"color\":\"#6A82AB\",\"pattern\":{\"shape\":\"\"}},\"name\":\"China\",\"offsetgroup\":\"China\",\"orientation\":\"h\",\"showlegend\":true,\"textposition\":\"auto\",\"x\":[59.20000076293945],\"xaxis\":\"x\",\"y\":[\"China\"],\"yaxis\":\"y\",\"type\":\"bar\"},{\"alignmentgroup\":\"True\",\"hovertemplate\":\"Entity=%{y}<br>Year=2018<br>Individuals using the Internet (% of population)=%{x}<extra></extra>\",\"legendgroup\":\"World\",\"marker\":{\"color\":\"#6A82AB\",\"pattern\":{\"shape\":\"\"}},\"name\":\"World\",\"offsetgroup\":\"World\",\"orientation\":\"h\",\"showlegend\":true,\"textposition\":\"auto\",\"x\":[49.39648818969727],\"xaxis\":\"x\",\"y\":[\"World\"],\"yaxis\":\"y\",\"type\":\"bar\"},{\"alignmentgroup\":\"True\",\"hovertemplate\":\"Entity=%{y}<br>Year=2018<br>Individuals using the Internet (% of population)=%{x}<extra></extra>\",\"legendgroup\":\"India\",\"marker\":{\"color\":\"#6A82AB\",\"pattern\":{\"shape\":\"\"}},\"name\":\"India\",\"offsetgroup\":\"India\",\"orientation\":\"h\",\"showlegend\":true,\"textposition\":\"auto\",\"x\":[20.081300735473636],\"xaxis\":\"x\",\"y\":[\"India\"],\"yaxis\":\"y\",\"type\":\"bar\"},{\"alignmentgroup\":\"True\",\"hovertemplate\":\"Entity=%{y}<br>Year=2018<br>Individuals using the Internet (% of population)=%{x}<extra></extra>\",\"legendgroup\":\"Nigeria\",\"marker\":{\"color\":\"#6A82AB\",\"pattern\":{\"shape\":\"\"}},\"name\":\"Nigeria\",\"offsetgroup\":\"Nigeria\",\"orientation\":\"h\",\"showlegend\":true,\"textposition\":\"auto\",\"x\":[31.899999618530277],\"xaxis\":\"x\",\"y\":[\"Nigeria\"],\"yaxis\":\"y\",\"type\":\"bar\"}],\"name\":\"2018\"},{\"data\":[{\"alignmentgroup\":\"True\",\"hovertemplate\":\"Entity=%{y}<br>Year=2013<br>Individuals using the Internet (% of population)=%{x}<extra></extra>\",\"legendgroup\":\"United Kingdom\",\"marker\":{\"color\":\"#6A82AB\",\"pattern\":{\"shape\":\"\"}},\"name\":\"United Kingdom\",\"offsetgroup\":\"United Kingdom\",\"orientation\":\"h\",\"showlegend\":true,\"textposition\":\"auto\",\"x\":[89.84410095214844],\"xaxis\":\"x\",\"y\":[\"United Kingdom\"],\"yaxis\":\"y\",\"type\":\"bar\"},{\"alignmentgroup\":\"True\",\"hovertemplate\":\"Entity=%{y}<br>Year=2013<br>Individuals using the Internet (% of population)=%{x}<extra></extra>\",\"legendgroup\":\"Japan\",\"marker\":{\"color\":\"#6A82AB\",\"pattern\":{\"shape\":\"\"}},\"name\":\"Japan\",\"offsetgroup\":\"Japan\",\"orientation\":\"h\",\"showlegend\":true,\"textposition\":\"auto\",\"x\":[88.21942901611328],\"xaxis\":\"x\",\"y\":[\"Japan\"],\"yaxis\":\"y\",\"type\":\"bar\"},{\"alignmentgroup\":\"True\",\"hovertemplate\":\"Entity=%{y}<br>Year=2013<br>Individuals using the Internet (% of population)=%{x}<extra></extra>\",\"legendgroup\":\"United States\",\"marker\":{\"color\":\"#D24B4E\",\"pattern\":{\"shape\":\"\"}},\"name\":\"United States\",\"offsetgroup\":\"United States\",\"orientation\":\"h\",\"showlegend\":true,\"textposition\":\"auto\",\"x\":[71.4000015258789],\"xaxis\":\"x\",\"y\":[\"United States\"],\"yaxis\":\"y\",\"type\":\"bar\"},{\"alignmentgroup\":\"True\",\"hovertemplate\":\"Entity=%{y}<br>Year=2013<br>Individuals using the Internet (% of population)=%{x}<extra></extra>\",\"legendgroup\":\"France\",\"marker\":{\"color\":\"#6A82AB\",\"pattern\":{\"shape\":\"\"}},\"name\":\"France\",\"offsetgroup\":\"France\",\"orientation\":\"h\",\"showlegend\":true,\"textposition\":\"auto\",\"x\":[81.9197998046875],\"xaxis\":\"x\",\"y\":[\"France\"],\"yaxis\":\"y\",\"type\":\"bar\"},{\"alignmentgroup\":\"True\",\"hovertemplate\":\"Entity=%{y}<br>Year=2013<br>Individuals using the Internet (% of population)=%{x}<extra></extra>\",\"legendgroup\":\"Brazil\",\"marker\":{\"color\":\"#6A82AB\",\"pattern\":{\"shape\":\"\"}},\"name\":\"Brazil\",\"offsetgroup\":\"Brazil\",\"orientation\":\"h\",\"showlegend\":true,\"textposition\":\"auto\",\"x\":[51.040000915527344],\"xaxis\":\"x\",\"y\":[\"Brazil\"],\"yaxis\":\"y\",\"type\":\"bar\"},{\"alignmentgroup\":\"True\",\"hovertemplate\":\"Entity=%{y}<br>Year=2013<br>Individuals using the Internet (% of population)=%{x}<extra></extra>\",\"legendgroup\":\"China\",\"marker\":{\"color\":\"#6A82AB\",\"pattern\":{\"shape\":\"\"}},\"name\":\"China\",\"offsetgroup\":\"China\",\"orientation\":\"h\",\"showlegend\":true,\"textposition\":\"auto\",\"x\":[45.79999923706055],\"xaxis\":\"x\",\"y\":[\"China\"],\"yaxis\":\"y\",\"type\":\"bar\"},{\"alignmentgroup\":\"True\",\"hovertemplate\":\"Entity=%{y}<br>Year=2013<br>Individuals using the Internet (% of population)=%{x}<extra></extra>\",\"legendgroup\":\"World\",\"marker\":{\"color\":\"#6A82AB\",\"pattern\":{\"shape\":\"\"}},\"name\":\"World\",\"offsetgroup\":\"World\",\"orientation\":\"h\",\"showlegend\":true,\"textposition\":\"auto\",\"x\":[35.83993148803711],\"xaxis\":\"x\",\"y\":[\"World\"],\"yaxis\":\"y\",\"type\":\"bar\"},{\"alignmentgroup\":\"True\",\"hovertemplate\":\"Entity=%{y}<br>Year=2013<br>Individuals using the Internet (% of population)=%{x}<extra></extra>\",\"legendgroup\":\"India\",\"marker\":{\"color\":\"#6A82AB\",\"pattern\":{\"shape\":\"\"}},\"name\":\"India\",\"offsetgroup\":\"India\",\"orientation\":\"h\",\"showlegend\":true,\"textposition\":\"auto\",\"x\":[12.300000190734863],\"xaxis\":\"x\",\"y\":[\"India\"],\"yaxis\":\"y\",\"type\":\"bar\"},{\"alignmentgroup\":\"True\",\"hovertemplate\":\"Entity=%{y}<br>Year=2013<br>Individuals using the Internet (% of population)=%{x}<extra></extra>\",\"legendgroup\":\"Nigeria\",\"marker\":{\"color\":\"#6A82AB\",\"pattern\":{\"shape\":\"\"}},\"name\":\"Nigeria\",\"offsetgroup\":\"Nigeria\",\"orientation\":\"h\",\"showlegend\":true,\"textposition\":\"auto\",\"x\":[19.100000381469727],\"xaxis\":\"x\",\"y\":[\"Nigeria\"],\"yaxis\":\"y\",\"type\":\"bar\"}],\"name\":\"2013\"},{\"data\":[{\"alignmentgroup\":\"True\",\"hovertemplate\":\"Entity=%{y}<br>Year=2012<br>Individuals using the Internet (% of population)=%{x}<extra></extra>\",\"legendgroup\":\"United Kingdom\",\"marker\":{\"color\":\"#6A82AB\",\"pattern\":{\"shape\":\"\"}},\"name\":\"United Kingdom\",\"offsetgroup\":\"United Kingdom\",\"orientation\":\"h\",\"showlegend\":true,\"textposition\":\"auto\",\"x\":[87.47999572753906],\"xaxis\":\"x\",\"y\":[\"United Kingdom\"],\"yaxis\":\"y\",\"type\":\"bar\"},{\"alignmentgroup\":\"True\",\"hovertemplate\":\"Entity=%{y}<br>Year=2012<br>Individuals using the Internet (% of population)=%{x}<extra></extra>\",\"legendgroup\":\"Japan\",\"marker\":{\"color\":\"#6A82AB\",\"pattern\":{\"shape\":\"\"}},\"name\":\"Japan\",\"offsetgroup\":\"Japan\",\"orientation\":\"h\",\"showlegend\":true,\"textposition\":\"auto\",\"x\":[79.49639892578125],\"xaxis\":\"x\",\"y\":[\"Japan\"],\"yaxis\":\"y\",\"type\":\"bar\"},{\"alignmentgroup\":\"True\",\"hovertemplate\":\"Entity=%{y}<br>Year=2012<br>Individuals using the Internet (% of population)=%{x}<extra></extra>\",\"legendgroup\":\"United States\",\"marker\":{\"color\":\"#D24B4E\",\"pattern\":{\"shape\":\"\"}},\"name\":\"United States\",\"offsetgroup\":\"United States\",\"orientation\":\"h\",\"showlegend\":true,\"textposition\":\"auto\",\"x\":[74.69999694824219],\"xaxis\":\"x\",\"y\":[\"United States\"],\"yaxis\":\"y\",\"type\":\"bar\"},{\"alignmentgroup\":\"True\",\"hovertemplate\":\"Entity=%{y}<br>Year=2012<br>Individuals using the Internet (% of population)=%{x}<extra></extra>\",\"legendgroup\":\"France\",\"marker\":{\"color\":\"#6A82AB\",\"pattern\":{\"shape\":\"\"}},\"name\":\"France\",\"offsetgroup\":\"France\",\"orientation\":\"h\",\"showlegend\":true,\"textposition\":\"auto\",\"x\":[81.44000244140625],\"xaxis\":\"x\",\"y\":[\"France\"],\"yaxis\":\"y\",\"type\":\"bar\"},{\"alignmentgroup\":\"True\",\"hovertemplate\":\"Entity=%{y}<br>Year=2012<br>Individuals using the Internet (% of population)=%{x}<extra></extra>\",\"legendgroup\":\"Brazil\",\"marker\":{\"color\":\"#6A82AB\",\"pattern\":{\"shape\":\"\"}},\"name\":\"Brazil\",\"offsetgroup\":\"Brazil\",\"orientation\":\"h\",\"showlegend\":true,\"textposition\":\"auto\",\"x\":[48.560001373291016],\"xaxis\":\"x\",\"y\":[\"Brazil\"],\"yaxis\":\"y\",\"type\":\"bar\"},{\"alignmentgroup\":\"True\",\"hovertemplate\":\"Entity=%{y}<br>Year=2012<br>Individuals using the Internet (% of population)=%{x}<extra></extra>\",\"legendgroup\":\"China\",\"marker\":{\"color\":\"#6A82AB\",\"pattern\":{\"shape\":\"\"}},\"name\":\"China\",\"offsetgroup\":\"China\",\"orientation\":\"h\",\"showlegend\":true,\"textposition\":\"auto\",\"x\":[42.30011749267578],\"xaxis\":\"x\",\"y\":[\"China\"],\"yaxis\":\"y\",\"type\":\"bar\"},{\"alignmentgroup\":\"True\",\"hovertemplate\":\"Entity=%{y}<br>Year=2012<br>Individuals using the Internet (% of population)=%{x}<extra></extra>\",\"legendgroup\":\"World\",\"marker\":{\"color\":\"#6A82AB\",\"pattern\":{\"shape\":\"\"}},\"name\":\"World\",\"offsetgroup\":\"World\",\"orientation\":\"h\",\"showlegend\":true,\"textposition\":\"auto\",\"x\":[33.8865852355957],\"xaxis\":\"x\",\"y\":[\"World\"],\"yaxis\":\"y\",\"type\":\"bar\"},{\"alignmentgroup\":\"True\",\"hovertemplate\":\"Entity=%{y}<br>Year=2012<br>Individuals using the Internet (% of population)=%{x}<extra></extra>\",\"legendgroup\":\"India\",\"marker\":{\"color\":\"#6A82AB\",\"pattern\":{\"shape\":\"\"}},\"name\":\"India\",\"offsetgroup\":\"India\",\"orientation\":\"h\",\"showlegend\":true,\"textposition\":\"auto\",\"x\":[11.100000381469728],\"xaxis\":\"x\",\"y\":[\"India\"],\"yaxis\":\"y\",\"type\":\"bar\"},{\"alignmentgroup\":\"True\",\"hovertemplate\":\"Entity=%{y}<br>Year=2012<br>Individuals using the Internet (% of population)=%{x}<extra></extra>\",\"legendgroup\":\"Nigeria\",\"marker\":{\"color\":\"#6A82AB\",\"pattern\":{\"shape\":\"\"}},\"name\":\"Nigeria\",\"offsetgroup\":\"Nigeria\",\"orientation\":\"h\",\"showlegend\":true,\"textposition\":\"auto\",\"x\":[16.100000381469727],\"xaxis\":\"x\",\"y\":[\"Nigeria\"],\"yaxis\":\"y\",\"type\":\"bar\"}],\"name\":\"2012\"},{\"data\":[{\"alignmentgroup\":\"True\",\"hovertemplate\":\"Entity=%{y}<br>Year=2011<br>Individuals using the Internet (% of population)=%{x}<extra></extra>\",\"legendgroup\":\"United Kingdom\",\"marker\":{\"color\":\"#6A82AB\",\"pattern\":{\"shape\":\"\"}},\"name\":\"United Kingdom\",\"offsetgroup\":\"United Kingdom\",\"orientation\":\"h\",\"showlegend\":true,\"textposition\":\"auto\",\"x\":[85.37999725341797],\"xaxis\":\"x\",\"y\":[\"United Kingdom\"],\"yaxis\":\"y\",\"type\":\"bar\"},{\"alignmentgroup\":\"True\",\"hovertemplate\":\"Entity=%{y}<br>Year=2011<br>Individuals using the Internet (% of population)=%{x}<extra></extra>\",\"legendgroup\":\"Japan\",\"marker\":{\"color\":\"#6A82AB\",\"pattern\":{\"shape\":\"\"}},\"name\":\"Japan\",\"offsetgroup\":\"Japan\",\"orientation\":\"h\",\"showlegend\":true,\"textposition\":\"auto\",\"x\":[79.05411529541016],\"xaxis\":\"x\",\"y\":[\"Japan\"],\"yaxis\":\"y\",\"type\":\"bar\"},{\"alignmentgroup\":\"True\",\"hovertemplate\":\"Entity=%{y}<br>Year=2011<br>Individuals using the Internet (% of population)=%{x}<extra></extra>\",\"legendgroup\":\"United States\",\"marker\":{\"color\":\"#D24B4E\",\"pattern\":{\"shape\":\"\"}},\"name\":\"United States\",\"offsetgroup\":\"United States\",\"orientation\":\"h\",\"showlegend\":true,\"textposition\":\"auto\",\"x\":[69.72946166992188],\"xaxis\":\"x\",\"y\":[\"United States\"],\"yaxis\":\"y\",\"type\":\"bar\"},{\"alignmentgroup\":\"True\",\"hovertemplate\":\"Entity=%{y}<br>Year=2011<br>Individuals using the Internet (% of population)=%{x}<extra></extra>\",\"legendgroup\":\"France\",\"marker\":{\"color\":\"#6A82AB\",\"pattern\":{\"shape\":\"\"}},\"name\":\"France\",\"offsetgroup\":\"France\",\"orientation\":\"h\",\"showlegend\":true,\"textposition\":\"auto\",\"x\":[77.81999969482422],\"xaxis\":\"x\",\"y\":[\"France\"],\"yaxis\":\"y\",\"type\":\"bar\"},{\"alignmentgroup\":\"True\",\"hovertemplate\":\"Entity=%{y}<br>Year=2011<br>Individuals using the Internet (% of population)=%{x}<extra></extra>\",\"legendgroup\":\"Brazil\",\"marker\":{\"color\":\"#6A82AB\",\"pattern\":{\"shape\":\"\"}},\"name\":\"Brazil\",\"offsetgroup\":\"Brazil\",\"orientation\":\"h\",\"showlegend\":true,\"textposition\":\"auto\",\"x\":[45.68999862670898],\"xaxis\":\"x\",\"y\":[\"Brazil\"],\"yaxis\":\"y\",\"type\":\"bar\"},{\"alignmentgroup\":\"True\",\"hovertemplate\":\"Entity=%{y}<br>Year=2011<br>Individuals using the Internet (% of population)=%{x}<extra></extra>\",\"legendgroup\":\"China\",\"marker\":{\"color\":\"#6A82AB\",\"pattern\":{\"shape\":\"\"}},\"name\":\"China\",\"offsetgroup\":\"China\",\"orientation\":\"h\",\"showlegend\":true,\"textposition\":\"auto\",\"x\":[38.29999923706055],\"xaxis\":\"x\",\"y\":[\"China\"],\"yaxis\":\"y\",\"type\":\"bar\"},{\"alignmentgroup\":\"True\",\"hovertemplate\":\"Entity=%{y}<br>Year=2011<br>Individuals using the Internet (% of population)=%{x}<extra></extra>\",\"legendgroup\":\"World\",\"marker\":{\"color\":\"#6A82AB\",\"pattern\":{\"shape\":\"\"}},\"name\":\"World\",\"offsetgroup\":\"World\",\"orientation\":\"h\",\"showlegend\":true,\"textposition\":\"auto\",\"x\":[31.370603561401367],\"xaxis\":\"x\",\"y\":[\"World\"],\"yaxis\":\"y\",\"type\":\"bar\"},{\"alignmentgroup\":\"True\",\"hovertemplate\":\"Entity=%{y}<br>Year=2011<br>Individuals using the Internet (% of population)=%{x}<extra></extra>\",\"legendgroup\":\"India\",\"marker\":{\"color\":\"#6A82AB\",\"pattern\":{\"shape\":\"\"}},\"name\":\"India\",\"offsetgroup\":\"India\",\"orientation\":\"h\",\"showlegend\":true,\"textposition\":\"auto\",\"x\":[10.06999969482422],\"xaxis\":\"x\",\"y\":[\"India\"],\"yaxis\":\"y\",\"type\":\"bar\"},{\"alignmentgroup\":\"True\",\"hovertemplate\":\"Entity=%{y}<br>Year=2011<br>Individuals using the Internet (% of population)=%{x}<extra></extra>\",\"legendgroup\":\"Nigeria\",\"marker\":{\"color\":\"#6A82AB\",\"pattern\":{\"shape\":\"\"}},\"name\":\"Nigeria\",\"offsetgroup\":\"Nigeria\",\"orientation\":\"h\",\"showlegend\":true,\"textposition\":\"auto\",\"x\":[13.800000190734863],\"xaxis\":\"x\",\"y\":[\"Nigeria\"],\"yaxis\":\"y\",\"type\":\"bar\"}],\"name\":\"2011\"},{\"data\":[{\"alignmentgroup\":\"True\",\"hovertemplate\":\"Entity=%{y}<br>Year=2010<br>Individuals using the Internet (% of population)=%{x}<extra></extra>\",\"legendgroup\":\"United Kingdom\",\"marker\":{\"color\":\"#6A82AB\",\"pattern\":{\"shape\":\"\"}},\"name\":\"United Kingdom\",\"offsetgroup\":\"United Kingdom\",\"orientation\":\"h\",\"showlegend\":true,\"textposition\":\"auto\",\"x\":[85.0],\"xaxis\":\"x\",\"y\":[\"United Kingdom\"],\"yaxis\":\"y\",\"type\":\"bar\"},{\"alignmentgroup\":\"True\",\"hovertemplate\":\"Entity=%{y}<br>Year=2010<br>Individuals using the Internet (% of population)=%{x}<extra></extra>\",\"legendgroup\":\"Japan\",\"marker\":{\"color\":\"#6A82AB\",\"pattern\":{\"shape\":\"\"}},\"name\":\"Japan\",\"offsetgroup\":\"Japan\",\"orientation\":\"h\",\"showlegend\":true,\"textposition\":\"auto\",\"x\":[78.20999908447266],\"xaxis\":\"x\",\"y\":[\"Japan\"],\"yaxis\":\"y\",\"type\":\"bar\"},{\"alignmentgroup\":\"True\",\"hovertemplate\":\"Entity=%{y}<br>Year=2010<br>Individuals using the Internet (% of population)=%{x}<extra></extra>\",\"legendgroup\":\"United States\",\"marker\":{\"color\":\"#D24B4E\",\"pattern\":{\"shape\":\"\"}},\"name\":\"United States\",\"offsetgroup\":\"United States\",\"orientation\":\"h\",\"showlegend\":true,\"textposition\":\"auto\",\"x\":[71.69000244140625],\"xaxis\":\"x\",\"y\":[\"United States\"],\"yaxis\":\"y\",\"type\":\"bar\"},{\"alignmentgroup\":\"True\",\"hovertemplate\":\"Entity=%{y}<br>Year=2010<br>Individuals using the Internet (% of population)=%{x}<extra></extra>\",\"legendgroup\":\"France\",\"marker\":{\"color\":\"#6A82AB\",\"pattern\":{\"shape\":\"\"}},\"name\":\"France\",\"offsetgroup\":\"France\",\"orientation\":\"h\",\"showlegend\":true,\"textposition\":\"auto\",\"x\":[77.27999877929688],\"xaxis\":\"x\",\"y\":[\"France\"],\"yaxis\":\"y\",\"type\":\"bar\"},{\"alignmentgroup\":\"True\",\"hovertemplate\":\"Entity=%{y}<br>Year=2010<br>Individuals using the Internet (% of population)=%{x}<extra></extra>\",\"legendgroup\":\"Brazil\",\"marker\":{\"color\":\"#6A82AB\",\"pattern\":{\"shape\":\"\"}},\"name\":\"Brazil\",\"offsetgroup\":\"Brazil\",\"orientation\":\"h\",\"showlegend\":true,\"textposition\":\"auto\",\"x\":[40.650001525878906],\"xaxis\":\"x\",\"y\":[\"Brazil\"],\"yaxis\":\"y\",\"type\":\"bar\"},{\"alignmentgroup\":\"True\",\"hovertemplate\":\"Entity=%{y}<br>Year=2010<br>Individuals using the Internet (% of population)=%{x}<extra></extra>\",\"legendgroup\":\"China\",\"marker\":{\"color\":\"#6A82AB\",\"pattern\":{\"shape\":\"\"}},\"name\":\"China\",\"offsetgroup\":\"China\",\"orientation\":\"h\",\"showlegend\":true,\"textposition\":\"auto\",\"x\":[34.29999923706055],\"xaxis\":\"x\",\"y\":[\"China\"],\"yaxis\":\"y\",\"type\":\"bar\"},{\"alignmentgroup\":\"True\",\"hovertemplate\":\"Entity=%{y}<br>Year=2010<br>Individuals using the Internet (% of population)=%{x}<extra></extra>\",\"legendgroup\":\"World\",\"marker\":{\"color\":\"#6A82AB\",\"pattern\":{\"shape\":\"\"}},\"name\":\"World\",\"offsetgroup\":\"World\",\"orientation\":\"h\",\"showlegend\":true,\"textposition\":\"auto\",\"x\":[28.933120727539062],\"xaxis\":\"x\",\"y\":[\"World\"],\"yaxis\":\"y\",\"type\":\"bar\"},{\"alignmentgroup\":\"True\",\"hovertemplate\":\"Entity=%{y}<br>Year=2010<br>Individuals using the Internet (% of population)=%{x}<extra></extra>\",\"legendgroup\":\"India\",\"marker\":{\"color\":\"#6A82AB\",\"pattern\":{\"shape\":\"\"}},\"name\":\"India\",\"offsetgroup\":\"India\",\"orientation\":\"h\",\"showlegend\":true,\"textposition\":\"auto\",\"x\":[7.5],\"xaxis\":\"x\",\"y\":[\"India\"],\"yaxis\":\"y\",\"type\":\"bar\"},{\"alignmentgroup\":\"True\",\"hovertemplate\":\"Entity=%{y}<br>Year=2010<br>Individuals using the Internet (% of population)=%{x}<extra></extra>\",\"legendgroup\":\"Nigeria\",\"marker\":{\"color\":\"#6A82AB\",\"pattern\":{\"shape\":\"\"}},\"name\":\"Nigeria\",\"offsetgroup\":\"Nigeria\",\"orientation\":\"h\",\"showlegend\":true,\"textposition\":\"auto\",\"x\":[11.5],\"xaxis\":\"x\",\"y\":[\"Nigeria\"],\"yaxis\":\"y\",\"type\":\"bar\"}],\"name\":\"2010\"},{\"data\":[{\"alignmentgroup\":\"True\",\"hovertemplate\":\"Entity=%{y}<br>Year=2009<br>Individuals using the Internet (% of population)=%{x}<extra></extra>\",\"legendgroup\":\"United Kingdom\",\"marker\":{\"color\":\"#6A82AB\",\"pattern\":{\"shape\":\"\"}},\"name\":\"United Kingdom\",\"offsetgroup\":\"United Kingdom\",\"orientation\":\"h\",\"showlegend\":true,\"textposition\":\"auto\",\"x\":[83.55999755859375],\"xaxis\":\"x\",\"y\":[\"United Kingdom\"],\"yaxis\":\"y\",\"type\":\"bar\"},{\"alignmentgroup\":\"True\",\"hovertemplate\":\"Entity=%{y}<br>Year=2009<br>Individuals using the Internet (% of population)=%{x}<extra></extra>\",\"legendgroup\":\"Japan\",\"marker\":{\"color\":\"#6A82AB\",\"pattern\":{\"shape\":\"\"}},\"name\":\"Japan\",\"offsetgroup\":\"Japan\",\"orientation\":\"h\",\"showlegend\":true,\"textposition\":\"auto\",\"x\":[78.0],\"xaxis\":\"x\",\"y\":[\"Japan\"],\"yaxis\":\"y\",\"type\":\"bar\"},{\"alignmentgroup\":\"True\",\"hovertemplate\":\"Entity=%{y}<br>Year=2009<br>Individuals using the Internet (% of population)=%{x}<extra></extra>\",\"legendgroup\":\"United States\",\"marker\":{\"color\":\"#D24B4E\",\"pattern\":{\"shape\":\"\"}},\"name\":\"United States\",\"offsetgroup\":\"United States\",\"orientation\":\"h\",\"showlegend\":true,\"textposition\":\"auto\",\"x\":[71.0],\"xaxis\":\"x\",\"y\":[\"United States\"],\"yaxis\":\"y\",\"type\":\"bar\"},{\"alignmentgroup\":\"True\",\"hovertemplate\":\"Entity=%{y}<br>Year=2009<br>Individuals using the Internet (% of population)=%{x}<extra></extra>\",\"legendgroup\":\"France\",\"marker\":{\"color\":\"#6A82AB\",\"pattern\":{\"shape\":\"\"}},\"name\":\"France\",\"offsetgroup\":\"France\",\"orientation\":\"h\",\"showlegend\":true,\"textposition\":\"auto\",\"x\":[71.58000183105469],\"xaxis\":\"x\",\"y\":[\"France\"],\"yaxis\":\"y\",\"type\":\"bar\"},{\"alignmentgroup\":\"True\",\"hovertemplate\":\"Entity=%{y}<br>Year=2009<br>Individuals using the Internet (% of population)=%{x}<extra></extra>\",\"legendgroup\":\"Brazil\",\"marker\":{\"color\":\"#6A82AB\",\"pattern\":{\"shape\":\"\"}},\"name\":\"Brazil\",\"offsetgroup\":\"Brazil\",\"orientation\":\"h\",\"showlegend\":true,\"textposition\":\"auto\",\"x\":[39.220001220703125],\"xaxis\":\"x\",\"y\":[\"Brazil\"],\"yaxis\":\"y\",\"type\":\"bar\"},{\"alignmentgroup\":\"True\",\"hovertemplate\":\"Entity=%{y}<br>Year=2009<br>Individuals using the Internet (% of population)=%{x}<extra></extra>\",\"legendgroup\":\"China\",\"marker\":{\"color\":\"#6A82AB\",\"pattern\":{\"shape\":\"\"}},\"name\":\"China\",\"offsetgroup\":\"China\",\"orientation\":\"h\",\"showlegend\":true,\"textposition\":\"auto\",\"x\":[28.899999618530277],\"xaxis\":\"x\",\"y\":[\"China\"],\"yaxis\":\"y\",\"type\":\"bar\"},{\"alignmentgroup\":\"True\",\"hovertemplate\":\"Entity=%{y}<br>Year=2009<br>Individuals using the Internet (% of population)=%{x}<extra></extra>\",\"legendgroup\":\"World\",\"marker\":{\"color\":\"#6A82AB\",\"pattern\":{\"shape\":\"\"}},\"name\":\"World\",\"offsetgroup\":\"World\",\"orientation\":\"h\",\"showlegend\":true,\"textposition\":\"auto\",\"x\":[25.66851043701172],\"xaxis\":\"x\",\"y\":[\"World\"],\"yaxis\":\"y\",\"type\":\"bar\"},{\"alignmentgroup\":\"True\",\"hovertemplate\":\"Entity=%{y}<br>Year=2009<br>Individuals using the Internet (% of population)=%{x}<extra></extra>\",\"legendgroup\":\"India\",\"marker\":{\"color\":\"#6A82AB\",\"pattern\":{\"shape\":\"\"}},\"name\":\"India\",\"offsetgroup\":\"India\",\"orientation\":\"h\",\"showlegend\":true,\"textposition\":\"auto\",\"x\":[5.119999885559082],\"xaxis\":\"x\",\"y\":[\"India\"],\"yaxis\":\"y\",\"type\":\"bar\"},{\"alignmentgroup\":\"True\",\"hovertemplate\":\"Entity=%{y}<br>Year=2009<br>Individuals using the Internet (% of population)=%{x}<extra></extra>\",\"legendgroup\":\"Nigeria\",\"marker\":{\"color\":\"#6A82AB\",\"pattern\":{\"shape\":\"\"}},\"name\":\"Nigeria\",\"offsetgroup\":\"Nigeria\",\"orientation\":\"h\",\"showlegend\":true,\"textposition\":\"auto\",\"x\":[9.300000190734863],\"xaxis\":\"x\",\"y\":[\"Nigeria\"],\"yaxis\":\"y\",\"type\":\"bar\"}],\"name\":\"2009\"},{\"data\":[{\"alignmentgroup\":\"True\",\"hovertemplate\":\"Entity=%{y}<br>Year=2008<br>Individuals using the Internet (% of population)=%{x}<extra></extra>\",\"legendgroup\":\"United Kingdom\",\"marker\":{\"color\":\"#6A82AB\",\"pattern\":{\"shape\":\"\"}},\"name\":\"United Kingdom\",\"offsetgroup\":\"United Kingdom\",\"orientation\":\"h\",\"showlegend\":true,\"textposition\":\"auto\",\"x\":[78.38999938964844],\"xaxis\":\"x\",\"y\":[\"United Kingdom\"],\"yaxis\":\"y\",\"type\":\"bar\"},{\"alignmentgroup\":\"True\",\"hovertemplate\":\"Entity=%{y}<br>Year=2008<br>Individuals using the Internet (% of population)=%{x}<extra></extra>\",\"legendgroup\":\"Japan\",\"marker\":{\"color\":\"#6A82AB\",\"pattern\":{\"shape\":\"\"}},\"name\":\"Japan\",\"offsetgroup\":\"Japan\",\"orientation\":\"h\",\"showlegend\":true,\"textposition\":\"auto\",\"x\":[75.4000015258789],\"xaxis\":\"x\",\"y\":[\"Japan\"],\"yaxis\":\"y\",\"type\":\"bar\"},{\"alignmentgroup\":\"True\",\"hovertemplate\":\"Entity=%{y}<br>Year=2008<br>Individuals using the Internet (% of population)=%{x}<extra></extra>\",\"legendgroup\":\"United States\",\"marker\":{\"color\":\"#D24B4E\",\"pattern\":{\"shape\":\"\"}},\"name\":\"United States\",\"offsetgroup\":\"United States\",\"orientation\":\"h\",\"showlegend\":true,\"textposition\":\"auto\",\"x\":[74.0],\"xaxis\":\"x\",\"y\":[\"United States\"],\"yaxis\":\"y\",\"type\":\"bar\"},{\"alignmentgroup\":\"True\",\"hovertemplate\":\"Entity=%{y}<br>Year=2008<br>Individuals using the Internet (% of population)=%{x}<extra></extra>\",\"legendgroup\":\"France\",\"marker\":{\"color\":\"#6A82AB\",\"pattern\":{\"shape\":\"\"}},\"name\":\"France\",\"offsetgroup\":\"France\",\"orientation\":\"h\",\"showlegend\":true,\"textposition\":\"auto\",\"x\":[70.68000030517578],\"xaxis\":\"x\",\"y\":[\"France\"],\"yaxis\":\"y\",\"type\":\"bar\"},{\"alignmentgroup\":\"True\",\"hovertemplate\":\"Entity=%{y}<br>Year=2008<br>Individuals using the Internet (% of population)=%{x}<extra></extra>\",\"legendgroup\":\"Brazil\",\"marker\":{\"color\":\"#6A82AB\",\"pattern\":{\"shape\":\"\"}},\"name\":\"Brazil\",\"offsetgroup\":\"Brazil\",\"orientation\":\"h\",\"showlegend\":true,\"textposition\":\"auto\",\"x\":[33.83000183105469],\"xaxis\":\"x\",\"y\":[\"Brazil\"],\"yaxis\":\"y\",\"type\":\"bar\"},{\"alignmentgroup\":\"True\",\"hovertemplate\":\"Entity=%{y}<br>Year=2008<br>Individuals using the Internet (% of population)=%{x}<extra></extra>\",\"legendgroup\":\"China\",\"marker\":{\"color\":\"#6A82AB\",\"pattern\":{\"shape\":\"\"}},\"name\":\"China\",\"offsetgroup\":\"China\",\"orientation\":\"h\",\"showlegend\":true,\"textposition\":\"auto\",\"x\":[22.600000381469727],\"xaxis\":\"x\",\"y\":[\"China\"],\"yaxis\":\"y\",\"type\":\"bar\"},{\"alignmentgroup\":\"True\",\"hovertemplate\":\"Entity=%{y}<br>Year=2008<br>Individuals using the Internet (% of population)=%{x}<extra></extra>\",\"legendgroup\":\"World\",\"marker\":{\"color\":\"#6A82AB\",\"pattern\":{\"shape\":\"\"}},\"name\":\"World\",\"offsetgroup\":\"World\",\"orientation\":\"h\",\"showlegend\":true,\"textposition\":\"auto\",\"x\":[23.092138290405277],\"xaxis\":\"x\",\"y\":[\"World\"],\"yaxis\":\"y\",\"type\":\"bar\"},{\"alignmentgroup\":\"True\",\"hovertemplate\":\"Entity=%{y}<br>Year=2008<br>Individuals using the Internet (% of population)=%{x}<extra></extra>\",\"legendgroup\":\"India\",\"marker\":{\"color\":\"#6A82AB\",\"pattern\":{\"shape\":\"\"}},\"name\":\"India\",\"offsetgroup\":\"India\",\"orientation\":\"h\",\"showlegend\":true,\"textposition\":\"auto\",\"x\":[4.380000114440918],\"xaxis\":\"x\",\"y\":[\"India\"],\"yaxis\":\"y\",\"type\":\"bar\"},{\"alignmentgroup\":\"True\",\"hovertemplate\":\"Entity=%{y}<br>Year=2008<br>Individuals using the Internet (% of population)=%{x}<extra></extra>\",\"legendgroup\":\"Nigeria\",\"marker\":{\"color\":\"#6A82AB\",\"pattern\":{\"shape\":\"\"}},\"name\":\"Nigeria\",\"offsetgroup\":\"Nigeria\",\"orientation\":\"h\",\"showlegend\":true,\"textposition\":\"auto\",\"x\":[8.0],\"xaxis\":\"x\",\"y\":[\"Nigeria\"],\"yaxis\":\"y\",\"type\":\"bar\"}],\"name\":\"2008\"},{\"data\":[{\"alignmentgroup\":\"True\",\"hovertemplate\":\"Entity=%{y}<br>Year=2007<br>Individuals using the Internet (% of population)=%{x}<extra></extra>\",\"legendgroup\":\"United Kingdom\",\"marker\":{\"color\":\"#6A82AB\",\"pattern\":{\"shape\":\"\"}},\"name\":\"United Kingdom\",\"offsetgroup\":\"United Kingdom\",\"orientation\":\"h\",\"showlegend\":true,\"textposition\":\"auto\",\"x\":[75.08999633789062],\"xaxis\":\"x\",\"y\":[\"United Kingdom\"],\"yaxis\":\"y\",\"type\":\"bar\"},{\"alignmentgroup\":\"True\",\"hovertemplate\":\"Entity=%{y}<br>Year=2007<br>Individuals using the Internet (% of population)=%{x}<extra></extra>\",\"legendgroup\":\"Japan\",\"marker\":{\"color\":\"#6A82AB\",\"pattern\":{\"shape\":\"\"}},\"name\":\"Japan\",\"offsetgroup\":\"Japan\",\"orientation\":\"h\",\"showlegend\":true,\"textposition\":\"auto\",\"x\":[74.30000305175781],\"xaxis\":\"x\",\"y\":[\"Japan\"],\"yaxis\":\"y\",\"type\":\"bar\"},{\"alignmentgroup\":\"True\",\"hovertemplate\":\"Entity=%{y}<br>Year=2007<br>Individuals using the Internet (% of population)=%{x}<extra></extra>\",\"legendgroup\":\"United States\",\"marker\":{\"color\":\"#D24B4E\",\"pattern\":{\"shape\":\"\"}},\"name\":\"United States\",\"offsetgroup\":\"United States\",\"orientation\":\"h\",\"showlegend\":true,\"textposition\":\"auto\",\"x\":[75.0],\"xaxis\":\"x\",\"y\":[\"United States\"],\"yaxis\":\"y\",\"type\":\"bar\"},{\"alignmentgroup\":\"True\",\"hovertemplate\":\"Entity=%{y}<br>Year=2007<br>Individuals using the Internet (% of population)=%{x}<extra></extra>\",\"legendgroup\":\"France\",\"marker\":{\"color\":\"#6A82AB\",\"pattern\":{\"shape\":\"\"}},\"name\":\"France\",\"offsetgroup\":\"France\",\"orientation\":\"h\",\"showlegend\":true,\"textposition\":\"auto\",\"x\":[66.08999633789062],\"xaxis\":\"x\",\"y\":[\"France\"],\"yaxis\":\"y\",\"type\":\"bar\"},{\"alignmentgroup\":\"True\",\"hovertemplate\":\"Entity=%{y}<br>Year=2007<br>Individuals using the Internet (% of population)=%{x}<extra></extra>\",\"legendgroup\":\"Brazil\",\"marker\":{\"color\":\"#6A82AB\",\"pattern\":{\"shape\":\"\"}},\"name\":\"Brazil\",\"offsetgroup\":\"Brazil\",\"orientation\":\"h\",\"showlegend\":true,\"textposition\":\"auto\",\"x\":[30.8799991607666],\"xaxis\":\"x\",\"y\":[\"Brazil\"],\"yaxis\":\"y\",\"type\":\"bar\"},{\"alignmentgroup\":\"True\",\"hovertemplate\":\"Entity=%{y}<br>Year=2007<br>Individuals using the Internet (% of population)=%{x}<extra></extra>\",\"legendgroup\":\"China\",\"marker\":{\"color\":\"#6A82AB\",\"pattern\":{\"shape\":\"\"}},\"name\":\"China\",\"offsetgroup\":\"China\",\"orientation\":\"h\",\"showlegend\":true,\"textposition\":\"auto\",\"x\":[16.0],\"xaxis\":\"x\",\"y\":[\"China\"],\"yaxis\":\"y\",\"type\":\"bar\"},{\"alignmentgroup\":\"True\",\"hovertemplate\":\"Entity=%{y}<br>Year=2007<br>Individuals using the Internet (% of population)=%{x}<extra></extra>\",\"legendgroup\":\"World\",\"marker\":{\"color\":\"#6A82AB\",\"pattern\":{\"shape\":\"\"}},\"name\":\"World\",\"offsetgroup\":\"World\",\"orientation\":\"h\",\"showlegend\":true,\"textposition\":\"auto\",\"x\":[20.4029541015625],\"xaxis\":\"x\",\"y\":[\"World\"],\"yaxis\":\"y\",\"type\":\"bar\"},{\"alignmentgroup\":\"True\",\"hovertemplate\":\"Entity=%{y}<br>Year=2007<br>Individuals using the Internet (% of population)=%{x}<extra></extra>\",\"legendgroup\":\"India\",\"marker\":{\"color\":\"#6A82AB\",\"pattern\":{\"shape\":\"\"}},\"name\":\"India\",\"offsetgroup\":\"India\",\"orientation\":\"h\",\"showlegend\":true,\"textposition\":\"auto\",\"x\":[3.950000047683716],\"xaxis\":\"x\",\"y\":[\"India\"],\"yaxis\":\"y\",\"type\":\"bar\"},{\"alignmentgroup\":\"True\",\"hovertemplate\":\"Entity=%{y}<br>Year=2007<br>Individuals using the Internet (% of population)=%{x}<extra></extra>\",\"legendgroup\":\"Nigeria\",\"marker\":{\"color\":\"#6A82AB\",\"pattern\":{\"shape\":\"\"}},\"name\":\"Nigeria\",\"offsetgroup\":\"Nigeria\",\"orientation\":\"h\",\"showlegend\":true,\"textposition\":\"auto\",\"x\":[6.769999980926514],\"xaxis\":\"x\",\"y\":[\"Nigeria\"],\"yaxis\":\"y\",\"type\":\"bar\"}],\"name\":\"2007\"},{\"data\":[{\"alignmentgroup\":\"True\",\"hovertemplate\":\"Entity=%{y}<br>Year=2005<br>Individuals using the Internet (% of population)=%{x}<extra></extra>\",\"legendgroup\":\"United Kingdom\",\"marker\":{\"color\":\"#6A82AB\",\"pattern\":{\"shape\":\"\"}},\"name\":\"United Kingdom\",\"offsetgroup\":\"United Kingdom\",\"orientation\":\"h\",\"showlegend\":true,\"textposition\":\"auto\",\"x\":[70.0],\"xaxis\":\"x\",\"y\":[\"United Kingdom\"],\"yaxis\":\"y\",\"type\":\"bar\"},{\"alignmentgroup\":\"True\",\"hovertemplate\":\"Entity=%{y}<br>Year=2005<br>Individuals using the Internet (% of population)=%{x}<extra></extra>\",\"legendgroup\":\"Japan\",\"marker\":{\"color\":\"#6A82AB\",\"pattern\":{\"shape\":\"\"}},\"name\":\"Japan\",\"offsetgroup\":\"Japan\",\"orientation\":\"h\",\"showlegend\":true,\"textposition\":\"auto\",\"x\":[66.92106628417969],\"xaxis\":\"x\",\"y\":[\"Japan\"],\"yaxis\":\"y\",\"type\":\"bar\"},{\"alignmentgroup\":\"True\",\"hovertemplate\":\"Entity=%{y}<br>Year=2005<br>Individuals using the Internet (% of population)=%{x}<extra></extra>\",\"legendgroup\":\"United States\",\"marker\":{\"color\":\"#D24B4E\",\"pattern\":{\"shape\":\"\"}},\"name\":\"United States\",\"offsetgroup\":\"United States\",\"orientation\":\"h\",\"showlegend\":true,\"textposition\":\"auto\",\"x\":[67.96805572509766],\"xaxis\":\"x\",\"y\":[\"United States\"],\"yaxis\":\"y\",\"type\":\"bar\"},{\"alignmentgroup\":\"True\",\"hovertemplate\":\"Entity=%{y}<br>Year=2005<br>Individuals using the Internet (% of population)=%{x}<extra></extra>\",\"legendgroup\":\"France\",\"marker\":{\"color\":\"#6A82AB\",\"pattern\":{\"shape\":\"\"}},\"name\":\"France\",\"offsetgroup\":\"France\",\"orientation\":\"h\",\"showlegend\":true,\"textposition\":\"auto\",\"x\":[42.869998931884766],\"xaxis\":\"x\",\"y\":[\"France\"],\"yaxis\":\"y\",\"type\":\"bar\"},{\"alignmentgroup\":\"True\",\"hovertemplate\":\"Entity=%{y}<br>Year=2005<br>Individuals using the Internet (% of population)=%{x}<extra></extra>\",\"legendgroup\":\"Brazil\",\"marker\":{\"color\":\"#6A82AB\",\"pattern\":{\"shape\":\"\"}},\"name\":\"Brazil\",\"offsetgroup\":\"Brazil\",\"orientation\":\"h\",\"showlegend\":true,\"textposition\":\"auto\",\"x\":[21.02274703979492],\"xaxis\":\"x\",\"y\":[\"Brazil\"],\"yaxis\":\"y\",\"type\":\"bar\"},{\"alignmentgroup\":\"True\",\"hovertemplate\":\"Entity=%{y}<br>Year=2005<br>Individuals using the Internet (% of population)=%{x}<extra></extra>\",\"legendgroup\":\"China\",\"marker\":{\"color\":\"#6A82AB\",\"pattern\":{\"shape\":\"\"}},\"name\":\"China\",\"offsetgroup\":\"China\",\"orientation\":\"h\",\"showlegend\":true,\"textposition\":\"auto\",\"x\":[8.5232572555542],\"xaxis\":\"x\",\"y\":[\"China\"],\"yaxis\":\"y\",\"type\":\"bar\"},{\"alignmentgroup\":\"True\",\"hovertemplate\":\"Entity=%{y}<br>Year=2005<br>Individuals using the Internet (% of population)=%{x}<extra></extra>\",\"legendgroup\":\"World\",\"marker\":{\"color\":\"#6A82AB\",\"pattern\":{\"shape\":\"\"}},\"name\":\"World\",\"offsetgroup\":\"World\",\"orientation\":\"h\",\"showlegend\":true,\"textposition\":\"auto\",\"x\":[15.696121215820312],\"xaxis\":\"x\",\"y\":[\"World\"],\"yaxis\":\"y\",\"type\":\"bar\"},{\"alignmentgroup\":\"True\",\"hovertemplate\":\"Entity=%{y}<br>Year=2005<br>Individuals using the Internet (% of population)=%{x}<extra></extra>\",\"legendgroup\":\"India\",\"marker\":{\"color\":\"#6A82AB\",\"pattern\":{\"shape\":\"\"}},\"name\":\"India\",\"offsetgroup\":\"India\",\"orientation\":\"h\",\"showlegend\":true,\"textposition\":\"auto\",\"x\":[2.388075113296509],\"xaxis\":\"x\",\"y\":[\"India\"],\"yaxis\":\"y\",\"type\":\"bar\"},{\"alignmentgroup\":\"True\",\"hovertemplate\":\"Entity=%{y}<br>Year=2005<br>Individuals using the Internet (% of population)=%{x}<extra></extra>\",\"legendgroup\":\"Nigeria\",\"marker\":{\"color\":\"#6A82AB\",\"pattern\":{\"shape\":\"\"}},\"name\":\"Nigeria\",\"offsetgroup\":\"Nigeria\",\"orientation\":\"h\",\"showlegend\":true,\"textposition\":\"auto\",\"x\":[3.549155712127685],\"xaxis\":\"x\",\"y\":[\"Nigeria\"],\"yaxis\":\"y\",\"type\":\"bar\"}],\"name\":\"2005\"},{\"data\":[{\"alignmentgroup\":\"True\",\"hovertemplate\":\"Entity=%{y}<br>Year=2006<br>Individuals using the Internet (% of population)=%{x}<extra></extra>\",\"legendgroup\":\"United Kingdom\",\"marker\":{\"color\":\"#6A82AB\",\"pattern\":{\"shape\":\"\"}},\"name\":\"United Kingdom\",\"offsetgroup\":\"United Kingdom\",\"orientation\":\"h\",\"showlegend\":true,\"textposition\":\"auto\",\"x\":[68.81999969482422],\"xaxis\":\"x\",\"y\":[\"United Kingdom\"],\"yaxis\":\"y\",\"type\":\"bar\"},{\"alignmentgroup\":\"True\",\"hovertemplate\":\"Entity=%{y}<br>Year=2006<br>Individuals using the Internet (% of population)=%{x}<extra></extra>\",\"legendgroup\":\"Japan\",\"marker\":{\"color\":\"#6A82AB\",\"pattern\":{\"shape\":\"\"}},\"name\":\"Japan\",\"offsetgroup\":\"Japan\",\"orientation\":\"h\",\"showlegend\":true,\"textposition\":\"auto\",\"x\":[68.68527221679688],\"xaxis\":\"x\",\"y\":[\"Japan\"],\"yaxis\":\"y\",\"type\":\"bar\"},{\"alignmentgroup\":\"True\",\"hovertemplate\":\"Entity=%{y}<br>Year=2006<br>Individuals using the Internet (% of population)=%{x}<extra></extra>\",\"legendgroup\":\"United States\",\"marker\":{\"color\":\"#D24B4E\",\"pattern\":{\"shape\":\"\"}},\"name\":\"United States\",\"offsetgroup\":\"United States\",\"orientation\":\"h\",\"showlegend\":true,\"textposition\":\"auto\",\"x\":[68.93119049072266],\"xaxis\":\"x\",\"y\":[\"United States\"],\"yaxis\":\"y\",\"type\":\"bar\"},{\"alignmentgroup\":\"True\",\"hovertemplate\":\"Entity=%{y}<br>Year=2006<br>Individuals using the Internet (% of population)=%{x}<extra></extra>\",\"legendgroup\":\"France\",\"marker\":{\"color\":\"#6A82AB\",\"pattern\":{\"shape\":\"\"}},\"name\":\"France\",\"offsetgroup\":\"France\",\"orientation\":\"h\",\"showlegend\":true,\"textposition\":\"auto\",\"x\":[46.869998931884766],\"xaxis\":\"x\",\"y\":[\"France\"],\"yaxis\":\"y\",\"type\":\"bar\"},{\"alignmentgroup\":\"True\",\"hovertemplate\":\"Entity=%{y}<br>Year=2006<br>Individuals using the Internet (% of population)=%{x}<extra></extra>\",\"legendgroup\":\"Brazil\",\"marker\":{\"color\":\"#6A82AB\",\"pattern\":{\"shape\":\"\"}},\"name\":\"Brazil\",\"offsetgroup\":\"Brazil\",\"orientation\":\"h\",\"showlegend\":true,\"textposition\":\"auto\",\"x\":[28.178380966186523],\"xaxis\":\"x\",\"y\":[\"Brazil\"],\"yaxis\":\"y\",\"type\":\"bar\"},{\"alignmentgroup\":\"True\",\"hovertemplate\":\"Entity=%{y}<br>Year=2006<br>Individuals using the Internet (% of population)=%{x}<extra></extra>\",\"legendgroup\":\"China\",\"marker\":{\"color\":\"#6A82AB\",\"pattern\":{\"shape\":\"\"}},\"name\":\"China\",\"offsetgroup\":\"China\",\"orientation\":\"h\",\"showlegend\":true,\"textposition\":\"auto\",\"x\":[10.523152351379396],\"xaxis\":\"x\",\"y\":[\"China\"],\"yaxis\":\"y\",\"type\":\"bar\"},{\"alignmentgroup\":\"True\",\"hovertemplate\":\"Entity=%{y}<br>Year=2006<br>Individuals using the Internet (% of population)=%{x}<extra></extra>\",\"legendgroup\":\"World\",\"marker\":{\"color\":\"#6A82AB\",\"pattern\":{\"shape\":\"\"}},\"name\":\"World\",\"offsetgroup\":\"World\",\"orientation\":\"h\",\"showlegend\":true,\"textposition\":\"auto\",\"x\":[17.474918365478516],\"xaxis\":\"x\",\"y\":[\"World\"],\"yaxis\":\"y\",\"type\":\"bar\"},{\"alignmentgroup\":\"True\",\"hovertemplate\":\"Entity=%{y}<br>Year=2006<br>Individuals using the Internet (% of population)=%{x}<extra></extra>\",\"legendgroup\":\"India\",\"marker\":{\"color\":\"#6A82AB\",\"pattern\":{\"shape\":\"\"}},\"name\":\"India\",\"offsetgroup\":\"India\",\"orientation\":\"h\",\"showlegend\":true,\"textposition\":\"auto\",\"x\":[2.805499792098999],\"xaxis\":\"x\",\"y\":[\"India\"],\"yaxis\":\"y\",\"type\":\"bar\"},{\"alignmentgroup\":\"True\",\"hovertemplate\":\"Entity=%{y}<br>Year=2006<br>Individuals using the Internet (% of population)=%{x}<extra></extra>\",\"legendgroup\":\"Nigeria\",\"marker\":{\"color\":\"#6A82AB\",\"pattern\":{\"shape\":\"\"}},\"name\":\"Nigeria\",\"offsetgroup\":\"Nigeria\",\"orientation\":\"h\",\"showlegend\":true,\"textposition\":\"auto\",\"x\":[5.545036315917969],\"xaxis\":\"x\",\"y\":[\"Nigeria\"],\"yaxis\":\"y\",\"type\":\"bar\"}],\"name\":\"2006\"},{\"data\":[{\"alignmentgroup\":\"True\",\"hovertemplate\":\"Entity=%{y}<br>Year=2004<br>Individuals using the Internet (% of population)=%{x}<extra></extra>\",\"legendgroup\":\"United Kingdom\",\"marker\":{\"color\":\"#6A82AB\",\"pattern\":{\"shape\":\"\"}},\"name\":\"United Kingdom\",\"offsetgroup\":\"United Kingdom\",\"orientation\":\"h\",\"showlegend\":true,\"textposition\":\"auto\",\"x\":[65.61000061035156],\"xaxis\":\"x\",\"y\":[\"United Kingdom\"],\"yaxis\":\"y\",\"type\":\"bar\"},{\"alignmentgroup\":\"True\",\"hovertemplate\":\"Entity=%{y}<br>Year=2004<br>Individuals using the Internet (% of population)=%{x}<extra></extra>\",\"legendgroup\":\"Japan\",\"marker\":{\"color\":\"#6A82AB\",\"pattern\":{\"shape\":\"\"}},\"name\":\"Japan\",\"offsetgroup\":\"Japan\",\"orientation\":\"h\",\"showlegend\":true,\"textposition\":\"auto\",\"x\":[62.39392852783203],\"xaxis\":\"x\",\"y\":[\"Japan\"],\"yaxis\":\"y\",\"type\":\"bar\"},{\"alignmentgroup\":\"True\",\"hovertemplate\":\"Entity=%{y}<br>Year=2004<br>Individuals using the Internet (% of population)=%{x}<extra></extra>\",\"legendgroup\":\"United States\",\"marker\":{\"color\":\"#D24B4E\",\"pattern\":{\"shape\":\"\"}},\"name\":\"United States\",\"offsetgroup\":\"United States\",\"orientation\":\"h\",\"showlegend\":true,\"textposition\":\"auto\",\"x\":[64.75825500488281],\"xaxis\":\"x\",\"y\":[\"United States\"],\"yaxis\":\"y\",\"type\":\"bar\"},{\"alignmentgroup\":\"True\",\"hovertemplate\":\"Entity=%{y}<br>Year=2004<br>Individuals using the Internet (% of population)=%{x}<extra></extra>\",\"legendgroup\":\"France\",\"marker\":{\"color\":\"#6A82AB\",\"pattern\":{\"shape\":\"\"}},\"name\":\"France\",\"offsetgroup\":\"France\",\"orientation\":\"h\",\"showlegend\":true,\"textposition\":\"auto\",\"x\":[39.150001525878906],\"xaxis\":\"x\",\"y\":[\"France\"],\"yaxis\":\"y\",\"type\":\"bar\"},{\"alignmentgroup\":\"True\",\"hovertemplate\":\"Entity=%{y}<br>Year=2004<br>Individuals using the Internet (% of population)=%{x}<extra></extra>\",\"legendgroup\":\"Brazil\",\"marker\":{\"color\":\"#6A82AB\",\"pattern\":{\"shape\":\"\"}},\"name\":\"Brazil\",\"offsetgroup\":\"Brazil\",\"orientation\":\"h\",\"showlegend\":true,\"textposition\":\"auto\",\"x\":[19.073671340942383],\"xaxis\":\"x\",\"y\":[\"Brazil\"],\"yaxis\":\"y\",\"type\":\"bar\"},{\"alignmentgroup\":\"True\",\"hovertemplate\":\"Entity=%{y}<br>Year=2004<br>Individuals using the Internet (% of population)=%{x}<extra></extra>\",\"legendgroup\":\"China\",\"marker\":{\"color\":\"#6A82AB\",\"pattern\":{\"shape\":\"\"}},\"name\":\"China\",\"offsetgroup\":\"China\",\"orientation\":\"h\",\"showlegend\":true,\"textposition\":\"auto\",\"x\":[7.300000190734863],\"xaxis\":\"x\",\"y\":[\"China\"],\"yaxis\":\"y\",\"type\":\"bar\"},{\"alignmentgroup\":\"True\",\"hovertemplate\":\"Entity=%{y}<br>Year=2004<br>Individuals using the Internet (% of population)=%{x}<extra></extra>\",\"legendgroup\":\"World\",\"marker\":{\"color\":\"#6A82AB\",\"pattern\":{\"shape\":\"\"}},\"name\":\"World\",\"offsetgroup\":\"World\",\"orientation\":\"h\",\"showlegend\":true,\"textposition\":\"auto\",\"x\":[14.095365524291992],\"xaxis\":\"x\",\"y\":[\"World\"],\"yaxis\":\"y\",\"type\":\"bar\"},{\"alignmentgroup\":\"True\",\"hovertemplate\":\"Entity=%{y}<br>Year=2004<br>Individuals using the Internet (% of population)=%{x}<extra></extra>\",\"legendgroup\":\"India\",\"marker\":{\"color\":\"#6A82AB\",\"pattern\":{\"shape\":\"\"}},\"name\":\"India\",\"offsetgroup\":\"India\",\"orientation\":\"h\",\"showlegend\":true,\"textposition\":\"auto\",\"x\":[1.9761364459991453],\"xaxis\":\"x\",\"y\":[\"India\"],\"yaxis\":\"y\",\"type\":\"bar\"},{\"alignmentgroup\":\"True\",\"hovertemplate\":\"Entity=%{y}<br>Year=2004<br>Individuals using the Internet (% of population)=%{x}<extra></extra>\",\"legendgroup\":\"Nigeria\",\"marker\":{\"color\":\"#6A82AB\",\"pattern\":{\"shape\":\"\"}},\"name\":\"Nigeria\",\"offsetgroup\":\"Nigeria\",\"orientation\":\"h\",\"showlegend\":true,\"textposition\":\"auto\",\"x\":[1.2861377000808716],\"xaxis\":\"x\",\"y\":[\"Nigeria\"],\"yaxis\":\"y\",\"type\":\"bar\"}],\"name\":\"2004\"},{\"data\":[{\"alignmentgroup\":\"True\",\"hovertemplate\":\"Entity=%{y}<br>Year=2003<br>Individuals using the Internet (% of population)=%{x}<extra></extra>\",\"legendgroup\":\"United Kingdom\",\"marker\":{\"color\":\"#6A82AB\",\"pattern\":{\"shape\":\"\"}},\"name\":\"United Kingdom\",\"offsetgroup\":\"United Kingdom\",\"orientation\":\"h\",\"showlegend\":true,\"textposition\":\"auto\",\"x\":[64.81999969482422],\"xaxis\":\"x\",\"y\":[\"United Kingdom\"],\"yaxis\":\"y\",\"type\":\"bar\"},{\"alignmentgroup\":\"True\",\"hovertemplate\":\"Entity=%{y}<br>Year=2003<br>Individuals using the Internet (% of population)=%{x}<extra></extra>\",\"legendgroup\":\"Japan\",\"marker\":{\"color\":\"#6A82AB\",\"pattern\":{\"shape\":\"\"}},\"name\":\"Japan\",\"offsetgroup\":\"Japan\",\"orientation\":\"h\",\"showlegend\":true,\"textposition\":\"auto\",\"x\":[48.43526458740234],\"xaxis\":\"x\",\"y\":[\"Japan\"],\"yaxis\":\"y\",\"type\":\"bar\"},{\"alignmentgroup\":\"True\",\"hovertemplate\":\"Entity=%{y}<br>Year=2003<br>Individuals using the Internet (% of population)=%{x}<extra></extra>\",\"legendgroup\":\"United States\",\"marker\":{\"color\":\"#D24B4E\",\"pattern\":{\"shape\":\"\"}},\"name\":\"United States\",\"offsetgroup\":\"United States\",\"orientation\":\"h\",\"showlegend\":true,\"textposition\":\"auto\",\"x\":[61.69711685180664],\"xaxis\":\"x\",\"y\":[\"United States\"],\"yaxis\":\"y\",\"type\":\"bar\"},{\"alignmentgroup\":\"True\",\"hovertemplate\":\"Entity=%{y}<br>Year=2003<br>Individuals using the Internet (% of population)=%{x}<extra></extra>\",\"legendgroup\":\"France\",\"marker\":{\"color\":\"#6A82AB\",\"pattern\":{\"shape\":\"\"}},\"name\":\"France\",\"offsetgroup\":\"France\",\"orientation\":\"h\",\"showlegend\":true,\"textposition\":\"auto\",\"x\":[36.13999938964844],\"xaxis\":\"x\",\"y\":[\"France\"],\"yaxis\":\"y\",\"type\":\"bar\"},{\"alignmentgroup\":\"True\",\"hovertemplate\":\"Entity=%{y}<br>Year=2003<br>Individuals using the Internet (% of population)=%{x}<extra></extra>\",\"legendgroup\":\"Brazil\",\"marker\":{\"color\":\"#6A82AB\",\"pattern\":{\"shape\":\"\"}},\"name\":\"Brazil\",\"offsetgroup\":\"Brazil\",\"orientation\":\"h\",\"showlegend\":true,\"textposition\":\"auto\",\"x\":[13.207586288452148],\"xaxis\":\"x\",\"y\":[\"Brazil\"],\"yaxis\":\"y\",\"type\":\"bar\"},{\"alignmentgroup\":\"True\",\"hovertemplate\":\"Entity=%{y}<br>Year=2003<br>Individuals using the Internet (% of population)=%{x}<extra></extra>\",\"legendgroup\":\"China\",\"marker\":{\"color\":\"#6A82AB\",\"pattern\":{\"shape\":\"\"}},\"name\":\"China\",\"offsetgroup\":\"China\",\"orientation\":\"h\",\"showlegend\":true,\"textposition\":\"auto\",\"x\":[6.199999809265137],\"xaxis\":\"x\",\"y\":[\"China\"],\"yaxis\":\"y\",\"type\":\"bar\"},{\"alignmentgroup\":\"True\",\"hovertemplate\":\"Entity=%{y}<br>Year=2003<br>Individuals using the Internet (% of population)=%{x}<extra></extra>\",\"legendgroup\":\"World\",\"marker\":{\"color\":\"#6A82AB\",\"pattern\":{\"shape\":\"\"}},\"name\":\"World\",\"offsetgroup\":\"World\",\"orientation\":\"h\",\"showlegend\":true,\"textposition\":\"auto\",\"x\":[12.20860195159912],\"xaxis\":\"x\",\"y\":[\"World\"],\"yaxis\":\"y\",\"type\":\"bar\"},{\"alignmentgroup\":\"True\",\"hovertemplate\":\"Entity=%{y}<br>Year=2003<br>Individuals using the Internet (% of population)=%{x}<extra></extra>\",\"legendgroup\":\"India\",\"marker\":{\"color\":\"#6A82AB\",\"pattern\":{\"shape\":\"\"}},\"name\":\"India\",\"offsetgroup\":\"India\",\"orientation\":\"h\",\"showlegend\":true,\"textposition\":\"auto\",\"x\":[1.6864899396896362],\"xaxis\":\"x\",\"y\":[\"India\"],\"yaxis\":\"y\",\"type\":\"bar\"},{\"alignmentgroup\":\"True\",\"hovertemplate\":\"Entity=%{y}<br>Year=2003<br>Individuals using the Internet (% of population)=%{x}<extra></extra>\",\"legendgroup\":\"Nigeria\",\"marker\":{\"color\":\"#6A82AB\",\"pattern\":{\"shape\":\"\"}},\"name\":\"Nigeria\",\"offsetgroup\":\"Nigeria\",\"orientation\":\"h\",\"showlegend\":true,\"textposition\":\"auto\",\"x\":[0.558576226234436],\"xaxis\":\"x\",\"y\":[\"Nigeria\"],\"yaxis\":\"y\",\"type\":\"bar\"}],\"name\":\"2003\"},{\"data\":[{\"alignmentgroup\":\"True\",\"hovertemplate\":\"Entity=%{y}<br>Year=2002<br>Individuals using the Internet (% of population)=%{x}<extra></extra>\",\"legendgroup\":\"United Kingdom\",\"marker\":{\"color\":\"#6A82AB\",\"pattern\":{\"shape\":\"\"}},\"name\":\"United Kingdom\",\"offsetgroup\":\"United Kingdom\",\"orientation\":\"h\",\"showlegend\":true,\"textposition\":\"auto\",\"x\":[56.47999954223633],\"xaxis\":\"x\",\"y\":[\"United Kingdom\"],\"yaxis\":\"y\",\"type\":\"bar\"},{\"alignmentgroup\":\"True\",\"hovertemplate\":\"Entity=%{y}<br>Year=2002<br>Individuals using the Internet (% of population)=%{x}<extra></extra>\",\"legendgroup\":\"Japan\",\"marker\":{\"color\":\"#6A82AB\",\"pattern\":{\"shape\":\"\"}},\"name\":\"Japan\",\"offsetgroup\":\"Japan\",\"orientation\":\"h\",\"showlegend\":true,\"textposition\":\"auto\",\"x\":[46.594200134277344],\"xaxis\":\"x\",\"y\":[\"Japan\"],\"yaxis\":\"y\",\"type\":\"bar\"},{\"alignmentgroup\":\"True\",\"hovertemplate\":\"Entity=%{y}<br>Year=2002<br>Individuals using the Internet (% of population)=%{x}<extra></extra>\",\"legendgroup\":\"United States\",\"marker\":{\"color\":\"#D24B4E\",\"pattern\":{\"shape\":\"\"}},\"name\":\"United States\",\"offsetgroup\":\"United States\",\"orientation\":\"h\",\"showlegend\":true,\"textposition\":\"auto\",\"x\":[58.785404205322266],\"xaxis\":\"x\",\"y\":[\"United States\"],\"yaxis\":\"y\",\"type\":\"bar\"},{\"alignmentgroup\":\"True\",\"hovertemplate\":\"Entity=%{y}<br>Year=2002<br>Individuals using the Internet (% of population)=%{x}<extra></extra>\",\"legendgroup\":\"France\",\"marker\":{\"color\":\"#6A82AB\",\"pattern\":{\"shape\":\"\"}},\"name\":\"France\",\"offsetgroup\":\"France\",\"orientation\":\"h\",\"showlegend\":true,\"textposition\":\"auto\",\"x\":[30.18000030517578],\"xaxis\":\"x\",\"y\":[\"France\"],\"yaxis\":\"y\",\"type\":\"bar\"},{\"alignmentgroup\":\"True\",\"hovertemplate\":\"Entity=%{y}<br>Year=2002<br>Individuals using the Internet (% of population)=%{x}<extra></extra>\",\"legendgroup\":\"Brazil\",\"marker\":{\"color\":\"#6A82AB\",\"pattern\":{\"shape\":\"\"}},\"name\":\"Brazil\",\"offsetgroup\":\"Brazil\",\"orientation\":\"h\",\"showlegend\":true,\"textposition\":\"auto\",\"x\":[9.149425506591797],\"xaxis\":\"x\",\"y\":[\"Brazil\"],\"yaxis\":\"y\",\"type\":\"bar\"},{\"alignmentgroup\":\"True\",\"hovertemplate\":\"Entity=%{y}<br>Year=2002<br>Individuals using the Internet (% of population)=%{x}<extra></extra>\",\"legendgroup\":\"China\",\"marker\":{\"color\":\"#6A82AB\",\"pattern\":{\"shape\":\"\"}},\"name\":\"China\",\"offsetgroup\":\"China\",\"orientation\":\"h\",\"showlegend\":true,\"textposition\":\"auto\",\"x\":[4.595704555511475],\"xaxis\":\"x\",\"y\":[\"China\"],\"yaxis\":\"y\",\"type\":\"bar\"},{\"alignmentgroup\":\"True\",\"hovertemplate\":\"Entity=%{y}<br>Year=2002<br>Individuals using the Internet (% of population)=%{x}<extra></extra>\",\"legendgroup\":\"World\",\"marker\":{\"color\":\"#6A82AB\",\"pattern\":{\"shape\":\"\"}},\"name\":\"World\",\"offsetgroup\":\"World\",\"orientation\":\"h\",\"showlegend\":true,\"textposition\":\"auto\",\"x\":[10.527289390563965],\"xaxis\":\"x\",\"y\":[\"World\"],\"yaxis\":\"y\",\"type\":\"bar\"},{\"alignmentgroup\":\"True\",\"hovertemplate\":\"Entity=%{y}<br>Year=2002<br>Individuals using the Internet (% of population)=%{x}<extra></extra>\",\"legendgroup\":\"India\",\"marker\":{\"color\":\"#6A82AB\",\"pattern\":{\"shape\":\"\"}},\"name\":\"India\",\"offsetgroup\":\"India\",\"orientation\":\"h\",\"showlegend\":true,\"textposition\":\"auto\",\"x\":[1.5378755331039429],\"xaxis\":\"x\",\"y\":[\"India\"],\"yaxis\":\"y\",\"type\":\"bar\"},{\"alignmentgroup\":\"True\",\"hovertemplate\":\"Entity=%{y}<br>Year=2002<br>Individuals using the Internet (% of population)=%{x}<extra></extra>\",\"legendgroup\":\"Nigeria\",\"marker\":{\"color\":\"#6A82AB\",\"pattern\":{\"shape\":\"\"}},\"name\":\"Nigeria\",\"offsetgroup\":\"Nigeria\",\"orientation\":\"h\",\"showlegend\":true,\"textposition\":\"auto\",\"x\":[0.3204619884490967],\"xaxis\":\"x\",\"y\":[\"Nigeria\"],\"yaxis\":\"y\",\"type\":\"bar\"}],\"name\":\"2002\"},{\"data\":[{\"alignmentgroup\":\"True\",\"hovertemplate\":\"Entity=%{y}<br>Year=2001<br>Individuals using the Internet (% of population)=%{x}<extra></extra>\",\"legendgroup\":\"United Kingdom\",\"marker\":{\"color\":\"#6A82AB\",\"pattern\":{\"shape\":\"\"}},\"name\":\"United Kingdom\",\"offsetgroup\":\"United Kingdom\",\"orientation\":\"h\",\"showlegend\":true,\"textposition\":\"auto\",\"x\":[33.48109436035156],\"xaxis\":\"x\",\"y\":[\"United Kingdom\"],\"yaxis\":\"y\",\"type\":\"bar\"},{\"alignmentgroup\":\"True\",\"hovertemplate\":\"Entity=%{y}<br>Year=2001<br>Individuals using the Internet (% of population)=%{x}<extra></extra>\",\"legendgroup\":\"Japan\",\"marker\":{\"color\":\"#6A82AB\",\"pattern\":{\"shape\":\"\"}},\"name\":\"Japan\",\"offsetgroup\":\"Japan\",\"orientation\":\"h\",\"showlegend\":true,\"textposition\":\"auto\",\"x\":[38.53206253051758],\"xaxis\":\"x\",\"y\":[\"Japan\"],\"yaxis\":\"y\",\"type\":\"bar\"},{\"alignmentgroup\":\"True\",\"hovertemplate\":\"Entity=%{y}<br>Year=2001<br>Individuals using the Internet (% of population)=%{x}<extra></extra>\",\"legendgroup\":\"United States\",\"marker\":{\"color\":\"#D24B4E\",\"pattern\":{\"shape\":\"\"}},\"name\":\"United States\",\"offsetgroup\":\"United States\",\"orientation\":\"h\",\"showlegend\":true,\"textposition\":\"auto\",\"x\":[49.080833435058594],\"xaxis\":\"x\",\"y\":[\"United States\"],\"yaxis\":\"y\",\"type\":\"bar\"},{\"alignmentgroup\":\"True\",\"hovertemplate\":\"Entity=%{y}<br>Year=2001<br>Individuals using the Internet (% of population)=%{x}<extra></extra>\",\"legendgroup\":\"France\",\"marker\":{\"color\":\"#6A82AB\",\"pattern\":{\"shape\":\"\"}},\"name\":\"France\",\"offsetgroup\":\"France\",\"orientation\":\"h\",\"showlegend\":true,\"textposition\":\"auto\",\"x\":[26.325902938842773],\"xaxis\":\"x\",\"y\":[\"France\"],\"yaxis\":\"y\",\"type\":\"bar\"},{\"alignmentgroup\":\"True\",\"hovertemplate\":\"Entity=%{y}<br>Year=2001<br>Individuals using the Internet (% of population)=%{x}<extra></extra>\",\"legendgroup\":\"Brazil\",\"marker\":{\"color\":\"#6A82AB\",\"pattern\":{\"shape\":\"\"}},\"name\":\"Brazil\",\"offsetgroup\":\"Brazil\",\"orientation\":\"h\",\"showlegend\":true,\"textposition\":\"auto\",\"x\":[4.528494834899902],\"xaxis\":\"x\",\"y\":[\"Brazil\"],\"yaxis\":\"y\",\"type\":\"bar\"},{\"alignmentgroup\":\"True\",\"hovertemplate\":\"Entity=%{y}<br>Year=2001<br>Individuals using the Internet (% of population)=%{x}<extra></extra>\",\"legendgroup\":\"China\",\"marker\":{\"color\":\"#6A82AB\",\"pattern\":{\"shape\":\"\"}},\"name\":\"China\",\"offsetgroup\":\"China\",\"orientation\":\"h\",\"showlegend\":true,\"textposition\":\"auto\",\"x\":[2.6396501064300537],\"xaxis\":\"x\",\"y\":[\"China\"],\"yaxis\":\"y\",\"type\":\"bar\"},{\"alignmentgroup\":\"True\",\"hovertemplate\":\"Entity=%{y}<br>Year=2001<br>Individuals using the Internet (% of population)=%{x}<extra></extra>\",\"legendgroup\":\"World\",\"marker\":{\"color\":\"#6A82AB\",\"pattern\":{\"shape\":\"\"}},\"name\":\"World\",\"offsetgroup\":\"World\",\"orientation\":\"h\",\"showlegend\":true,\"textposition\":\"auto\",\"x\":[8.057604789733887],\"xaxis\":\"x\",\"y\":[\"World\"],\"yaxis\":\"y\",\"type\":\"bar\"},{\"alignmentgroup\":\"True\",\"hovertemplate\":\"Entity=%{y}<br>Year=2001<br>Individuals using the Internet (% of population)=%{x}<extra></extra>\",\"legendgroup\":\"India\",\"marker\":{\"color\":\"#6A82AB\",\"pattern\":{\"shape\":\"\"}},\"name\":\"India\",\"offsetgroup\":\"India\",\"orientation\":\"h\",\"showlegend\":true,\"textposition\":\"auto\",\"x\":[0.6601463556289673],\"xaxis\":\"x\",\"y\":[\"India\"],\"yaxis\":\"y\",\"type\":\"bar\"},{\"alignmentgroup\":\"True\",\"hovertemplate\":\"Entity=%{y}<br>Year=2001<br>Individuals using the Internet (% of population)=%{x}<extra></extra>\",\"legendgroup\":\"Nigeria\",\"marker\":{\"color\":\"#6A82AB\",\"pattern\":{\"shape\":\"\"}},\"name\":\"Nigeria\",\"offsetgroup\":\"Nigeria\",\"orientation\":\"h\",\"showlegend\":true,\"textposition\":\"auto\",\"x\":[0.0899013727903366],\"xaxis\":\"x\",\"y\":[\"Nigeria\"],\"yaxis\":\"y\",\"type\":\"bar\"}],\"name\":\"2001\"},{\"data\":[{\"alignmentgroup\":\"True\",\"hovertemplate\":\"Entity=%{y}<br>Year=2000<br>Individuals using the Internet (% of population)=%{x}<extra></extra>\",\"legendgroup\":\"United Kingdom\",\"marker\":{\"color\":\"#6A82AB\",\"pattern\":{\"shape\":\"\"}},\"name\":\"United Kingdom\",\"offsetgroup\":\"United Kingdom\",\"orientation\":\"h\",\"showlegend\":true,\"textposition\":\"auto\",\"x\":[26.821754455566406],\"xaxis\":\"x\",\"y\":[\"United Kingdom\"],\"yaxis\":\"y\",\"type\":\"bar\"},{\"alignmentgroup\":\"True\",\"hovertemplate\":\"Entity=%{y}<br>Year=2000<br>Individuals using the Internet (% of population)=%{x}<extra></extra>\",\"legendgroup\":\"Japan\",\"marker\":{\"color\":\"#6A82AB\",\"pattern\":{\"shape\":\"\"}},\"name\":\"Japan\",\"offsetgroup\":\"Japan\",\"orientation\":\"h\",\"showlegend\":true,\"textposition\":\"auto\",\"x\":[29.99073982238769],\"xaxis\":\"x\",\"y\":[\"Japan\"],\"yaxis\":\"y\",\"type\":\"bar\"},{\"alignmentgroup\":\"True\",\"hovertemplate\":\"Entity=%{y}<br>Year=2000<br>Individuals using the Internet (% of population)=%{x}<extra></extra>\",\"legendgroup\":\"United States\",\"marker\":{\"color\":\"#D24B4E\",\"pattern\":{\"shape\":\"\"}},\"name\":\"United States\",\"offsetgroup\":\"United States\",\"orientation\":\"h\",\"showlegend\":true,\"textposition\":\"auto\",\"x\":[43.07916259765625],\"xaxis\":\"x\",\"y\":[\"United States\"],\"yaxis\":\"y\",\"type\":\"bar\"},{\"alignmentgroup\":\"True\",\"hovertemplate\":\"Entity=%{y}<br>Year=2000<br>Individuals using the Internet (% of population)=%{x}<extra></extra>\",\"legendgroup\":\"France\",\"marker\":{\"color\":\"#6A82AB\",\"pattern\":{\"shape\":\"\"}},\"name\":\"France\",\"offsetgroup\":\"France\",\"orientation\":\"h\",\"showlegend\":true,\"textposition\":\"auto\",\"x\":[14.307924270629885],\"xaxis\":\"x\",\"y\":[\"France\"],\"yaxis\":\"y\",\"type\":\"bar\"},{\"alignmentgroup\":\"True\",\"hovertemplate\":\"Entity=%{y}<br>Year=2000<br>Individuals using the Internet (% of population)=%{x}<extra></extra>\",\"legendgroup\":\"Brazil\",\"marker\":{\"color\":\"#6A82AB\",\"pattern\":{\"shape\":\"\"}},\"name\":\"Brazil\",\"offsetgroup\":\"Brazil\",\"orientation\":\"h\",\"showlegend\":true,\"textposition\":\"auto\",\"x\":[2.87068510055542],\"xaxis\":\"x\",\"y\":[\"Brazil\"],\"yaxis\":\"y\",\"type\":\"bar\"},{\"alignmentgroup\":\"True\",\"hovertemplate\":\"Entity=%{y}<br>Year=2000<br>Individuals using the Internet (% of population)=%{x}<extra></extra>\",\"legendgroup\":\"China\",\"marker\":{\"color\":\"#6A82AB\",\"pattern\":{\"shape\":\"\"}},\"name\":\"China\",\"offsetgroup\":\"China\",\"orientation\":\"h\",\"showlegend\":true,\"textposition\":\"auto\",\"x\":[1.7759132385253906],\"xaxis\":\"x\",\"y\":[\"China\"],\"yaxis\":\"y\",\"type\":\"bar\"},{\"alignmentgroup\":\"True\",\"hovertemplate\":\"Entity=%{y}<br>Year=2000<br>Individuals using the Internet (% of population)=%{x}<extra></extra>\",\"legendgroup\":\"World\",\"marker\":{\"color\":\"#6A82AB\",\"pattern\":{\"shape\":\"\"}},\"name\":\"World\",\"offsetgroup\":\"World\",\"orientation\":\"h\",\"showlegend\":true,\"textposition\":\"auto\",\"x\":[6.733119010925293],\"xaxis\":\"x\",\"y\":[\"World\"],\"yaxis\":\"y\",\"type\":\"bar\"},{\"alignmentgroup\":\"True\",\"hovertemplate\":\"Entity=%{y}<br>Year=2000<br>Individuals using the Internet (% of population)=%{x}<extra></extra>\",\"legendgroup\":\"India\",\"marker\":{\"color\":\"#6A82AB\",\"pattern\":{\"shape\":\"\"}},\"name\":\"India\",\"offsetgroup\":\"India\",\"orientation\":\"h\",\"showlegend\":true,\"textposition\":\"auto\",\"x\":[0.5275324583053589],\"xaxis\":\"x\",\"y\":[\"India\"],\"yaxis\":\"y\",\"type\":\"bar\"},{\"alignmentgroup\":\"True\",\"hovertemplate\":\"Entity=%{y}<br>Year=2000<br>Individuals using the Internet (% of population)=%{x}<extra></extra>\",\"legendgroup\":\"Nigeria\",\"marker\":{\"color\":\"#6A82AB\",\"pattern\":{\"shape\":\"\"}},\"name\":\"Nigeria\",\"offsetgroup\":\"Nigeria\",\"orientation\":\"h\",\"showlegend\":true,\"textposition\":\"auto\",\"x\":[0.0640808045864105],\"xaxis\":\"x\",\"y\":[\"Nigeria\"],\"yaxis\":\"y\",\"type\":\"bar\"}],\"name\":\"2000\"},{\"data\":[{\"alignmentgroup\":\"True\",\"hovertemplate\":\"Entity=%{y}<br>Year=1999<br>Individuals using the Internet (% of population)=%{x}<extra></extra>\",\"legendgroup\":\"United Kingdom\",\"marker\":{\"color\":\"#6A82AB\",\"pattern\":{\"shape\":\"\"}},\"name\":\"United Kingdom\",\"offsetgroup\":\"United Kingdom\",\"orientation\":\"h\",\"showlegend\":true,\"textposition\":\"auto\",\"x\":[21.29363822937012],\"xaxis\":\"x\",\"y\":[\"United Kingdom\"],\"yaxis\":\"y\",\"type\":\"bar\"},{\"alignmentgroup\":\"True\",\"hovertemplate\":\"Entity=%{y}<br>Year=1999<br>Individuals using the Internet (% of population)=%{x}<extra></extra>\",\"legendgroup\":\"Japan\",\"marker\":{\"color\":\"#6A82AB\",\"pattern\":{\"shape\":\"\"}},\"name\":\"Japan\",\"offsetgroup\":\"Japan\",\"orientation\":\"h\",\"showlegend\":true,\"textposition\":\"auto\",\"x\":[21.39129066467285],\"xaxis\":\"x\",\"y\":[\"Japan\"],\"yaxis\":\"y\",\"type\":\"bar\"},{\"alignmentgroup\":\"True\",\"hovertemplate\":\"Entity=%{y}<br>Year=1999<br>Individuals using the Internet (% of population)=%{x}<extra></extra>\",\"legendgroup\":\"United States\",\"marker\":{\"color\":\"#D24B4E\",\"pattern\":{\"shape\":\"\"}},\"name\":\"United States\",\"offsetgroup\":\"United States\",\"orientation\":\"h\",\"showlegend\":true,\"textposition\":\"auto\",\"x\":[35.848724365234375],\"xaxis\":\"x\",\"y\":[\"United States\"],\"yaxis\":\"y\",\"type\":\"bar\"},{\"alignmentgroup\":\"True\",\"hovertemplate\":\"Entity=%{y}<br>Year=1999<br>Individuals using the Internet (% of population)=%{x}<extra></extra>\",\"legendgroup\":\"France\",\"marker\":{\"color\":\"#6A82AB\",\"pattern\":{\"shape\":\"\"}},\"name\":\"France\",\"offsetgroup\":\"France\",\"orientation\":\"h\",\"showlegend\":true,\"textposition\":\"auto\",\"x\":[9.125317573547363],\"xaxis\":\"x\",\"y\":[\"France\"],\"yaxis\":\"y\",\"type\":\"bar\"},{\"alignmentgroup\":\"True\",\"hovertemplate\":\"Entity=%{y}<br>Year=1999<br>Individuals using the Internet (% of population)=%{x}<extra></extra>\",\"legendgroup\":\"Brazil\",\"marker\":{\"color\":\"#6A82AB\",\"pattern\":{\"shape\":\"\"}},\"name\":\"Brazil\",\"offsetgroup\":\"Brazil\",\"orientation\":\"h\",\"showlegend\":true,\"textposition\":\"auto\",\"x\":[2.0387322902679443],\"xaxis\":\"x\",\"y\":[\"Brazil\"],\"yaxis\":\"y\",\"type\":\"bar\"},{\"alignmentgroup\":\"True\",\"hovertemplate\":\"Entity=%{y}<br>Year=1999<br>Individuals using the Internet (% of population)=%{x}<extra></extra>\",\"legendgroup\":\"China\",\"marker\":{\"color\":\"#6A82AB\",\"pattern\":{\"shape\":\"\"}},\"name\":\"China\",\"offsetgroup\":\"China\",\"orientation\":\"h\",\"showlegend\":true,\"textposition\":\"auto\",\"x\":[0.7081879377365112],\"xaxis\":\"x\",\"y\":[\"China\"],\"yaxis\":\"y\",\"type\":\"bar\"},{\"alignmentgroup\":\"True\",\"hovertemplate\":\"Entity=%{y}<br>Year=1999<br>Individuals using the Internet (% of population)=%{x}<extra></extra>\",\"legendgroup\":\"World\",\"marker\":{\"color\":\"#6A82AB\",\"pattern\":{\"shape\":\"\"}},\"name\":\"World\",\"offsetgroup\":\"World\",\"orientation\":\"h\",\"showlegend\":true,\"textposition\":\"auto\",\"x\":[4.629489898681641],\"xaxis\":\"x\",\"y\":[\"World\"],\"yaxis\":\"y\",\"type\":\"bar\"},{\"alignmentgroup\":\"True\",\"hovertemplate\":\"Entity=%{y}<br>Year=1999<br>Individuals using the Internet (% of population)=%{x}<extra></extra>\",\"legendgroup\":\"India\",\"marker\":{\"color\":\"#6A82AB\",\"pattern\":{\"shape\":\"\"}},\"name\":\"India\",\"offsetgroup\":\"India\",\"orientation\":\"h\",\"showlegend\":true,\"textposition\":\"auto\",\"x\":[0.273224264383316],\"xaxis\":\"x\",\"y\":[\"India\"],\"yaxis\":\"y\",\"type\":\"bar\"},{\"alignmentgroup\":\"True\",\"hovertemplate\":\"Entity=%{y}<br>Year=1999<br>Individuals using the Internet (% of population)=%{x}<extra></extra>\",\"legendgroup\":\"Nigeria\",\"marker\":{\"color\":\"#6A82AB\",\"pattern\":{\"shape\":\"\"}},\"name\":\"Nigeria\",\"offsetgroup\":\"Nigeria\",\"orientation\":\"h\",\"showlegend\":true,\"textposition\":\"auto\",\"x\":[0.0410387217998504],\"xaxis\":\"x\",\"y\":[\"Nigeria\"],\"yaxis\":\"y\",\"type\":\"bar\"}],\"name\":\"1999\"},{\"data\":[{\"alignmentgroup\":\"True\",\"hovertemplate\":\"Entity=%{y}<br>Year=1998<br>Individuals using the Internet (% of population)=%{x}<extra></extra>\",\"legendgroup\":\"United Kingdom\",\"marker\":{\"color\":\"#6A82AB\",\"pattern\":{\"shape\":\"\"}},\"name\":\"United Kingdom\",\"offsetgroup\":\"United Kingdom\",\"orientation\":\"h\",\"showlegend\":true,\"textposition\":\"auto\",\"x\":[13.66998291015625],\"xaxis\":\"x\",\"y\":[\"United Kingdom\"],\"yaxis\":\"y\",\"type\":\"bar\"},{\"alignmentgroup\":\"True\",\"hovertemplate\":\"Entity=%{y}<br>Year=1998<br>Individuals using the Internet (% of population)=%{x}<extra></extra>\",\"legendgroup\":\"Japan\",\"marker\":{\"color\":\"#6A82AB\",\"pattern\":{\"shape\":\"\"}},\"name\":\"Japan\",\"offsetgroup\":\"Japan\",\"orientation\":\"h\",\"showlegend\":true,\"textposition\":\"auto\",\"x\":[13.414040565490724],\"xaxis\":\"x\",\"y\":[\"Japan\"],\"yaxis\":\"y\",\"type\":\"bar\"},{\"alignmentgroup\":\"True\",\"hovertemplate\":\"Entity=%{y}<br>Year=1998<br>Individuals using the Internet (% of population)=%{x}<extra></extra>\",\"legendgroup\":\"United States\",\"marker\":{\"color\":\"#D24B4E\",\"pattern\":{\"shape\":\"\"}},\"name\":\"United States\",\"offsetgroup\":\"United States\",\"orientation\":\"h\",\"showlegend\":true,\"textposition\":\"auto\",\"x\":[30.093196868896484],\"xaxis\":\"x\",\"y\":[\"United States\"],\"yaxis\":\"y\",\"type\":\"bar\"},{\"alignmentgroup\":\"True\",\"hovertemplate\":\"Entity=%{y}<br>Year=1998<br>Individuals using the Internet (% of population)=%{x}<extra></extra>\",\"legendgroup\":\"France\",\"marker\":{\"color\":\"#6A82AB\",\"pattern\":{\"shape\":\"\"}},\"name\":\"France\",\"offsetgroup\":\"France\",\"orientation\":\"h\",\"showlegend\":true,\"textposition\":\"auto\",\"x\":[6.319778919219971],\"xaxis\":\"x\",\"y\":[\"France\"],\"yaxis\":\"y\",\"type\":\"bar\"},{\"alignmentgroup\":\"True\",\"hovertemplate\":\"Entity=%{y}<br>Year=1998<br>Individuals using the Internet (% of population)=%{x}<extra></extra>\",\"legendgroup\":\"Brazil\",\"marker\":{\"color\":\"#6A82AB\",\"pattern\":{\"shape\":\"\"}},\"name\":\"Brazil\",\"offsetgroup\":\"Brazil\",\"orientation\":\"h\",\"showlegend\":true,\"textposition\":\"auto\",\"x\":[1.477874994277954],\"xaxis\":\"x\",\"y\":[\"Brazil\"],\"yaxis\":\"y\",\"type\":\"bar\"},{\"alignmentgroup\":\"True\",\"hovertemplate\":\"Entity=%{y}<br>Year=1998<br>Individuals using the Internet (% of population)=%{x}<extra></extra>\",\"legendgroup\":\"China\",\"marker\":{\"color\":\"#6A82AB\",\"pattern\":{\"shape\":\"\"}},\"name\":\"China\",\"offsetgroup\":\"China\",\"orientation\":\"h\",\"showlegend\":true,\"textposition\":\"auto\",\"x\":[0.1685402989387512],\"xaxis\":\"x\",\"y\":[\"China\"],\"yaxis\":\"y\",\"type\":\"bar\"},{\"alignmentgroup\":\"True\",\"hovertemplate\":\"Entity=%{y}<br>Year=1998<br>Individuals using the Internet (% of population)=%{x}<extra></extra>\",\"legendgroup\":\"World\",\"marker\":{\"color\":\"#6A82AB\",\"pattern\":{\"shape\":\"\"}},\"name\":\"World\",\"offsetgroup\":\"World\",\"orientation\":\"h\",\"showlegend\":true,\"textposition\":\"auto\",\"x\":[3.1364059448242188],\"xaxis\":\"x\",\"y\":[\"World\"],\"yaxis\":\"y\",\"type\":\"bar\"},{\"alignmentgroup\":\"True\",\"hovertemplate\":\"Entity=%{y}<br>Year=1998<br>Individuals using the Internet (% of population)=%{x}<extra></extra>\",\"legendgroup\":\"India\",\"marker\":{\"color\":\"#6A82AB\",\"pattern\":{\"shape\":\"\"}},\"name\":\"India\",\"offsetgroup\":\"India\",\"orientation\":\"h\",\"showlegend\":true,\"textposition\":\"auto\",\"x\":[0.139027327299118],\"xaxis\":\"x\",\"y\":[\"India\"],\"yaxis\":\"y\",\"type\":\"bar\"},{\"alignmentgroup\":\"True\",\"hovertemplate\":\"Entity=%{y}<br>Year=1998<br>Individuals using the Internet (% of population)=%{x}<extra></extra>\",\"legendgroup\":\"Nigeria\",\"marker\":{\"color\":\"#6A82AB\",\"pattern\":{\"shape\":\"\"}},\"name\":\"Nigeria\",\"offsetgroup\":\"Nigeria\",\"orientation\":\"h\",\"showlegend\":true,\"textposition\":\"auto\",\"x\":[0.025231460109353],\"xaxis\":\"x\",\"y\":[\"Nigeria\"],\"yaxis\":\"y\",\"type\":\"bar\"}],\"name\":\"1998\"},{\"data\":[{\"alignmentgroup\":\"True\",\"hovertemplate\":\"Entity=%{y}<br>Year=1997<br>Individuals using the Internet (% of population)=%{x}<extra></extra>\",\"legendgroup\":\"United Kingdom\",\"marker\":{\"color\":\"#6A82AB\",\"pattern\":{\"shape\":\"\"}},\"name\":\"United Kingdom\",\"offsetgroup\":\"United Kingdom\",\"orientation\":\"h\",\"showlegend\":true,\"textposition\":\"auto\",\"x\":[7.385398864746094],\"xaxis\":\"x\",\"y\":[\"United Kingdom\"],\"yaxis\":\"y\",\"type\":\"bar\"},{\"alignmentgroup\":\"True\",\"hovertemplate\":\"Entity=%{y}<br>Year=1997<br>Individuals using the Internet (% of population)=%{x}<extra></extra>\",\"legendgroup\":\"Japan\",\"marker\":{\"color\":\"#6A82AB\",\"pattern\":{\"shape\":\"\"}},\"name\":\"Japan\",\"offsetgroup\":\"Japan\",\"orientation\":\"h\",\"showlegend\":true,\"textposition\":\"auto\",\"x\":[9.163077354431152],\"xaxis\":\"x\",\"y\":[\"Japan\"],\"yaxis\":\"y\",\"type\":\"bar\"},{\"alignmentgroup\":\"True\",\"hovertemplate\":\"Entity=%{y}<br>Year=1997<br>Individuals using the Internet (% of population)=%{x}<extra></extra>\",\"legendgroup\":\"United States\",\"marker\":{\"color\":\"#D24B4E\",\"pattern\":{\"shape\":\"\"}},\"name\":\"United States\",\"offsetgroup\":\"United States\",\"orientation\":\"h\",\"showlegend\":true,\"textposition\":\"auto\",\"x\":[21.61640167236328],\"xaxis\":\"x\",\"y\":[\"United States\"],\"yaxis\":\"y\",\"type\":\"bar\"},{\"alignmentgroup\":\"True\",\"hovertemplate\":\"Entity=%{y}<br>Year=1997<br>Individuals using the Internet (% of population)=%{x}<extra></extra>\",\"legendgroup\":\"France\",\"marker\":{\"color\":\"#6A82AB\",\"pattern\":{\"shape\":\"\"}},\"name\":\"France\",\"offsetgroup\":\"France\",\"orientation\":\"h\",\"showlegend\":true,\"textposition\":\"auto\",\"x\":[4.255003929138184],\"xaxis\":\"x\",\"y\":[\"France\"],\"yaxis\":\"y\",\"type\":\"bar\"},{\"alignmentgroup\":\"True\",\"hovertemplate\":\"Entity=%{y}<br>Year=1997<br>Individuals using the Internet (% of population)=%{x}<extra></extra>\",\"legendgroup\":\"Brazil\",\"marker\":{\"color\":\"#6A82AB\",\"pattern\":{\"shape\":\"\"}},\"name\":\"Brazil\",\"offsetgroup\":\"Brazil\",\"orientation\":\"h\",\"showlegend\":true,\"textposition\":\"auto\",\"x\":[0.7860791683197021],\"xaxis\":\"x\",\"y\":[\"Brazil\"],\"yaxis\":\"y\",\"type\":\"bar\"},{\"alignmentgroup\":\"True\",\"hovertemplate\":\"Entity=%{y}<br>Year=1997<br>Individuals using the Internet (% of population)=%{x}<extra></extra>\",\"legendgroup\":\"China\",\"marker\":{\"color\":\"#6A82AB\",\"pattern\":{\"shape\":\"\"}},\"name\":\"China\",\"offsetgroup\":\"China\",\"orientation\":\"h\",\"showlegend\":true,\"textposition\":\"auto\",\"x\":[0.0323948599398136],\"xaxis\":\"x\",\"y\":[\"China\"],\"yaxis\":\"y\",\"type\":\"bar\"},{\"alignmentgroup\":\"True\",\"hovertemplate\":\"Entity=%{y}<br>Year=1997<br>Individuals using the Internet (% of population)=%{x}<extra></extra>\",\"legendgroup\":\"World\",\"marker\":{\"color\":\"#6A82AB\",\"pattern\":{\"shape\":\"\"}},\"name\":\"World\",\"offsetgroup\":\"World\",\"orientation\":\"h\",\"showlegend\":true,\"textposition\":\"auto\",\"x\":[2.039508581161499],\"xaxis\":\"x\",\"y\":[\"World\"],\"yaxis\":\"y\",\"type\":\"bar\"},{\"alignmentgroup\":\"True\",\"hovertemplate\":\"Entity=%{y}<br>Year=1997<br>Individuals using the Internet (% of population)=%{x}<extra></extra>\",\"legendgroup\":\"India\",\"marker\":{\"color\":\"#6A82AB\",\"pattern\":{\"shape\":\"\"}},\"name\":\"India\",\"offsetgroup\":\"India\",\"orientation\":\"h\",\"showlegend\":true,\"textposition\":\"auto\",\"x\":[0.0707678496837616],\"xaxis\":\"x\",\"y\":[\"India\"],\"yaxis\":\"y\",\"type\":\"bar\"},{\"alignmentgroup\":\"True\",\"hovertemplate\":\"Entity=%{y}<br>Year=1997<br>Individuals using the Internet (% of population)=%{x}<extra></extra>\",\"legendgroup\":\"Nigeria\",\"marker\":{\"color\":\"#6A82AB\",\"pattern\":{\"shape\":\"\"}},\"name\":\"Nigeria\",\"offsetgroup\":\"Nigeria\",\"orientation\":\"h\",\"showlegend\":true,\"textposition\":\"auto\",\"x\":[0.0172374006360769],\"xaxis\":\"x\",\"y\":[\"Nigeria\"],\"yaxis\":\"y\",\"type\":\"bar\"}],\"name\":\"1997\"},{\"data\":[{\"alignmentgroup\":\"True\",\"hovertemplate\":\"Entity=%{y}<br>Year=1996<br>Individuals using the Internet (% of population)=%{x}<extra></extra>\",\"legendgroup\":\"United Kingdom\",\"marker\":{\"color\":\"#6A82AB\",\"pattern\":{\"shape\":\"\"}},\"name\":\"United Kingdom\",\"offsetgroup\":\"United Kingdom\",\"orientation\":\"h\",\"showlegend\":true,\"textposition\":\"auto\",\"x\":[4.123650550842285],\"xaxis\":\"x\",\"y\":[\"United Kingdom\"],\"yaxis\":\"y\",\"type\":\"bar\"},{\"alignmentgroup\":\"True\",\"hovertemplate\":\"Entity=%{y}<br>Year=1996<br>Individuals using the Internet (% of population)=%{x}<extra></extra>\",\"legendgroup\":\"Japan\",\"marker\":{\"color\":\"#6A82AB\",\"pattern\":{\"shape\":\"\"}},\"name\":\"Japan\",\"offsetgroup\":\"Japan\",\"orientation\":\"h\",\"showlegend\":true,\"textposition\":\"auto\",\"x\":[4.372982025146484],\"xaxis\":\"x\",\"y\":[\"Japan\"],\"yaxis\":\"y\",\"type\":\"bar\"},{\"alignmentgroup\":\"True\",\"hovertemplate\":\"Entity=%{y}<br>Year=1996<br>Individuals using the Internet (% of population)=%{x}<extra></extra>\",\"legendgroup\":\"United States\",\"marker\":{\"color\":\"#D24B4E\",\"pattern\":{\"shape\":\"\"}},\"name\":\"United States\",\"offsetgroup\":\"United States\",\"orientation\":\"h\",\"showlegend\":true,\"textposition\":\"auto\",\"x\":[16.419353485107422],\"xaxis\":\"x\",\"y\":[\"United States\"],\"yaxis\":\"y\",\"type\":\"bar\"},{\"alignmentgroup\":\"True\",\"hovertemplate\":\"Entity=%{y}<br>Year=1996<br>Individuals using the Internet (% of population)=%{x}<extra></extra>\",\"legendgroup\":\"France\",\"marker\":{\"color\":\"#6A82AB\",\"pattern\":{\"shape\":\"\"}},\"name\":\"France\",\"offsetgroup\":\"France\",\"orientation\":\"h\",\"showlegend\":true,\"textposition\":\"auto\",\"x\":[2.584033966064453],\"xaxis\":\"x\",\"y\":[\"France\"],\"yaxis\":\"y\",\"type\":\"bar\"},{\"alignmentgroup\":\"True\",\"hovertemplate\":\"Entity=%{y}<br>Year=1996<br>Individuals using the Internet (% of population)=%{x}<extra></extra>\",\"legendgroup\":\"Brazil\",\"marker\":{\"color\":\"#6A82AB\",\"pattern\":{\"shape\":\"\"}},\"name\":\"Brazil\",\"offsetgroup\":\"Brazil\",\"orientation\":\"h\",\"showlegend\":true,\"textposition\":\"auto\",\"x\":[0.4507891833782196],\"xaxis\":\"x\",\"y\":[\"Brazil\"],\"yaxis\":\"y\",\"type\":\"bar\"},{\"alignmentgroup\":\"True\",\"hovertemplate\":\"Entity=%{y}<br>Year=1996<br>Individuals using the Internet (% of population)=%{x}<extra></extra>\",\"legendgroup\":\"China\",\"marker\":{\"color\":\"#6A82AB\",\"pattern\":{\"shape\":\"\"}},\"name\":\"China\",\"offsetgroup\":\"China\",\"orientation\":\"h\",\"showlegend\":true,\"textposition\":\"auto\",\"x\":[0.0130816921591758],\"xaxis\":\"x\",\"y\":[\"China\"],\"yaxis\":\"y\",\"type\":\"bar\"},{\"alignmentgroup\":\"True\",\"hovertemplate\":\"Entity=%{y}<br>Year=1996<br>Individuals using the Internet (% of population)=%{x}<extra></extra>\",\"legendgroup\":\"World\",\"marker\":{\"color\":\"#6A82AB\",\"pattern\":{\"shape\":\"\"}},\"name\":\"World\",\"offsetgroup\":\"World\",\"orientation\":\"h\",\"showlegend\":true,\"textposition\":\"auto\",\"x\":[1.3234697580337524],\"xaxis\":\"x\",\"y\":[\"World\"],\"yaxis\":\"y\",\"type\":\"bar\"},{\"alignmentgroup\":\"True\",\"hovertemplate\":\"Entity=%{y}<br>Year=1996<br>Individuals using the Internet (% of population)=%{x}<extra></extra>\",\"legendgroup\":\"India\",\"marker\":{\"color\":\"#6A82AB\",\"pattern\":{\"shape\":\"\"}},\"name\":\"India\",\"offsetgroup\":\"India\",\"orientation\":\"h\",\"showlegend\":true,\"textposition\":\"auto\",\"x\":[0.0463339760899543],\"xaxis\":\"x\",\"y\":[\"India\"],\"yaxis\":\"y\",\"type\":\"bar\"},{\"alignmentgroup\":\"True\",\"hovertemplate\":\"Entity=%{y}<br>Year=1996<br>Individuals using the Internet (% of population)=%{x}<extra></extra>\",\"legendgroup\":\"Nigeria\",\"marker\":{\"color\":\"#6A82AB\",\"pattern\":{\"shape\":\"\"}},\"name\":\"Nigeria\",\"offsetgroup\":\"Nigeria\",\"orientation\":\"h\",\"showlegend\":true,\"textposition\":\"auto\",\"x\":[0.0088329799473285],\"xaxis\":\"x\",\"y\":[\"Nigeria\"],\"yaxis\":\"y\",\"type\":\"bar\"}],\"name\":\"1996\"},{\"data\":[{\"alignmentgroup\":\"True\",\"hovertemplate\":\"Entity=%{y}<br>Year=1995<br>Individuals using the Internet (% of population)=%{x}<extra></extra>\",\"legendgroup\":\"United Kingdom\",\"marker\":{\"color\":\"#6A82AB\",\"pattern\":{\"shape\":\"\"}},\"name\":\"United Kingdom\",\"offsetgroup\":\"United Kingdom\",\"orientation\":\"h\",\"showlegend\":true,\"textposition\":\"auto\",\"x\":[1.8951683044433596],\"xaxis\":\"x\",\"y\":[\"United Kingdom\"],\"yaxis\":\"y\",\"type\":\"bar\"},{\"alignmentgroup\":\"True\",\"hovertemplate\":\"Entity=%{y}<br>Year=1995<br>Individuals using the Internet (% of population)=%{x}<extra></extra>\",\"legendgroup\":\"Japan\",\"marker\":{\"color\":\"#6A82AB\",\"pattern\":{\"shape\":\"\"}},\"name\":\"Japan\",\"offsetgroup\":\"Japan\",\"orientation\":\"h\",\"showlegend\":true,\"textposition\":\"auto\",\"x\":[1.5943630933761597],\"xaxis\":\"x\",\"y\":[\"Japan\"],\"yaxis\":\"y\",\"type\":\"bar\"},{\"alignmentgroup\":\"True\",\"hovertemplate\":\"Entity=%{y}<br>Year=1995<br>Individuals using the Internet (% of population)=%{x}<extra></extra>\",\"legendgroup\":\"United States\",\"marker\":{\"color\":\"#D24B4E\",\"pattern\":{\"shape\":\"\"}},\"name\":\"United States\",\"offsetgroup\":\"United States\",\"orientation\":\"h\",\"showlegend\":true,\"textposition\":\"auto\",\"x\":[9.237088203430176],\"xaxis\":\"x\",\"y\":[\"United States\"],\"yaxis\":\"y\",\"type\":\"bar\"},{\"alignmentgroup\":\"True\",\"hovertemplate\":\"Entity=%{y}<br>Year=1995<br>Individuals using the Internet (% of population)=%{x}<extra></extra>\",\"legendgroup\":\"France\",\"marker\":{\"color\":\"#6A82AB\",\"pattern\":{\"shape\":\"\"}},\"name\":\"France\",\"offsetgroup\":\"France\",\"orientation\":\"h\",\"showlegend\":true,\"textposition\":\"auto\",\"x\":[1.6379472017288208],\"xaxis\":\"x\",\"y\":[\"France\"],\"yaxis\":\"y\",\"type\":\"bar\"},{\"alignmentgroup\":\"True\",\"hovertemplate\":\"Entity=%{y}<br>Year=1995<br>Individuals using the Internet (% of population)=%{x}<extra></extra>\",\"legendgroup\":\"Brazil\",\"marker\":{\"color\":\"#6A82AB\",\"pattern\":{\"shape\":\"\"}},\"name\":\"Brazil\",\"offsetgroup\":\"Brazil\",\"orientation\":\"h\",\"showlegend\":true,\"textposition\":\"auto\",\"x\":[0.1051381677389144],\"xaxis\":\"x\",\"y\":[\"Brazil\"],\"yaxis\":\"y\",\"type\":\"bar\"},{\"alignmentgroup\":\"True\",\"hovertemplate\":\"Entity=%{y}<br>Year=1995<br>Individuals using the Internet (% of population)=%{x}<extra></extra>\",\"legendgroup\":\"China\",\"marker\":{\"color\":\"#6A82AB\",\"pattern\":{\"shape\":\"\"}},\"name\":\"China\",\"offsetgroup\":\"China\",\"orientation\":\"h\",\"showlegend\":true,\"textposition\":\"auto\",\"x\":[0.004954710137099],\"xaxis\":\"x\",\"y\":[\"China\"],\"yaxis\":\"y\",\"type\":\"bar\"},{\"alignmentgroup\":\"True\",\"hovertemplate\":\"Entity=%{y}<br>Year=1995<br>Individuals using the Internet (% of population)=%{x}<extra></extra>\",\"legendgroup\":\"World\",\"marker\":{\"color\":\"#6A82AB\",\"pattern\":{\"shape\":\"\"}},\"name\":\"World\",\"offsetgroup\":\"World\",\"orientation\":\"h\",\"showlegend\":true,\"textposition\":\"auto\",\"x\":[0.681456983089447],\"xaxis\":\"x\",\"y\":[\"World\"],\"yaxis\":\"y\",\"type\":\"bar\"},{\"alignmentgroup\":\"True\",\"hovertemplate\":\"Entity=%{y}<br>Year=1995<br>Individuals using the Internet (% of population)=%{x}<extra></extra>\",\"legendgroup\":\"India\",\"marker\":{\"color\":\"#6A82AB\",\"pattern\":{\"shape\":\"\"}},\"name\":\"India\",\"offsetgroup\":\"India\",\"orientation\":\"h\",\"showlegend\":true,\"textposition\":\"auto\",\"x\":[0.026228878647089],\"xaxis\":\"x\",\"y\":[\"India\"],\"yaxis\":\"y\",\"type\":\"bar\"},{\"alignmentgroup\":\"True\",\"hovertemplate\":\"Entity=%{y}<br>Year=1995<br>Individuals using the Internet (% of population)=%{x}<extra></extra>\",\"legendgroup\":\"Nigeria\",\"marker\":{\"color\":\"#6A82AB\",\"pattern\":{\"shape\":\"\"}},\"name\":\"Nigeria\",\"offsetgroup\":\"Nigeria\",\"orientation\":\"h\",\"showlegend\":true,\"textposition\":\"auto\",\"x\":[0.0],\"xaxis\":\"x\",\"y\":[\"Nigeria\"],\"yaxis\":\"y\",\"type\":\"bar\"}],\"name\":\"1995\"},{\"data\":[{\"alignmentgroup\":\"True\",\"hovertemplate\":\"Entity=%{y}<br>Year=1994<br>Individuals using the Internet (% of population)=%{x}<extra></extra>\",\"legendgroup\":\"United Kingdom\",\"marker\":{\"color\":\"#6A82AB\",\"pattern\":{\"shape\":\"\"}},\"name\":\"United Kingdom\",\"offsetgroup\":\"United Kingdom\",\"orientation\":\"h\",\"showlegend\":true,\"textposition\":\"auto\",\"x\":[1.036609172821045],\"xaxis\":\"x\",\"y\":[\"United Kingdom\"],\"yaxis\":\"y\",\"type\":\"bar\"},{\"alignmentgroup\":\"True\",\"hovertemplate\":\"Entity=%{y}<br>Year=1994<br>Individuals using the Internet (% of population)=%{x}<extra></extra>\",\"legendgroup\":\"Japan\",\"marker\":{\"color\":\"#6A82AB\",\"pattern\":{\"shape\":\"\"}},\"name\":\"Japan\",\"offsetgroup\":\"Japan\",\"orientation\":\"h\",\"showlegend\":true,\"textposition\":\"auto\",\"x\":[0.7996842861175537],\"xaxis\":\"x\",\"y\":[\"Japan\"],\"yaxis\":\"y\",\"type\":\"bar\"},{\"alignmentgroup\":\"True\",\"hovertemplate\":\"Entity=%{y}<br>Year=1994<br>Individuals using the Internet (% of population)=%{x}<extra></extra>\",\"legendgroup\":\"United States\",\"marker\":{\"color\":\"#D24B4E\",\"pattern\":{\"shape\":\"\"}},\"name\":\"United States\",\"offsetgroup\":\"United States\",\"orientation\":\"h\",\"showlegend\":true,\"textposition\":\"auto\",\"x\":[4.862780570983887],\"xaxis\":\"x\",\"y\":[\"United States\"],\"yaxis\":\"y\",\"type\":\"bar\"},{\"alignmentgroup\":\"True\",\"hovertemplate\":\"Entity=%{y}<br>Year=1994<br>Individuals using the Internet (% of population)=%{x}<extra></extra>\",\"legendgroup\":\"France\",\"marker\":{\"color\":\"#6A82AB\",\"pattern\":{\"shape\":\"\"}},\"name\":\"France\",\"offsetgroup\":\"France\",\"orientation\":\"h\",\"showlegend\":true,\"textposition\":\"auto\",\"x\":[0.8998674154281616],\"xaxis\":\"x\",\"y\":[\"France\"],\"yaxis\":\"y\",\"type\":\"bar\"},{\"alignmentgroup\":\"True\",\"hovertemplate\":\"Entity=%{y}<br>Year=1994<br>Individuals using the Internet (% of population)=%{x}<extra></extra>\",\"legendgroup\":\"Brazil\",\"marker\":{\"color\":\"#6A82AB\",\"pattern\":{\"shape\":\"\"}},\"name\":\"Brazil\",\"offsetgroup\":\"Brazil\",\"orientation\":\"h\",\"showlegend\":true,\"textposition\":\"auto\",\"x\":[0.0376727096736431],\"xaxis\":\"x\",\"y\":[\"Brazil\"],\"yaxis\":\"y\",\"type\":\"bar\"},{\"alignmentgroup\":\"True\",\"hovertemplate\":\"Entity=%{y}<br>Year=1994<br>Individuals using the Internet (% of population)=%{x}<extra></extra>\",\"legendgroup\":\"China\",\"marker\":{\"color\":\"#6A82AB\",\"pattern\":{\"shape\":\"\"}},\"name\":\"China\",\"offsetgroup\":\"China\",\"orientation\":\"h\",\"showlegend\":true,\"textposition\":\"auto\",\"x\":[0.0011681149480864],\"xaxis\":\"x\",\"y\":[\"China\"],\"yaxis\":\"y\",\"type\":\"bar\"},{\"alignmentgroup\":\"True\",\"hovertemplate\":\"Entity=%{y}<br>Year=1994<br>Individuals using the Internet (% of population)=%{x}<extra></extra>\",\"legendgroup\":\"World\",\"marker\":{\"color\":\"#6A82AB\",\"pattern\":{\"shape\":\"\"}},\"name\":\"World\",\"offsetgroup\":\"World\",\"orientation\":\"h\",\"showlegend\":true,\"textposition\":\"auto\",\"x\":[0.3599002063274383],\"xaxis\":\"x\",\"y\":[\"World\"],\"yaxis\":\"y\",\"type\":\"bar\"},{\"alignmentgroup\":\"True\",\"hovertemplate\":\"Entity=%{y}<br>Year=1994<br>Individuals using the Internet (% of population)=%{x}<extra></extra>\",\"legendgroup\":\"India\",\"marker\":{\"color\":\"#6A82AB\",\"pattern\":{\"shape\":\"\"}},\"name\":\"India\",\"offsetgroup\":\"India\",\"orientation\":\"h\",\"showlegend\":true,\"textposition\":\"auto\",\"x\":[0.0010695620439946],\"xaxis\":\"x\",\"y\":[\"India\"],\"yaxis\":\"y\",\"type\":\"bar\"},{\"alignmentgroup\":\"True\",\"hovertemplate\":\"Entity=%{y}<br>Year=1994<br>Individuals using the Internet (% of population)=%{x}<extra></extra>\",\"legendgroup\":\"Nigeria\",\"marker\":{\"color\":\"#6A82AB\",\"pattern\":{\"shape\":\"\"}},\"name\":\"Nigeria\",\"offsetgroup\":\"Nigeria\",\"orientation\":\"h\",\"showlegend\":true,\"textposition\":\"auto\",\"x\":[0.0],\"xaxis\":\"x\",\"y\":[\"Nigeria\"],\"yaxis\":\"y\",\"type\":\"bar\"}],\"name\":\"1994\"},{\"data\":[{\"alignmentgroup\":\"True\",\"hovertemplate\":\"Entity=%{y}<br>Year=1993<br>Individuals using the Internet (% of population)=%{x}<extra></extra>\",\"legendgroup\":\"United Kingdom\",\"marker\":{\"color\":\"#6A82AB\",\"pattern\":{\"shape\":\"\"}},\"name\":\"United Kingdom\",\"offsetgroup\":\"United Kingdom\",\"orientation\":\"h\",\"showlegend\":true,\"textposition\":\"auto\",\"x\":[0.5197619795799255],\"xaxis\":\"x\",\"y\":[\"United Kingdom\"],\"yaxis\":\"y\",\"type\":\"bar\"},{\"alignmentgroup\":\"True\",\"hovertemplate\":\"Entity=%{y}<br>Year=1993<br>Individuals using the Internet (% of population)=%{x}<extra></extra>\",\"legendgroup\":\"Japan\",\"marker\":{\"color\":\"#6A82AB\",\"pattern\":{\"shape\":\"\"}},\"name\":\"Japan\",\"offsetgroup\":\"Japan\",\"orientation\":\"h\",\"showlegend\":true,\"textposition\":\"auto\",\"x\":[0.4012775123119354],\"xaxis\":\"x\",\"y\":[\"Japan\"],\"yaxis\":\"y\",\"type\":\"bar\"},{\"alignmentgroup\":\"True\",\"hovertemplate\":\"Entity=%{y}<br>Year=1993<br>Individuals using the Internet (% of population)=%{x}<extra></extra>\",\"legendgroup\":\"United States\",\"marker\":{\"color\":\"#D24B4E\",\"pattern\":{\"shape\":\"\"}},\"name\":\"United States\",\"offsetgroup\":\"United States\",\"orientation\":\"h\",\"showlegend\":true,\"textposition\":\"auto\",\"x\":[2.2716732025146484],\"xaxis\":\"x\",\"y\":[\"United States\"],\"yaxis\":\"y\",\"type\":\"bar\"},{\"alignmentgroup\":\"True\",\"hovertemplate\":\"Entity=%{y}<br>Year=1993<br>Individuals using the Internet (% of population)=%{x}<extra></extra>\",\"legendgroup\":\"France\",\"marker\":{\"color\":\"#6A82AB\",\"pattern\":{\"shape\":\"\"}},\"name\":\"France\",\"offsetgroup\":\"France\",\"orientation\":\"h\",\"showlegend\":true,\"textposition\":\"auto\",\"x\":[0.5906193852424622],\"xaxis\":\"x\",\"y\":[\"France\"],\"yaxis\":\"y\",\"type\":\"bar\"},{\"alignmentgroup\":\"True\",\"hovertemplate\":\"Entity=%{y}<br>Year=1993<br>Individuals using the Internet (% of population)=%{x}<extra></extra>\",\"legendgroup\":\"Brazil\",\"marker\":{\"color\":\"#6A82AB\",\"pattern\":{\"shape\":\"\"}},\"name\":\"Brazil\",\"offsetgroup\":\"Brazil\",\"orientation\":\"h\",\"showlegend\":true,\"textposition\":\"auto\",\"x\":[0.0254982523620128],\"xaxis\":\"x\",\"y\":[\"Brazil\"],\"yaxis\":\"y\",\"type\":\"bar\"},{\"alignmentgroup\":\"True\",\"hovertemplate\":\"Entity=%{y}<br>Year=1993<br>Individuals using the Internet (% of population)=%{x}<extra></extra>\",\"legendgroup\":\"China\",\"marker\":{\"color\":\"#6A82AB\",\"pattern\":{\"shape\":\"\"}},\"name\":\"China\",\"offsetgroup\":\"China\",\"orientation\":\"h\",\"showlegend\":true,\"textposition\":\"auto\",\"x\":[0.000168679995113],\"xaxis\":\"x\",\"y\":[\"China\"],\"yaxis\":\"y\",\"type\":\"bar\"},{\"alignmentgroup\":\"True\",\"hovertemplate\":\"Entity=%{y}<br>Year=1993<br>Individuals using the Internet (% of population)=%{x}<extra></extra>\",\"legendgroup\":\"World\",\"marker\":{\"color\":\"#6A82AB\",\"pattern\":{\"shape\":\"\"}},\"name\":\"World\",\"offsetgroup\":\"World\",\"orientation\":\"h\",\"showlegend\":true,\"textposition\":\"auto\",\"x\":[0.1788999289274215],\"xaxis\":\"x\",\"y\":[\"World\"],\"yaxis\":\"y\",\"type\":\"bar\"},{\"alignmentgroup\":\"True\",\"hovertemplate\":\"Entity=%{y}<br>Year=1993<br>Individuals using the Internet (% of population)=%{x}<extra></extra>\",\"legendgroup\":\"India\",\"marker\":{\"color\":\"#6A82AB\",\"pattern\":{\"shape\":\"\"}},\"name\":\"India\",\"offsetgroup\":\"India\",\"orientation\":\"h\",\"showlegend\":true,\"textposition\":\"auto\",\"x\":[0.0002181760064559],\"xaxis\":\"x\",\"y\":[\"India\"],\"yaxis\":\"y\",\"type\":\"bar\"},{\"alignmentgroup\":\"True\",\"hovertemplate\":\"Entity=%{y}<br>Year=1993<br>Individuals using the Internet (% of population)=%{x}<extra></extra>\",\"legendgroup\":\"Nigeria\",\"marker\":{\"color\":\"#6A82AB\",\"pattern\":{\"shape\":\"\"}},\"name\":\"Nigeria\",\"offsetgroup\":\"Nigeria\",\"orientation\":\"h\",\"showlegend\":true,\"textposition\":\"auto\",\"x\":[0.0],\"xaxis\":\"x\",\"y\":[\"Nigeria\"],\"yaxis\":\"y\",\"type\":\"bar\"}],\"name\":\"1993\"},{\"data\":[{\"alignmentgroup\":\"True\",\"hovertemplate\":\"Entity=%{y}<br>Year=1992<br>Individuals using the Internet (% of population)=%{x}<extra></extra>\",\"legendgroup\":\"United Kingdom\",\"marker\":{\"color\":\"#6A82AB\",\"pattern\":{\"shape\":\"\"}},\"name\":\"United Kingdom\",\"offsetgroup\":\"United Kingdom\",\"orientation\":\"h\",\"showlegend\":true,\"textposition\":\"auto\",\"x\":[0.2606151700019836],\"xaxis\":\"x\",\"y\":[\"United Kingdom\"],\"yaxis\":\"y\",\"type\":\"bar\"},{\"alignmentgroup\":\"True\",\"hovertemplate\":\"Entity=%{y}<br>Year=1992<br>Individuals using the Internet (% of population)=%{x}<extra></extra>\",\"legendgroup\":\"Japan\",\"marker\":{\"color\":\"#6A82AB\",\"pattern\":{\"shape\":\"\"}},\"name\":\"Japan\",\"offsetgroup\":\"Japan\",\"orientation\":\"h\",\"showlegend\":true,\"textposition\":\"auto\",\"x\":[0.0966780260205268],\"xaxis\":\"x\",\"y\":[\"Japan\"],\"yaxis\":\"y\",\"type\":\"bar\"},{\"alignmentgroup\":\"True\",\"hovertemplate\":\"Entity=%{y}<br>Year=1992<br>Individuals using the Internet (% of population)=%{x}<extra></extra>\",\"legendgroup\":\"United States\",\"marker\":{\"color\":\"#D24B4E\",\"pattern\":{\"shape\":\"\"}},\"name\":\"United States\",\"offsetgroup\":\"United States\",\"orientation\":\"h\",\"showlegend\":true,\"textposition\":\"auto\",\"x\":[1.7242025136947632],\"xaxis\":\"x\",\"y\":[\"United States\"],\"yaxis\":\"y\",\"type\":\"bar\"},{\"alignmentgroup\":\"True\",\"hovertemplate\":\"Entity=%{y}<br>Year=1992<br>Individuals using the Internet (% of population)=%{x}<extra></extra>\",\"legendgroup\":\"France\",\"marker\":{\"color\":\"#6A82AB\",\"pattern\":{\"shape\":\"\"}},\"name\":\"France\",\"offsetgroup\":\"France\",\"orientation\":\"h\",\"showlegend\":true,\"textposition\":\"auto\",\"x\":[0.2790494561195373],\"xaxis\":\"x\",\"y\":[\"France\"],\"yaxis\":\"y\",\"type\":\"bar\"},{\"alignmentgroup\":\"True\",\"hovertemplate\":\"Entity=%{y}<br>Year=1992<br>Individuals using the Internet (% of population)=%{x}<extra></extra>\",\"legendgroup\":\"Brazil\",\"marker\":{\"color\":\"#6A82AB\",\"pattern\":{\"shape\":\"\"}},\"name\":\"Brazil\",\"offsetgroup\":\"Brazil\",\"orientation\":\"h\",\"showlegend\":true,\"textposition\":\"auto\",\"x\":[0.012946262024343],\"xaxis\":\"x\",\"y\":[\"Brazil\"],\"yaxis\":\"y\",\"type\":\"bar\"},{\"alignmentgroup\":\"True\",\"hovertemplate\":\"Entity=%{y}<br>Year=1992<br>Individuals using the Internet (% of population)=%{x}<extra></extra>\",\"legendgroup\":\"China\",\"marker\":{\"color\":\"#6A82AB\",\"pattern\":{\"shape\":\"\"}},\"name\":\"China\",\"offsetgroup\":\"China\",\"orientation\":\"h\",\"showlegend\":true,\"textposition\":\"auto\",\"x\":[0.0],\"xaxis\":\"x\",\"y\":[\"China\"],\"yaxis\":\"y\",\"type\":\"bar\"},{\"alignmentgroup\":\"True\",\"hovertemplate\":\"Entity=%{y}<br>Year=1992<br>Individuals using the Internet (% of population)=%{x}<extra></extra>\",\"legendgroup\":\"World\",\"marker\":{\"color\":\"#6A82AB\",\"pattern\":{\"shape\":\"\"}},\"name\":\"World\",\"offsetgroup\":\"World\",\"orientation\":\"h\",\"showlegend\":true,\"textposition\":\"auto\",\"x\":[0.1253635138273239],\"xaxis\":\"x\",\"y\":[\"World\"],\"yaxis\":\"y\",\"type\":\"bar\"},{\"alignmentgroup\":\"True\",\"hovertemplate\":\"Entity=%{y}<br>Year=1992<br>Individuals using the Internet (% of population)=%{x}<extra></extra>\",\"legendgroup\":\"India\",\"marker\":{\"color\":\"#6A82AB\",\"pattern\":{\"shape\":\"\"}},\"name\":\"India\",\"offsetgroup\":\"India\",\"orientation\":\"h\",\"showlegend\":true,\"textposition\":\"auto\",\"x\":[0.0001113079997594],\"xaxis\":\"x\",\"y\":[\"India\"],\"yaxis\":\"y\",\"type\":\"bar\"},{\"alignmentgroup\":\"True\",\"hovertemplate\":\"Entity=%{y}<br>Year=1992<br>Individuals using the Internet (% of population)=%{x}<extra></extra>\",\"legendgroup\":\"Nigeria\",\"marker\":{\"color\":\"#6A82AB\",\"pattern\":{\"shape\":\"\"}},\"name\":\"Nigeria\",\"offsetgroup\":\"Nigeria\",\"orientation\":\"h\",\"showlegend\":true,\"textposition\":\"auto\",\"x\":[0.0],\"xaxis\":\"x\",\"y\":[\"Nigeria\"],\"yaxis\":\"y\",\"type\":\"bar\"}],\"name\":\"1992\"},{\"data\":[{\"alignmentgroup\":\"True\",\"hovertemplate\":\"Entity=%{y}<br>Year=1991<br>Individuals using the Internet (% of population)=%{x}<extra></extra>\",\"legendgroup\":\"United Kingdom\",\"marker\":{\"color\":\"#6A82AB\",\"pattern\":{\"shape\":\"\"}},\"name\":\"United Kingdom\",\"offsetgroup\":\"United Kingdom\",\"orientation\":\"h\",\"showlegend\":true,\"textposition\":\"auto\",\"x\":[0.1742309182882309],\"xaxis\":\"x\",\"y\":[\"United Kingdom\"],\"yaxis\":\"y\",\"type\":\"bar\"},{\"alignmentgroup\":\"True\",\"hovertemplate\":\"Entity=%{y}<br>Year=1991<br>Individuals using the Internet (% of population)=%{x}<extra></extra>\",\"legendgroup\":\"Japan\",\"marker\":{\"color\":\"#6A82AB\",\"pattern\":{\"shape\":\"\"}},\"name\":\"Japan\",\"offsetgroup\":\"Japan\",\"orientation\":\"h\",\"showlegend\":true,\"textposition\":\"auto\",\"x\":[0.0404380410909652],\"xaxis\":\"x\",\"y\":[\"Japan\"],\"yaxis\":\"y\",\"type\":\"bar\"},{\"alignmentgroup\":\"True\",\"hovertemplate\":\"Entity=%{y}<br>Year=1991<br>Individuals using the Internet (% of population)=%{x}<extra></extra>\",\"legendgroup\":\"United States\",\"marker\":{\"color\":\"#D24B4E\",\"pattern\":{\"shape\":\"\"}},\"name\":\"United States\",\"offsetgroup\":\"United States\",\"orientation\":\"h\",\"showlegend\":true,\"textposition\":\"auto\",\"x\":[1.163193702697754],\"xaxis\":\"x\",\"y\":[\"United States\"],\"yaxis\":\"y\",\"type\":\"bar\"},{\"alignmentgroup\":\"True\",\"hovertemplate\":\"Entity=%{y}<br>Year=1991<br>Individuals using the Internet (% of population)=%{x}<extra></extra>\",\"legendgroup\":\"France\",\"marker\":{\"color\":\"#6A82AB\",\"pattern\":{\"shape\":\"\"}},\"name\":\"France\",\"offsetgroup\":\"France\",\"orientation\":\"h\",\"showlegend\":true,\"textposition\":\"auto\",\"x\":[0.140113890171051],\"xaxis\":\"x\",\"y\":[\"France\"],\"yaxis\":\"y\",\"type\":\"bar\"},{\"alignmentgroup\":\"True\",\"hovertemplate\":\"Entity=%{y}<br>Year=1991<br>Individuals using the Internet (% of population)=%{x}<extra></extra>\",\"legendgroup\":\"Brazil\",\"marker\":{\"color\":\"#6A82AB\",\"pattern\":{\"shape\":\"\"}},\"name\":\"Brazil\",\"offsetgroup\":\"Brazil\",\"orientation\":\"h\",\"showlegend\":true,\"textposition\":\"auto\",\"x\":[0.0032881710212677],\"xaxis\":\"x\",\"y\":[\"Brazil\"],\"yaxis\":\"y\",\"type\":\"bar\"},{\"alignmentgroup\":\"True\",\"hovertemplate\":\"Entity=%{y}<br>Year=1991<br>Individuals using the Internet (% of population)=%{x}<extra></extra>\",\"legendgroup\":\"China\",\"marker\":{\"color\":\"#6A82AB\",\"pattern\":{\"shape\":\"\"}},\"name\":\"China\",\"offsetgroup\":\"China\",\"orientation\":\"h\",\"showlegend\":true,\"textposition\":\"auto\",\"x\":[0.0],\"xaxis\":\"x\",\"y\":[\"China\"],\"yaxis\":\"y\",\"type\":\"bar\"},{\"alignmentgroup\":\"True\",\"hovertemplate\":\"Entity=%{y}<br>Year=1991<br>Individuals using the Internet (% of population)=%{x}<extra></extra>\",\"legendgroup\":\"World\",\"marker\":{\"color\":\"#6A82AB\",\"pattern\":{\"shape\":\"\"}},\"name\":\"World\",\"offsetgroup\":\"World\",\"orientation\":\"h\",\"showlegend\":true,\"textposition\":\"auto\",\"x\":[0.0791811421513557],\"xaxis\":\"x\",\"y\":[\"World\"],\"yaxis\":\"y\",\"type\":\"bar\"},{\"alignmentgroup\":\"True\",\"hovertemplate\":\"Entity=%{y}<br>Year=1991<br>Individuals using the Internet (% of population)=%{x}<extra></extra>\",\"legendgroup\":\"India\",\"marker\":{\"color\":\"#6A82AB\",\"pattern\":{\"shape\":\"\"}},\"name\":\"India\",\"offsetgroup\":\"India\",\"orientation\":\"h\",\"showlegend\":true,\"textposition\":\"auto\",\"x\":[0.0],\"xaxis\":\"x\",\"y\":[\"India\"],\"yaxis\":\"y\",\"type\":\"bar\"},{\"alignmentgroup\":\"True\",\"hovertemplate\":\"Entity=%{y}<br>Year=1991<br>Individuals using the Internet (% of population)=%{x}<extra></extra>\",\"legendgroup\":\"Nigeria\",\"marker\":{\"color\":\"#6A82AB\",\"pattern\":{\"shape\":\"\"}},\"name\":\"Nigeria\",\"offsetgroup\":\"Nigeria\",\"orientation\":\"h\",\"showlegend\":true,\"textposition\":\"auto\",\"x\":[0.0],\"xaxis\":\"x\",\"y\":[\"Nigeria\"],\"yaxis\":\"y\",\"type\":\"bar\"}],\"name\":\"1991\"},{\"data\":[{\"alignmentgroup\":\"True\",\"hovertemplate\":\"Entity=%{y}<br>Year=1990<br>Individuals using the Internet (% of population)=%{x}<extra></extra>\",\"legendgroup\":\"United Kingdom\",\"marker\":{\"color\":\"#6A82AB\",\"pattern\":{\"shape\":\"\"}},\"name\":\"United Kingdom\",\"offsetgroup\":\"United Kingdom\",\"orientation\":\"h\",\"showlegend\":true,\"textposition\":\"auto\",\"x\":[0.0873553156852722],\"xaxis\":\"x\",\"y\":[\"United Kingdom\"],\"yaxis\":\"y\",\"type\":\"bar\"},{\"alignmentgroup\":\"True\",\"hovertemplate\":\"Entity=%{y}<br>Year=1990<br>Individuals using the Internet (% of population)=%{x}<extra></extra>\",\"legendgroup\":\"Japan\",\"marker\":{\"color\":\"#6A82AB\",\"pattern\":{\"shape\":\"\"}},\"name\":\"Japan\",\"offsetgroup\":\"Japan\",\"orientation\":\"h\",\"showlegend\":true,\"textposition\":\"auto\",\"x\":[0.0202936828136444],\"xaxis\":\"x\",\"y\":[\"Japan\"],\"yaxis\":\"y\",\"type\":\"bar\"},{\"alignmentgroup\":\"True\",\"hovertemplate\":\"Entity=%{y}<br>Year=1990<br>Individuals using the Internet (% of population)=%{x}<extra></extra>\",\"legendgroup\":\"United States\",\"marker\":{\"color\":\"#D24B4E\",\"pattern\":{\"shape\":\"\"}},\"name\":\"United States\",\"offsetgroup\":\"United States\",\"orientation\":\"h\",\"showlegend\":true,\"textposition\":\"auto\",\"x\":[0.7847285270690918],\"xaxis\":\"x\",\"y\":[\"United States\"],\"yaxis\":\"y\",\"type\":\"bar\"},{\"alignmentgroup\":\"True\",\"hovertemplate\":\"Entity=%{y}<br>Year=1990<br>Individuals using the Internet (% of population)=%{x}<extra></extra>\",\"legendgroup\":\"France\",\"marker\":{\"color\":\"#6A82AB\",\"pattern\":{\"shape\":\"\"}},\"name\":\"France\",\"offsetgroup\":\"France\",\"orientation\":\"h\",\"showlegend\":true,\"textposition\":\"auto\",\"x\":[0.0527778603136539],\"xaxis\":\"x\",\"y\":[\"France\"],\"yaxis\":\"y\",\"type\":\"bar\"},{\"alignmentgroup\":\"True\",\"hovertemplate\":\"Entity=%{y}<br>Year=1990<br>Individuals using the Internet (% of population)=%{x}<extra></extra>\",\"legendgroup\":\"Brazil\",\"marker\":{\"color\":\"#6A82AB\",\"pattern\":{\"shape\":\"\"}},\"name\":\"Brazil\",\"offsetgroup\":\"Brazil\",\"orientation\":\"h\",\"showlegend\":true,\"textposition\":\"auto\",\"x\":[0.0],\"xaxis\":\"x\",\"y\":[\"Brazil\"],\"yaxis\":\"y\",\"type\":\"bar\"},{\"alignmentgroup\":\"True\",\"hovertemplate\":\"Entity=%{y}<br>Year=1990<br>Individuals using the Internet (% of population)=%{x}<extra></extra>\",\"legendgroup\":\"China\",\"marker\":{\"color\":\"#6A82AB\",\"pattern\":{\"shape\":\"\"}},\"name\":\"China\",\"offsetgroup\":\"China\",\"orientation\":\"h\",\"showlegend\":true,\"textposition\":\"auto\",\"x\":[0.0],\"xaxis\":\"x\",\"y\":[\"China\"],\"yaxis\":\"y\",\"type\":\"bar\"},{\"alignmentgroup\":\"True\",\"hovertemplate\":\"Entity=%{y}<br>Year=1990<br>Individuals using the Internet (% of population)=%{x}<extra></extra>\",\"legendgroup\":\"World\",\"marker\":{\"color\":\"#6A82AB\",\"pattern\":{\"shape\":\"\"}},\"name\":\"World\",\"offsetgroup\":\"World\",\"orientation\":\"h\",\"showlegend\":true,\"textposition\":\"auto\",\"x\":[0.049235351383686],\"xaxis\":\"x\",\"y\":[\"World\"],\"yaxis\":\"y\",\"type\":\"bar\"},{\"alignmentgroup\":\"True\",\"hovertemplate\":\"Entity=%{y}<br>Year=1990<br>Individuals using the Internet (% of population)=%{x}<extra></extra>\",\"legendgroup\":\"India\",\"marker\":{\"color\":\"#6A82AB\",\"pattern\":{\"shape\":\"\"}},\"name\":\"India\",\"offsetgroup\":\"India\",\"orientation\":\"h\",\"showlegend\":true,\"textposition\":\"auto\",\"x\":[0.0],\"xaxis\":\"x\",\"y\":[\"India\"],\"yaxis\":\"y\",\"type\":\"bar\"},{\"alignmentgroup\":\"True\",\"hovertemplate\":\"Entity=%{y}<br>Year=1990<br>Individuals using the Internet (% of population)=%{x}<extra></extra>\",\"legendgroup\":\"Nigeria\",\"marker\":{\"color\":\"#6A82AB\",\"pattern\":{\"shape\":\"\"}},\"name\":\"Nigeria\",\"offsetgroup\":\"Nigeria\",\"orientation\":\"h\",\"showlegend\":true,\"textposition\":\"auto\",\"x\":[0.0],\"xaxis\":\"x\",\"y\":[\"Nigeria\"],\"yaxis\":\"y\",\"type\":\"bar\"}],\"name\":\"1990\"}]);\n",
       "                        }).then(function(){\n",
       "                            \n",
       "var gd = document.getElementById('06cb1f32-6969-4ab5-a813-c232d01e35ec');\n",
       "var x = new MutationObserver(function (mutations, observer) {{\n",
       "        var display = window.getComputedStyle(gd).display;\n",
       "        if (!display || display === 'none') {{\n",
       "            console.log([gd, 'removed!']);\n",
       "            Plotly.purge(gd);\n",
       "            observer.disconnect();\n",
       "        }}\n",
       "}});\n",
       "\n",
       "// Listen for the removal of the full notebook cells\n",
       "var notebookContainer = gd.closest('#notebook-container');\n",
       "if (notebookContainer) {{\n",
       "    x.observe(notebookContainer, {childList: true});\n",
       "}}\n",
       "\n",
       "// Listen for the clearing of the current output cell\n",
       "var outputEl = gd.closest('.output');\n",
       "if (outputEl) {{\n",
       "    x.observe(outputEl, {childList: true});\n",
       "}}\n",
       "\n",
       "                        })                };                });            </script>        </div>"
      ]
     },
     "metadata": {},
     "output_type": "display_data"
    }
   ],
   "source": [
    "import pandas as pd\n",
    "import plotly.express as px\n",
    "\n",
    "url = \"https://raw.githubusercontent.com/jagat0112/python-interactive/main/share-of-individuals-using-the-internet.csv\"\n",
    "data = pd.read_csv(url)\n",
    "table = pd.DataFrame(data)\n",
    "\n",
    "# Filter the selected entities\n",
    "entities = ['World', 'United States', 'United Kingdom', 'China', 'India', 'Japan', 'France','Nigeria', 'Brazil']\n",
    "\n",
    "fig = px.bar(filtered_data, x='Individuals using the Internet (% of population)', y='Entity',\n",
    "              color='Entity',\n",
    "              color_discrete_sequence=['#6A82AB'],\n",
    "              color_discrete_map={'United States': '#D24B4E'},\n",
    "              animation_frame='Year')\n",
    "\n",
    "fig.show()\n"
   ]
  },
  {
   "cell_type": "code",
   "execution_count": null,
   "id": "61dcf394",
   "metadata": {
    "scrolled": false
   },
   "outputs": [],
   "source": []
  },
  {
   "cell_type": "code",
   "execution_count": null,
   "id": "f56ad483",
   "metadata": {},
   "outputs": [],
   "source": []
  }
 ],
 "metadata": {
  "kernelspec": {
   "display_name": "Python 3 (ipykernel)",
   "language": "python",
   "name": "python3"
  },
  "language_info": {
   "codemirror_mode": {
    "name": "ipython",
    "version": 3
   },
   "file_extension": ".py",
   "mimetype": "text/x-python",
   "name": "python",
   "nbconvert_exporter": "python",
   "pygments_lexer": "ipython3",
   "version": "3.9.12"
  }
 },
 "nbformat": 4,
 "nbformat_minor": 5
}
